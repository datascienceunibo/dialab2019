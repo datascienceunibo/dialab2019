{
 "cells": [
  {
   "cell_type": "markdown",
   "metadata": {},
   "source": [
    "# Seminario: Laboratorio di Deep Learning\n",
    "\n",
    "**Programmazione di Applicazioni Data Intensive**  \n",
    "_(seminario non oggetto d'esame)_  \n",
    "Laurea in Ingegneria e Scienze Informatiche  \n",
    "DISI - Università di Bologna, Cesena\n",
    "\n",
    "Proff. Gianluca Moro, Roberto Pasolini  \n",
    "`nome.cognome@unibo.it`"
   ]
  },
  {
   "cell_type": "markdown",
   "metadata": {},
   "source": [
    "## Deep Learning e Reti Neurali\n",
    "\n",
    "- Il _deep learning_ si riferisce in generale a metodi di apprendimento basati su molteplici strati di rappresentazione dell'informazione\n",
    "  - nel machine learning tradizionale è spesso richiesta una laboriosa ingegnerizzazione delle feature\n",
    "  - l'obiettivo del deep learning è fornire al modello dati grezzi e far sì che le feature più appropriate siano apprese automaticamente\n",
    "- Le _reti neurali_ sono il modello di deep learning più diffuso\n",
    "  - sono composte da un numero di strati (_layer_) composti di nodi\n",
    "  - ogni nodo riceve input da quelli dello strato sotto e trasmette l'output a quelli sopra\n",
    "  - l'addestramento, basato su discesa gradiente, modifica progressivamente i pesi delle connessioni tra nodi in modo da ridurre l'errore nell'output della rete"
   ]
  },
  {
   "cell_type": "markdown",
   "metadata": {},
   "source": [
    "## TensorFlow e Keras\n",
    "\n",
    "- **TensorFlow** è un framework computazionale sviluppato da Google tra i più usati per il deep learning\n",
    "  - TF permette di costruire un _grafo computazionale_, dove ogni nodo costituisce un'operazione tra _tensori_ (matrici n-dimensionali)\n",
    "    - somme, prodotti, derivate, ...\n",
    "  - i calcoli su uno stesso grafo possono essere svolti su CPU o (se disponibile) su GPU per maggiore efficienza\n",
    "- **Keras** fornisce un'API di alto livello per costruire e addestrare reti neurali con TensorFlow\n",
    "  - possiamo costruire una rete impilando strati di diverso tipo con molti (iper)parametri configurabili\n",
    "  - possiamo addestrare ed utilizzare la rete con un'API simile a scikit-learn"
   ]
  },
  {
   "cell_type": "markdown",
   "metadata": {},
   "source": [
    "## Setup\n",
    "\n",
    "- Seguire le istruzioni che seguono per installare le librerie nei PC di laboratorio\n",
    "  - queste istruzioni sono valide per qualsiasi PC con Anaconda installato\n",
    "- Aprire un prompt dei comandi o terminale\n",
    "  - in Windows: tasto Windows -> `cmd` -> Invio\n",
    "- Creare un ambiente Anaconda con Python e installare le librerie richieste\n",
    "  - `conda create -n deeplearn python=3.6 ipykernel numpy pandas matplotlib scikit-learn tensorflow keras`\n",
    "- Attivare l'ambiente appena creato\n",
    "  - Windows: `activate deeplearn`\n",
    "  - Mac/Linux: `source activate deeplearn`\n",
    "- Aggiungere l'ambiente come kernel in Jupyter\n",
    "  - `python -m ipykernel install --user --name deeplearn --display-name \"Deep learning\"`"
   ]
  },
  {
   "cell_type": "markdown",
   "metadata": {},
   "source": [
    "## Verifica\n",
    "\n",
    "- Se questo le era già aperto in Jupyter, aggiornare la pagina\n",
    "- Dal menù _Kernel_ selezionare _Change kernel_, quindi _Deep learning_\n",
    "- Eseguire i seguenti import e verificare che non ci siano errori"
   ]
  },
  {
   "cell_type": "code",
   "execution_count": 1,
   "metadata": {},
   "outputs": [],
   "source": [
    "import numpy as np\n",
    "import pandas as pd\n",
    "import matplotlib.pyplot as plt\n",
    "%matplotlib inline\n",
    "import sklearn\n",
    "import keras"
   ]
  },
  {
   "cell_type": "markdown",
   "metadata": {},
   "source": [
    "## Scaricamento Dati\n",
    "\n",
    "- Definiamo la seguente funzione come supporto per scaricare i file di dati necessari"
   ]
  },
  {
   "cell_type": "code",
   "execution_count": 2,
   "metadata": {},
   "outputs": [],
   "source": [
    "import os\n",
    "from urllib.request import urlretrieve\n",
    "def download(file, url):\n",
    "    if not os.path.isfile(file):\n",
    "        urlretrieve(url, file)"
   ]
  },
  {
   "cell_type": "markdown",
   "metadata": {},
   "source": [
    "## Introduzione\n",
    "\n",
    "- Per capire il funzionamento delle reti neurali, partiamo da un caso di regressione univariata\n",
    "- Riprendiamo la predizione dei consumi elettrici in base alle temperature\n",
    "- Carichiamo i dati..."
   ]
  },
  {
   "cell_type": "code",
   "execution_count": 3,
   "metadata": {},
   "outputs": [],
   "source": [
    "download(\"power.csv\", \"https://git.io/vpaM1\")\n",
    "data = pd.read_csv(\"power.csv\", index_col=\"date\", parse_dates=[\"date\"])"
   ]
  },
  {
   "cell_type": "code",
   "execution_count": 4,
   "metadata": {},
   "outputs": [
    {
     "data": {
      "text/html": [
       "<div>\n",
       "<style scoped>\n",
       "    .dataframe tbody tr th:only-of-type {\n",
       "        vertical-align: middle;\n",
       "    }\n",
       "\n",
       "    .dataframe tbody tr th {\n",
       "        vertical-align: top;\n",
       "    }\n",
       "\n",
       "    .dataframe thead th {\n",
       "        text-align: right;\n",
       "    }\n",
       "</style>\n",
       "<table border=\"1\" class=\"dataframe\">\n",
       "  <thead>\n",
       "    <tr style=\"text-align: right;\">\n",
       "      <th></th>\n",
       "      <th>demand</th>\n",
       "      <th>temp</th>\n",
       "    </tr>\n",
       "    <tr>\n",
       "      <th>date</th>\n",
       "      <th></th>\n",
       "      <th></th>\n",
       "    </tr>\n",
       "  </thead>\n",
       "  <tbody>\n",
       "    <tr>\n",
       "      <th>2015-01-01</th>\n",
       "      <td>1.736065</td>\n",
       "      <td>1.7</td>\n",
       "    </tr>\n",
       "    <tr>\n",
       "      <th>2015-01-02</th>\n",
       "      <td>1.831672</td>\n",
       "      <td>2.2</td>\n",
       "    </tr>\n",
       "    <tr>\n",
       "      <th>2015-01-03</th>\n",
       "      <td>1.714934</td>\n",
       "      <td>14.4</td>\n",
       "    </tr>\n",
       "    <tr>\n",
       "      <th>2015-01-04</th>\n",
       "      <td>1.628577</td>\n",
       "      <td>15.6</td>\n",
       "    </tr>\n",
       "    <tr>\n",
       "      <th>2015-01-05</th>\n",
       "      <td>2.045394</td>\n",
       "      <td>0.0</td>\n",
       "    </tr>\n",
       "  </tbody>\n",
       "</table>\n",
       "</div>"
      ],
      "text/plain": [
       "              demand  temp\n",
       "date                      \n",
       "2015-01-01  1.736065   1.7\n",
       "2015-01-02  1.831672   2.2\n",
       "2015-01-03  1.714934  14.4\n",
       "2015-01-04  1.628577  15.6\n",
       "2015-01-05  2.045394   0.0"
      ]
     },
     "execution_count": 4,
     "metadata": {},
     "output_type": "execute_result"
    }
   ],
   "source": [
    "data.head()"
   ]
  },
  {
   "cell_type": "markdown",
   "metadata": {},
   "source": [
    "- Come abbiamo visto in precedenza, la relazione tra le due variabili non è lineare"
   ]
  },
  {
   "cell_type": "code",
   "execution_count": 5,
   "metadata": {},
   "outputs": [
    {
     "data": {
      "text/plain": [
       "<matplotlib.axes._subplots.AxesSubplot at 0x7f912c64b7f0>"
      ]
     },
     "execution_count": 5,
     "metadata": {},
     "output_type": "execute_result"
    },
    {
     "data": {
      "image/png": "[encoded data removed]",
      "text/plain": [
       "<Figure size 432x288 with 1 Axes>"
      ]
     },
     "metadata": {
      "needs_background": "light"
     },
     "output_type": "display_data"
    }
   ],
   "source": [
    "data.plot.scatter(\"temp\", \"demand\")"
   ]
  },
  {
   "cell_type": "markdown",
   "metadata": {},
   "source": [
    "- Come in precedenza, utilizziamo i dati di 2015 e 2016 come training set e i dati del 2017 come validation set"
   ]
  },
  {
   "cell_type": "code",
   "execution_count": 6,
   "metadata": {},
   "outputs": [],
   "source": [
    "is_train = data.index.year < 2017\n",
    "X_train = data.loc[is_train, [\"temp\"]]\n",
    "y_train = data.loc[is_train, \"demand\"]\n",
    "X_val = data.loc[~is_train, [\"temp\"]]\n",
    "y_val = data.loc[~is_train, \"demand\"]"
   ]
  },
  {
   "cell_type": "markdown",
   "metadata": {},
   "source": [
    "## Standardizzazione\n",
    "\n",
    "- Nell'uso delle reti neurali è generalmente consigliato standardizzare i dati in ingresso\n",
    "  - far sì che la media sia (circa) 0 e la deviazione standard (circa) 1\n",
    "  - questo è importante in particolare per funzioni di attivazione non lineari (vedi dopo)\n",
    "- Per eseguire la standardizzazione possiamo utilizzare il filtro `StandardScaler` di scikit-learn\n",
    "- Creiamo un filtro per standardizzare i valori della temperatura"
   ]
  },
  {
   "cell_type": "code",
   "execution_count": 7,
   "metadata": {},
   "outputs": [],
   "source": [
    "from sklearn.preprocessing import StandardScaler\n",
    "scaler_X = StandardScaler()"
   ]
  },
  {
   "cell_type": "markdown",
   "metadata": {},
   "source": [
    "- Tariamo ed applichiamo il filtro sui dati del training set..."
   ]
  },
  {
   "cell_type": "code",
   "execution_count": 8,
   "metadata": {},
   "outputs": [],
   "source": [
    "X_train = scaler_X.fit_transform(X_train)"
   ]
  },
  {
   "cell_type": "markdown",
   "metadata": {},
   "source": [
    "- ...per poi applicarlo a quelli del validation set"
   ]
  },
  {
   "cell_type": "code",
   "execution_count": 9,
   "metadata": {},
   "outputs": [],
   "source": [
    "X_val = scaler_X.transform(X_val)"
   ]
  },
  {
   "cell_type": "markdown",
   "metadata": {},
   "source": [
    "- Eseguiamo le stesse operazioni sulle y"
   ]
  },
  {
   "cell_type": "code",
   "execution_count": 10,
   "metadata": {},
   "outputs": [],
   "source": [
    "scaler_y = StandardScaler()\n",
    "y_train = scaler_y.fit_transform(y_train[:, None]).ravel()\n",
    "y_val = scaler_y.transform(y_val[:, None]).ravel()"
   ]
  },
  {
   "cell_type": "markdown",
   "metadata": {},
   "source": [
    "## Creare una rete neurale in Keras\n",
    "\n",
    "- Un modello _sequenziale_ di Keras è definito da una sequenza (senza diramazioni, cicli, ecc.) di strati connessi\n",
    "  - ogni strato n propaga l'output allo strato n+1\n",
    "  - il primo strato riceve l'input alla rete\n",
    "  - l'ultimo strato fornisce l'output della rete\n",
    "- Si definisce con un oggetto `Sequential` definendo la lista di strati\n",
    "- Il tipo di strato più comune è `Dense`, in cui ogni nodo riceve input da tutti i nodi dello strato precedente"
   ]
  },
  {
   "cell_type": "code",
   "execution_count": 11,
   "metadata": {},
   "outputs": [],
   "source": [
    "from keras.models import Sequential\n",
    "from keras.layers import Dense"
   ]
  },
  {
   "cell_type": "markdown",
   "metadata": {},
   "source": [
    "- Per iniziare, creiamo una \"rete\" con un singolo strato e un singolo nodo\n",
    "- Su ogni strato `Dense` dobbiamo indicare il numero di nodi\n",
    "- Inoltre sul primo strato dobbiamo indicare con `input_dim` il numero di valori in input, in questo caso uno"
   ]
  },
  {
   "cell_type": "code",
   "execution_count": 12,
   "metadata": {},
   "outputs": [
    {
     "name": "stdout",
     "output_type": "stream",
     "text": [
      "WARNING:tensorflow:From /home/pasolini/software/miniconda3/envs/deeplearn/lib/python3.6/site-packages/tensorflow/python/framework/op_def_library.py:263: colocate_with (from tensorflow.python.framework.ops) is deprecated and will be removed in a future version.\n",
      "Instructions for updating:\n",
      "Colocations handled automatically by placer.\n"
     ]
    }
   ],
   "source": [
    "model = Sequential([\n",
    "    Dense(1, input_dim=1)\n",
    "])"
   ]
  },
  {
   "cell_type": "markdown",
   "metadata": {},
   "source": [
    "- L'output della rete sarà il valore restituito dal singolo nodo"
   ]
  },
  {
   "cell_type": "markdown",
   "metadata": {},
   "source": [
    "- Una volta definita la struttura della rete questa va _compilata_ per costruirne il grafo computazionale su TensorFlow\n",
    "- Quando si compila la rete va specificato un algoritmo di ottimizzazione (`optimizer`) da utilizzare per addestrare la rete\n",
    "  - si possono usare diverse varianti della discesa gradiente stocastica\n",
    "- Va inoltre specificata la misura di errore (`loss`) da minimizzare nell'addestramento\n",
    "  - per la regressione usiamo l'errore quadratico medio"
   ]
  },
  {
   "cell_type": "code",
   "execution_count": 13,
   "metadata": {},
   "outputs": [],
   "source": [
    "model.compile(optimizer=\"adam\", loss=\"mean_squared_error\")"
   ]
  },
  {
   "cell_type": "markdown",
   "metadata": {},
   "source": [
    "- Ora possiamo addestrare la rete sul training set, usando il metodo `fit` come in scikit-learn\n",
    "  - passiamo la matrice X con variabili indipendenti e il vettore y con variabile dipendente da predire\n",
    "- Nella discesa gradiente stocastica gli esempi di training sono presi a gruppi di dimensione pari ad una `batch_size` indicata\n",
    "- L'intero training set viene scorso in ordine casuale per un numero cicli di addestramento, detti _epoche_ (`epochs`)"
   ]
  },
  {
   "cell_type": "code",
   "execution_count": 14,
   "metadata": {},
   "outputs": [
    {
     "name": "stdout",
     "output_type": "stream",
     "text": [
      "WARNING:tensorflow:From /home/pasolini/software/miniconda3/envs/deeplearn/lib/python3.6/site-packages/tensorflow/python/ops/math_ops.py:3066: to_int32 (from tensorflow.python.ops.math_ops) is deprecated and will be removed in a future version.\n",
      "Instructions for updating:\n",
      "Use tf.cast instead.\n",
      "Epoch 1/10\n",
      "731/731 [==============================] - 0s 519us/step - loss: 2.0938\n",
      "Epoch 2/10\n",
      "731/731 [==============================] - 0s 219us/step - loss: 1.7212\n",
      "Epoch 3/10\n",
      "731/731 [==============================] - 0s 228us/step - loss: 1.4335\n",
      "Epoch 4/10\n",
      "731/731 [==============================] - 0s 227us/step - loss: 1.2284\n",
      "Epoch 5/10\n",
      "731/731 [==============================] - 0s 227us/step - loss: 1.0871\n",
      "Epoch 6/10\n",
      "731/731 [==============================] - 0s 230us/step - loss: 0.9944\n",
      "Epoch 7/10\n",
      "731/731 [==============================] - 0s 225us/step - loss: 0.9360\n",
      "Epoch 8/10\n",
      "731/731 [==============================] - 0s 231us/step - loss: 0.9002\n",
      "Epoch 9/10\n",
      "731/731 [==============================] - 0s 226us/step - loss: 0.8796\n",
      "Epoch 10/10\n",
      "731/731 [==============================] - 0s 222us/step - loss: 0.8694\n"
     ]
    }
   ],
   "source": [
    "fit_history = model.fit(X_train, y_train, batch_size=3, epochs=10)"
   ]
  },
  {
   "cell_type": "markdown",
   "metadata": {},
   "source": [
    "- Durante l'addestramento, l'errore sul training set, mostrato come `loss`, si riduce progressivamente\n",
    "- L'andamento di epoca in epoca viene salvato nell'oggetto `fit_history`, possiamo visualizzarlo in un grafico"
   ]
  },
  {
   "cell_type": "code",
   "execution_count": 15,
   "metadata": {},
   "outputs": [
    {
     "data": {
      "image/png": "[encoded data removed]",
      "text/plain": [
       "<Figure size 432x288 with 1 Axes>"
      ]
     },
     "metadata": {
      "needs_background": "light"
     },
     "output_type": "display_data"
    }
   ],
   "source": [
    "plt.plot(fit_history.history[\"loss\"], \"ro-\")\n",
    "plt.xlabel(\"Epoche\")\n",
    "plt.ylabel(\"MSE\");"
   ]
  },
  {
   "cell_type": "markdown",
   "metadata": {},
   "source": [
    "- Una volta addestrato, possiamo ottenere predizioni dal modello col metodo `predict` come in scikit-learn"
   ]
  },
  {
   "cell_type": "code",
   "execution_count": 16,
   "metadata": {},
   "outputs": [
    {
     "data": {
      "text/plain": [
       "array([[-0.26690426],\n",
       "       [-0.22499926],\n",
       "       [-0.1961896 ]], dtype=float32)"
      ]
     },
     "execution_count": 16,
     "metadata": {},
     "output_type": "execute_result"
    }
   ],
   "source": [
    "model.predict(X_val[:3])"
   ]
  },
  {
   "cell_type": "markdown",
   "metadata": {},
   "source": [
    "- Si noti che i valori restituiti dal modello sono standardizzati sulla stessa scala usata nell'addestramento\n",
    "- Possiamo usare il metodo `inverse_transform` del filtro per \"destandardizzare\" i valori alla scala originale"
   ]
  },
  {
   "cell_type": "code",
   "execution_count": 17,
   "metadata": {},
   "outputs": [
    {
     "data": {
      "text/plain": [
       "array([[1.7705243],\n",
       "       [1.7849156],\n",
       "       [1.7948096]], dtype=float32)"
      ]
     },
     "execution_count": 17,
     "metadata": {},
     "output_type": "execute_result"
    }
   ],
   "source": [
    "scaler_y.inverse_transform(model.predict(X_val[:3]))"
   ]
  },
  {
   "cell_type": "markdown",
   "metadata": {},
   "source": [
    "- Il metodo `evaluate` esegue una valutazione su un validation set e restituisce la misura d'errore usata in addestramento (il MSE)"
   ]
  },
  {
   "cell_type": "code",
   "execution_count": 18,
   "metadata": {},
   "outputs": [
    {
     "name": "stdout",
     "output_type": "stream",
     "text": [
      "365/365 [==============================] - 0s 92us/step\n"
     ]
    },
    {
     "data": {
      "text/plain": [
       "0.6906151808287999"
      ]
     },
     "execution_count": 18,
     "metadata": {},
     "output_type": "execute_result"
    }
   ],
   "source": [
    "model.evaluate(X_val, y_val)"
   ]
  },
  {
   "cell_type": "markdown",
   "metadata": {},
   "source": [
    "- Creiamo una funzione per visualizzare il modello sovrapposto al grafico a dispersione dei dati"
   ]
  },
  {
   "cell_type": "code",
   "execution_count": 19,
   "metadata": {},
   "outputs": [],
   "source": [
    "def plot_regr_model(X, y, model):\n",
    "    plt.scatter(X[:, 0], y)\n",
    "    xlim = plt.gca().get_xlim()\n",
    "    ylim = plt.gca().get_ylim()\n",
    "    mx = np.linspace(xlim[0], xlim[1], 100)\n",
    "    my = model.predict(mx)\n",
    "    plt.plot(mx, my, c=\"red\", lw=3)\n",
    "    plt.xlim(xlim)\n",
    "    plt.ylim(ylim)"
   ]
  },
  {
   "cell_type": "code",
   "execution_count": 20,
   "metadata": {},
   "outputs": [
    {
     "data": {
      "image/png": "[encoded data removed]",
      "text/plain": [
       "<Figure size 432x288 with 1 Axes>"
      ]
     },
     "metadata": {
      "needs_background": "light"
     },
     "output_type": "display_data"
    }
   ],
   "source": [
    "plot_regr_model(X_val, y_val, model)"
   ]
  },
  {
   "cell_type": "markdown",
   "metadata": {},
   "source": [
    "- Questa corrisponde in pratica ad un modello di regressione lineare\n",
    "  - l'output del singolo nodo è $y=w\\cdot x+b$, dove $w$ è il peso dato all'input (il coefficiente) e $b$ è il _bias_ (l'intercetta)\n",
    "- Non è in grado quindi di modellare dati con andamento non lineare"
   ]
  },
  {
   "cell_type": "markdown",
   "metadata": {},
   "source": [
    "## Aggiungere uno strato\n",
    "\n",
    "- Cosa succede aggiungendo uno strato al modello?\n",
    "- Creiamo una rete con uno strato _nascosto_ ad es. di 16 nodi a cui viene passato l'input\n",
    "- Definiamo una notazione con cui descrivere l'output della rete\n",
    "  - con $w^l_{ij}$ definiamo il peso della connessione dal nodo $i$ dello strato $l-1$ al nodo $j$ dello strato $l$\n",
    "  - con $b^l_j$ definiamo il bias applicato sul nodo $j$ dello strato $l$\n",
    "- Ogni nodo dello strato nascosto $i$ fornirà come output:\n",
    "$$ h_i = b^1_i + w^1_{1i}\\cdot x $$\n",
    "- A sua volta l'output sarà una combinazione di questi 16 nodi:\n",
    "$$ y = b^2_1 + \\sum_{i=1}^{16}{w^2_{i1}\\cdot h_i} = b^2_1 + \\sum_{i=1}^{16}{w^2_{i1}\\cdot\\left(b^1_i + w^1_{1i}\\cdot x\\right)} $$"
   ]
  },
  {
   "cell_type": "code",
   "execution_count": 22,
   "metadata": {},
   "outputs": [],
   "source": [
    "model = Sequential([\n",
    "    Dense(16, input_dim=1),\n",
    "    Dense(1)\n",
    "])"
   ]
  },
  {
   "cell_type": "markdown",
   "metadata": {},
   "source": [
    "- Col metodo `summary` possiamo ottenere un resoconto della struttura della rete, in cui è evidenziato il numero di parametri addestrabili nella rete"
   ]
  },
  {
   "cell_type": "code",
   "execution_count": 23,
   "metadata": {},
   "outputs": [
    {
     "name": "stdout",
     "output_type": "stream",
     "text": [
      "_________________________________________________________________\n",
      "Layer (type)                 Output Shape              Param #   \n",
      "=================================================================\n",
      "dense_2 (Dense)              (None, 16)                32        \n",
      "_________________________________________________________________\n",
      "dense_3 (Dense)              (None, 1)                 17        \n",
      "=================================================================\n",
      "Total params: 49\n",
      "Trainable params: 49\n",
      "Non-trainable params: 0\n",
      "_________________________________________________________________\n"
     ]
    }
   ],
   "source": [
    "model.summary()"
   ]
  },
  {
   "cell_type": "markdown",
   "metadata": {},
   "source": [
    "- In questo caso ad esempio come parametri abbiamo\n",
    "  - i 16 pesi dall'input ai nodi nascosti $w^1_{1i}$\n",
    "  - i 16 bias dei nodi nascosti $b^1_i$\n",
    "  - i 16 pesi dai nodi nascosti all'output $w^2_{i1}$\n",
    "  - il bias dell'output $b^2_1$\n",
    "- ...per un totale di 49 parametri da addestrare"
   ]
  },
  {
   "cell_type": "markdown",
   "metadata": {},
   "source": [
    "- Come sopra compiliamo ed addestriamo la rete"
   ]
  },
  {
   "cell_type": "code",
   "execution_count": 20,
   "metadata": {},
   "outputs": [],
   "source": [
    "model.compile(optimizer=\"adam\", loss=\"mean_squared_error\")"
   ]
  },
  {
   "cell_type": "code",
   "execution_count": 21,
   "metadata": {},
   "outputs": [
    {
     "name": "stdout",
     "output_type": "stream",
     "text": [
      "Epoch 1/10\n",
      "731/731 [==============================] - 0s 643us/step - loss: 1.5266\n",
      "Epoch 2/10\n",
      "731/731 [==============================] - 0s 243us/step - loss: 0.1167\n",
      "Epoch 3/10\n",
      "731/731 [==============================] - 0s 233us/step - loss: 0.1021\n",
      "Epoch 4/10\n",
      "731/731 [==============================] - 0s 237us/step - loss: 0.1021\n",
      "Epoch 5/10\n",
      "731/731 [==============================] - 0s 236us/step - loss: 0.1036\n",
      "Epoch 6/10\n",
      "731/731 [==============================] - 0s 240us/step - loss: 0.1031\n",
      "Epoch 7/10\n",
      "731/731 [==============================] - 0s 236us/step - loss: 0.1033\n",
      "Epoch 8/10\n",
      "731/731 [==============================] - 0s 240us/step - loss: 0.1028\n",
      "Epoch 9/10\n",
      "731/731 [==============================] - 0s 235us/step - loss: 0.1036\n",
      "Epoch 10/10\n",
      "731/731 [==============================] - 0s 235us/step - loss: 0.1031\n"
     ]
    }
   ],
   "source": [
    "fit_history = model.fit(X_train, y_train, batch_size=3, epochs=10)"
   ]
  },
  {
   "cell_type": "code",
   "execution_count": 22,
   "metadata": {},
   "outputs": [
    {
     "data": {
      "image/png": "[encoded data removed]",
      "text/plain": [
       "<Figure size 432x288 with 1 Axes>"
      ]
     },
     "metadata": {
      "needs_background": "light"
     },
     "output_type": "display_data"
    }
   ],
   "source": [
    "plot_regr_model(X_val, y_val, model)"
   ]
  },
  {
   "cell_type": "markdown",
   "metadata": {},
   "source": [
    "- Otteniamo ancora un modello lineare, in quanto l'output finale rimane comunque una combinazione lineare delle variabili di input (in questo caso una sola)\n",
    "$$ y = (\\ldots)\\cdot x + (\\ldots) $$\n",
    "- È quindi necessario introdurre operazioni non lineari"
   ]
  },
  {
   "cell_type": "markdown",
   "metadata": {},
   "source": [
    "## Funzioni di attivazione\n",
    "\n",
    "- Una funzione di attivazione non lineare può essere applicata a ciascun valore in output di un qualsiasi strato\n",
    "  - tutte le funzioni di attivazione devono essere continue e differenziabili per poter eseguire la discesa gradiente\n",
    "- Per impostare una funzione di attivazione usiamo il parametro `activation`\n",
    "- Un esempio di funzione di attivazione comune è quella sigmoidale\n",
    "$$ \\sigma(z) = \\frac{1}{1+e^{-z}} $$\n",
    "\n",
    "![Sigmoid function](https://upload.wikimedia.org/wikipedia/commons/thumb/8/88/Logistic-curve.svg/500px-Logistic-curve.svg.png)"
   ]
  },
  {
   "cell_type": "markdown",
   "metadata": {},
   "source": [
    "- Modifichiamo ad esempio la rete sopra in modo che abbia solo due nodi nascosti, ma che utilizzino la funzione di attivazione sigmoidale"
   ]
  },
  {
   "cell_type": "code",
   "execution_count": 24,
   "metadata": {},
   "outputs": [],
   "source": [
    "model = Sequential([\n",
    "    Dense(2, activation=\"sigmoid\", input_dim=1),\n",
    "    Dense(1)\n",
    "])"
   ]
  },
  {
   "cell_type": "markdown",
   "metadata": {},
   "source": [
    "- In questo modo l'output dei nodi nascosti sarà l'applicazione della funzione sigmoide\n",
    "$$ h_i = \\sigma\\left(b^1_i + w^1_{1i}\\cdot x\\right) $$\n",
    "- Il modello sarà in pratica una somma pesata di due sigmoidi"
   ]
  },
  {
   "cell_type": "code",
   "execution_count": 25,
   "metadata": {},
   "outputs": [],
   "source": [
    "model.compile(optimizer=\"adam\", loss=\"mean_squared_error\")"
   ]
  },
  {
   "cell_type": "code",
   "execution_count": 26,
   "metadata": {},
   "outputs": [
    {
     "name": "stdout",
     "output_type": "stream",
     "text": [
      "Epoch 1/10\n",
      "731/731 [==============================] - 1s 689us/step - loss: 1.3926\n",
      "Epoch 2/10\n",
      "731/731 [==============================] - 0s 249us/step - loss: 1.0347\n",
      "Epoch 3/10\n",
      "731/731 [==============================] - 0s 247us/step - loss: 0.9159\n",
      "Epoch 4/10\n",
      "731/731 [==============================] - 0s 250us/step - loss: 0.8769\n",
      "Epoch 5/10\n",
      "731/731 [==============================] - 0s 238us/step - loss: 0.8595\n",
      "Epoch 6/10\n",
      "731/731 [==============================] - 0s 252us/step - loss: 0.8478\n",
      "Epoch 7/10\n",
      "731/731 [==============================] - 0s 253us/step - loss: 0.8361\n",
      "Epoch 8/10\n",
      "731/731 [==============================] - 0s 257us/step - loss: 0.8238\n",
      "Epoch 9/10\n",
      "731/731 [==============================] - 0s 261us/step - loss: 0.8109\n",
      "Epoch 10/10\n",
      "731/731 [==============================] - 0s 268us/step - loss: 0.7977\n"
     ]
    }
   ],
   "source": [
    "fit_history = model.fit(X_train, y_train, batch_size=3, epochs=10)"
   ]
  },
  {
   "cell_type": "code",
   "execution_count": 27,
   "metadata": {},
   "outputs": [
    {
     "data": {
      "image/png": "[encoded data removed]",
      "text/plain": [
       "<Figure size 432x288 with 1 Axes>"
      ]
     },
     "metadata": {
      "needs_background": "light"
     },
     "output_type": "display_data"
    }
   ],
   "source": [
    "plot_regr_model(X_val, y_val, model)"
   ]
  },
  {
   "cell_type": "markdown",
   "metadata": {},
   "source": [
    "- Introducendo nodi non lineari, la rete può potenzialmente modellare meglio la distribuzione dei dati"
   ]
  },
  {
   "cell_type": "markdown",
   "metadata": {},
   "source": [
    "- Testiamo ora _ReLU_ (_Rectified Linear Unit_), un'altra funzione di attivazione comune\n",
    "$$ R(z) = \\left\\{\\begin{array}{ll} 0 & \\text{if} z\\leq 0 \\\\ z & \\text{if} z>0 \\end{array}\\right. $$\n",
    "\n",
    "![ReLU function](https://i.imgur.com/gKA4kA9.jpg)"
   ]
  },
  {
   "cell_type": "code",
   "execution_count": 28,
   "metadata": {},
   "outputs": [],
   "source": [
    "model = Sequential([\n",
    "    Dense(2, activation=\"relu\", input_dim=1),\n",
    "    Dense(1)\n",
    "])"
   ]
  },
  {
   "cell_type": "code",
   "execution_count": 29,
   "metadata": {},
   "outputs": [],
   "source": [
    "model.compile(optimizer=\"adam\", loss=\"mean_squared_error\")"
   ]
  },
  {
   "cell_type": "code",
   "execution_count": 30,
   "metadata": {},
   "outputs": [
    {
     "name": "stdout",
     "output_type": "stream",
     "text": [
      "Epoch 1/10\n",
      "731/731 [==============================] - 1s 981us/step - loss: 1.0891\n",
      "Epoch 2/10\n",
      "731/731 [==============================] - 0s 469us/step - loss: 1.0090\n",
      "Epoch 3/10\n",
      "731/731 [==============================] - 0s 481us/step - loss: 0.9990\n",
      "Epoch 4/10\n",
      "731/731 [==============================] - 0s 400us/step - loss: 0.9959\n",
      "Epoch 5/10\n",
      "731/731 [==============================] - 0s 498us/step - loss: 0.9938\n",
      "Epoch 6/10\n",
      "731/731 [==============================] - 0s 476us/step - loss: 0.9925\n",
      "Epoch 7/10\n",
      "731/731 [==============================] - 0s 514us/step - loss: 0.9912\n",
      "Epoch 8/10\n",
      "731/731 [==============================] - 0s 414us/step - loss: 0.9899\n",
      "Epoch 9/10\n",
      "731/731 [==============================] - 0s 460us/step - loss: 0.9889\n",
      "Epoch 10/10\n",
      "731/731 [==============================] - 0s 544us/step - loss: 0.9875\n"
     ]
    }
   ],
   "source": [
    "fit_history = model.fit(X_train, y_train, batch_size=3, epochs=10)"
   ]
  },
  {
   "cell_type": "code",
   "execution_count": 31,
   "metadata": {},
   "outputs": [
    {
     "data": {
      "image/png": "[encoded data removed]",
      "text/plain": [
       "<Figure size 432x288 with 1 Axes>"
      ]
     },
     "metadata": {
      "needs_background": "light"
     },
     "output_type": "display_data"
    }
   ],
   "source": [
    "plot_regr_model(X_val, y_val, model)"
   ]
  },
  {
   "cell_type": "markdown",
   "metadata": {},
   "source": [
    "- Aumentando i nodi nascosti, diventa possibile modellare relazioni più complesse e può aumentare l'aderenza del modello ai dati"
   ]
  },
  {
   "cell_type": "code",
   "execution_count": 32,
   "metadata": {},
   "outputs": [],
   "source": [
    "model = Sequential([\n",
    "    Dense(8, activation=\"relu\", input_dim=1),\n",
    "    Dense(1)\n",
    "])"
   ]
  },
  {
   "cell_type": "code",
   "execution_count": 33,
   "metadata": {},
   "outputs": [],
   "source": [
    "model.compile(optimizer=\"adam\", loss=\"mean_squared_error\")"
   ]
  },
  {
   "cell_type": "code",
   "execution_count": 34,
   "metadata": {},
   "outputs": [
    {
     "name": "stdout",
     "output_type": "stream",
     "text": [
      "Epoch 1/10\n",
      "731/731 [==============================] - 1s 973us/step - loss: 1.0100\n",
      "Epoch 2/10\n",
      "731/731 [==============================] - 0s 536us/step - loss: 0.8400\n",
      "Epoch 3/10\n",
      "731/731 [==============================] - 0s 427us/step - loss: 0.6800\n",
      "Epoch 4/10\n",
      "731/731 [==============================] - 0s 493us/step - loss: 0.5282\n",
      "Epoch 5/10\n",
      "731/731 [==============================] - 0s 490us/step - loss: 0.4107\n",
      "Epoch 6/10\n",
      "731/731 [==============================] - 0s 446us/step - loss: 0.3405\n",
      "Epoch 7/10\n",
      "731/731 [==============================] - 0s 534us/step - loss: 0.3003\n",
      "Epoch 8/10\n",
      "731/731 [==============================] - 0s 470us/step - loss: 0.2739\n",
      "Epoch 9/10\n",
      "731/731 [==============================] - 0s 527us/step - loss: 0.2544\n",
      "Epoch 10/10\n",
      "731/731 [==============================] - 0s 528us/step - loss: 0.2392\n"
     ]
    }
   ],
   "source": [
    "fit_history = model.fit(X_train, y_train, batch_size=3, epochs=10)"
   ]
  },
  {
   "cell_type": "code",
   "execution_count": 35,
   "metadata": {},
   "outputs": [
    {
     "data": {
      "image/png": "[encoded data removed]",
      "text/plain": [
       "<Figure size 432x288 with 1 Axes>"
      ]
     },
     "metadata": {
      "needs_background": "light"
     },
     "output_type": "display_data"
    }
   ],
   "source": [
    "plot_regr_model(X_val, y_val, model)"
   ]
  },
  {
   "cell_type": "markdown",
   "metadata": {},
   "source": [
    "## Classificazione non lineare\n",
    "\n",
    "- Le reti neurali sono molto usate per classificare dati in due o più classi\n",
    "- Come per la regressione lineare, l'uso delle reti neurali permette di individuare classi non linearmente separabili\n",
    "- Vediamo un esempio di funzionamento con un dataset sintetico generato casualmente\n",
    "- La funzione `make_circles` genera punti distribuiti in due corone circolari concentriche\n",
    "- Generiamo due dataset da una stessa distribuzione, uno per training e l'altro per validazione"
   ]
  },
  {
   "cell_type": "code",
   "execution_count": 36,
   "metadata": {},
   "outputs": [],
   "source": [
    "from sklearn.datasets import make_circles\n",
    "X_train, y_train = make_circles(1000, noise=0.1, factor=0.5)\n",
    "X_val, y_val = make_circles(1000, noise=0.1, factor=0.5)"
   ]
  },
  {
   "cell_type": "code",
   "execution_count": 37,
   "metadata": {},
   "outputs": [
    {
     "data": {
      "text/plain": [
       "<matplotlib.collections.PathCollection at 0x7f90fa47c160>"
      ]
     },
     "execution_count": 37,
     "metadata": {},
     "output_type": "execute_result"
    },
    {
     "data": {
      "image/png": "[encoded data removed]",
      "text/plain": [
       "<Figure size 432x288 with 1 Axes>"
      ]
     },
     "metadata": {
      "needs_background": "light"
     },
     "output_type": "display_data"
    }
   ],
   "source": [
    "plt.scatter(X_train[:, 0], X_train[:, 1], s=3, c=np.where(y_train, \"red\", \"blue\"))"
   ]
  },
  {
   "cell_type": "markdown",
   "metadata": {},
   "source": [
    "- Vogliamo addestrare un classificatore a distinguere, date le coordinate di un punto, se faccia parte della corona esterna o di quella interna"
   ]
  },
  {
   "cell_type": "markdown",
   "metadata": {},
   "source": [
    "- Prendiamo ad esempio un semplice modello di regressione logistica"
   ]
  },
  {
   "cell_type": "code",
   "execution_count": 38,
   "metadata": {},
   "outputs": [
    {
     "name": "stderr",
     "output_type": "stream",
     "text": [
      "/home/pasolini/software/miniconda3/envs/deeplearn/lib/python3.6/site-packages/sklearn/linear_model/logistic.py:432: FutureWarning: Default solver will be changed to 'lbfgs' in 0.22. Specify a solver to silence this warning.\n",
      "  FutureWarning)\n"
     ]
    }
   ],
   "source": [
    "from sklearn.linear_model import LogisticRegression\n",
    "model = LogisticRegression()\n",
    "model.fit(X_train, y_train);"
   ]
  },
  {
   "cell_type": "markdown",
   "metadata": {},
   "source": [
    "- Utilizziamo il classificatore addestrato per etichettare il validation set"
   ]
  },
  {
   "cell_type": "code",
   "execution_count": 39,
   "metadata": {},
   "outputs": [],
   "source": [
    "yp_val = model.predict(X_val)"
   ]
  },
  {
   "cell_type": "markdown",
   "metadata": {},
   "source": [
    "- Visualizziamo quindi il grafico di prima con colori in base alle risposte del classificatore"
   ]
  },
  {
   "cell_type": "code",
   "execution_count": 40,
   "metadata": {},
   "outputs": [
    {
     "data": {
      "text/plain": [
       "<matplotlib.collections.PathCollection at 0x7f90fa02e390>"
      ]
     },
     "execution_count": 40,
     "metadata": {},
     "output_type": "execute_result"
    },
    {
     "data": {
      "image/png": "[encoded data removed]",
      "text/plain": [
       "<Figure size 432x288 with 1 Axes>"
      ]
     },
     "metadata": {
      "needs_background": "light"
     },
     "output_type": "display_data"
    }
   ],
   "source": [
    "plt.scatter(X_val[:, 0], X_val[:, 1], s=3, c=np.where(yp_val, \"red\", \"blue\"))"
   ]
  },
  {
   "cell_type": "markdown",
   "metadata": {},
   "source": [
    "- Essendo un classificatore lineare, non è in grado di separare correttamente le due classi"
   ]
  },
  {
   "cell_type": "markdown",
   "metadata": {},
   "source": [
    "- Per maggiore dettaglio, creiamo una funzione per visualizzare le regioni di spazio in cui il classificatore suddivide i dati"
   ]
  },
  {
   "cell_type": "code",
   "execution_count": 47,
   "metadata": {},
   "outputs": [],
   "source": [
    "def plot_class_model(X, y, predict):\n",
    "    plt.scatter(X[:, 0], X[:, 1])\n",
    "    xlim = plt.gca().get_xlim()\n",
    "    ylim = plt.gca().get_ylim()\n",
    "    mx = np.linspace(xlim[0], xlim[1], 101)\n",
    "    my = np.linspace(ylim[0], ylim[1], 101)\n",
    "    mx, my = np.meshgrid(mx, my)\n",
    "    mz = predict(np.c_[mx.ravel(), my.ravel()])[:, 1].reshape(mx.shape)\n",
    "    plt.contourf(mx, my, mz, cmap=\"cool\")\n",
    "    plt.scatter(X[:, 0], X[:, 1], c=np.where(y, \"#880000\", \"blue\"), s=4)"
   ]
  },
  {
   "cell_type": "code",
   "execution_count": 48,
   "metadata": {},
   "outputs": [
    {
     "data": {
      "image/png": "[encoded data removed]",
      "text/plain": [
       "<Figure size 432x288 with 1 Axes>"
      ]
     },
     "metadata": {
      "needs_background": "light"
     },
     "output_type": "display_data"
    }
   ],
   "source": [
    "plot_class_model(X_val, y_val, model.predict_proba)"
   ]
  },
  {
   "cell_type": "markdown",
   "metadata": {},
   "source": [
    "- Le sfumature sullo sfondo indicano le probabilità con cui il classificatore assegna un punto ad una classe o all'altra"
   ]
  },
  {
   "cell_type": "markdown",
   "metadata": {},
   "source": [
    "- Conoscendo la forma del dataset, possiamo introdurre nuove variabili specifiche tali per cui le classi diventino linearmente separabili\n",
    "- Introduciamo ad esempio variabili polinomiali di secondo grado"
   ]
  },
  {
   "cell_type": "code",
   "execution_count": 49,
   "metadata": {},
   "outputs": [
    {
     "name": "stderr",
     "output_type": "stream",
     "text": [
      "/home/pasolini/software/miniconda3/envs/deeplearn/lib/python3.6/site-packages/sklearn/linear_model/logistic.py:432: FutureWarning: Default solver will be changed to 'lbfgs' in 0.22. Specify a solver to silence this warning.\n",
      "  FutureWarning)\n"
     ]
    }
   ],
   "source": [
    "from sklearn.preprocessing import PolynomialFeatures\n",
    "from sklearn.pipeline import Pipeline\n",
    "model = Pipeline([\n",
    "    (\"poly\", PolynomialFeatures(degree=2, include_bias=False)),\n",
    "    (\"lr\",   LogisticRegression())\n",
    "])\n",
    "model.fit(X_train, y_train);"
   ]
  },
  {
   "cell_type": "code",
   "execution_count": 50,
   "metadata": {},
   "outputs": [
    {
     "data": {
      "text/plain": [
       "0.986"
      ]
     },
     "execution_count": 50,
     "metadata": {},
     "output_type": "execute_result"
    }
   ],
   "source": [
    "model.score(X_val, y_val)"
   ]
  },
  {
   "cell_type": "code",
   "execution_count": 51,
   "metadata": {},
   "outputs": [
    {
     "data": {
      "image/png": "[encoded data removed]",
      "text/plain": [
       "<Figure size 432x288 with 1 Axes>"
      ]
     },
     "metadata": {
      "needs_background": "light"
     },
     "output_type": "display_data"
    }
   ],
   "source": [
    "plot_class_model(X_val, y_val, model.predict_proba)"
   ]
  },
  {
   "cell_type": "markdown",
   "metadata": {},
   "source": [
    "- Grazie all'uso dei quadrati delle variabili come feature, è possibile separare linearmente le due classi"
   ]
  },
  {
   "cell_type": "markdown",
   "metadata": {},
   "source": [
    "- A conferma, si vedano i coefficienti del modello di regressione: i due con valori più significativi sono quelli dei quadrati (`x0^2` e `x1^2`)"
   ]
  },
  {
   "cell_type": "code",
   "execution_count": 52,
   "metadata": {},
   "outputs": [
    {
     "data": {
      "text/plain": [
       "x0      -0.052190\n",
       "x1      -0.031052\n",
       "x0^2    -7.864395\n",
       "x0 x1    0.098679\n",
       "x1^2    -8.060524\n",
       "dtype: float64"
      ]
     },
     "execution_count": 52,
     "metadata": {},
     "output_type": "execute_result"
    }
   ],
   "source": [
    "pd.Series(\n",
    "          model.named_steps[\"lr\"].coef_[0],\n",
    "    index=model.named_steps[\"poly\"].get_feature_names()\n",
    ")"
   ]
  },
  {
   "cell_type": "markdown",
   "metadata": {},
   "source": [
    "- Si veda inoltre il grafico dei dati basato sulle due variabili quadratiche invece che su quelle originali"
   ]
  },
  {
   "cell_type": "code",
   "execution_count": 53,
   "metadata": {},
   "outputs": [
    {
     "data": {
      "text/plain": [
       "<matplotlib.collections.PathCollection at 0x7f90f9c700f0>"
      ]
     },
     "execution_count": 53,
     "metadata": {},
     "output_type": "execute_result"
    },
    {
     "data": {
      "image/png": "[encoded data removed]",
      "text/plain": [
       "<Figure size 432x288 with 1 Axes>"
      ]
     },
     "metadata": {
      "needs_background": "light"
     },
     "output_type": "display_data"
    }
   ],
   "source": [
    "plt.scatter(X_val[:, 0]**2, X_val[:, 1]**2, s=3, c=np.where(y_val, \"red\", \"blue\"))"
   ]
  },
  {
   "cell_type": "markdown",
   "metadata": {},
   "source": [
    "- Con questa rappresentazione le due classi sono linearmente separabili\n",
    "- Tale rappresentazione è però stata decisa arbitrariamente da noi\n",
    "- Una rete neurale è in grado di classificare correttamente i dati senza definire manualmente le nuove variabili?"
   ]
  },
  {
   "cell_type": "markdown",
   "metadata": {},
   "source": [
    "## Classificazione con reti neurali\n",
    "\n",
    "- Per suddividere oggetti in N classi, creiamo una rete neurale con un nodo di output per ciascuna classe\n",
    "- Addestriamo quindi la rete in modo che il nodo di output corrispondente alla classe giusta dia un valore maggiore degli altri\n",
    "- Per questo l'output atteso della rete, per ora rappresentato come un valore 0 o 1..."
   ]
  },
  {
   "cell_type": "code",
   "execution_count": 54,
   "metadata": {},
   "outputs": [
    {
     "data": {
      "text/plain": [
       "array([1, 0, 1, 0, 1])"
      ]
     },
     "execution_count": 54,
     "metadata": {},
     "output_type": "execute_result"
    }
   ],
   "source": [
    "y_train[:5]"
   ]
  },
  {
   "cell_type": "markdown",
   "metadata": {},
   "source": [
    "- ...va rappresentato come un vettore _one-hot_ di due elementi, dove\n",
    "  - 0 (punti esterni) si codifica con `[1, 0]`\n",
    "  - 1 (punti interni) si codifica con `[0, 1]`\n",
    "- Questa rappresentazione è utilizzabile con qualsiasi numero di classi\n",
    "  - ad es. la quarta di 5 classi sarebbe codificata con `[0, 0, 0, 1, 0]`"
   ]
  },
  {
   "cell_type": "markdown",
   "metadata": {},
   "source": [
    "- Keras fornisce un'apposita funzione `to_categorical` per codificare l'output in questo modo"
   ]
  },
  {
   "cell_type": "code",
   "execution_count": 55,
   "metadata": {},
   "outputs": [],
   "source": [
    "from keras.utils import to_categorical\n",
    "yt_train = to_categorical(y_train)\n",
    "yt_val = to_categorical(y_val)"
   ]
  },
  {
   "cell_type": "markdown",
   "metadata": {},
   "source": [
    "- Otteniamo così le coppie di valori corrispondenti ai valori attesi dei due nodi di output della rete in ciascun caso"
   ]
  },
  {
   "cell_type": "code",
   "execution_count": 56,
   "metadata": {},
   "outputs": [
    {
     "data": {
      "text/plain": [
       "array([[0., 1.],\n",
       "       [1., 0.],\n",
       "       [0., 1.],\n",
       "       [1., 0.],\n",
       "       [0., 1.]], dtype=float32)"
      ]
     },
     "execution_count": 56,
     "metadata": {},
     "output_type": "execute_result"
    }
   ],
   "source": [
    "yt_train[:5]"
   ]
  },
  {
   "cell_type": "markdown",
   "metadata": {},
   "source": [
    "- Iniziamo addestrando un modello con uno strato nascosto di 8 nodi lineari\n",
    "- Nello strato di output utilizziamo due nodi, uno per classe\n",
    "- La funzione di attivazione `softmax` fa in modo che l'output della rete costituisca una distribuzione di probabilità tra le due classi, ovvero che la somma dei due valori sia sempre 1"
   ]
  },
  {
   "cell_type": "code",
   "execution_count": 69,
   "metadata": {},
   "outputs": [],
   "source": [
    "model = Sequential([\n",
    "    Dense(8, input_dim=2),\n",
    "    Dense(2, activation=\"softmax\")\n",
    "])"
   ]
  },
  {
   "cell_type": "markdown",
   "metadata": {},
   "source": [
    "- Per la classificazione, impostiamo `categorical_crossentropy` come misura dell'errore\n",
    "  - l'errore è tanto più alto quanto più la probabilità stimata per la classe corretta si allontana da 100\\%\n",
    "- In aggiunta alla misura dell'errore da ottimizzare, possiamo aggiungere altre metriche di valutazione (`metrics`)\n",
    "  - calcoliamo l'`accuracy`, ovvero la percentuale di esempi classificati correttamente"
   ]
  },
  {
   "cell_type": "code",
   "execution_count": 70,
   "metadata": {},
   "outputs": [],
   "source": [
    "model.compile(optimizer=\"adam\", loss=\"categorical_crossentropy\", metrics=[\"accuracy\"])"
   ]
  },
  {
   "cell_type": "code",
   "execution_count": 71,
   "metadata": {},
   "outputs": [
    {
     "name": "stdout",
     "output_type": "stream",
     "text": [
      "Epoch 1/5\n",
      "1000/1000 [==============================] - 1s 665us/step - loss: 0.7304 - acc: 0.4920\n",
      "Epoch 2/5\n",
      "1000/1000 [==============================] - 0s 219us/step - loss: 0.6993 - acc: 0.5140\n",
      "Epoch 3/5\n",
      "1000/1000 [==============================] - 0s 169us/step - loss: 0.6949 - acc: 0.4830\n",
      "Epoch 4/5\n",
      "1000/1000 [==============================] - 0s 186us/step - loss: 0.6941 - acc: 0.4170\n",
      "Epoch 5/5\n",
      "1000/1000 [==============================] - 0s 179us/step - loss: 0.6940 - acc: 0.4580\n"
     ]
    }
   ],
   "source": [
    "fit_history = model.fit(X_train, yt_train, batch_size=10, epochs=5)"
   ]
  },
  {
   "cell_type": "markdown",
   "metadata": {},
   "source": [
    "- In `fit_history` troviamo salvato l'andamento sia dell'errore che dell'accuratezza sul training set"
   ]
  },
  {
   "cell_type": "code",
   "execution_count": 72,
   "metadata": {},
   "outputs": [
    {
     "data": {
      "image/png": "[encoded data removed]",
      "text/plain": [
       "<Figure size 432x288 with 1 Axes>"
      ]
     },
     "metadata": {
      "needs_background": "light"
     },
     "output_type": "display_data"
    }
   ],
   "source": [
    "plt.plot(fit_history.history[\"loss\"], \"ro-\")\n",
    "plt.plot(fit_history.history[\"acc\"], \"bo-\")\n",
    "plt.legend([\"Loss\", \"Accuracy\"])\n",
    "plt.xlabel(\"Epochs\");"
   ]
  },
  {
   "cell_type": "markdown",
   "metadata": {},
   "source": [
    "- Dal grafico si nota già che l'accuratezza misurata sul training set non riesce ad aumentare"
   ]
  },
  {
   "cell_type": "markdown",
   "metadata": {},
   "source": [
    "- Con `predict` otteniamo l'output \"grezzo\" della rete a fronte di input dati, ovvero le probabilità delle due classi"
   ]
  },
  {
   "cell_type": "code",
   "execution_count": 60,
   "metadata": {},
   "outputs": [
    {
     "data": {
      "text/plain": [
       "array([[0.49531594, 0.50468403],\n",
       "       [0.5047541 , 0.49524584],\n",
       "       [0.51403826, 0.4859617 ],\n",
       "       [0.50529   , 0.49471   ],\n",
       "       [0.5093866 , 0.4906134 ]], dtype=float32)"
      ]
     },
     "execution_count": 60,
     "metadata": {},
     "output_type": "execute_result"
    }
   ],
   "source": [
    "model.predict(X_val[:5])"
   ]
  },
  {
   "cell_type": "markdown",
   "metadata": {},
   "source": [
    "- Per ottenere direttamente le classi predette (le più probabili), possiamo usare il metodo `predict_classes`"
   ]
  },
  {
   "cell_type": "code",
   "execution_count": 61,
   "metadata": {},
   "outputs": [
    {
     "data": {
      "text/plain": [
       "array([1, 0, 0, 0, 0])"
      ]
     },
     "execution_count": 61,
     "metadata": {},
     "output_type": "execute_result"
    }
   ],
   "source": [
    "model.predict_classes(X_val[:5])"
   ]
  },
  {
   "cell_type": "markdown",
   "metadata": {},
   "source": [
    "- Con `evaluate` calcoliamo tutte le misure indicate in `compile`, ovvero la cross entropy e l'accuratezza"
   ]
  },
  {
   "cell_type": "code",
   "execution_count": 62,
   "metadata": {},
   "outputs": [
    {
     "name": "stdout",
     "output_type": "stream",
     "text": [
      "1000/1000 [==============================] - 0s 120us/step\n"
     ]
    },
    {
     "data": {
      "text/plain": [
       "[0.6931456561088563, 0.508]"
      ]
     },
     "execution_count": 62,
     "metadata": {},
     "output_type": "execute_result"
    }
   ],
   "source": [
    "model.evaluate(X_val, yt_val)"
   ]
  },
  {
   "cell_type": "markdown",
   "metadata": {},
   "source": [
    "- L'accuratezza (il secondo valore) è intorno al 50\\% perché il modello con nodi lineari non è in grado di creare suddivisioni non lineari dello spazio"
   ]
  },
  {
   "cell_type": "code",
   "execution_count": 73,
   "metadata": {},
   "outputs": [
    {
     "data": {
      "image/png": "[encoded data removed]",
      "text/plain": [
       "<Figure size 432x288 with 1 Axes>"
      ]
     },
     "metadata": {
      "needs_background": "light"
     },
     "output_type": "display_data"
    }
   ],
   "source": [
    "plot_class_model(X_val, y_val, model.predict)"
   ]
  },
  {
   "cell_type": "markdown",
   "metadata": {},
   "source": [
    "- Cosa succede introducendo non linearità? Utilizziamo la funzione ReLU nello strato nascosto"
   ]
  },
  {
   "cell_type": "code",
   "execution_count": 74,
   "metadata": {},
   "outputs": [],
   "source": [
    "model = Sequential([\n",
    "    Dense(6, activation=\"relu\", input_dim=2),\n",
    "    Dense(2, activation=\"softmax\")\n",
    "])"
   ]
  },
  {
   "cell_type": "code",
   "execution_count": 75,
   "metadata": {},
   "outputs": [],
   "source": [
    "model.compile(optimizer=\"adam\", loss=\"categorical_crossentropy\", metrics=[\"accuracy\"])"
   ]
  },
  {
   "cell_type": "code",
   "execution_count": 76,
   "metadata": {},
   "outputs": [
    {
     "name": "stdout",
     "output_type": "stream",
     "text": [
      "Epoch 1/10\n",
      "1000/1000 [==============================] - 1s 734us/step - loss: 0.7598 - acc: 0.4830\n",
      "Epoch 2/10\n",
      "1000/1000 [==============================] - 0s 243us/step - loss: 0.7244 - acc: 0.4070\n",
      "Epoch 3/10\n",
      "1000/1000 [==============================] - 0s 200us/step - loss: 0.7039 - acc: 0.4450\n",
      "Epoch 4/10\n",
      "1000/1000 [==============================] - 0s 205us/step - loss: 0.6878 - acc: 0.4530\n",
      "Epoch 5/10\n",
      "1000/1000 [==============================] - 0s 203us/step - loss: 0.6734 - acc: 0.4870\n",
      "Epoch 6/10\n",
      "1000/1000 [==============================] - 0s 252us/step - loss: 0.6595 - acc: 0.5300\n",
      "Epoch 7/10\n",
      "1000/1000 [==============================] - 0s 188us/step - loss: 0.6454 - acc: 0.5710\n",
      "Epoch 8/10\n",
      "1000/1000 [==============================] - 0s 218us/step - loss: 0.6304 - acc: 0.6070\n",
      "Epoch 9/10\n",
      "1000/1000 [==============================] - 0s 225us/step - loss: 0.6133 - acc: 0.7060\n",
      "Epoch 10/10\n",
      "1000/1000 [==============================] - 0s 221us/step - loss: 0.5932 - acc: 0.7710\n"
     ]
    }
   ],
   "source": [
    "fit_history = model.fit(X_train, yt_train, batch_size=10, epochs=10)"
   ]
  },
  {
   "cell_type": "markdown",
   "metadata": {},
   "source": [
    "- Si può notare che questa volta l'addestramento ha dato risultati"
   ]
  },
  {
   "cell_type": "code",
   "execution_count": 77,
   "metadata": {},
   "outputs": [
    {
     "data": {
      "image/png": "[encoded data removed]",
      "text/plain": [
       "<Figure size 432x288 with 1 Axes>"
      ]
     },
     "metadata": {
      "needs_background": "light"
     },
     "output_type": "display_data"
    }
   ],
   "source": [
    "plt.plot(fit_history.history[\"loss\"], \"ro-\")\n",
    "plt.plot(fit_history.history[\"acc\"], \"bo-\")\n",
    "plt.legend([\"Loss\", \"Accuracy\"])\n",
    "plt.xlabel(\"Epochs\");"
   ]
  },
  {
   "cell_type": "code",
   "execution_count": 78,
   "metadata": {},
   "outputs": [
    {
     "name": "stdout",
     "output_type": "stream",
     "text": [
      "1000/1000 [==============================] - 0s 156us/step\n"
     ]
    },
    {
     "data": {
      "text/plain": [
       "[0.5843190402984619, 0.796]"
      ]
     },
     "execution_count": 78,
     "metadata": {},
     "output_type": "execute_result"
    }
   ],
   "source": [
    "model.evaluate(X_val, yt_val)"
   ]
  },
  {
   "cell_type": "markdown",
   "metadata": {},
   "source": [
    "- Il modello è ora più accurato"
   ]
  },
  {
   "cell_type": "code",
   "execution_count": 79,
   "metadata": {},
   "outputs": [
    {
     "data": {
      "image/png": "[encoded data removed]",
      "text/plain": [
       "<Figure size 432x288 with 1 Axes>"
      ]
     },
     "metadata": {
      "needs_background": "light"
     },
     "output_type": "display_data"
    }
   ],
   "source": [
    "plot_class_model(X_val, y_val, model.predict)"
   ]
  },
  {
   "cell_type": "markdown",
   "metadata": {},
   "source": [
    "- Possiamo aumentare l'espressività e quindi l'accuratezza del modello aumentando i nodi"
   ]
  },
  {
   "cell_type": "code",
   "execution_count": 64,
   "metadata": {},
   "outputs": [],
   "source": [
    "model = Sequential([\n",
    "    Dense(32, activation=\"relu\", input_dim=2),\n",
    "    Dense(2, activation=\"softmax\")\n",
    "])"
   ]
  },
  {
   "cell_type": "code",
   "execution_count": 65,
   "metadata": {},
   "outputs": [],
   "source": [
    "model.compile(optimizer=\"adam\", loss=\"categorical_crossentropy\", metrics=[\"accuracy\"])"
   ]
  },
  {
   "cell_type": "code",
   "execution_count": 66,
   "metadata": {},
   "outputs": [
    {
     "name": "stdout",
     "output_type": "stream",
     "text": [
      "Epoch 1/10\n",
      "1000/1000 [==============================] - 1s 594us/step - loss: 0.6713 - acc: 0.4980\n",
      "Epoch 2/10\n",
      "1000/1000 [==============================] - 0s 153us/step - loss: 0.6231 - acc: 0.6150\n",
      "Epoch 3/10\n",
      "1000/1000 [==============================] - 0s 175us/step - loss: 0.5778 - acc: 0.8370\n",
      "Epoch 4/10\n",
      "1000/1000 [==============================] - 0s 171us/step - loss: 0.5318 - acc: 0.9160\n",
      "Epoch 5/10\n",
      "1000/1000 [==============================] - 0s 154us/step - loss: 0.4846 - acc: 0.9510\n",
      "Epoch 6/10\n",
      "1000/1000 [==============================] - 0s 174us/step - loss: 0.4363 - acc: 0.9740\n",
      "Epoch 7/10\n",
      "1000/1000 [==============================] - 0s 155us/step - loss: 0.3900 - acc: 0.9800\n",
      "Epoch 8/10\n",
      "1000/1000 [==============================] - 0s 196us/step - loss: 0.3456 - acc: 0.9820\n",
      "Epoch 9/10\n",
      "1000/1000 [==============================] - 0s 172us/step - loss: 0.3057 - acc: 0.9840\n",
      "Epoch 10/10\n",
      "1000/1000 [==============================] - 0s 188us/step - loss: 0.2710 - acc: 0.9840\n"
     ]
    }
   ],
   "source": [
    "fit_history = model.fit(X_train, yt_train, batch_size=10, epochs=10)"
   ]
  },
  {
   "cell_type": "markdown",
   "metadata": {},
   "source": [
    "- Si noti quanto l'accuratezza sul training set raggiunge rapidamente livelli più alti"
   ]
  },
  {
   "cell_type": "code",
   "execution_count": 67,
   "metadata": {},
   "outputs": [
    {
     "data": {
      "image/png": "[encoded data removed]",
      "text/plain": [
       "<Figure size 432x288 with 1 Axes>"
      ]
     },
     "metadata": {
      "needs_background": "light"
     },
     "output_type": "display_data"
    }
   ],
   "source": [
    "plt.plot(fit_history.history[\"loss\"], \"ro-\")\n",
    "plt.plot(fit_history.history[\"acc\"], \"bo-\")\n",
    "plt.legend([\"Loss\", \"Accuracy\"])\n",
    "plt.xlabel(\"Epochs\");"
   ]
  },
  {
   "cell_type": "code",
   "execution_count": 68,
   "metadata": {},
   "outputs": [
    {
     "name": "stdout",
     "output_type": "stream",
     "text": [
      "1000/1000 [==============================] - 0s 120us/step\n"
     ]
    },
    {
     "data": {
      "text/plain": [
       "[0.2536977386474609, 0.989]"
      ]
     },
     "execution_count": 68,
     "metadata": {},
     "output_type": "execute_result"
    }
   ],
   "source": [
    "model.evaluate(X_val, yt_val)"
   ]
  },
  {
   "cell_type": "code",
   "execution_count": 69,
   "metadata": {},
   "outputs": [
    {
     "data": {
      "image/png": "[encoded data removed]",
      "text/plain": [
       "<Figure size 432x288 with 1 Axes>"
      ]
     },
     "metadata": {
      "needs_background": "light"
     },
     "output_type": "display_data"
    }
   ],
   "source": [
    "plot_class_model(X_val, y_val, model.predict)"
   ]
  },
  {
   "cell_type": "markdown",
   "metadata": {},
   "source": [
    "- Abbiamo così ottenuto un classificatore accurato **senza definire manualmente nuove variabili**, ma lasciando che sia lo strato nascosto della rete ad apprendere una rappresentazione adeguata dei dati!"
   ]
  },
  {
   "cell_type": "markdown",
   "metadata": {},
   "source": [
    "## Caso di Studio 1: Predizione Vendite\n",
    "\n",
    "- I negozi sono interessati a prevedere quanto più accuratamente possibile le vendite giornaliere\n",
    "  - per ottimizzare le scorte di magazzino, il personale da impiegare, ecc.\n",
    "- Le vendite sono influenzate da diversi fattori\n",
    "  - giorno della settimana, festività, promozioni, ...\n",
    "- In questo caso di studio analizziamo dati relativi a più di 1.000 negozi della catena europea Rossmann\n",
    "- La predizione su questi dati è stata oggetto di una competizione su Kaggle: https://www.kaggle.com/c/rossmann-store-sales\n",
    "  - i dati che forniamo sono versioni già parzialmente preprocessate di quelli originali su Kaggle"
   ]
  },
  {
   "cell_type": "markdown",
   "metadata": {},
   "source": [
    "## Dataset\n",
    "\n",
    "- I dati sono forniti divisi in due file, per addestramento e validazione"
   ]
  },
  {
   "cell_type": "code",
   "execution_count": 82,
   "metadata": {},
   "outputs": [],
   "source": [
    "#download(\"rossmann_train.csv.gz\", \"\")\n",
    "#download(\"rossmann_valid.csv.gz\", \"\")"
   ]
  },
  {
   "cell_type": "markdown",
   "metadata": {},
   "source": [
    "- Carichiamo i due file e vediamone la quantità di osservazioni"
   ]
  },
  {
   "cell_type": "code",
   "execution_count": 80,
   "metadata": {},
   "outputs": [],
   "source": [
    "data_train = pd.read_csv(\"rossmann_train.csv.gz\", parse_dates=[\"Date\"], compression=\"gzip\")"
   ]
  },
  {
   "cell_type": "code",
   "execution_count": 81,
   "metadata": {},
   "outputs": [],
   "source": [
    "data_valid = pd.read_csv(\"rossmann_valid.csv.gz\", parse_dates=[\"Date\"], compression=\"gzip\")"
   ]
  },
  {
   "cell_type": "code",
   "execution_count": 83,
   "metadata": {},
   "outputs": [
    {
     "data": {
      "text/plain": [
       "(804056, 40282)"
      ]
     },
     "execution_count": 83,
     "metadata": {},
     "output_type": "execute_result"
    }
   ],
   "source": [
    "len(data_train), len(data_valid)"
   ]
  },
  {
   "cell_type": "code",
   "execution_count": 84,
   "metadata": {},
   "outputs": [
    {
     "data": {
      "text/html": [
       "<div>\n",
       "<style scoped>\n",
       "    .dataframe tbody tr th:only-of-type {\n",
       "        vertical-align: middle;\n",
       "    }\n",
       "\n",
       "    .dataframe tbody tr th {\n",
       "        vertical-align: top;\n",
       "    }\n",
       "\n",
       "    .dataframe thead th {\n",
       "        text-align: right;\n",
       "    }\n",
       "</style>\n",
       "<table border=\"1\" class=\"dataframe\">\n",
       "  <thead>\n",
       "    <tr style=\"text-align: right;\">\n",
       "      <th></th>\n",
       "      <th>Store</th>\n",
       "      <th>Date</th>\n",
       "      <th>Promo</th>\n",
       "      <th>StateHoliday</th>\n",
       "      <th>SchoolHoliday</th>\n",
       "      <th>StoreType</th>\n",
       "      <th>Assortment</th>\n",
       "      <th>CompetitionDistance</th>\n",
       "      <th>CompetitionOpenSinceMonth</th>\n",
       "      <th>CompetitionOpenSinceYear</th>\n",
       "      <th>Promo2</th>\n",
       "      <th>Promo2SinceWeek</th>\n",
       "      <th>Promo2SinceYear</th>\n",
       "      <th>CompetitionOpen</th>\n",
       "      <th>PromoOpen</th>\n",
       "      <th>IsPromoMonth</th>\n",
       "      <th>Customers</th>\n",
       "      <th>Sales</th>\n",
       "    </tr>\n",
       "  </thead>\n",
       "  <tbody>\n",
       "    <tr>\n",
       "      <th>0</th>\n",
       "      <td>314</td>\n",
       "      <td>2015-06-19</td>\n",
       "      <td>1</td>\n",
       "      <td>0</td>\n",
       "      <td>0</td>\n",
       "      <td>1</td>\n",
       "      <td>1</td>\n",
       "      <td>3560.0</td>\n",
       "      <td>10.0</td>\n",
       "      <td>2001.0</td>\n",
       "      <td>1</td>\n",
       "      <td>31.0</td>\n",
       "      <td>2013.0</td>\n",
       "      <td>164.0</td>\n",
       "      <td>22.50</td>\n",
       "      <td>0</td>\n",
       "      <td>562</td>\n",
       "      <td>5032</td>\n",
       "    </tr>\n",
       "    <tr>\n",
       "      <th>1</th>\n",
       "      <td>458</td>\n",
       "      <td>2015-06-19</td>\n",
       "      <td>1</td>\n",
       "      <td>0</td>\n",
       "      <td>0</td>\n",
       "      <td>3</td>\n",
       "      <td>1</td>\n",
       "      <td>3390.0</td>\n",
       "      <td>0.0</td>\n",
       "      <td>0.0</td>\n",
       "      <td>0</td>\n",
       "      <td>0.0</td>\n",
       "      <td>0.0</td>\n",
       "      <td>24186.0</td>\n",
       "      <td>24186.25</td>\n",
       "      <td>0</td>\n",
       "      <td>688</td>\n",
       "      <td>7362</td>\n",
       "    </tr>\n",
       "    <tr>\n",
       "      <th>2</th>\n",
       "      <td>961</td>\n",
       "      <td>2015-06-19</td>\n",
       "      <td>1</td>\n",
       "      <td>0</td>\n",
       "      <td>0</td>\n",
       "      <td>4</td>\n",
       "      <td>3</td>\n",
       "      <td>9430.0</td>\n",
       "      <td>0.0</td>\n",
       "      <td>0.0</td>\n",
       "      <td>0</td>\n",
       "      <td>0.0</td>\n",
       "      <td>0.0</td>\n",
       "      <td>24186.0</td>\n",
       "      <td>24186.25</td>\n",
       "      <td>0</td>\n",
       "      <td>768</td>\n",
       "      <td>7764</td>\n",
       "    </tr>\n",
       "    <tr>\n",
       "      <th>3</th>\n",
       "      <td>132</td>\n",
       "      <td>2015-06-19</td>\n",
       "      <td>1</td>\n",
       "      <td>0</td>\n",
       "      <td>0</td>\n",
       "      <td>4</td>\n",
       "      <td>3</td>\n",
       "      <td>1040.0</td>\n",
       "      <td>0.0</td>\n",
       "      <td>0.0</td>\n",
       "      <td>1</td>\n",
       "      <td>27.0</td>\n",
       "      <td>2012.0</td>\n",
       "      <td>24186.0</td>\n",
       "      <td>35.50</td>\n",
       "      <td>0</td>\n",
       "      <td>692</td>\n",
       "      <td>7964</td>\n",
       "    </tr>\n",
       "  </tbody>\n",
       "</table>\n",
       "</div>"
      ],
      "text/plain": [
       "   Store       Date  Promo  StateHoliday  SchoolHoliday  StoreType  \\\n",
       "0    314 2015-06-19      1             0              0          1   \n",
       "1    458 2015-06-19      1             0              0          3   \n",
       "2    961 2015-06-19      1             0              0          4   \n",
       "3    132 2015-06-19      1             0              0          4   \n",
       "\n",
       "   Assortment  CompetitionDistance  CompetitionOpenSinceMonth  \\\n",
       "0           1               3560.0                       10.0   \n",
       "1           1               3390.0                        0.0   \n",
       "2           3               9430.0                        0.0   \n",
       "3           3               1040.0                        0.0   \n",
       "\n",
       "   CompetitionOpenSinceYear  Promo2  Promo2SinceWeek  Promo2SinceYear  \\\n",
       "0                    2001.0       1             31.0           2013.0   \n",
       "1                       0.0       0              0.0              0.0   \n",
       "2                       0.0       0              0.0              0.0   \n",
       "3                       0.0       1             27.0           2012.0   \n",
       "\n",
       "   CompetitionOpen  PromoOpen  IsPromoMonth  Customers  Sales  \n",
       "0            164.0      22.50             0        562   5032  \n",
       "1          24186.0   24186.25             0        688   7362  \n",
       "2          24186.0   24186.25             0        768   7764  \n",
       "3          24186.0      35.50             0        692   7964  "
      ]
     },
     "execution_count": 84,
     "metadata": {},
     "output_type": "execute_result"
    }
   ],
   "source": [
    "data_train.head(4)"
   ]
  },
  {
   "cell_type": "code",
   "execution_count": 85,
   "metadata": {},
   "outputs": [
    {
     "data": {
      "text/html": [
       "<div>\n",
       "<style scoped>\n",
       "    .dataframe tbody tr th:only-of-type {\n",
       "        vertical-align: middle;\n",
       "    }\n",
       "\n",
       "    .dataframe tbody tr th {\n",
       "        vertical-align: top;\n",
       "    }\n",
       "\n",
       "    .dataframe thead th {\n",
       "        text-align: right;\n",
       "    }\n",
       "</style>\n",
       "<table border=\"1\" class=\"dataframe\">\n",
       "  <thead>\n",
       "    <tr style=\"text-align: right;\">\n",
       "      <th></th>\n",
       "      <th>Store</th>\n",
       "      <th>Date</th>\n",
       "      <th>Promo</th>\n",
       "      <th>StateHoliday</th>\n",
       "      <th>SchoolHoliday</th>\n",
       "      <th>StoreType</th>\n",
       "      <th>Assortment</th>\n",
       "      <th>CompetitionDistance</th>\n",
       "      <th>CompetitionOpenSinceMonth</th>\n",
       "      <th>CompetitionOpenSinceYear</th>\n",
       "      <th>Promo2</th>\n",
       "      <th>Promo2SinceWeek</th>\n",
       "      <th>Promo2SinceYear</th>\n",
       "      <th>CompetitionOpen</th>\n",
       "      <th>PromoOpen</th>\n",
       "      <th>IsPromoMonth</th>\n",
       "      <th>Customers</th>\n",
       "      <th>Sales</th>\n",
       "    </tr>\n",
       "  </thead>\n",
       "  <tbody>\n",
       "    <tr>\n",
       "      <th>0</th>\n",
       "      <td>1</td>\n",
       "      <td>2015-07-31</td>\n",
       "      <td>1</td>\n",
       "      <td>0</td>\n",
       "      <td>1</td>\n",
       "      <td>3</td>\n",
       "      <td>1</td>\n",
       "      <td>1270.0</td>\n",
       "      <td>9.0</td>\n",
       "      <td>2008.0</td>\n",
       "      <td>0</td>\n",
       "      <td>0.0</td>\n",
       "      <td>0.0</td>\n",
       "      <td>82.0</td>\n",
       "      <td>24187.75</td>\n",
       "      <td>0</td>\n",
       "      <td>555</td>\n",
       "      <td>5263</td>\n",
       "    </tr>\n",
       "    <tr>\n",
       "      <th>1</th>\n",
       "      <td>747</td>\n",
       "      <td>2015-07-31</td>\n",
       "      <td>1</td>\n",
       "      <td>0</td>\n",
       "      <td>1</td>\n",
       "      <td>3</td>\n",
       "      <td>3</td>\n",
       "      <td>45740.0</td>\n",
       "      <td>8.0</td>\n",
       "      <td>2008.0</td>\n",
       "      <td>0</td>\n",
       "      <td>0.0</td>\n",
       "      <td>0.0</td>\n",
       "      <td>83.0</td>\n",
       "      <td>24187.75</td>\n",
       "      <td>0</td>\n",
       "      <td>826</td>\n",
       "      <td>10708</td>\n",
       "    </tr>\n",
       "    <tr>\n",
       "      <th>2</th>\n",
       "      <td>772</td>\n",
       "      <td>2015-07-31</td>\n",
       "      <td>1</td>\n",
       "      <td>0</td>\n",
       "      <td>1</td>\n",
       "      <td>4</td>\n",
       "      <td>3</td>\n",
       "      <td>1850.0</td>\n",
       "      <td>0.0</td>\n",
       "      <td>0.0</td>\n",
       "      <td>0</td>\n",
       "      <td>0.0</td>\n",
       "      <td>0.0</td>\n",
       "      <td>24187.0</td>\n",
       "      <td>24187.75</td>\n",
       "      <td>0</td>\n",
       "      <td>635</td>\n",
       "      <td>5224</td>\n",
       "    </tr>\n",
       "    <tr>\n",
       "      <th>3</th>\n",
       "      <td>752</td>\n",
       "      <td>2015-07-31</td>\n",
       "      <td>1</td>\n",
       "      <td>0</td>\n",
       "      <td>1</td>\n",
       "      <td>1</td>\n",
       "      <td>1</td>\n",
       "      <td>970.0</td>\n",
       "      <td>3.0</td>\n",
       "      <td>2013.0</td>\n",
       "      <td>1</td>\n",
       "      <td>31.0</td>\n",
       "      <td>2013.0</td>\n",
       "      <td>28.0</td>\n",
       "      <td>24.00</td>\n",
       "      <td>0</td>\n",
       "      <td>565</td>\n",
       "      <td>7763</td>\n",
       "    </tr>\n",
       "  </tbody>\n",
       "</table>\n",
       "</div>"
      ],
      "text/plain": [
       "   Store       Date  Promo  StateHoliday  SchoolHoliday  StoreType  \\\n",
       "0      1 2015-07-31      1             0              1          3   \n",
       "1    747 2015-07-31      1             0              1          3   \n",
       "2    772 2015-07-31      1             0              1          4   \n",
       "3    752 2015-07-31      1             0              1          1   \n",
       "\n",
       "   Assortment  CompetitionDistance  CompetitionOpenSinceMonth  \\\n",
       "0           1               1270.0                        9.0   \n",
       "1           3              45740.0                        8.0   \n",
       "2           3               1850.0                        0.0   \n",
       "3           1                970.0                        3.0   \n",
       "\n",
       "   CompetitionOpenSinceYear  Promo2  Promo2SinceWeek  Promo2SinceYear  \\\n",
       "0                    2008.0       0              0.0              0.0   \n",
       "1                    2008.0       0              0.0              0.0   \n",
       "2                       0.0       0              0.0              0.0   \n",
       "3                    2013.0       1             31.0           2013.0   \n",
       "\n",
       "   CompetitionOpen  PromoOpen  IsPromoMonth  Customers  Sales  \n",
       "0             82.0   24187.75             0        555   5263  \n",
       "1             83.0   24187.75             0        826  10708  \n",
       "2          24187.0   24187.75             0        635   5224  \n",
       "3             28.0      24.00             0        565   7763  "
      ]
     },
     "execution_count": 85,
     "metadata": {},
     "output_type": "execute_result"
    }
   ],
   "source": [
    "data_valid.head(4)"
   ]
  },
  {
   "cell_type": "markdown",
   "metadata": {},
   "source": [
    "## Descrizione variabili\n",
    "\n",
    "- Ogni riga è un'osservazione relativa ad un singolo negozio in una certa data, indicati dalle colonne `Store` e `Date`\n",
    "- Le ultime due colonne `Customers` and `Sales` indicano rispettivamente il numero di clienti e il ricavo totale delle vendite per quel giorno in quel negozio\n",
    "- Le altre colonne riportano informazioni note a priori relative a negozio e giorno\n",
    "  - applicazione di promozioni\n",
    "  - festività\n",
    "  - tipologia di negozio\n",
    "  - distanza da negozi concorrenti\n",
    "- L'obiettivo è prevedere da queste informazioni il ricavo totale (`Sales`)"
   ]
  },
  {
   "cell_type": "markdown",
   "metadata": {},
   "source": [
    "- Il ricavo totale `Sales` è ovviamente strettamente proporzionale al numero di clienti `Customers`\n",
    "  - selezioniamo con `sample(N)` un numero limitato di campioni casuali per creare il grafico con più efficienza"
   ]
  },
  {
   "cell_type": "code",
   "execution_count": 86,
   "metadata": {},
   "outputs": [
    {
     "data": {
      "text/plain": [
       "<matplotlib.axes._subplots.AxesSubplot at 0x7f90f88b7358>"
      ]
     },
     "execution_count": 86,
     "metadata": {},
     "output_type": "execute_result"
    },
    {
     "data": {
      "image/png": "[encoded data removed]",
      "text/plain": [
       "<Figure size 432x288 with 1 Axes>"
      ]
     },
     "metadata": {
      "needs_background": "light"
     },
     "output_type": "display_data"
    }
   ],
   "source": [
    "data_train.sample(10000).plot.scatter(\"Customers\", \"Sales\")"
   ]
  },
  {
   "cell_type": "markdown",
   "metadata": {},
   "source": [
    "- Non possiamo però usare la variabile `Customers` per la predizione, in quanto informazione non nota ad inizio giornata"
   ]
  },
  {
   "cell_type": "markdown",
   "metadata": {},
   "source": [
    "- Dai dati vogliamo quindi rimuovere la colonna `Customers` (oltre a `Sales`) per avere le effettive variabili predittive\n",
    "- D'altra parte, possiamo aggiungere feature potenzialmente utili scomponendo la data (`Date`) nei suoi componenti (giorno, mese, giorno della settimana, ...)\n",
    "- Definiamo una funzione `process_rossmann` che applica le dovute trasformazioni ai dati passati e ricava le variabili predittive X e gli output attesi y"
   ]
  },
  {
   "cell_type": "code",
   "execution_count": 87,
   "metadata": {},
   "outputs": [],
   "source": [
    "def process_rossmann(data):\n",
    "    # crea una copia del DataFrame eliminando alcune colonne\n",
    "    X = data.drop([\"Date\", \"Customers\", \"Sales\"], axis=1).copy()\n",
    "    # aggiungi colonne derivate dalla data\n",
    "    X[\"Day\"] = data[\"Date\"].dt.day\n",
    "    X[\"Month\"] = data[\"Date\"].dt.month\n",
    "    X[\"WeekOfYear\"] = data[\"Date\"].dt.weekofyear\n",
    "    # estrai colonna da predire (Sales)\n",
    "    y = data[\"Sales\"]\n",
    "    return X, y"
   ]
  },
  {
   "cell_type": "markdown",
   "metadata": {},
   "source": [
    "- Applichiamo tale funzione sui due set di dati"
   ]
  },
  {
   "cell_type": "code",
   "execution_count": 88,
   "metadata": {},
   "outputs": [],
   "source": [
    "X_train, y_train = process_rossmann(data_train)\n",
    "X_val, y_val = process_rossmann(data_valid)"
   ]
  },
  {
   "cell_type": "markdown",
   "metadata": {},
   "source": [
    "- Eseguiamo come prima la standardizzazione delle variabili"
   ]
  },
  {
   "cell_type": "code",
   "execution_count": 89,
   "metadata": {},
   "outputs": [],
   "source": [
    "scaler_X = StandardScaler()\n",
    "X_train = scaler_X.fit_transform(X_train)\n",
    "X_val = scaler_X.transform(X_val)\n",
    "scaler_y = StandardScaler()\n",
    "y_train = scaler_y.fit_transform(y_train[:, None]).ravel()\n",
    "y_val = scaler_y.transform(y_val[:, None]).ravel()"
   ]
  },
  {
   "cell_type": "markdown",
   "metadata": {},
   "source": [
    "- Testiamo come baseline un modello di regressione lineare"
   ]
  },
  {
   "cell_type": "code",
   "execution_count": 90,
   "metadata": {},
   "outputs": [],
   "source": [
    "from sklearn.linear_model import LinearRegression\n",
    "model = LinearRegression()\n",
    "model.fit(X_train, y_train);"
   ]
  },
  {
   "cell_type": "markdown",
   "metadata": {},
   "source": [
    "- Con `score` calcoliamo l'accuratezza calcolata col coefficiente R²"
   ]
  },
  {
   "cell_type": "code",
   "execution_count": 91,
   "metadata": {},
   "outputs": [
    {
     "data": {
      "text/plain": [
       "0.20375602665270454"
      ]
     },
     "execution_count": 91,
     "metadata": {},
     "output_type": "execute_result"
    }
   ],
   "source": [
    "model.score(X_val, y_val)"
   ]
  },
  {
   "cell_type": "markdown",
   "metadata": {},
   "source": [
    "- Nella competizione Kaggle viene usata come misura di riferimento il _Root Mean Squared Percentage Error_ (RMSPE)\n",
    "- Definiamo una funzione `rmspe` per calcolare tale metrica dati i valori attesi e le predizioni, avendo cura di riportare i valori standardizzati nella scala originale"
   ]
  },
  {
   "cell_type": "code",
   "execution_count": 94,
   "metadata": {},
   "outputs": [],
   "source": [
    "def rmspe(y_real, y_pred):\n",
    "    y_real = scaler_y.inverse_transform(y_real)\n",
    "    y_pred = scaler_y.inverse_transform(y_pred)\n",
    "    return np.sqrt(np.mean((y_pred/y_real-1) ** 2))"
   ]
  },
  {
   "cell_type": "markdown",
   "metadata": {},
   "source": [
    "- Il modello di regressione lineare ottiene un RMSPE pari a..."
   ]
  },
  {
   "cell_type": "code",
   "execution_count": 96,
   "metadata": {},
   "outputs": [
    {
     "data": {
      "text/plain": [
       "0.516754725892877"
      ]
     },
     "execution_count": 96,
     "metadata": {},
     "output_type": "execute_result"
    }
   ],
   "source": [
    "rmspe(y_val, model.predict(X_val))"
   ]
  },
  {
   "cell_type": "markdown",
   "metadata": {},
   "source": [
    "- Possiamo ottenere RMSPE migliori (inferiori) con modelli più complessi, ad es. con variabili di secondo grado e regolarizzazione..."
   ]
  },
  {
   "cell_type": "code",
   "execution_count": 97,
   "metadata": {},
   "outputs": [
    {
     "data": {
      "text/plain": [
       "0.4669650779318057"
      ]
     },
     "execution_count": 97,
     "metadata": {},
     "output_type": "execute_result"
    }
   ],
   "source": [
    "from sklearn.linear_model import Ridge\n",
    "model = Pipeline([\n",
    "    (\"poly\",  PolynomialFeatures(degree=2, include_bias=False)),\n",
    "    (\"model\", Ridge(alpha=0.01))\n",
    "])\n",
    "model.fit(X_train, y_train)\n",
    "rmspe(y_val, model.predict(X_val))"
   ]
  },
  {
   "cell_type": "markdown",
   "metadata": {},
   "source": [
    "- Vediamo i risultati ottenibili con reti neurali\n",
    "- Iniziamo da una rete con un singolo strato nascosto con attivazione ReLU\n",
    "- Per la dimensione dell'input leggiamo direttamente il numero di colonne di X"
   ]
  },
  {
   "cell_type": "code",
   "execution_count": 98,
   "metadata": {},
   "outputs": [],
   "source": [
    "model = Sequential([\n",
    "    Dense(128, activation=\"relu\", input_dim=X_train.shape[1]),\n",
    "    Dense(1)\n",
    "])\n",
    "model.compile(optimizer=\"adam\", loss=\"mean_squared_error\")"
   ]
  },
  {
   "cell_type": "code",
   "execution_count": 99,
   "metadata": {},
   "outputs": [
    {
     "name": "stdout",
     "output_type": "stream",
     "text": [
      "Epoch 1/5\n",
      "804056/804056 [==============================] - 19s 23us/step - loss: 0.7297\n",
      "Epoch 2/5\n",
      "804056/804056 [==============================] - 17s 21us/step - loss: 0.6302\n",
      "Epoch 3/5\n",
      "804056/804056 [==============================] - 16s 20us/step - loss: 0.5723\n",
      "Epoch 4/5\n",
      "804056/804056 [==============================] - 16s 20us/step - loss: 0.5380\n",
      "Epoch 5/5\n",
      "804056/804056 [==============================] - 16s 20us/step - loss: 0.5137\n"
     ]
    },
    {
     "data": {
      "text/plain": [
       "<keras.callbacks.History at 0x7f90f87e0438>"
      ]
     },
     "execution_count": 99,
     "metadata": {},
     "output_type": "execute_result"
    }
   ],
   "source": [
    "model.fit(X_train, y_train, batch_size=100, epochs=5)"
   ]
  },
  {
   "cell_type": "markdown",
   "metadata": {},
   "source": [
    "- Dati dei valori in input, con `predict` otteniamo i valori predetti (normalizzati)"
   ]
  },
  {
   "cell_type": "code",
   "execution_count": 100,
   "metadata": {},
   "outputs": [
    {
     "data": {
      "text/plain": [
       "array([[0.30510306],\n",
       "       [1.6205136 ],\n",
       "       [0.44883412],\n",
       "       [0.14193928],\n",
       "       [1.0326706 ]], dtype=float32)"
      ]
     },
     "execution_count": 100,
     "metadata": {},
     "output_type": "execute_result"
    }
   ],
   "source": [
    "model.predict(X_val[:5])"
   ]
  },
  {
   "cell_type": "markdown",
   "metadata": {},
   "source": [
    "- Calcoliamo l'RMSPE dalle predizioni come visto sopra"
   ]
  },
  {
   "cell_type": "code",
   "execution_count": 214,
   "metadata": {},
   "outputs": [
    {
     "data": {
      "text/plain": [
       "0.4455253080056343"
      ]
     },
     "execution_count": 214,
     "metadata": {},
     "output_type": "execute_result"
    }
   ],
   "source": [
    "rmspe(y_val, model.predict(X_val).ravel())"
   ]
  },
  {
   "cell_type": "markdown",
   "metadata": {},
   "source": [
    "- Testiamo ora una rete con 3 strati nascosti con diversi numeri di nodi\n",
    "  - ogni strato idealmente corrisponde ad una rappresentazione diversa dell'input"
   ]
  },
  {
   "cell_type": "code",
   "execution_count": 216,
   "metadata": {},
   "outputs": [],
   "source": [
    "model = Sequential([\n",
    "    Dense(512, activation=\"relu\", input_dim=X_train.shape[1]),\n",
    "    Dense(128, activation=\"relu\"),\n",
    "    Dense(32, activation=\"relu\"),\n",
    "    Dense(1)\n",
    "])\n",
    "model.compile(optimizer=\"adam\", loss=\"mean_squared_error\")"
   ]
  },
  {
   "cell_type": "code",
   "execution_count": 217,
   "metadata": {},
   "outputs": [
    {
     "name": "stdout",
     "output_type": "stream",
     "text": [
      "Epoch 1/5\n",
      "804056/804056 [==============================] - 41s 50us/step - loss: 8215044.6104\n",
      "Epoch 2/5\n",
      "  4000/804056 [..............................] - ETA: 2:22 - loss: 7170769.7875"
     ]
    },
    {
     "name": "stderr",
     "output_type": "stream",
     "text": [
      "/home/rrobby/software/miniconda3/envs/dltutorial/lib/python3.6/site-packages/keras/callbacks.py:122: UserWarning: Method on_batch_end() is slow compared to the batch update (0.122671). Check your callbacks.\n",
      "  % delta_t_median)\n"
     ]
    },
    {
     "name": "stdout",
     "output_type": "stream",
     "text": [
      "804056/804056 [==============================] - 29s 37us/step - loss: 7227164.9599\n",
      "Epoch 3/5\n",
      "804056/804056 [==============================] - 32s 40us/step - loss: 6459173.9449\n",
      "Epoch 4/5\n",
      "804056/804056 [==============================] - 33s 41us/step - loss: 5459950.7382\n",
      "Epoch 5/5\n",
      "804056/804056 [==============================] - 31s 38us/step - loss: 4790268.3135\n"
     ]
    },
    {
     "data": {
      "text/plain": [
       "<keras.callbacks.History at 0x7f58845aea90>"
      ]
     },
     "execution_count": 217,
     "metadata": {},
     "output_type": "execute_result"
    }
   ],
   "source": [
    "model.fit(X_train, y_train, batch_size=100, epochs=5)"
   ]
  },
  {
   "cell_type": "code",
   "execution_count": 218,
   "metadata": {},
   "outputs": [
    {
     "data": {
      "text/plain": [
       "0.34077464568102056"
      ]
     },
     "execution_count": 218,
     "metadata": {},
     "output_type": "execute_result"
    }
   ],
   "source": [
    "rmspe(y_val, model.predict(X_val).ravel())"
   ]
  },
  {
   "cell_type": "markdown",
   "metadata": {},
   "source": [
    "- Siamo così riusciti a migliorare il RMSPE rispetto ai modelli di regressione semplici\n",
    "  - I risultati sono ulteriormente migliorabili aumentando le epoche di addestramento"
   ]
  },
  {
   "cell_type": "markdown",
   "metadata": {},
   "source": [
    "## Regolarizzazione\n",
    "\n",
    "- Nelle reti neurali si possono introdurre diversi accorgimenti per evitare l'overfitting\n",
    "- Come in altri modelli, possiamo utilizzare la regolarizzazione per evitare che i parametri del modello assumano valori elevati\n",
    "- I tipi di regolarizzazione applicabili sono `l2` (ridge), `l1` (lasso) o entrambe (elastic net)\n",
    "- La regolarizzazione può essere applicata sui pesi (_kernel_), sui bias e/o sull'output della funzione di attivazione (_activity_)\n",
    "- Nell'esempio seguente riprendiamo la rete con un singolo strato nascosto applicando la regolarizzazione L2 ai pesi"
   ]
  },
  {
   "cell_type": "code",
   "execution_count": 113,
   "metadata": {},
   "outputs": [],
   "source": [
    "from keras.regularizers import l2\n",
    "model = Sequential([\n",
    "    Dense(512, activation=\"relu\", kernel_regularizer=l2(0.01), input_dim=X_train.shape[1]),\n",
    "    Dense(128, activation=\"relu\", kernel_regularizer=l2(0.01)),\n",
    "    Dense(32, activation=\"relu\"),\n",
    "    Dense(1)\n",
    "])\n",
    "model.compile(optimizer=\"adam\", loss=\"mean_squared_error\")"
   ]
  },
  {
   "cell_type": "code",
   "execution_count": 114,
   "metadata": {},
   "outputs": [
    {
     "name": "stdout",
     "output_type": "stream",
     "text": [
      "Epoch 1/5\n",
      "804056/804056 [==============================] - 45s 56us/step - loss: 0.7654\n",
      "Epoch 2/5\n",
      "804056/804056 [==============================] - 41s 52us/step - loss: 0.6134\n",
      "Epoch 3/5\n",
      "804056/804056 [==============================] - 40s 50us/step - loss: 0.5707\n",
      "Epoch 4/5\n",
      "804056/804056 [==============================] - 38s 47us/step - loss: 0.5436\n",
      "Epoch 5/5\n",
      "804056/804056 [==============================] - 37s 46us/step - loss: 0.5263\n"
     ]
    },
    {
     "data": {
      "text/plain": [
       "<keras.callbacks.History at 0x7f90f957ca90>"
      ]
     },
     "execution_count": 114,
     "metadata": {},
     "output_type": "execute_result"
    }
   ],
   "source": [
    "model.fit(X_train, y_train, batch_size=100, epochs=5)"
   ]
  },
  {
   "cell_type": "code",
   "execution_count": 115,
   "metadata": {},
   "outputs": [
    {
     "data": {
      "text/plain": [
       "0.3599408290813827"
      ]
     },
     "execution_count": 115,
     "metadata": {},
     "output_type": "execute_result"
    }
   ],
   "source": [
    "rmspe(y_val, model.predict(X_val).ravel())"
   ]
  },
  {
   "cell_type": "markdown",
   "metadata": {},
   "source": [
    "## Dropout\n",
    "\n",
    "- Il _dropout_, applicato nell'addestramento della rete, azzera ad ogni batch alcuni input casuali in uno strato\n",
    "  - in fase di predizione (inferenza) non cambia nulla\n",
    "- In questo modo la rete si addestra su informazioni incomplete, con possibile riduzione dell'overfitting\n",
    "- Per applicarlo introduciamo nella rete uno strato `Dropout`, in cui specifichiamo la frazione di input da azzerare (ad es 10\\%)\n",
    "  - lo strato dropout è \"astratto\", non introduce nuovi nodi o nuovi parametri da addestrare"
   ]
  },
  {
   "cell_type": "code",
   "execution_count": 116,
   "metadata": {},
   "outputs": [
    {
     "name": "stdout",
     "output_type": "stream",
     "text": [
      "WARNING:tensorflow:From /home/pasolini/software/miniconda3/envs/deeplearn/lib/python3.6/site-packages/keras/backend/tensorflow_backend.py:3445: calling dropout (from tensorflow.python.ops.nn_ops) with keep_prob is deprecated and will be removed in a future version.\n",
      "Instructions for updating:\n",
      "Please use `rate` instead of `keep_prob`. Rate should be set to `rate = 1 - keep_prob`.\n"
     ]
    }
   ],
   "source": [
    "from keras.layers import Dropout\n",
    "model = Sequential([\n",
    "    Dense(512, activation=\"relu\", input_dim=X_train.shape[1]),\n",
    "    Dropout(0.1),\n",
    "    Dense(128, activation=\"relu\"),\n",
    "    Dense(32, activation=\"relu\"),\n",
    "    Dense(1)\n",
    "])\n",
    "model.compile(optimizer=\"adam\", loss=\"mean_squared_error\")"
   ]
  },
  {
   "cell_type": "code",
   "execution_count": 117,
   "metadata": {},
   "outputs": [
    {
     "name": "stdout",
     "output_type": "stream",
     "text": [
      "Epoch 1/5\n",
      "804056/804056 [==============================] - 49s 61us/step - loss: 0.5337\n",
      "Epoch 2/5\n",
      "804056/804056 [==============================] - 46s 57us/step - loss: 0.3112\n",
      "Epoch 3/5\n",
      "804056/804056 [==============================] - 41s 51us/step - loss: 0.2632\n",
      "Epoch 4/5\n",
      "804056/804056 [==============================] - 42s 52us/step - loss: 0.2443\n",
      "Epoch 5/5\n",
      "804056/804056 [==============================] - 39s 49us/step - loss: 0.2315\n"
     ]
    },
    {
     "data": {
      "text/plain": [
       "<keras.callbacks.History at 0x7f90e6a880f0>"
      ]
     },
     "execution_count": 117,
     "metadata": {},
     "output_type": "execute_result"
    }
   ],
   "source": [
    "model.fit(X_train, y_train, batch_size=100, epochs=5)"
   ]
  },
  {
   "cell_type": "code",
   "execution_count": 118,
   "metadata": {},
   "outputs": [
    {
     "data": {
      "text/plain": [
       "0.22505579772130543"
      ]
     },
     "execution_count": 118,
     "metadata": {},
     "output_type": "execute_result"
    }
   ],
   "source": [
    "rmspe(y_val, model.predict(X_val).ravel())"
   ]
  },
  {
   "cell_type": "markdown",
   "metadata": {},
   "source": [
    "## Caso di Studio 2: Riconoscimento Attività Umane\n",
    "\n",
    "- Gli smartphone moderni contengono diversi sensori di movimento, quali accelerometro e oscilloscopio\n",
    "- È possibile raccogliendo dati da questi sensori risconoscere quale attività stia svolgendo una persona?\n",
    "  - È in piedi fermo? Sta camminando? È seduto? ...\n",
    "- Vediamo come addestrare una rete neurale a riconoscere l'attività svolta da una sequenza di letture dei sensori\n",
    "- Tale rete può essere in seguito integrata in un'app per smartphone, ad es. per il tracking di attività fisica"
   ]
  },
  {
   "cell_type": "markdown",
   "metadata": {},
   "source": [
    "## Dataset\n",
    "\n",
    "- Utilizziamo un set di dati di letture da sensori diponibile online su https://archive.ics.uci.edu/ml/datasets/human+activity+recognition+using+smartphones\n",
    "- Sono distinte 6 classi relative a diverse attività o posizioni...\n",
    "  - camminare, salire scale, scendere scale, seduti, in piedi, sdraiati\n",
    "- ...svolte da 30 persone mentre indossavano uno smartphone\n",
    "- 50 volte al secondo sono stati campionati 9 valori\n",
    "  - 3 sensori (accelerazione con e senza gravità, rotazione) per 3 assi (XYZ)\n",
    "- Il dataset finale ha 10.299 finestre temporali (tra training e test) di 128 istanti, a ciascuna è associata una delle 6 classi"
   ]
  },
  {
   "cell_type": "markdown",
   "metadata": {},
   "source": [
    "- Scarichiamo il dataset in formato ZIP dal Web..."
   ]
  },
  {
   "cell_type": "code",
   "execution_count": 119,
   "metadata": {},
   "outputs": [],
   "source": [
    "download(\"HARDataset.zip\", \"https://archive.ics.uci.edu/ml/machine-learning-databases/00240/UCI%20HAR%20Dataset.zip\")"
   ]
  },
  {
   "cell_type": "markdown",
   "metadata": {},
   "source": [
    "- ...ed estraiamo i file"
   ]
  },
  {
   "cell_type": "code",
   "execution_count": 120,
   "metadata": {},
   "outputs": [],
   "source": [
    "from zipfile import ZipFile\n",
    "if not os.path.isdir(\"UCI HAR Dataset\"):\n",
    "    with ZipFile(\"HARDataset.zip\") as zipf:\n",
    "        zipf.extractall()"
   ]
  },
  {
   "cell_type": "markdown",
   "metadata": {},
   "source": [
    "- I dati sono già divisi in due set `train` e `test`\n",
    "- Nella directory `Inertial Signals` di ciascuno si trovano i file con i dati grezzi ottenuti dai sensori\n",
    "- Sono considerati 3 diversi sensori:\n",
    "  - `total_acc`: accelerazione (accelerometro)\n",
    "  - `body_acc`: accelerazione senza la forza di gravità\n",
    "  - `body_gyro`: rotazione (giroscopio)\n",
    "- Per ogni sensore si considerano tre assi x, y, z come da figura:\n",
    "\n",
    "![x da sinistra verso destra, y dal basso verso l'alto, z da dietro verso davanti](https://developer.android.com/images/axis_device.png)"
   ]
  },
  {
   "cell_type": "markdown",
   "metadata": {},
   "source": [
    "- La seguente funzione carica tutti i dati descritti sopra dai file estratti"
   ]
  },
  {
   "cell_type": "code",
   "execution_count": 121,
   "metadata": {},
   "outputs": [],
   "source": [
    "def load_dataset(prefix, sensors):\n",
    "    def load_file(filepath):\n",
    "        dataframe = pd.read_csv(filepath, header=None, delim_whitespace=True)\n",
    "        return dataframe.values\n",
    "    def load_dataset_group(group, prefix, sensors):\n",
    "        filepath = prefix + group + \"/Inertial Signals/\"\n",
    "        filenames = [\"{}_{}_{}.txt\".format(sensor, axis, group)\n",
    "                     for sensor in sensors for axis in \"xyz\"]\n",
    "        X_data = [load_file(filepath + name) for name in filenames]\n",
    "        X = np.dstack(X_data)\n",
    "        y = load_file(prefix + group + '/y_'+group+'.txt').ravel() - 1\n",
    "        return X, y\n",
    "    trainX, trainy = load_dataset_group('train', prefix, sensors)\n",
    "    testX, testy = load_dataset_group('test', prefix, sensors)\n",
    "    return trainX, trainy, testX, testy"
   ]
  },
  {
   "cell_type": "markdown",
   "metadata": {},
   "source": [
    "- Invochiamo la funzione, specificando i sensori per cui vogliamo caricare i dati\n",
    "  - si può eventualmente usare solo una parte dei sensori, ad es. per smartphone dotati solo di alcuni di essi"
   ]
  },
  {
   "cell_type": "code",
   "execution_count": 122,
   "metadata": {},
   "outputs": [],
   "source": [
    "X_train, y_train, X_test, y_test = load_dataset(\n",
    "    \"UCI HAR Dataset/\",\n",
    "    [\"total_acc\", \"body_acc\", \"body_gyro\"]\n",
    ")"
   ]
  },
  {
   "cell_type": "markdown",
   "metadata": {},
   "source": [
    "- Otteniamo due dataset \"train\" e \"test\", ciascuno costituito da\n",
    "  - un array 3D X con N osservazioni (asse 0) di 128 campioni (asse 1) consecutivi dei 9 valori (asse 2)\n",
    "  - un array 1D y con le etichette delle N osservazioni"
   ]
  },
  {
   "cell_type": "code",
   "execution_count": 123,
   "metadata": {},
   "outputs": [
    {
     "data": {
      "text/plain": [
       "((7352, 128, 9), (7352,))"
      ]
     },
     "execution_count": 123,
     "metadata": {},
     "output_type": "execute_result"
    }
   ],
   "source": [
    "X_train.shape, y_train.shape"
   ]
  },
  {
   "cell_type": "code",
   "execution_count": 124,
   "metadata": {},
   "outputs": [
    {
     "data": {
      "text/plain": [
       "((2947, 128, 9), (2947,))"
      ]
     },
     "execution_count": 124,
     "metadata": {},
     "output_type": "execute_result"
    }
   ],
   "source": [
    "X_test.shape, y_test.shape"
   ]
  },
  {
   "cell_type": "markdown",
   "metadata": {},
   "source": [
    "- Carichiamo dal file `activity_labels.txt` i nomi delle attività riconosciute"
   ]
  },
  {
   "cell_type": "code",
   "execution_count": 126,
   "metadata": {},
   "outputs": [],
   "source": [
    "with open(\"UCI HAR Dataset/activity_labels.txt\", \"rt\") as f:\n",
    "    labels = [line.split(\" \")[1].strip() for line in f]"
   ]
  },
  {
   "cell_type": "code",
   "execution_count": 127,
   "metadata": {},
   "outputs": [
    {
     "data": {
      "text/plain": [
       "['WALKING',\n",
       " 'WALKING_UPSTAIRS',\n",
       " 'WALKING_DOWNSTAIRS',\n",
       " 'SITTING',\n",
       " 'STANDING',\n",
       " 'LAYING']"
      ]
     },
     "execution_count": 127,
     "metadata": {},
     "output_type": "execute_result"
    }
   ],
   "source": [
    "labels"
   ]
  },
  {
   "cell_type": "markdown",
   "metadata": {},
   "source": [
    "- Possiamo usarle per vedere la distribuzione di osservazioni delle diverse attività in training e test set"
   ]
  },
  {
   "cell_type": "code",
   "execution_count": 128,
   "metadata": {},
   "outputs": [
    {
     "data": {
      "text/plain": [
       "LAYING                1407\n",
       "STANDING              1374\n",
       "SITTING               1286\n",
       "WALKING               1226\n",
       "WALKING_UPSTAIRS      1073\n",
       "WALKING_DOWNSTAIRS     986\n",
       "dtype: int64"
      ]
     },
     "execution_count": 128,
     "metadata": {},
     "output_type": "execute_result"
    }
   ],
   "source": [
    "pd.Series(labels)[y_train].value_counts()"
   ]
  },
  {
   "cell_type": "code",
   "execution_count": 129,
   "metadata": {},
   "outputs": [
    {
     "data": {
      "text/plain": [
       "LAYING                537\n",
       "STANDING              532\n",
       "WALKING               496\n",
       "SITTING               491\n",
       "WALKING_UPSTAIRS      471\n",
       "WALKING_DOWNSTAIRS    420\n",
       "dtype: int64"
      ]
     },
     "execution_count": 129,
     "metadata": {},
     "output_type": "execute_result"
    }
   ],
   "source": [
    "pd.Series(labels)[y_test].value_counts()"
   ]
  },
  {
   "cell_type": "markdown",
   "metadata": {},
   "source": [
    "- Codifichiamo le etichette (y) in vettori one-hot da usare come output atteso della rete"
   ]
  },
  {
   "cell_type": "code",
   "execution_count": 133,
   "metadata": {},
   "outputs": [],
   "source": [
    "yt_train = to_categorical(y_train)\n",
    "yt_test = to_categorical(y_test)"
   ]
  },
  {
   "cell_type": "markdown",
   "metadata": {},
   "source": [
    "- I valori in ingresso hanno già media vicina a 0 e dev. standard vicina a 1, non è necessario standardizzarli"
   ]
  },
  {
   "cell_type": "code",
   "execution_count": 134,
   "metadata": {},
   "outputs": [
    {
     "data": {
      "text/plain": [
       "(0.1020660572380442, 0.4021651763827928)"
      ]
     },
     "execution_count": 134,
     "metadata": {},
     "output_type": "execute_result"
    }
   ],
   "source": [
    "X_train.mean(), X_train.std()"
   ]
  },
  {
   "cell_type": "markdown",
   "metadata": {},
   "source": [
    "- Dalle dimensioni degli array ricaviamo il numero di campioni per osservazione (128), di valori per campione (9) e di possibili classi (6)"
   ]
  },
  {
   "cell_type": "code",
   "execution_count": 141,
   "metadata": {},
   "outputs": [],
   "source": [
    "n_timesteps, n_features, n_outputs = X_train.shape[1], X_train.shape[2], yt_train.shape[1]"
   ]
  },
  {
   "cell_type": "markdown",
   "metadata": {},
   "source": [
    "- Costruiamo una prima rete per la classificazione con un singolo strato nascosto\n",
    "- In input usiamo uno strato `Flatten` per convertire la matrice 128x9 con cui è rappresentata ciascuna osservazione in un vettore di 1.152 elementi\n",
    "  - questo strato cambia solo la rappresentazione dei dati, non introduce nodi o parametri\n",
    "  - con `input_shape` indichiamo la dimensione attesa della matrice\n",
    "- In output usiamo come visto prima uno strato con attivazione softmax con un nodo per classe, in questo caso 6"
   ]
  },
  {
   "cell_type": "code",
   "execution_count": 142,
   "metadata": {},
   "outputs": [],
   "source": [
    "from keras.layers import Flatten\n",
    "model = Sequential([\n",
    "    Flatten(input_shape=(n_timesteps, n_features)),\n",
    "    Dense(32, activation=\"relu\"),\n",
    "    Dense(n_outputs, activation=\"softmax\")\n",
    "])"
   ]
  },
  {
   "cell_type": "code",
   "execution_count": 143,
   "metadata": {},
   "outputs": [],
   "source": [
    "model.compile(loss=\"categorical_crossentropy\", optimizer=\"adam\", metrics=[\"accuracy\"])"
   ]
  },
  {
   "cell_type": "code",
   "execution_count": 144,
   "metadata": {},
   "outputs": [
    {
     "name": "stdout",
     "output_type": "stream",
     "text": [
      "Epoch 1/10\n",
      "7352/7352 [==============================] - 2s 301us/step - loss: 0.7311 - acc: 0.7342\n",
      "Epoch 2/10\n",
      "7352/7352 [==============================] - 1s 189us/step - loss: 0.3317 - acc: 0.8885\n",
      "Epoch 3/10\n",
      "7352/7352 [==============================] - 1s 181us/step - loss: 0.2270 - acc: 0.9184\n",
      "Epoch 4/10\n",
      "7352/7352 [==============================] - 1s 179us/step - loss: 0.1756 - acc: 0.9348\n",
      "Epoch 5/10\n",
      "7352/7352 [==============================] - 1s 183us/step - loss: 0.1484 - acc: 0.9437\n",
      "Epoch 6/10\n",
      "7352/7352 [==============================] - 1s 181us/step - loss: 0.1321 - acc: 0.9499\n",
      "Epoch 7/10\n",
      "7352/7352 [==============================] - 1s 195us/step - loss: 0.1220 - acc: 0.9513\n",
      "Epoch 8/10\n",
      "7352/7352 [==============================] - 1s 179us/step - loss: 0.1141 - acc: 0.9533\n",
      "Epoch 9/10\n",
      "7352/7352 [==============================] - 1s 195us/step - loss: 0.1091 - acc: 0.9544\n",
      "Epoch 10/10\n",
      "7352/7352 [==============================] - 1s 176us/step - loss: 0.1050 - acc: 0.9546\n"
     ]
    },
    {
     "data": {
      "text/plain": [
       "<keras.callbacks.History at 0x7f90e6156978>"
      ]
     },
     "execution_count": 144,
     "metadata": {},
     "output_type": "execute_result"
    }
   ],
   "source": [
    "model.fit(X_train, yt_train, epochs=10, batch_size=20)"
   ]
  },
  {
   "cell_type": "code",
   "execution_count": 153,
   "metadata": {},
   "outputs": [
    {
     "name": "stdout",
     "output_type": "stream",
     "text": [
      "2947/2947 [==============================] - 0s 111us/step\n"
     ]
    },
    {
     "data": {
      "text/plain": [
       "[0.5460815663333486, 0.8771632168306752]"
      ]
     },
     "execution_count": 153,
     "metadata": {},
     "output_type": "execute_result"
    }
   ],
   "source": [
    "model.evaluate(X_test, yt_test)"
   ]
  },
  {
   "cell_type": "markdown",
   "metadata": {},
   "source": [
    "- Possiamo aggiungere uno strato nascosto per rendere più accurata la rete"
   ]
  },
  {
   "cell_type": "code",
   "execution_count": 154,
   "metadata": {},
   "outputs": [],
   "source": [
    "from keras.layers import Flatten\n",
    "model = Sequential([\n",
    "    Flatten(input_shape=(n_timesteps, n_features)),\n",
    "    Dense(128, activation=\"relu\"),\n",
    "    Dense(64, activation=\"relu\"),\n",
    "    Dense(n_outputs, activation=\"softmax\")\n",
    "])"
   ]
  },
  {
   "cell_type": "code",
   "execution_count": 155,
   "metadata": {},
   "outputs": [],
   "source": [
    "model.compile(loss=\"categorical_crossentropy\", optimizer=\"adam\", metrics=[\"accuracy\"])"
   ]
  },
  {
   "cell_type": "code",
   "execution_count": 156,
   "metadata": {},
   "outputs": [
    {
     "name": "stdout",
     "output_type": "stream",
     "text": [
      "Epoch 1/10\n",
      "7352/7352 [==============================] - 2s 296us/step - loss: 0.4862 - acc: 0.8248\n",
      "Epoch 2/10\n",
      "7352/7352 [==============================] - 1s 192us/step - loss: 0.1708 - acc: 0.9357\n",
      "Epoch 3/10\n",
      "7352/7352 [==============================] - 1s 196us/step - loss: 0.1266 - acc: 0.9475\n",
      "Epoch 4/10\n",
      "7352/7352 [==============================] - 2s 206us/step - loss: 0.1069 - acc: 0.9543\n",
      "Epoch 5/10\n",
      "7352/7352 [==============================] - 2s 222us/step - loss: 0.1018 - acc: 0.9554\n",
      "Epoch 6/10\n",
      "7352/7352 [==============================] - 1s 200us/step - loss: 0.0960 - acc: 0.9585\n",
      "Epoch 7/10\n",
      "7352/7352 [==============================] - 1s 199us/step - loss: 0.0892 - acc: 0.9593\n",
      "Epoch 8/10\n",
      "7352/7352 [==============================] - 1s 204us/step - loss: 0.0824 - acc: 0.9625\n",
      "Epoch 9/10\n",
      "7352/7352 [==============================] - 2s 209us/step - loss: 0.1418 - acc: 0.9468\n",
      "Epoch 10/10\n",
      "7352/7352 [==============================] - 2s 211us/step - loss: 0.1134 - acc: 0.9550\n"
     ]
    },
    {
     "data": {
      "text/plain": [
       "<keras.callbacks.History at 0x7f588f1c4ac8>"
      ]
     },
     "execution_count": 156,
     "metadata": {},
     "output_type": "execute_result"
    }
   ],
   "source": [
    "model.fit(X_train, yt_train, epochs=10, batch_size=20)"
   ]
  },
  {
   "cell_type": "code",
   "execution_count": 157,
   "metadata": {},
   "outputs": [
    {
     "name": "stdout",
     "output_type": "stream",
     "text": [
      "2947/2947 [==============================] - 0s 116us/step\n"
     ]
    },
    {
     "data": {
      "text/plain": [
       "[0.5896802162915888, 0.8832711231761113]"
      ]
     },
     "execution_count": 157,
     "metadata": {},
     "output_type": "execute_result"
    }
   ],
   "source": [
    "model.evaluate(X_test, yt_test)"
   ]
  },
  {
   "cell_type": "markdown",
   "metadata": {},
   "source": [
    "## Reti convoluzionali"
   ]
  },
  {
   "cell_type": "code",
   "execution_count": 158,
   "metadata": {},
   "outputs": [],
   "source": [
    "from keras.layers import Conv1D\n",
    "model = Sequential([\n",
    "    Conv1D(16, 15, input_shape=(n_timesteps, n_features)),\n",
    "    Flatten(),\n",
    "    Dense(64, activation=\"relu\"),\n",
    "    Dense(n_outputs, activation=\"softmax\")\n",
    "])"
   ]
  },
  {
   "cell_type": "code",
   "execution_count": 159,
   "metadata": {},
   "outputs": [],
   "source": [
    "model.compile(loss=\"categorical_crossentropy\", optimizer=\"adam\", metrics=[\"accuracy\"])"
   ]
  },
  {
   "cell_type": "code",
   "execution_count": 160,
   "metadata": {},
   "outputs": [
    {
     "name": "stdout",
     "output_type": "stream",
     "text": [
      "Epoch 1/10\n",
      "7352/7352 [==============================] - 3s 355us/step - loss: 0.5083 - acc: 0.8186\n",
      "Epoch 2/10\n",
      "7352/7352 [==============================] - 2s 237us/step - loss: 0.1978 - acc: 0.9241\n",
      "Epoch 3/10\n",
      "7352/7352 [==============================] - 2s 231us/step - loss: 0.1490 - acc: 0.9392\n",
      "Epoch 4/10\n",
      "7352/7352 [==============================] - 2s 232us/step - loss: 0.1260 - acc: 0.9486\n",
      "Epoch 5/10\n",
      "7352/7352 [==============================] - 2s 237us/step - loss: 0.1143 - acc: 0.9504\n",
      "Epoch 6/10\n",
      "7352/7352 [==============================] - 2s 231us/step - loss: 0.1206 - acc: 0.9498\n",
      "Epoch 7/10\n",
      "7352/7352 [==============================] - 2s 278us/step - loss: 0.1328 - acc: 0.9459\n",
      "Epoch 8/10\n",
      "7352/7352 [==============================] - 2s 252us/step - loss: 0.1197 - acc: 0.9528\n",
      "Epoch 9/10\n",
      "7352/7352 [==============================] - 2s 242us/step - loss: 0.1154 - acc: 0.9529\n",
      "Epoch 10/10\n",
      "7352/7352 [==============================] - 2s 292us/step - loss: 0.1129 - acc: 0.9532\n"
     ]
    },
    {
     "data": {
      "text/plain": [
       "<keras.callbacks.History at 0x7f588d93f898>"
      ]
     },
     "execution_count": 160,
     "metadata": {},
     "output_type": "execute_result"
    }
   ],
   "source": [
    "model.fit(X_train, yt_train, epochs=10, batch_size=20)"
   ]
  },
  {
   "cell_type": "code",
   "execution_count": 161,
   "metadata": {},
   "outputs": [
    {
     "name": "stdout",
     "output_type": "stream",
     "text": [
      "2947/2947 [==============================] - 0s 152us/step\n"
     ]
    },
    {
     "data": {
      "text/plain": [
       "[0.6078760558382534, 0.8890397013912453]"
      ]
     },
     "execution_count": 161,
     "metadata": {},
     "output_type": "execute_result"
    }
   ],
   "source": [
    "model.evaluate(X_test, yt_test)"
   ]
  }
 ],
 "metadata": {
  "kernelspec": {
   "display_name": "Deep learning",
   "language": "python",
   "name": "deeplearn"
  },
  "language_info": {
   "codemirror_mode": {
    "name": "ipython",
    "version": 3
   },
   "file_extension": ".py",
   "mimetype": "text/x-python",
   "name": "python",
   "nbconvert_exporter": "python",
   "pygments_lexer": "ipython3",
   "version": "3.6.8"
  }
 },
 "nbformat": 4,
 "nbformat_minor": 2
}
