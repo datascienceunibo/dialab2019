{
 "cells": [
  {
   "cell_type": "markdown",
   "metadata": {
    "slideshow": {
     "slide_type": "slide"
    }
   },
   "source": [
    "# Laboratorio: Analisi Flussi di Popolazione con pandas\n",
    "\n",
    "**Programmazione di Applicazioni Data Intensive**  \n",
    "Laurea in Ingegneria e Scienze Informatiche  \n",
    "DISI - Università di Bologna, Cesena\n",
    "\n",
    "Proff. Gianluca Moro, Roberto Pasolini  \n",
    "`nome.cognome@unibo.it`"
   ]
  },
  {
   "cell_type": "markdown",
   "metadata": {
    "slideshow": {
     "slide_type": "slide"
    }
   },
   "source": [
    "## Oggetto: Analisi Flussi tra Stati USA\n",
    "\n",
    "- L'ufficio del censimento degli Stati Uniti d'America pubblica annualmente un riepilogo dei flussi della popolazione tra Stati\n",
    "- I dataset per ogni anno in formato XLS (Excel) possono essere reperiti alla pagina https://www.census.gov/data/tables/time-series/demo/geographic-mobility/state-to-state-migration.html\n",
    "- In questa esercitazione, analizziamo i flussi interni tra gli Stati nel 2016 e analizziamo in base ad essi quali Stati possano essere considerati più simili tra loro\n",
    "- Eseguire la seguente cella per scaricare il file con i dati dell'esercitazione, se non presente"
   ]
  },
  {
   "cell_type": "code",
   "execution_count": 1,
   "metadata": {},
   "outputs": [],
   "source": [
    "import os.path\n",
    "if not os.path.exists(\"usa_census.npz\"):\n",
    "    from urllib.request import urlretrieve\n",
    "    urlretrieve(\"https://git.io/vxh8Y\", \"usa_census.npz\")"
   ]
  },
  {
   "cell_type": "markdown",
   "metadata": {
    "slideshow": {
     "slide_type": "slide"
    }
   },
   "source": [
    "## Caricamento dei Dati\n",
    "\n",
    "- Abbiamo raccolto i dati da analizzare in un _archivio NumPy_, un file contenente un insieme di array con nomi associati\n",
    "- Scarichiamo il file e carichiamo da esso i dati, usiamo la funzione `load` di NumPy"
   ]
  },
  {
   "cell_type": "code",
   "execution_count": 2,
   "metadata": {},
   "outputs": [],
   "source": [
    "import numpy as np\n",
    "data = np.load(\"usa_census.npz\")"
   ]
  },
  {
   "cell_type": "markdown",
   "metadata": {},
   "source": [
    "- L'oggetto `data` ottenuto è simile ad un dizionario, i cui valori sono le matrici e le cui chiavi sono i loro nomi\n",
    "- Otteniamo una lista dei nomi delle matrici caricate"
   ]
  },
  {
   "cell_type": "code",
   "execution_count": 3,
   "metadata": {},
   "outputs": [
    {
     "name": "stdout",
     "output_type": "stream",
     "text": [
      "states, population, area, same_house, same_state, other_state, state_to_state, from_abroad\n"
     ]
    }
   ],
   "source": [
    "print(\", \".join(data.keys()))"
   ]
  },
  {
   "cell_type": "markdown",
   "metadata": {
    "slideshow": {
     "slide_type": "slide"
    }
   },
   "source": [
    "## Dati Disponibili\n",
    "\n",
    "I dati contenuti nel file sono i seguenti:\n",
    "- `states`: vettore con i nomi degli Stati\n",
    "- `population`: vettore con la popolazione totale attuale di ogni Stato\n",
    "- `area`: vettore con la superficie di terra di ciascuno stato in miglia quadrate\n",
    "- `same_house`: vettore con numero di abitanti per Stato che non hanno cambiato residenza nell'ultimo anno\n",
    "- `same_state`: vettore con numero di abitanti per Stato che hanno cambiato residenza nell'ultimo anno, ma non lo Stato\n",
    "- `other_state`: vettore con numero di abitanti per Stato che si sono trasferiti da un altro Stato nell'ultimo anno\n",
    "- `state_to_state`: matrice col numero di abitanti trasferitisi nell'ultimo anno da ciascuno Stato ad un altro\n",
    "- `from_abroad`: vettore con numero di abitanti per Stato trasferitisi negli USA dall'estero nell'ultimo anno\n",
    "\n",
    "A ciascuno Stato corrisponde un indice in base all'ordine alfabetico: in ciascun vettore, il valore relativo a quello Stato si trova allo stesso indice"
   ]
  },
  {
   "cell_type": "markdown",
   "metadata": {
    "slideshow": {
     "slide_type": "slide"
    }
   },
   "source": [
    "- Possiamo verificare tipo e forma di ciascun array"
   ]
  },
  {
   "cell_type": "code",
   "execution_count": 4,
   "metadata": {},
   "outputs": [
    {
     "name": "stdout",
     "output_type": "stream",
     "text": [
      "         states:   object (51,)\n",
      "     population:    int64 (51,)\n",
      "           area:  float64 (51,)\n",
      "     same_house:    int64 (51,)\n",
      "     same_state:    int64 (51,)\n",
      "    other_state:    int64 (51,)\n",
      " state_to_state:    int64 (51, 51)\n",
      "    from_abroad:    int64 (51,)\n"
     ]
    }
   ],
   "source": [
    "for name, array in data.items():\n",
    "    print(\"{:>15s}: {:>8s} {}\".format(name, str(array.dtype), array.shape))"
   ]
  },
  {
   "cell_type": "markdown",
   "metadata": {
    "slideshow": {
     "slide_type": "slide"
    }
   },
   "source": [
    "- Vediamo ad esempio l'array con i nomi degli stati"
   ]
  },
  {
   "cell_type": "code",
   "execution_count": 5,
   "metadata": {
    "slideshow": {
     "slide_type": "-"
    }
   },
   "outputs": [
    {
     "data": {
      "text/plain": [
       "array(['Alabama', 'Alaska', 'Arizona', 'Arkansas', 'California',\n",
       "       'Colorado', 'Connecticut', 'Delaware', 'District of Columbia',\n",
       "       'Florida', 'Georgia', 'Hawaii', 'Idaho', 'Illinois', 'Indiana',\n",
       "       'Iowa', 'Kansas', 'Kentucky', 'Louisiana', 'Maine', 'Maryland',\n",
       "       'Massachusetts', 'Michigan', 'Minnesota', 'Mississippi',\n",
       "       'Missouri', 'Montana', 'Nebraska', 'Nevada', 'New Hampshire',\n",
       "       'New Jersey', 'New Mexico', 'New York', 'North Carolina',\n",
       "       'North Dakota', 'Ohio', 'Oklahoma', 'Oregon', 'Pennsylvania',\n",
       "       'Rhode Island', 'South Carolina', 'South Dakota', 'Tennessee',\n",
       "       'Texas', 'Utah', 'Vermont', 'Virginia', 'Washington',\n",
       "       'West Virginia', 'Wisconsin', 'Wyoming'], dtype=object)"
      ]
     },
     "execution_count": 5,
     "metadata": {},
     "output_type": "execute_result"
    }
   ],
   "source": [
    "data[\"states\"]"
   ]
  },
  {
   "cell_type": "markdown",
   "metadata": {
    "slideshow": {
     "slide_type": "-"
    }
   },
   "source": [
    "- Per comodità, eseguire il seguente codice per importare automaticamente tutti gli elementi di `data` come variabili locali\n",
    "  - la funzione `exec` esegue codice Python dato in una stringa **(può eseguire codice arbitrario, va usata con cautela!)**"
   ]
  },
  {
   "cell_type": "code",
   "execution_count": 6,
   "metadata": {},
   "outputs": [],
   "source": [
    "for key, value in data.items():\n",
    "    exec(key + \" = value\")"
   ]
  },
  {
   "cell_type": "markdown",
   "metadata": {},
   "source": [
    "- In questo modo potremo usare ad es. `states` al posto di `data[\"states\"]`"
   ]
  },
  {
   "cell_type": "markdown",
   "metadata": {
    "slideshow": {
     "slide_type": "slide"
    }
   },
   "source": [
    "## Estrarre Informazioni dagli Array\n",
    "\n",
    "- Per estrarre informazioni su Stati specifici, dobbiamo conoscere la posizione di ciascuno Stato negli array\n",
    "- Ad esempio, sapendo che California è il 5° stato in ordine alfabetico, per conoscerne il numero di abitanti posso scrivere:"
   ]
  },
  {
   "cell_type": "code",
   "execution_count": 7,
   "metadata": {},
   "outputs": [
    {
     "data": {
      "text/plain": [
       "38783436"
      ]
     },
     "execution_count": 7,
     "metadata": {},
     "output_type": "execute_result"
    }
   ],
   "source": [
    "population[4]"
   ]
  },
  {
   "cell_type": "markdown",
   "metadata": {},
   "source": [
    "- Se non conoscessi la posizione, dovrei individuarla dall'array `states` con i nomi\n",
    "- Ad esempio, usando l'indicizzazione binaria per individuare lo stato col nome corretto:"
   ]
  },
  {
   "cell_type": "code",
   "execution_count": 8,
   "metadata": {},
   "outputs": [
    {
     "data": {
      "text/plain": [
       "array([38783436])"
      ]
     },
     "execution_count": 8,
     "metadata": {},
     "output_type": "execute_result"
    }
   ],
   "source": [
    "population[states == \"California\"]"
   ]
  },
  {
   "cell_type": "markdown",
   "metadata": {
    "slideshow": {
     "slide_type": "slide"
    }
   },
   "source": [
    "## pandas\n",
    "\n",
    "- **pandas** è una libreria Python di uso comune per lavorare con dati in forma tabulare\n",
    "- Offre strutture dati simili agli array, ma dotate di _indici_ che etichettano i dati al loro interno\n",
    "- Questo rende semplice reperire dati specifici, ad esempio la popolazione di uno stato specifico come da esempio sopra\n",
    "- Iniziamo importando il package `pandas` con l'alias convenzionale `pd`"
   ]
  },
  {
   "cell_type": "code",
   "execution_count": 9,
   "metadata": {},
   "outputs": [],
   "source": [
    "import pandas as pd"
   ]
  },
  {
   "cell_type": "markdown",
   "metadata": {
    "slideshow": {
     "slide_type": "slide"
    }
   },
   "source": [
    "## Serie\n",
    "\n",
    "- Una **_serie_** pandas è un vettore di valori simile ad un array 1D NumPy con un'etichetta associata a ciascuno\n",
    "- La sequenza di etichette costituisce l'_indice_ della serie, anch'esso un array 1D"
   ]
  },
  {
   "cell_type": "markdown",
   "metadata": {
    "slideshow": {
     "slide_type": "slide"
    }
   },
   "source": [
    "## Da Array a Serie\n",
    "\n",
    "- Il costruttore `Series` permette di creare una serie di cui sono forniti i dati e l'indice (`index`) in due vettori di uguale lunghezza\n",
    "- Creiamo la serie `population` che sostituisca l'array con lo stesso nome\n",
    "  - i dati della serie sono contenuti nell'array stesso\n",
    "  - le etichette sono i nomi degli stati contenuti nell'array `states`"
   ]
  },
  {
   "cell_type": "code",
   "execution_count": 10,
   "metadata": {},
   "outputs": [],
   "source": [
    "population = pd.Series(population, index=states)"
   ]
  },
  {
   "cell_type": "markdown",
   "metadata": {
    "slideshow": {
     "slide_type": "slide"
    }
   },
   "source": [
    "- Visualizziamo la serie, utilizzando il metodo `head` per estrarne solo i primi N elementi"
   ]
  },
  {
   "cell_type": "code",
   "execution_count": 11,
   "metadata": {},
   "outputs": [
    {
     "data": {
      "text/plain": [
       "Alabama         4810126\n",
       "Alaska           731760\n",
       "Arizona         6851836\n",
       "Arkansas        2949650\n",
       "California     38783436\n",
       "Colorado        5476928\n",
       "Connecticut     3541758\n",
       "dtype: int64"
      ]
     },
     "execution_count": 11,
     "metadata": {},
     "output_type": "execute_result"
    }
   ],
   "source": [
    "population.head(7)"
   ]
  },
  {
   "cell_type": "markdown",
   "metadata": {},
   "source": [
    "- Sulla sinistra vediamo le etichette (nomi degli Stati), sulla destra i valori (popolazione di ciascuno Stato)"
   ]
  },
  {
   "cell_type": "markdown",
   "metadata": {
    "slideshow": {
     "slide_type": "slide"
    }
   },
   "source": [
    "## Attributi di Base di una Serie\n",
    "\n",
    "- Una serie è composta dai dati e dalle etichette: gli attributi `values` e `index` restituiscono questi elementi in forma di vettori"
   ]
  },
  {
   "cell_type": "code",
   "execution_count": 12,
   "metadata": {},
   "outputs": [
    {
     "data": {
      "text/plain": [
       "array([ 4810126,   731760,  6851836,  2949650, 38783436,  5476928,\n",
       "        3541758,   942073,   672022, 20401575])"
      ]
     },
     "execution_count": 12,
     "metadata": {},
     "output_type": "execute_result"
    }
   ],
   "source": [
    "population.values   [:10]"
   ]
  },
  {
   "cell_type": "code",
   "execution_count": 13,
   "metadata": {},
   "outputs": [
    {
     "data": {
      "text/plain": [
       "Index(['Alabama', 'Alaska', 'Arizona', 'Arkansas', 'California', 'Colorado',\n",
       "       'Connecticut', 'Delaware', 'District of Columbia', 'Florida'],\n",
       "      dtype='object')"
      ]
     },
     "execution_count": 13,
     "metadata": {},
     "output_type": "execute_result"
    }
   ],
   "source": [
    "population.index    [:10]"
   ]
  },
  {
   "cell_type": "markdown",
   "metadata": {},
   "source": [
    "- Il numero di elementi totale si può ottenere con la funzione `len` di Python o (per analogia con gli array) con l'attributo `size`"
   ]
  },
  {
   "cell_type": "code",
   "execution_count": 14,
   "metadata": {},
   "outputs": [
    {
     "data": {
      "text/plain": [
       "51"
      ]
     },
     "execution_count": 14,
     "metadata": {},
     "output_type": "execute_result"
    }
   ],
   "source": [
    "len(population)"
   ]
  },
  {
   "cell_type": "code",
   "execution_count": 15,
   "metadata": {},
   "outputs": [
    {
     "data": {
      "text/plain": [
       "51"
      ]
     },
     "execution_count": 15,
     "metadata": {},
     "output_type": "execute_result"
    }
   ],
   "source": [
    "population.size"
   ]
  },
  {
   "cell_type": "markdown",
   "metadata": {
    "slideshow": {
     "slide_type": "slide"
    }
   },
   "source": [
    "## Selezionare Dati da una Serie\n",
    "\n",
    "- Le serie supportano in pratica le stesse tecniche di selezione degli array, ma usando le **etichette al posto degli indici numerici**\n",
    "- Per cui, per ottenere la popolazione della California, si scrive semplicemente:"
   ]
  },
  {
   "cell_type": "code",
   "execution_count": 16,
   "metadata": {},
   "outputs": [
    {
     "data": {
      "text/plain": [
       "38783436"
      ]
     },
     "execution_count": 16,
     "metadata": {},
     "output_type": "execute_result"
    }
   ],
   "source": [
    "population[\"California\"]"
   ]
  },
  {
   "cell_type": "markdown",
   "metadata": {},
   "source": [
    "- Se si seleziona un'etichetta inesistente, si ha un `KeyError` come per i dizionari `{...}`"
   ]
  },
  {
   "cell_type": "markdown",
   "metadata": {
    "slideshow": {
     "slide_type": "slide"
    }
   },
   "source": [
    "- Si può selezionare un intervallo tra due etichette (sono inclusi entrambi gli estremi)"
   ]
  },
  {
   "cell_type": "code",
   "execution_count": 17,
   "metadata": {},
   "outputs": [
    {
     "data": {
      "text/plain": [
       "Arizona        6851836\n",
       "Arkansas       2949650\n",
       "California    38783436\n",
       "Colorado       5476928\n",
       "dtype: int64"
      ]
     },
     "execution_count": 17,
     "metadata": {},
     "output_type": "execute_result"
    }
   ],
   "source": [
    "population[\"Arizona\":\"Colorado\"]"
   ]
  },
  {
   "cell_type": "markdown",
   "metadata": {},
   "source": [
    "- Si può selezionare un sottoinsieme della serie indicando una lista di etichette"
   ]
  },
  {
   "cell_type": "code",
   "execution_count": 18,
   "metadata": {},
   "outputs": [
    {
     "data": {
      "text/plain": [
       "Washington     7202119\n",
       "Oregon         4052221\n",
       "California    38783436\n",
       "dtype: int64"
      ]
     },
     "execution_count": 18,
     "metadata": {},
     "output_type": "execute_result"
    }
   ],
   "source": [
    "# popolazione Stati della costa ovest\n",
    "population[[\"Washington\", \"Oregon\", \"California\"]]"
   ]
  },
  {
   "cell_type": "markdown",
   "metadata": {
    "slideshow": {
     "slide_type": "slide"
    }
   },
   "source": [
    "## Creazione delle altre Serie\n",
    "\n",
    "- Creiamo una serie per ciascuno degli altri vettori di dati, utilizzando sempre il vettore di nomi degli Stati `states` come indice\n",
    "  - _(gli array originali rimangono disponibili nell'oggetto `data`)_"
   ]
  },
  {
   "cell_type": "code",
   "execution_count": 19,
   "metadata": {},
   "outputs": [],
   "source": [
    "area = pd.Series(area, index=states)\n",
    "same_house = pd.Series(same_house, index=states)\n",
    "same_state = pd.Series(same_state, index=states)\n",
    "other_state = pd.Series(other_state, index=states)\n",
    "from_abroad = pd.Series(from_abroad, index=states)"
   ]
  },
  {
   "cell_type": "markdown",
   "metadata": {
    "slideshow": {
     "slide_type": "slide"
    }
   },
   "source": [
    "## Operazioni tra Serie\n",
    "\n",
    "- Come per gli array, è possibile effettuare operazioni elemento per elemento tra due serie o tra una serie ed un valore singolo\n",
    "- Si possono utilizzare operazioni binarie (`+`, `*`, ...) e funzioni universali di NumPy (`np.log`, ...)\n",
    "- Nel caso di due serie, le operazioni sono applicate tra **elementi di uguale etichetta** (indipendentemente dalla posizione)\n",
    "- Ad esempio, per convertire la superficie da miglia quadrate a chilometri quadrati (1 mi² = 2,59 km²):"
   ]
  },
  {
   "cell_type": "code",
   "execution_count": 20,
   "metadata": {},
   "outputs": [
    {
     "data": {
      "text/plain": [
       "Alabama    1.311714e+05\n",
       "Alaska     1.477960e+06\n",
       "Arizona    2.942087e+05\n",
       "dtype: float64"
      ]
     },
     "execution_count": 20,
     "metadata": {},
     "output_type": "execute_result"
    }
   ],
   "source": [
    "area_km2 = area * 2.59\n",
    "# stampo i primi 3 elementi\n",
    "area_km2.head(3)"
   ]
  },
  {
   "cell_type": "markdown",
   "metadata": {
    "slideshow": {
     "slide_type": "slide"
    }
   },
   "source": [
    "- Per ottenere la densità di popolazione di ciascuno Stato (in abitanti per km²):"
   ]
  },
  {
   "cell_type": "code",
   "execution_count": 21,
   "metadata": {},
   "outputs": [
    {
     "data": {
      "text/plain": [
       "Alabama    36.670538\n",
       "Alaska      0.495115\n",
       "Arizona    23.289035\n",
       "dtype: float64"
      ]
     },
     "execution_count": 21,
     "metadata": {},
     "output_type": "execute_result"
    }
   ],
   "source": [
    "density = population / area_km2\n",
    "density.head(3)"
   ]
  },
  {
   "cell_type": "markdown",
   "metadata": {},
   "source": [
    "- Per ottenere il logaritmo in base 10 della popolazione (utilizzabile ad es. per creare un grafico in tale scala):"
   ]
  },
  {
   "cell_type": "code",
   "execution_count": 22,
   "metadata": {},
   "outputs": [
    {
     "data": {
      "text/plain": [
       "Alabama    6.682156\n",
       "Alaska     5.864369\n",
       "Arizona    6.835807\n",
       "dtype: float64"
      ]
     },
     "execution_count": 22,
     "metadata": {},
     "output_type": "execute_result"
    }
   ],
   "source": [
    "np.log10(population)   .head(3)"
   ]
  },
  {
   "cell_type": "markdown",
   "metadata": {
    "slideshow": {
     "slide_type": "slide"
    }
   },
   "source": [
    "## Serie Booleane e Selezione per Condizioni\n",
    "\n",
    "- Applicando una comparazione ad una serie, si ottiene una serie di valori booleani\n",
    "- Ad esempio, per ottenere la serie che associa `True` agli Stati non più grandi di 5.000 miglia quadrate:"
   ]
  },
  {
   "cell_type": "code",
   "execution_count": 23,
   "metadata": {},
   "outputs": [
    {
     "data": {
      "text/plain": [
       "Alabama                 False\n",
       "Alaska                  False\n",
       "Arizona                 False\n",
       "Arkansas                False\n",
       "California              False\n",
       "Colorado                False\n",
       "Connecticut              True\n",
       "Delaware                 True\n",
       "District of Columbia     True\n",
       "Florida                 False\n",
       "dtype: bool"
      ]
     },
     "execution_count": 23,
     "metadata": {},
     "output_type": "execute_result"
    }
   ],
   "source": [
    "small_states = area <= 5000\n",
    "small_states.head(10)"
   ]
  },
  {
   "cell_type": "markdown",
   "metadata": {
    "slideshow": {
     "slide_type": "slide"
    }
   },
   "source": [
    "- Come per gli array, una serie booleana può essere usata per selezionare solamente alcuni elementi di una serie di dati\n",
    "  - sono selezionati solamente gli elementi alla cui etichetta nella serie booleana è associato `True`\n",
    "- Ad esempio, per mostrare l'area solamente degli Stati piccoli individuati sopra:"
   ]
  },
  {
   "cell_type": "code",
   "execution_count": 24,
   "metadata": {},
   "outputs": [
    {
     "data": {
      "text/plain": [
       "Connecticut             4842.36\n",
       "Delaware                1948.54\n",
       "District of Columbia      61.05\n",
       "Rhode Island            1033.81\n",
       "dtype: float64"
      ]
     },
     "execution_count": 24,
     "metadata": {},
     "output_type": "execute_result"
    }
   ],
   "source": [
    "area[area <= 5000]\n",
    "# o anche: area[small_states]"
   ]
  },
  {
   "cell_type": "markdown",
   "metadata": {
    "slideshow": {
     "slide_type": "slide"
    }
   },
   "source": [
    "- La serie da cui sono selezionati i dati e quella usata come condizione possono anche differire..."
   ]
  },
  {
   "cell_type": "code",
   "execution_count": 25,
   "metadata": {},
   "outputs": [
    {
     "data": {
      "text/plain": [
       "Connecticut             3541758\n",
       "Delaware                 942073\n",
       "District of Columbia     672022\n",
       "Rhode Island            1045691\n",
       "dtype: int64"
      ]
     },
     "execution_count": 25,
     "metadata": {},
     "output_type": "execute_result"
    }
   ],
   "source": [
    "population[area <= 5000]"
   ]
  },
  {
   "cell_type": "markdown",
   "metadata": {},
   "source": [
    "- Possiamo combinare serie booleane con gli operatori `&` (AND), `|` (OR), `^` (XOR), `~` (NOT)\n",
    "  - tali operatori hanno normalmente priorità superiore alle comparazioni (`>`, `<=`, ...), usare le parentesi per evitare errori"
   ]
  },
  {
   "cell_type": "code",
   "execution_count": 26,
   "metadata": {},
   "outputs": [
    {
     "data": {
      "text/plain": [
       "Connecticut     3541758\n",
       "Rhode Island    1045691\n",
       "dtype: int64"
      ]
     },
     "execution_count": 26,
     "metadata": {},
     "output_type": "execute_result"
    }
   ],
   "source": [
    "population[(population >= 1_000_000) & (area <= 5000)]"
   ]
  },
  {
   "cell_type": "markdown",
   "metadata": {
    "slideshow": {
     "slide_type": "slide"
    }
   },
   "source": [
    "## Statistiche sulle Serie\n",
    "\n",
    "- Le serie offrono metodi simili a quelli degli array per aggregare i dati: `sum`, `mean`, `min`, `max`, ...\n",
    "- Ad esempio, per ottenere la popolazione totale di tutti gli Stati:"
   ]
  },
  {
   "cell_type": "code",
   "execution_count": 27,
   "metadata": {},
   "outputs": [
    {
     "data": {
      "text/plain": [
       "319361956"
      ]
     },
     "execution_count": 27,
     "metadata": {},
     "output_type": "execute_result"
    }
   ],
   "source": [
    "population.sum()"
   ]
  },
  {
   "cell_type": "markdown",
   "metadata": {},
   "source": [
    "- Per ottenere la popolazione nello Stato dove è maggiore:"
   ]
  },
  {
   "cell_type": "code",
   "execution_count": 28,
   "metadata": {},
   "outputs": [
    {
     "data": {
      "text/plain": [
       "38783436"
      ]
     },
     "execution_count": 28,
     "metadata": {},
     "output_type": "execute_result"
    }
   ],
   "source": [
    "population.max()"
   ]
  },
  {
   "cell_type": "markdown",
   "metadata": {},
   "source": [
    "- Per conoscere a quale Stato corrisponde, uso il metodo `idxmax` che restituisce l'etichetta del valore maggiore"
   ]
  },
  {
   "cell_type": "code",
   "execution_count": 29,
   "metadata": {},
   "outputs": [
    {
     "data": {
      "text/plain": [
       "'California'"
      ]
     },
     "execution_count": 29,
     "metadata": {},
     "output_type": "execute_result"
    }
   ],
   "source": [
    "population.idxmax()"
   ]
  },
  {
   "cell_type": "markdown",
   "metadata": {
    "slideshow": {
     "slide_type": "slide"
    }
   },
   "source": [
    "## Esercizi A: Serie\n",
    "\n",
    "- **1)** Qual è la densità di popolazione dello Stato più più piccolo?\n",
    "- **2)** Quanti sono gli Stati la cui popolazione è superiore al milione di abitanti?\n",
    "  - ricordare che `True` = 1 e `False` = 0\n",
    "- **3)** Qual è il totale della popolazione degli Stati sulla costa ovest (Washington, Oregon e California)?\n",
    "- **4)** Qual è la densità media degli Stati con almeno 10 milioni di abitanti?"
   ]
  },
  {
   "cell_type": "markdown",
   "metadata": {
    "slideshow": {
     "slide_type": "slide"
    }
   },
   "source": [
    "## DataFrame\n",
    "\n",
    "- Un `DataFrame` pandas contiene dati strutturati in forma tabulare, dove in genere\n",
    "  - ogni riga della tabella rappresenta un elemento dell'insieme che si sta analizzando (una persona, un territorio, ...)\n",
    "  - ogni colonna rappresenta una caratteristica di interesse (_feature_) degli elementi (età, popolazione, ...)\n",
    "- Un DataFrame è assimilabile ad una serie, ma in due dimensioni\n",
    "  - possiede molti metodi presenti anche nelle serie e negli array"
   ]
  },
  {
   "cell_type": "markdown",
   "metadata": {
    "slideshow": {
     "slide_type": "slide"
    }
   },
   "source": [
    "## Creare un DataFrame\n",
    "\n",
    "- Per creare un DataFrame possiamo passare un dizionario con una serie di valori per ciascuna colonna, la cui chiave è il nome\n",
    "  - l'indice delle serie, identico per tutte, è usato come indice delle righe del DataFrame"
   ]
  },
  {
   "cell_type": "code",
   "execution_count": 30,
   "metadata": {},
   "outputs": [],
   "source": [
    "census = pd.DataFrame({\n",
    "    \"population\": population,\n",
    "    \"from_abroad\": from_abroad,\n",
    "    \"area\": area_km2\n",
    "})"
   ]
  },
  {
   "cell_type": "markdown",
   "metadata": {
    "slideshow": {
     "slide_type": "slide"
    }
   },
   "source": [
    "- Visualizziamo le prime righe del DataFrame come esempio..."
   ]
  },
  {
   "cell_type": "code",
   "execution_count": 31,
   "metadata": {},
   "outputs": [
    {
     "data": {
      "text/html": [
       "<div>\n",
       "<style scoped>\n",
       "    .dataframe tbody tr th:only-of-type {\n",
       "        vertical-align: middle;\n",
       "    }\n",
       "\n",
       "    .dataframe tbody tr th {\n",
       "        vertical-align: top;\n",
       "    }\n",
       "\n",
       "    .dataframe thead th {\n",
       "        text-align: right;\n",
       "    }\n",
       "</style>\n",
       "<table border=\"1\" class=\"dataframe\">\n",
       "  <thead>\n",
       "    <tr style=\"text-align: right;\">\n",
       "      <th></th>\n",
       "      <th>population</th>\n",
       "      <th>from_abroad</th>\n",
       "      <th>area</th>\n",
       "    </tr>\n",
       "  </thead>\n",
       "  <tbody>\n",
       "    <tr>\n",
       "      <th>Alabama</th>\n",
       "      <td>4810126</td>\n",
       "      <td>16062</td>\n",
       "      <td>1.311714e+05</td>\n",
       "    </tr>\n",
       "    <tr>\n",
       "      <th>Alaska</th>\n",
       "      <td>731760</td>\n",
       "      <td>6559</td>\n",
       "      <td>1.477960e+06</td>\n",
       "    </tr>\n",
       "    <tr>\n",
       "      <th>Arizona</th>\n",
       "      <td>6851836</td>\n",
       "      <td>53749</td>\n",
       "      <td>2.942087e+05</td>\n",
       "    </tr>\n",
       "    <tr>\n",
       "      <th>Arkansas</th>\n",
       "      <td>2949650</td>\n",
       "      <td>9051</td>\n",
       "      <td>1.347719e+05</td>\n",
       "    </tr>\n",
       "    <tr>\n",
       "      <th>California</th>\n",
       "      <td>38783436</td>\n",
       "      <td>336614</td>\n",
       "      <td>4.034682e+05</td>\n",
       "    </tr>\n",
       "  </tbody>\n",
       "</table>\n",
       "</div>"
      ],
      "text/plain": [
       "            population  from_abroad          area\n",
       "Alabama        4810126        16062  1.311714e+05\n",
       "Alaska          731760         6559  1.477960e+06\n",
       "Arizona        6851836        53749  2.942087e+05\n",
       "Arkansas       2949650         9051  1.347719e+05\n",
       "California    38783436       336614  4.034682e+05"
      ]
     },
     "execution_count": 31,
     "metadata": {},
     "output_type": "execute_result"
    }
   ],
   "source": [
    "census.head(5)"
   ]
  },
  {
   "cell_type": "markdown",
   "metadata": {},
   "source": [
    "- In alto in grassetto sono scritti i nomi delle colonne, che costituiscono _l'indice delle colonne_\n",
    "- A sinistra sempre in grassetto sono scritti i nomi degli Stati, che costituiscono _l'indice delle righe_\n",
    "  - l'indice delle righe **non** conta come colonna"
   ]
  },
  {
   "cell_type": "markdown",
   "metadata": {
    "slideshow": {
     "slide_type": "slide"
    }
   },
   "source": [
    "- Un modo alternativo per creare un DataFrame è passare una matrice (array 2D) con i dati e vettori con nomi di righe e colonne\n",
    "- Ad esempio, possiamo convertire in DataFrame la matrice `state_to_state` che indica il numero di persone trasferitesi da uno Stato all'altro nell'ultimo anno\n",
    "- Creiamo il DataFrame passando i dati nella matrice e usando il vettore dei nomi `states` come indice sia delle righe (`index`) che delle colonne (`columns`)"
   ]
  },
  {
   "cell_type": "code",
   "execution_count": 32,
   "metadata": {},
   "outputs": [],
   "source": [
    "state_to_state = pd.DataFrame(state_to_state, index=states, columns=states)"
   ]
  },
  {
   "cell_type": "markdown",
   "metadata": {
    "slideshow": {
     "slide_type": "slide"
    }
   },
   "source": [
    "- Abbiamo così convertito la matrice in una tabella leggibile, di cui quì visualizziamo una parte"
   ]
  },
  {
   "cell_type": "code",
   "execution_count": 33,
   "metadata": {},
   "outputs": [
    {
     "data": {
      "text/html": [
       "<div>\n",
       "<style scoped>\n",
       "    .dataframe tbody tr th:only-of-type {\n",
       "        vertical-align: middle;\n",
       "    }\n",
       "\n",
       "    .dataframe tbody tr th {\n",
       "        vertical-align: top;\n",
       "    }\n",
       "\n",
       "    .dataframe thead th {\n",
       "        text-align: right;\n",
       "    }\n",
       "</style>\n",
       "<table border=\"1\" class=\"dataframe\">\n",
       "  <thead>\n",
       "    <tr style=\"text-align: right;\">\n",
       "      <th></th>\n",
       "      <th>Alabama</th>\n",
       "      <th>Alaska</th>\n",
       "      <th>Arizona</th>\n",
       "      <th>Arkansas</th>\n",
       "      <th>California</th>\n",
       "    </tr>\n",
       "  </thead>\n",
       "  <tbody>\n",
       "    <tr>\n",
       "      <th>Alabama</th>\n",
       "      <td>0</td>\n",
       "      <td>576</td>\n",
       "      <td>1022</td>\n",
       "      <td>495</td>\n",
       "      <td>6611</td>\n",
       "    </tr>\n",
       "    <tr>\n",
       "      <th>Alaska</th>\n",
       "      <td>423</td>\n",
       "      <td>0</td>\n",
       "      <td>1176</td>\n",
       "      <td>65</td>\n",
       "      <td>3593</td>\n",
       "    </tr>\n",
       "    <tr>\n",
       "      <th>Arizona</th>\n",
       "      <td>894</td>\n",
       "      <td>1946</td>\n",
       "      <td>0</td>\n",
       "      <td>1205</td>\n",
       "      <td>64756</td>\n",
       "    </tr>\n",
       "    <tr>\n",
       "      <th>Arkansas</th>\n",
       "      <td>2057</td>\n",
       "      <td>103</td>\n",
       "      <td>836</td>\n",
       "      <td>0</td>\n",
       "      <td>4026</td>\n",
       "    </tr>\n",
       "    <tr>\n",
       "      <th>California</th>\n",
       "      <td>3045</td>\n",
       "      <td>4206</td>\n",
       "      <td>33757</td>\n",
       "      <td>4282</td>\n",
       "      <td>0</td>\n",
       "    </tr>\n",
       "    <tr>\n",
       "      <th>Colorado</th>\n",
       "      <td>2328</td>\n",
       "      <td>1698</td>\n",
       "      <td>13015</td>\n",
       "      <td>808</td>\n",
       "      <td>26909</td>\n",
       "    </tr>\n",
       "    <tr>\n",
       "      <th>Connecticut</th>\n",
       "      <td>1102</td>\n",
       "      <td>331</td>\n",
       "      <td>309</td>\n",
       "      <td>960</td>\n",
       "      <td>3979</td>\n",
       "    </tr>\n",
       "  </tbody>\n",
       "</table>\n",
       "</div>"
      ],
      "text/plain": [
       "             Alabama  Alaska  Arizona  Arkansas  California\n",
       "Alabama            0     576     1022       495        6611\n",
       "Alaska           423       0     1176        65        3593\n",
       "Arizona          894    1946        0      1205       64756\n",
       "Arkansas        2057     103      836         0        4026\n",
       "California      3045    4206    33757      4282           0\n",
       "Colorado        2328    1698    13015       808       26909\n",
       "Connecticut     1102     331      309       960        3979"
      ]
     },
     "execution_count": 33,
     "metadata": {},
     "output_type": "execute_result"
    }
   ],
   "source": [
    "state_to_state.iloc[:7, :5]"
   ]
  },
  {
   "cell_type": "markdown",
   "metadata": {},
   "source": [
    "- Ogni riga rappresenta lo stato di destinazione, ogni colonna lo stato d'origine\n",
    "  - ad esempio, 423 persone si sono trasferite dall'Alabama all'Alaska"
   ]
  },
  {
   "cell_type": "markdown",
   "metadata": {
    "slideshow": {
     "slide_type": "slide"
    }
   },
   "source": [
    "## Estrarre ed Aggiungere Colonne\n",
    "\n",
    "- Il DataFrame è utilizzabile come un dizionario i cui valori sono le colonne e le chiavi i loro nomi\n",
    "- Selezionando una chiave, viene restituita la colonna con quel nome in forma di serie\n",
    "  - l'indice della serie restituita è l'indice del DataFrame"
   ]
  },
  {
   "cell_type": "code",
   "execution_count": 34,
   "metadata": {},
   "outputs": [
    {
     "data": {
      "text/plain": [
       "Alabama    4810126\n",
       "Alaska      731760\n",
       "Arizona    6851836\n",
       "Name: population, dtype: int64"
      ]
     },
     "execution_count": 34,
     "metadata": {},
     "output_type": "execute_result"
    }
   ],
   "source": [
    "census[\"population\"]   .head(3)"
   ]
  },
  {
   "cell_type": "markdown",
   "metadata": {
    "slideshow": {
     "slide_type": "slide"
    }
   },
   "source": [
    "- Seguendo la stessa logica, è possibile aggiungere colonne assegnando una serie di valori ad un nome\n",
    "  - se una colonna col nome dato esiste già, viene sovrascritta\n",
    "  - se viene passata una serie, i valori sono assegnati per corrispondenza tra etichette e indice delle righe\n",
    "- Questo permette di creare facilmente colonne con valori derivati dalle altre\n",
    "- Ad esempio, per aggiungere una colonna con la densità di popolazione _(senza usare la serie creata in precedenza)_:"
   ]
  },
  {
   "cell_type": "code",
   "execution_count": 35,
   "metadata": {},
   "outputs": [],
   "source": [
    "census[\"density\"] = census[\"population\"] / census[\"area\"]"
   ]
  },
  {
   "cell_type": "markdown",
   "metadata": {
    "slideshow": {
     "slide_type": "slide"
    }
   },
   "source": [
    "- La colonna viene così aggiunta a destra nel DataFrame:"
   ]
  },
  {
   "cell_type": "code",
   "execution_count": 36,
   "metadata": {},
   "outputs": [
    {
     "data": {
      "text/html": [
       "<div>\n",
       "<style scoped>\n",
       "    .dataframe tbody tr th:only-of-type {\n",
       "        vertical-align: middle;\n",
       "    }\n",
       "\n",
       "    .dataframe tbody tr th {\n",
       "        vertical-align: top;\n",
       "    }\n",
       "\n",
       "    .dataframe thead th {\n",
       "        text-align: right;\n",
       "    }\n",
       "</style>\n",
       "<table border=\"1\" class=\"dataframe\">\n",
       "  <thead>\n",
       "    <tr style=\"text-align: right;\">\n",
       "      <th></th>\n",
       "      <th>population</th>\n",
       "      <th>from_abroad</th>\n",
       "      <th>area</th>\n",
       "      <th>density</th>\n",
       "    </tr>\n",
       "  </thead>\n",
       "  <tbody>\n",
       "    <tr>\n",
       "      <th>Alabama</th>\n",
       "      <td>4810126</td>\n",
       "      <td>16062</td>\n",
       "      <td>1.311714e+05</td>\n",
       "      <td>36.670538</td>\n",
       "    </tr>\n",
       "    <tr>\n",
       "      <th>Alaska</th>\n",
       "      <td>731760</td>\n",
       "      <td>6559</td>\n",
       "      <td>1.477960e+06</td>\n",
       "      <td>0.495115</td>\n",
       "    </tr>\n",
       "    <tr>\n",
       "      <th>Arizona</th>\n",
       "      <td>6851836</td>\n",
       "      <td>53749</td>\n",
       "      <td>2.942087e+05</td>\n",
       "      <td>23.289035</td>\n",
       "    </tr>\n",
       "    <tr>\n",
       "      <th>Arkansas</th>\n",
       "      <td>2949650</td>\n",
       "      <td>9051</td>\n",
       "      <td>1.347719e+05</td>\n",
       "      <td>21.886240</td>\n",
       "    </tr>\n",
       "    <tr>\n",
       "      <th>California</th>\n",
       "      <td>38783436</td>\n",
       "      <td>336614</td>\n",
       "      <td>4.034682e+05</td>\n",
       "      <td>96.125142</td>\n",
       "    </tr>\n",
       "  </tbody>\n",
       "</table>\n",
       "</div>"
      ],
      "text/plain": [
       "            population  from_abroad          area    density\n",
       "Alabama        4810126        16062  1.311714e+05  36.670538\n",
       "Alaska          731760         6559  1.477960e+06   0.495115\n",
       "Arizona        6851836        53749  2.942087e+05  23.289035\n",
       "Arkansas       2949650         9051  1.347719e+05  21.886240\n",
       "California    38783436       336614  4.034682e+05  96.125142"
      ]
     },
     "execution_count": 36,
     "metadata": {},
     "output_type": "execute_result"
    }
   ],
   "source": [
    "census.head(5)"
   ]
  },
  {
   "cell_type": "markdown",
   "metadata": {
    "slideshow": {
     "slide_type": "slide"
    }
   },
   "source": [
    "## Statistiche sui Dati\n",
    "\n",
    "- Anche sui DataFrame sono disponibili i metodi `sum`, `mean`, `min`, ... per aggregare i dati\n",
    "- Di default, restituiscono una serie con la statistica calcolata colonna per colonna"
   ]
  },
  {
   "cell_type": "code",
   "execution_count": 37,
   "metadata": {},
   "outputs": [
    {
     "data": {
      "text/plain": [
       "population     6.261999e+06\n",
       "from_abroad    4.307184e+04\n",
       "area           1.793654e+05\n",
       "density        1.585860e+02\n",
       "dtype: float64"
      ]
     },
     "execution_count": 37,
     "metadata": {},
     "output_type": "execute_result"
    }
   ],
   "source": [
    "# medie per Stato\n",
    "census.mean()"
   ]
  },
  {
   "cell_type": "code",
   "execution_count": 38,
   "metadata": {},
   "outputs": [
    {
     "data": {
      "text/plain": [
       "population     3.193620e+08\n",
       "from_abroad    2.196664e+06\n",
       "area           9.147635e+06\n",
       "density        8.087884e+03\n",
       "dtype: float64"
      ]
     },
     "execution_count": 38,
     "metadata": {},
     "output_type": "execute_result"
    }
   ],
   "source": [
    "# somme per ciascuno Stato\n",
    "census.sum()"
   ]
  },
  {
   "cell_type": "markdown",
   "metadata": {},
   "source": [
    "- Si noti che non sempre tutte le statistiche che si possono estrarre sono significative: ad esempio la somma ha senso sulla popolazione e sull'area, ma non sulla densità"
   ]
  },
  {
   "cell_type": "markdown",
   "metadata": {
    "slideshow": {
     "slide_type": "slide"
    }
   },
   "source": [
    "- Il metodo `describe` fornisce rapidamente un'insieme di statistiche sui valori di ciascuna colonna, utili ad analizzarne la distribuzione"
   ]
  },
  {
   "cell_type": "code",
   "execution_count": 39,
   "metadata": {},
   "outputs": [
    {
     "data": {
      "text/html": [
       "<div>\n",
       "<style scoped>\n",
       "    .dataframe tbody tr th:only-of-type {\n",
       "        vertical-align: middle;\n",
       "    }\n",
       "\n",
       "    .dataframe tbody tr th {\n",
       "        vertical-align: top;\n",
       "    }\n",
       "\n",
       "    .dataframe thead th {\n",
       "        text-align: right;\n",
       "    }\n",
       "</style>\n",
       "<table border=\"1\" class=\"dataframe\">\n",
       "  <thead>\n",
       "    <tr style=\"text-align: right;\">\n",
       "      <th></th>\n",
       "      <th>population</th>\n",
       "      <th>from_abroad</th>\n",
       "      <th>area</th>\n",
       "      <th>density</th>\n",
       "    </tr>\n",
       "  </thead>\n",
       "  <tbody>\n",
       "    <tr>\n",
       "      <th>count</th>\n",
       "      <td>5.100000e+01</td>\n",
       "      <td>51.000000</td>\n",
       "      <td>5.100000e+01</td>\n",
       "      <td>51.000000</td>\n",
       "    </tr>\n",
       "    <tr>\n",
       "      <th>mean</th>\n",
       "      <td>6.261999e+06</td>\n",
       "      <td>43071.843137</td>\n",
       "      <td>1.793654e+05</td>\n",
       "      <td>158.585968</td>\n",
       "    </tr>\n",
       "    <tr>\n",
       "      <th>std</th>\n",
       "      <td>7.156688e+06</td>\n",
       "      <td>65074.514352</td>\n",
       "      <td>2.215125e+05</td>\n",
       "      <td>592.990817</td>\n",
       "    </tr>\n",
       "    <tr>\n",
       "      <th>min</th>\n",
       "      <td>5.775670e+05</td>\n",
       "      <td>2105.000000</td>\n",
       "      <td>1.581195e+02</td>\n",
       "      <td>0.495115</td>\n",
       "    </tr>\n",
       "    <tr>\n",
       "      <th>25%</th>\n",
       "      <td>1.737232e+06</td>\n",
       "      <td>8790.000000</td>\n",
       "      <td>8.633639e+04</td>\n",
       "      <td>18.459321</td>\n",
       "    </tr>\n",
       "    <tr>\n",
       "      <th>50%</th>\n",
       "      <td>4.385213e+06</td>\n",
       "      <td>19460.000000</td>\n",
       "      <td>1.388881e+05</td>\n",
       "      <td>40.722584</td>\n",
       "    </tr>\n",
       "    <tr>\n",
       "      <th>75%</th>\n",
       "      <td>7.026978e+06</td>\n",
       "      <td>52012.000000</td>\n",
       "      <td>2.089942e+05</td>\n",
       "      <td>86.390197</td>\n",
       "    </tr>\n",
       "    <tr>\n",
       "      <th>max</th>\n",
       "      <td>3.878344e+07</td>\n",
       "      <td>336614.000000</td>\n",
       "      <td>1.477960e+06</td>\n",
       "      <td>4250.089331</td>\n",
       "    </tr>\n",
       "  </tbody>\n",
       "</table>\n",
       "</div>"
      ],
      "text/plain": [
       "         population    from_abroad          area      density\n",
       "count  5.100000e+01      51.000000  5.100000e+01    51.000000\n",
       "mean   6.261999e+06   43071.843137  1.793654e+05   158.585968\n",
       "std    7.156688e+06   65074.514352  2.215125e+05   592.990817\n",
       "min    5.775670e+05    2105.000000  1.581195e+02     0.495115\n",
       "25%    1.737232e+06    8790.000000  8.633639e+04    18.459321\n",
       "50%    4.385213e+06   19460.000000  1.388881e+05    40.722584\n",
       "75%    7.026978e+06   52012.000000  2.089942e+05    86.390197\n",
       "max    3.878344e+07  336614.000000  1.477960e+06  4250.089331"
      ]
     },
     "execution_count": 39,
     "metadata": {},
     "output_type": "execute_result"
    }
   ],
   "source": [
    "census.describe()"
   ]
  },
  {
   "cell_type": "markdown",
   "metadata": {
    "slideshow": {
     "slide_type": "slide"
    }
   },
   "source": [
    "La tabella ottenuta mostra:\n",
    "- `count` = valori non mancanti (51 in tutte e tre le colonne)\n",
    "- `mean` = media (ad es. la popolazione media per stato è di 6,26 milioni di abitanti)\n",
    "- `std` = deviazione standard\n",
    "- `min`/`max` = valori minimo/massimo\n",
    "- `25%`/`50%`/`75%` = percentili (ad es. il 25% degli stati ha densità di popolazione inferiore a 18,46 abitanti per km²)"
   ]
  },
  {
   "cell_type": "markdown",
   "metadata": {
    "slideshow": {
     "slide_type": "slide"
    }
   },
   "source": [
    "- Normalmente le statistiche sono calcolate per colonne (riducendo le righe), in quanto si tratta dell'esigenza più comune\n",
    "  - nella tabella `census`, così come in tanti altri casi pratici, ogni colonna ha valori in scale diverse, non ha senso calcolare somma, media, ecc. per riga\n",
    "  - `sum()` in un DataFrame corrisponde in pratica a `sum(0)` in una matrice NumPy\n",
    "- Nel caso si vogliano calcolare le statistiche per righe (riducendo le colonne), si può specificare `axis=1`\n",
    "  - questo corrisponde in pratica a `sum(1)` su una matrice NumPy"
   ]
  },
  {
   "cell_type": "markdown",
   "metadata": {
    "slideshow": {
     "slide_type": "slide"
    }
   },
   "source": [
    "- Ad esempio, applicando `sum()` in modo standard al DataFrame `state_to_state`, otteniamo il totale di abitanti trasferitisi **da** ogni stato (colonne)..."
   ]
  },
  {
   "cell_type": "code",
   "execution_count": 40,
   "metadata": {},
   "outputs": [
    {
     "data": {
      "text/plain": [
       "Alabama     99892\n",
       "Alaska      42074\n",
       "Arizona    192103\n",
       "dtype: int64"
      ]
     },
     "execution_count": 40,
     "metadata": {},
     "output_type": "execute_result"
    }
   ],
   "source": [
    "state_to_state.sum()   .head(3)"
   ]
  },
  {
   "cell_type": "markdown",
   "metadata": {},
   "source": [
    "- ...mentre applicando `sum(axis=1)` otteniamo il totale di abitanti trasferitisi **verso** ogni stato (righe)..."
   ]
  },
  {
   "cell_type": "code",
   "execution_count": 41,
   "metadata": {},
   "outputs": [
    {
     "data": {
      "text/plain": [
       "Alabama    122220\n",
       "Alaska      31300\n",
       "Arizona    273257\n",
       "dtype: int64"
      ]
     },
     "execution_count": 41,
     "metadata": {},
     "output_type": "execute_result"
    }
   ],
   "source": [
    "state_to_state.sum(axis=1)   .head(3)"
   ]
  },
  {
   "cell_type": "markdown",
   "metadata": {},
   "source": [
    "- ...che è esattamente quanto riportato nella serie `other_state`: possiamo verificarlo col metodo `equals` che indica se due serie sono identiche"
   ]
  },
  {
   "cell_type": "code",
   "execution_count": 42,
   "metadata": {},
   "outputs": [
    {
     "data": {
      "text/plain": [
       "True"
      ]
     },
     "execution_count": 42,
     "metadata": {},
     "output_type": "execute_result"
    }
   ],
   "source": [
    "state_to_state.sum(axis=1).equals(other_state)"
   ]
  },
  {
   "cell_type": "markdown",
   "metadata": {
    "slideshow": {
     "slide_type": "slide"
    }
   },
   "source": [
    "## Selezione\n",
    "\n",
    "- Per selezionare una porzione di DataFrame, vanno indicate le righe che le colonne da includere\n",
    "- Esistono diversi _selettori_, che consentono di selezionare parti di un DataFrame `X` in modo diverso:\n",
    "  - `X.loc[...]` seleziona righe e colonne specificate **per etichetta** (es.: colonna \"population\")\n",
    "  - `X.iloc[...]` seleziona righe e colonne specificate **per posizione** (es.: colonna 0)\n",
    "- In entrambi i casi vanno specificate righe e colonne da selezionare come avviene nelle matrici\n",
    "  - si può selezionare per valore singolo, intervallo, lista di valori o serie booleana\n",
    "  - `:` indica di selezionare tutte le righe o le colonne, se usato per le colonne può essere omesso"
   ]
  },
  {
   "cell_type": "markdown",
   "metadata": {
    "slideshow": {
     "slide_type": "slide"
    }
   },
   "source": [
    "- Ad esempio, abbiamo già visto sopra come selezionare solamente le prime righe e colonne di un DataFrame:"
   ]
  },
  {
   "cell_type": "code",
   "execution_count": 43,
   "metadata": {},
   "outputs": [
    {
     "data": {
      "text/html": [
       "<div>\n",
       "<style scoped>\n",
       "    .dataframe tbody tr th:only-of-type {\n",
       "        vertical-align: middle;\n",
       "    }\n",
       "\n",
       "    .dataframe tbody tr th {\n",
       "        vertical-align: top;\n",
       "    }\n",
       "\n",
       "    .dataframe thead th {\n",
       "        text-align: right;\n",
       "    }\n",
       "</style>\n",
       "<table border=\"1\" class=\"dataframe\">\n",
       "  <thead>\n",
       "    <tr style=\"text-align: right;\">\n",
       "      <th></th>\n",
       "      <th>Alabama</th>\n",
       "      <th>Alaska</th>\n",
       "      <th>Arizona</th>\n",
       "      <th>Arkansas</th>\n",
       "      <th>California</th>\n",
       "    </tr>\n",
       "  </thead>\n",
       "  <tbody>\n",
       "    <tr>\n",
       "      <th>Alabama</th>\n",
       "      <td>0</td>\n",
       "      <td>576</td>\n",
       "      <td>1022</td>\n",
       "      <td>495</td>\n",
       "      <td>6611</td>\n",
       "    </tr>\n",
       "    <tr>\n",
       "      <th>Alaska</th>\n",
       "      <td>423</td>\n",
       "      <td>0</td>\n",
       "      <td>1176</td>\n",
       "      <td>65</td>\n",
       "      <td>3593</td>\n",
       "    </tr>\n",
       "    <tr>\n",
       "      <th>Arizona</th>\n",
       "      <td>894</td>\n",
       "      <td>1946</td>\n",
       "      <td>0</td>\n",
       "      <td>1205</td>\n",
       "      <td>64756</td>\n",
       "    </tr>\n",
       "  </tbody>\n",
       "</table>\n",
       "</div>"
      ],
      "text/plain": [
       "         Alabama  Alaska  Arizona  Arkansas  California\n",
       "Alabama        0     576     1022       495        6611\n",
       "Alaska       423       0     1176        65        3593\n",
       "Arizona      894    1946        0      1205       64756"
      ]
     },
     "execution_count": 43,
     "metadata": {},
     "output_type": "execute_result"
    }
   ],
   "source": [
    "state_to_state.iloc[:3, :5]"
   ]
  },
  {
   "cell_type": "markdown",
   "metadata": {},
   "source": [
    "- Selezionando una singola riga di un DataFrame, otteniamo una serie con i valori di tutte le colonne"
   ]
  },
  {
   "cell_type": "code",
   "execution_count": 44,
   "metadata": {},
   "outputs": [
    {
     "data": {
      "text/plain": [
       "population     3.878344e+07\n",
       "from_abroad    3.366140e+05\n",
       "area           4.034682e+05\n",
       "density        9.612514e+01\n",
       "Name: California, dtype: float64"
      ]
     },
     "execution_count": 44,
     "metadata": {},
     "output_type": "execute_result"
    }
   ],
   "source": [
    "census.loc[\"California\", :]   # \", :\" può essere omesso"
   ]
  },
  {
   "cell_type": "markdown",
   "metadata": {
    "slideshow": {
     "slide_type": "slide"
    }
   },
   "source": [
    "- Usando serie booleane, possiamo selezionare righe (o colonne) per condizioni"
   ]
  },
  {
   "cell_type": "code",
   "execution_count": 45,
   "metadata": {},
   "outputs": [
    {
     "data": {
      "text/html": [
       "<div>\n",
       "<style scoped>\n",
       "    .dataframe tbody tr th:only-of-type {\n",
       "        vertical-align: middle;\n",
       "    }\n",
       "\n",
       "    .dataframe tbody tr th {\n",
       "        vertical-align: top;\n",
       "    }\n",
       "\n",
       "    .dataframe thead th {\n",
       "        text-align: right;\n",
       "    }\n",
       "</style>\n",
       "<table border=\"1\" class=\"dataframe\">\n",
       "  <thead>\n",
       "    <tr style=\"text-align: right;\">\n",
       "      <th></th>\n",
       "      <th>population</th>\n",
       "      <th>from_abroad</th>\n",
       "      <th>area</th>\n",
       "      <th>density</th>\n",
       "    </tr>\n",
       "  </thead>\n",
       "  <tbody>\n",
       "    <tr>\n",
       "      <th>District of Columbia</th>\n",
       "      <td>672022</td>\n",
       "      <td>11155</td>\n",
       "      <td>158.1195</td>\n",
       "      <td>4250.089331</td>\n",
       "    </tr>\n",
       "    <tr>\n",
       "      <th>Vermont</th>\n",
       "      <td>619387</td>\n",
       "      <td>2113</td>\n",
       "      <td>23871.1494</td>\n",
       "      <td>25.947096</td>\n",
       "    </tr>\n",
       "    <tr>\n",
       "      <th>Wyoming</th>\n",
       "      <td>577567</td>\n",
       "      <td>2105</td>\n",
       "      <td>251471.2326</td>\n",
       "      <td>2.296752</td>\n",
       "    </tr>\n",
       "  </tbody>\n",
       "</table>\n",
       "</div>"
      ],
      "text/plain": [
       "                      population  from_abroad         area      density\n",
       "District of Columbia      672022        11155     158.1195  4250.089331\n",
       "Vermont                   619387         2113   23871.1494    25.947096\n",
       "Wyoming                   577567         2105  251471.2326     2.296752"
      ]
     },
     "execution_count": 45,
     "metadata": {},
     "output_type": "execute_result"
    }
   ],
   "source": [
    "# righe relative agli Stati con meno di 700.000 abitanti\n",
    "census.loc[census[\"population\"] < 700000]"
   ]
  },
  {
   "cell_type": "code",
   "execution_count": 46,
   "metadata": {},
   "outputs": [
    {
     "data": {
      "text/plain": [
       "Delaware                 186.670404\n",
       "District of Columbia    4250.089331\n",
       "Rhode Island             390.537622\n",
       "Name: density, dtype: float64"
      ]
     },
     "execution_count": 46,
     "metadata": {},
     "output_type": "execute_result"
    }
   ],
   "source": [
    "# sole densità di popolazione relative a Stati con superficie inferiore di 10.000 km²\n",
    "census.loc[census[\"area\"] < 10000, \"density\"]"
   ]
  },
  {
   "cell_type": "markdown",
   "metadata": {
    "slideshow": {
     "slide_type": "slide"
    }
   },
   "source": [
    "## Ordinamento\n",
    "\n",
    "- La funzione `sort_values` restituisce una copia del DataFrame con le righe ordinate secondo i valori di una o più colonne\n",
    "- Possiamo usarla ad esempio per visualizzare i 5 Stati più popolati\n",
    "  - specifichiamo `ascending=False` per ottenere un ordinamento decrescente"
   ]
  },
  {
   "cell_type": "code",
   "execution_count": 47,
   "metadata": {},
   "outputs": [
    {
     "data": {
      "text/html": [
       "<div>\n",
       "<style scoped>\n",
       "    .dataframe tbody tr th:only-of-type {\n",
       "        vertical-align: middle;\n",
       "    }\n",
       "\n",
       "    .dataframe tbody tr th {\n",
       "        vertical-align: top;\n",
       "    }\n",
       "\n",
       "    .dataframe thead th {\n",
       "        text-align: right;\n",
       "    }\n",
       "</style>\n",
       "<table border=\"1\" class=\"dataframe\">\n",
       "  <thead>\n",
       "    <tr style=\"text-align: right;\">\n",
       "      <th></th>\n",
       "      <th>population</th>\n",
       "      <th>from_abroad</th>\n",
       "      <th>area</th>\n",
       "      <th>density</th>\n",
       "    </tr>\n",
       "  </thead>\n",
       "  <tbody>\n",
       "    <tr>\n",
       "      <th>California</th>\n",
       "      <td>38783436</td>\n",
       "      <td>336614</td>\n",
       "      <td>403468.1798</td>\n",
       "      <td>96.125142</td>\n",
       "    </tr>\n",
       "    <tr>\n",
       "      <th>Texas</th>\n",
       "      <td>27472626</td>\n",
       "      <td>234749</td>\n",
       "      <td>676590.1289</td>\n",
       "      <td>40.604533</td>\n",
       "    </tr>\n",
       "    <tr>\n",
       "      <th>Florida</th>\n",
       "      <td>20401575</td>\n",
       "      <td>232838</td>\n",
       "      <td>138888.1284</td>\n",
       "      <td>146.892144</td>\n",
       "    </tr>\n",
       "    <tr>\n",
       "      <th>New York</th>\n",
       "      <td>19526443</td>\n",
       "      <td>166069</td>\n",
       "      <td>122057.3760</td>\n",
       "      <td>159.977575</td>\n",
       "    </tr>\n",
       "    <tr>\n",
       "      <th>Illinois</th>\n",
       "      <td>12654142</td>\n",
       "      <td>65886</td>\n",
       "      <td>143794.0287</td>\n",
       "      <td>88.001860</td>\n",
       "    </tr>\n",
       "  </tbody>\n",
       "</table>\n",
       "</div>"
      ],
      "text/plain": [
       "            population  from_abroad         area     density\n",
       "California    38783436       336614  403468.1798   96.125142\n",
       "Texas         27472626       234749  676590.1289   40.604533\n",
       "Florida       20401575       232838  138888.1284  146.892144\n",
       "New York      19526443       166069  122057.3760  159.977575\n",
       "Illinois      12654142        65886  143794.0287   88.001860"
      ]
     },
     "execution_count": 47,
     "metadata": {},
     "output_type": "execute_result"
    }
   ],
   "source": [
    "census.sort_values(\"population\", ascending=False).head(5)"
   ]
  },
  {
   "cell_type": "markdown",
   "metadata": {
    "slideshow": {
     "slide_type": "slide"
    }
   },
   "source": [
    "## Esercizi B: DataFrame\n",
    "\n",
    "Estrarre le risposte dai DataFrame, estraendo colonne da di esse dove necessario. Non usare le serie create in precedenza.\n",
    "\n",
    "- **1)** Qual è la superficie della California?\n",
    "- **2)** Qual è la popolazione (colonna 0) del 13° Stato nella tabella?\n",
    "- **3)** Qual è la densità di popolazione dello Stato più piccolo\n",
    "- **4)** Qual è lo Stato da cui sono emigrate più persone nello scorso anno verso altri Stati?\n",
    "- **5)** Qual è la popolazione media degli Stati con almeno l'1% di popolazione immigrato dall'estero nell'ultimo anno?"
   ]
  }
 ],
 "metadata": {
  "kernelspec": {
   "display_name": "DIA",
   "language": "python",
   "name": "dia"
  },
  "language_info": {
   "codemirror_mode": {
    "name": "ipython",
    "version": 3
   },
   "file_extension": ".py",
   "mimetype": "text/x-python",
   "name": "python",
   "nbconvert_exporter": "python",
   "pygments_lexer": "ipython3",
   "version": "3.6.7"
  }
 },
 "nbformat": 4,
 "nbformat_minor": 2
}
