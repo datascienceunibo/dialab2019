{
 "cells": [
  {
   "cell_type": "markdown",
   "metadata": {
    "slideshow": {
     "slide_type": "slide"
    }
   },
   "source": [
    "# Laboratorio: Recommendation con Algebra Lineare e NumPy\n",
    "\n",
    "**Programmazione di Applicazioni Data Intensive**  \n",
    "Laurea in Ingegneria e Scienze Informatiche  \n",
    "DISI - Università di Bologna, Cesena\n",
    "\n",
    "Proff. Gianluca Moro, Roberto Pasolini  \n",
    "nome.cognome@unibo.it"
   ]
  },
  {
   "cell_type": "markdown",
   "metadata": {
    "slideshow": {
     "slide_type": "slide"
    }
   },
   "source": [
    "## Recommendation: da strutture dati Python a matrici NumPy\n",
    "\n",
    "- Nella scorsa esercitazione abbiamo introdotto la recommendation di prodotti\n",
    "  - sappiamo quali utenti di un sito di e-commerce hanno acquistato quali prodotti\n",
    "  - vogliamo fornire suggerimenti personalizzati a ciascun utente su quali ulteriori prodotti dovrebbe acquistare\n",
    "- Abbiamo implementato una soluzione utilizzando le strutture dati e le funzioni standard di Python\n",
    "  - dizionari, insiemi, comprehension, ...\n",
    "- In questa esercitazione ripetiamo gli stessi passaggi usando array NumPy\n",
    "- Vediamo così come un problema reale si possa modellare nell'ambito dell'algebra lineare e risolvere tramite semplici operazioni tra matrici"
   ]
  },
  {
   "cell_type": "markdown",
   "metadata": {
    "slideshow": {
     "slide_type": "slide"
    }
   },
   "source": [
    "## Scaricamento File Dati\n",
    "\n",
    "- Riutilizziamo i dati della scorsa esercitazione, scaricabili all'URL https://git.io/fhxQh\n",
    "- Se state usando Binder, avete già i file nella directory corrente\n",
    "- Altrimenti, eseguite la seguente cella di codice per scaricare il file ZIP dall'URL sopra ed estrarne i file"
   ]
  },
  {
   "cell_type": "code",
   "execution_count": 1,
   "metadata": {},
   "outputs": [],
   "source": [
    "import os.path\n",
    "if not os.path.exists(\"purchases_data.zip\"):\n",
    "    from urllib.request import urlretrieve\n",
    "    urlretrieve(\"https://git.io/fhxQh\", \"purchases_data.zip\")\n",
    "    from zipfile import ZipFile\n",
    "    with ZipFile(\"purchases_data.zip\") as f:\n",
    "        f.extractall()"
   ]
  },
  {
   "cell_type": "markdown",
   "metadata": {},
   "source": [
    "## Caricamento Dati\n",
    "\n",
    "- Ripetiamo i passaggi della scorsa esercitazione per caricare i dati dai file\n",
    "  - il file `users.csv` contiene ID e nomi degli utenti analizzati: li carichiamo in un dizionario `users` che associ i nomi agli ID\n",
    "  - facciamo lo stesso col file `items.csv`, che contiene ID e nomi dei prodotti: otteniamo un dizionario `items`\n",
    "  - il file `purchases-2000.csv` contiene gli acquisti fino alla fine del 2000 in forma di tuple ID utente + ID prodotto: le carichiamo in un insieme `purchases_set`"
   ]
  },
  {
   "cell_type": "code",
   "execution_count": 16,
   "metadata": {},
   "outputs": [],
   "source": [
    "import csv\n",
    "with open(\"users.csv\", \"r\") as f:\n",
    "    users = {int(uid): name for uid, name in csv.reader(f, delimiter=\";\")}\n",
    "with open(\"items.csv\", \"r\") as f:\n",
    "    items = {int(iid): name for iid, name in csv.reader(f, delimiter=\";\")}\n",
    "with open(\"purchases-2000.csv\", \"r\") as f:\n",
    "    purchases_set = {(int(uid), int(iid)) for uid, iid in csv.reader(f, delimiter=\";\")}"
   ]
  },
  {
   "cell_type": "markdown",
   "metadata": {},
   "source": [
    "## Algebra Lineare e NumPy\n",
    "\n",
    "- Oggetto di studio dell'**algebra lineare** sono i vettori, le matrici e le principali operazioni tra di essi\n",
    "  - con vettori e matrici si possono rappresentare dati da analizzare\n",
    "  - informazioni d'interesse si possono estrarre con operazioni come il prodotto tra matrici\n",
    "- **NumPy** è la libreria Python _standard de facto_ per lavorare con array multidimensionali, inclusi vettori e matrici\n",
    "  - sugli array NumPy si possono compiere efficientemente operazioni elemento per elemento, aggregazioni, operazioni di algebra lineare, ecc.\n",
    "- Per lavorare con NumPy lo importiamo usando l'alias convenzionale `np`"
   ]
  },
  {
   "cell_type": "code",
   "execution_count": 5,
   "metadata": {},
   "outputs": [],
   "source": [
    "import sys\n",
    "sys.path.append(\"/home/rrobby/.local/lib/python3.5/site-packages\")"
   ]
  },
  {
   "cell_type": "code",
   "execution_count": 6,
   "metadata": {
    "collapsed": true
   },
   "outputs": [],
   "source": [
    "import numpy as np"
   ]
  },
  {
   "cell_type": "markdown",
   "metadata": {
    "slideshow": {
     "slide_type": "slide"
    }
   },
   "source": [
    "## Rappresentare gli Acquisti in forma di Matrice\n",
    "\n",
    "- L'insieme `purchases` degli acquisti degli utenti analizzati può essere rappresentato in una matrice binaria (ovvero di valori 0 e 1)\n",
    "  - ogni **riga** corrisponde ad un **utente**\n",
    "  - ogni **colonna** corrisponde ad un **prodotto** distinto\n",
    "  - il valore della cella _i,j_ è 1 se l'utente i ha acquistato il prodotto j, 0 altrimenti\n",
    "- Vediamo come costruire tale matrice"
   ]
  },
  {
   "cell_type": "markdown",
   "metadata": {},
   "source": [
    "### Assegnazione di Indici a Utenti e Prodotti\n",
    "\n",
    "- Iniziando definendo **a quali utenti e prodotti corrispondano** rispettivamente **righe e colonne** della matrice\n",
    "- Costruiamo un dizionario `user_indices` che associ ad ognuno degli N ID utente un numero tra 0 e N-1\n",
    "  - usiamo la funzione `enumerate` di Python per generare numeri progressivi da 0 a N-1: per ogni elemento di una collezione è restituita una tupla `(indice, elemento)`"
   ]
  },
  {
   "cell_type": "code",
   "execution_count": 8,
   "metadata": {},
   "outputs": [],
   "source": [
    "user_indices = {uid: index for index, uid in enumerate(users.keys())}"
   ]
  },
  {
   "cell_type": "markdown",
   "metadata": {},
   "source": [
    "- Eseguiamo un'operazione simile per ottenere un dizionario `item_indices` con la numerazione degli oggetti"
   ]
  },
  {
   "cell_type": "code",
   "execution_count": 9,
   "metadata": {},
   "outputs": [],
   "source": [
    "item_indices = {iid: index for index, iid in enumerate(items.keys())}"
   ]
  },
  {
   "cell_type": "markdown",
   "metadata": {},
   "source": [
    "- Abbiamo così ottenuto dizionari che mappano ID utenti e prodotti a righe e colonne della matrice\n",
    "- Ad esempio, la riga corrispondente all'utente con ID 63776 è..."
   ]
  },
  {
   "cell_type": "code",
   "execution_count": 14,
   "metadata": {},
   "outputs": [
    {
     "data": {
      "text/plain": [
       "101"
      ]
     },
     "execution_count": 14,
     "metadata": {},
     "output_type": "execute_result"
    }
   ],
   "source": [
    "user_indices[63776]"
   ]
  },
  {
   "cell_type": "markdown",
   "metadata": {},
   "source": [
    "### Inizializzazione della Matrice\n",
    "\n",
    "- Per allocare la matrice degli acquisti, definiamone dapprima la _forma_, ovvero il numero di righe e di colonne\n",
    "- Questi sono pari rispettivamente al numero di utenti e di prodotti, che salviamo in due variabili per comodità"
   ]
  },
  {
   "cell_type": "code",
   "execution_count": 15,
   "metadata": {},
   "outputs": [],
   "source": [
    "n_users = len(users)\n",
    "n_items = len(items)"
   ]
  },
  {
   "cell_type": "markdown",
   "metadata": {},
   "source": [
    "- Creiamo ora la matrice `purchases` inizializzando tutti i valori a 0, ovvero senza alcun acquisto\n",
    "- Usiamo per questo la funzione `zeros` passando la forma desiderata della matrice"
   ]
  },
  {
   "cell_type": "code",
   "execution_count": 20,
   "metadata": {},
   "outputs": [],
   "source": [
    "purchases = np.zeros((n_users, n_items), dtype=np.int8)"
   ]
  },
  {
   "cell_type": "markdown",
   "metadata": {},
   "source": [
    "### Scrittura Acquisti nella Matrice\n",
    "\n",
    "- Per ottenere la matrice degli acquisti effettiva, impostiamo ad 1 gli elementi corrispondenti alle coppie utente-oggetto nell'insieme `purchases_set`\n",
    "- Per ogni tupla, usiamo i dizionari `user_indices` e `item_indices` per individuare la posizione giusta nella matrice e impostiamo ad 1 il valore"
   ]
  },
  {
   "cell_type": "code",
   "execution_count": 21,
   "metadata": {},
   "outputs": [],
   "source": [
    "for uid, iid in purchases_set:\n",
    "    i = user_indices[uid]\n",
    "    j = item_indices[iid]\n",
    "    purchases[i, j] = 1"
   ]
  },
  {
   "cell_type": "markdown",
   "metadata": {},
   "source": [
    "- Visualizziamo una porzione della matrice caricata..."
   ]
  },
  {
   "cell_type": "code",
   "execution_count": 24,
   "metadata": {},
   "outputs": [
    {
     "data": {
      "text/plain": [
       "array([[0, 0, 1, 0, 0, 0, 0, 0, 0, 0, 0, 0, 0, 1, 0],\n",
       "       [0, 0, 0, 0, 0, 0, 0, 0, 0, 0, 0, 1, 0, 0, 0],\n",
       "       [0, 0, 0, 0, 0, 0, 0, 0, 0, 0, 0, 0, 0, 0, 0],\n",
       "       [0, 0, 0, 0, 0, 0, 0, 0, 0, 0, 0, 0, 0, 0, 0],\n",
       "       [0, 0, 0, 0, 0, 0, 0, 0, 0, 0, 0, 0, 0, 0, 0]], dtype=int8)"
      ]
     },
     "execution_count": 24,
     "metadata": {},
     "output_type": "execute_result"
    }
   ],
   "source": [
    "purchases[-5:, :15]   # ultime 5 righe, prime 15 colonne"
   ]
  },
  {
   "cell_type": "markdown",
   "metadata": {
    "slideshow": {
     "slide_type": "slide"
    }
   },
   "source": [
    "## Totali Acquisti\n",
    "\n",
    "- Col metodo `sum` possiamo effettuare la somma per righe e per colonne della matrice per individuare\n",
    "  - il numero totale di prodotti acquistati da ciascun utente\n",
    "  - il numero totale di utenti che hanno acquistato ciascun prodotto"
   ]
  },
  {
   "cell_type": "code",
   "execution_count": 25,
   "metadata": {
    "collapsed": true
   },
   "outputs": [],
   "source": [
    "users_purchases = purchases.sum(1)   # somma tutte le colonne\n",
    "items_purchases = purchases.sum(0)   # somma tutte le righe"
   ]
  },
  {
   "cell_type": "markdown",
   "metadata": {},
   "source": [
    "- Possiamo verificare che ogni utente considerato abbia almeno 30 acquisti"
   ]
  },
  {
   "cell_type": "code",
   "execution_count": 26,
   "metadata": {},
   "outputs": [
    {
     "data": {
      "text/plain": [
       "30"
      ]
     },
     "execution_count": 26,
     "metadata": {},
     "output_type": "execute_result"
    }
   ],
   "source": [
    "users_purchases.min()"
   ]
  },
  {
   "cell_type": "markdown",
   "metadata": {
    "slideshow": {
     "slide_type": "slide"
    }
   },
   "source": [
    "- Qual è il numero medio di prodotti acquistati per utente ?"
   ]
  },
  {
   "cell_type": "code",
   "execution_count": 27,
   "metadata": {},
   "outputs": [
    {
     "data": {
      "text/plain": [
       "54.39887640449438"
      ]
     },
     "execution_count": 27,
     "metadata": {},
     "output_type": "execute_result"
    }
   ],
   "source": [
    "mean_purchases = users_purchases.sum() / n_users\n",
    "mean_purchases"
   ]
  },
  {
   "cell_type": "markdown",
   "metadata": {},
   "source": [
    "- Qual è il numero max di prodotti acquistati da un qualche utente ?"
   ]
  },
  {
   "cell_type": "code",
   "execution_count": 28,
   "metadata": {},
   "outputs": [
    {
     "data": {
      "text/plain": [
       "242"
      ]
     },
     "execution_count": 28,
     "metadata": {},
     "output_type": "execute_result"
    }
   ],
   "source": [
    "users_purchases.max()"
   ]
  },
  {
   "cell_type": "markdown",
   "metadata": {},
   "source": [
    "_**Quesito:** quanti utenti hanno acquistato il prodotto più venduto?_"
   ]
  },
  {
   "cell_type": "markdown",
   "metadata": {
    "slideshow": {
     "slide_type": "slide"
    }
   },
   "source": [
    "## Similarità tra Utenti\n",
    "\n",
    "- Vogliamo suggerire prodotti agli utenti in base a **cos'hanno acquistato utenti simili**\n",
    "- Come determinare quanto due utenti siano \"simili\"?\n",
    "- Possiamo contare **quanti sono i prodotti che entrambi hanno acquistato**\n",
    "- Questo numero è dato dal **prodotto scalare delle righe** corrispondenti nella matrice degli acquisti\n",
    "  - questo è infatti la somma di ogni prodotto di valori corrispondenti, che è 1 dove entrambe le righe hanno 1 e 0 altrimenti\n",
    "- Ad es., il numero di acquisti in comune tra il primo e il secondo utente è ..."
   ]
  },
  {
   "cell_type": "code",
   "execution_count": 29,
   "metadata": {},
   "outputs": [
    {
     "data": {
      "text/plain": [
       "0"
      ]
     },
     "execution_count": 29,
     "metadata": {},
     "output_type": "execute_result"
    }
   ],
   "source": [
    "purchases[0].dot(purchases[1])"
   ]
  },
  {
   "cell_type": "markdown",
   "metadata": {
    "slideshow": {
     "slide_type": "slide"
    }
   },
   "source": [
    "### Matrice di Similarità\n",
    "\n",
    "- Per ottenere i prodotti scalari tra tutte le righe, possiamo **moltiplicare la matrice per la sua trasposta**\n",
    "  - si moltiplicano le righe della matrice originale per le colonne della trasposta, che corrispondono sempre alle righe dell'originale"
   ]
  },
  {
   "cell_type": "code",
   "execution_count": 30,
   "metadata": {
    "collapsed": true
   },
   "outputs": [],
   "source": [
    "common_purchases = purchases.dot(purchases.T)"
   ]
  },
  {
   "cell_type": "markdown",
   "metadata": {},
   "source": [
    "- Otteniamo una matrice quadrata simmetrica, di ordine pari al numero di utenti"
   ]
  },
  {
   "cell_type": "code",
   "execution_count": 31,
   "metadata": {},
   "outputs": [
    {
     "data": {
      "text/plain": [
       "True"
      ]
     },
     "execution_count": 31,
     "metadata": {},
     "output_type": "execute_result"
    }
   ],
   "source": [
    "# la matrice è uguale alla sua trasposta ?\n",
    "np.array_equal(common_purchases, common_purchases.T)"
   ]
  },
  {
   "cell_type": "code",
   "execution_count": 32,
   "metadata": {},
   "outputs": [
    {
     "data": {
      "text/plain": [
       "(178, 178)"
      ]
     },
     "execution_count": 32,
     "metadata": {},
     "output_type": "execute_result"
    }
   ],
   "source": [
    "common_purchases.shape"
   ]
  },
  {
   "cell_type": "markdown",
   "metadata": {
    "slideshow": {
     "slide_type": "slide"
    }
   },
   "source": [
    "- Visualizziamo un estratto della matrice..."
   ]
  },
  {
   "cell_type": "code",
   "execution_count": 33,
   "metadata": {},
   "outputs": [
    {
     "data": {
      "text/plain": [
       "array([[ 58,   0,   0,   1,   2,   2,   1,   1,   3,   1],\n",
       "       [  0,  40,   0,   1,   0,   3,   0,   0,   0,   0],\n",
       "       [  0,   0,  31,   1,   0,   2,   0,   0,   0,   0],\n",
       "       [  1,   1,   1,  37,   0,   1,   1,   1,   1,   0],\n",
       "       [  2,   0,   0,   0,  39,   0,   0,   1,   3,   0],\n",
       "       [  2,   3,   2,   1,   0, -77,   1,   1,   4,   0],\n",
       "       [  1,   0,   0,   1,   0,   1,  72,   3,   1,   0],\n",
       "       [  1,   0,   0,   1,   1,   1,   3,  41,   0,   0],\n",
       "       [  3,   0,   0,   1,   3,   4,   1,   0,  59,   0],\n",
       "       [  1,   0,   0,   0,   0,   0,   0,   0,   0,  55]], dtype=int8)"
      ]
     },
     "execution_count": 33,
     "metadata": {},
     "output_type": "execute_result"
    }
   ],
   "source": [
    "common_purchases[:10, :10]"
   ]
  },
  {
   "cell_type": "markdown",
   "metadata": {},
   "source": [
    "- ...possiamo ad esempio notare che\n",
    "  - tra i primi due utenti ci sono 4 oggetti acquistati in comune\n",
    "  - il primo ed il quarto utente non hanno alcun acquisto in comune"
   ]
  },
  {
   "cell_type": "markdown",
   "metadata": {
    "slideshow": {
     "slide_type": "slide"
    }
   },
   "source": [
    "### Diagonale della Matrice\n",
    "\n",
    "- La diagonale della matrice creata contiene i prodotti scalari di ciascuna riga della matrice originale con se stessa\n",
    "- Si può verificare che sono uguali alla somma delle colonne calcolata sopra"
   ]
  },
  {
   "cell_type": "code",
   "execution_count": 34,
   "metadata": {},
   "outputs": [
    {
     "data": {
      "text/plain": [
       "False"
      ]
     },
     "execution_count": 34,
     "metadata": {},
     "output_type": "execute_result"
    }
   ],
   "source": [
    "np.array_equal(common_purchases.diagonal(), users_purchases)"
   ]
  },
  {
   "cell_type": "markdown",
   "metadata": {},
   "source": [
    "- Prima di procedere, **impostiamo a 0 tutti i valori sulla diagonale** per far sì che tra i simili di ciascun utente non sia incluso lui stesso"
   ]
  },
  {
   "cell_type": "code",
   "execution_count": 35,
   "metadata": {},
   "outputs": [
    {
     "data": {
      "text/plain": [
       "array([[0, 0, 0, 1, 2],\n",
       "       [0, 0, 0, 1, 0],\n",
       "       [0, 0, 0, 1, 0],\n",
       "       [1, 1, 1, 0, 0],\n",
       "       [2, 0, 0, 0, 0]], dtype=int8)"
      ]
     },
     "execution_count": 35,
     "metadata": {},
     "output_type": "execute_result"
    }
   ],
   "source": [
    "# fill_diagonal imposta tutti gli elementi della diagonale al valore dato\n",
    "np.fill_diagonal(common_purchases, 0)\n",
    "common_purchases[:5, :5]"
   ]
  },
  {
   "cell_type": "markdown",
   "metadata": {},
   "source": [
    "_**Quesito:** qual è il massimo numero di prodotti in comune tra due utenti?_"
   ]
  },
  {
   "cell_type": "markdown",
   "metadata": {
    "slideshow": {
     "slide_type": "slide"
    }
   },
   "source": [
    "## Stimare il Potenziale Interesse nei Prodotti\n",
    "\n",
    "- Vogliamo stimare **quanto ciascun utente sia potenzialmente interessato** in ciascun prodotto non ancora acquistato\n",
    "- Possiamo stimarlo in base a quanto il prodotto sia stato acquistato da utenti simili\n",
    "- Moltiplichiamo la matrice degli acquisti comuni (che indica la similarità tra utenti) per quella degli acquisti: (utenti x utenti) x (utenti x prodotti) = utenti x prodotti"
   ]
  },
  {
   "cell_type": "code",
   "execution_count": 36,
   "metadata": {
    "collapsed": true
   },
   "outputs": [],
   "source": [
    "interest = common_purchases.dot(purchases)"
   ]
  },
  {
   "cell_type": "markdown",
   "metadata": {},
   "source": [
    "- La forma della matrice è pari a quella della matrice degli acquisti (utenti x prodotti)"
   ]
  },
  {
   "cell_type": "code",
   "execution_count": 37,
   "metadata": {},
   "outputs": [
    {
     "data": {
      "text/plain": [
       "True"
      ]
     },
     "execution_count": 37,
     "metadata": {},
     "output_type": "execute_result"
    }
   ],
   "source": [
    "interest.shape == purchases.shape"
   ]
  },
  {
   "cell_type": "markdown",
   "metadata": {
    "slideshow": {
     "slide_type": "slide"
    }
   },
   "source": [
    "- Visualizziamo un estratto della matrice..."
   ]
  },
  {
   "cell_type": "code",
   "execution_count": 38,
   "metadata": {},
   "outputs": [
    {
     "data": {
      "text/plain": [
       "array([[ 8,  6,  3,  1,  2, 14,  1,  3,  5,  1],\n",
       "       [ 0,  1,  4,  0,  2, 11,  0,  0,  2,  0],\n",
       "       [ 0,  1,  1,  0,  0,  2,  0,  0,  0,  1],\n",
       "       [ 3,  4,  1,  1,  0,  8,  0,  1,  3,  0],\n",
       "       [ 4,  2,  0,  0,  0,  1,  0,  0,  0,  2],\n",
       "       [ 6, 22,  8,  1,  3, 51,  0,  3, 10,  9],\n",
       "       [ 2,  7,  3,  0,  0,  7,  0,  1,  3,  0],\n",
       "       [ 0,  2,  1,  1,  0,  9,  0,  1,  0,  1],\n",
       "       [ 2,  6,  3,  2,  2, 18,  0,  0,  6,  1],\n",
       "       [ 0,  0,  4,  0,  0,  1,  0,  1,  0,  2]], dtype=int8)"
      ]
     },
     "execution_count": 38,
     "metadata": {},
     "output_type": "execute_result"
    }
   ],
   "source": [
    "interest[0:10, 0:10]"
   ]
  },
  {
   "cell_type": "markdown",
   "metadata": {},
   "source": [
    "- Ad esempio si ritiene che il 10° utente sia molto interessato al 4° prodotto"
   ]
  },
  {
   "cell_type": "markdown",
   "metadata": {
    "slideshow": {
     "slide_type": "slide"
    }
   },
   "source": [
    "### Scartare i Prodotti già Acquistati\n",
    "\n",
    "- Nella matrice calcolata `interest`, sono \"interessanti\" anche i prodotti **già acquistati** da ciascun utente\n",
    "- Prima di proseguire, **azzeriamo i loro valori** in modo da considerare solo prodotti nuovi\n",
    "- Convertiamo la matrice degli acquisti iniziale in forma booleana, per ottenere una \"maschera\"\n",
    "  - `astype` copia un array convertendone tutti i valori in un altro tipo\n",
    "  - come in Python standard, gli 0 sono convertiti in `False` e gli altri valori in `True`"
   ]
  },
  {
   "cell_type": "code",
   "execution_count": 39,
   "metadata": {
    "collapsed": true
   },
   "outputs": [],
   "source": [
    "purchases_mask = purchases.astype(np.bool)"
   ]
  },
  {
   "cell_type": "markdown",
   "metadata": {},
   "source": [
    "- Utilizziamo quindi la maschera per **selezionare solo i valori corrispondenti** nella matrice dell'interesse all'acquisto che **impostiamo a 0**"
   ]
  },
  {
   "cell_type": "code",
   "execution_count": 40,
   "metadata": {
    "collapsed": true
   },
   "outputs": [],
   "source": [
    "interest[purchases_mask] = 0"
   ]
  },
  {
   "cell_type": "markdown",
   "metadata": {
    "slideshow": {
     "slide_type": "slide"
    }
   },
   "source": [
    "## Ottenere _N_ Suggerimenti di Acquisto per ogni Utente\n",
    "\n",
    "- Da migliaia di prodotti nel catalogo, vogliamo suggerirne **un numero limitato ad ogni utente** massimizzando la probabilità di acquisto\n",
    "- Fissiamo un numero _N_ di prodotti da suggerire..."
   ]
  },
  {
   "cell_type": "code",
   "execution_count": 41,
   "metadata": {
    "collapsed": true
   },
   "outputs": [],
   "source": [
    "N = 20"
   ]
  },
  {
   "cell_type": "markdown",
   "metadata": {},
   "source": [
    "- ...vogliamo selezionare per ogni utente gli _N_ prodotti con \"potenziale interesse\" maggiore"
   ]
  },
  {
   "cell_type": "markdown",
   "metadata": {
    "slideshow": {
     "slide_type": "slide"
    }
   },
   "source": [
    "### Suggerimenti Basati sulla Previsione degli Interessi \n",
    "\n",
    "- Possiamo ottenere suggerimenti migliori sfruttando l'informazione sull'interesse stimato degli utenti verso i prodotti ?\n",
    "- Per verificarlo, **selezioniamo gli _N_ prodotti di maggiore interesse stimato per ciascun utente**\n",
    "- Procediamo come segue:\n",
    "  - assegniamo a ciascun prodotto un \"ranking\" in base all'interesse per ciascun utente\n",
    "  - selezioniamo per ogni cliente gli _N_ prodotti col ranking migliore\n",
    "- Una volta estratti i suggerimenti, ne valuteremo l'accuratezza basandoci sugli acquisti che gli utenti hanno fatto in seguito"
   ]
  },
  {
   "cell_type": "markdown",
   "metadata": {
    "slideshow": {
     "slide_type": "slide"
    }
   },
   "source": [
    "### Estrarre l'ordine dei valori: il metodo `argsort`\n",
    "\n",
    "- Il metodo `argsort` su un vettore restituisce un vettore con i suoi **indici** (da 0 a N-1) **ordinati** secondo i valori"
   ]
  },
  {
   "cell_type": "code",
   "execution_count": 42,
   "metadata": {},
   "outputs": [
    {
     "data": {
      "text/plain": [
       "array([6, 2, 3, 1, 4, 0, 5])"
      ]
     },
     "execution_count": 42,
     "metadata": {},
     "output_type": "execute_result"
    }
   ],
   "source": [
    "# sia dato il vettore...\n",
    "x = np.array([32, 8, 2, 4, 16, 64, 1])\n",
    "# ...il risultato di argsort è...\n",
    "x.argsort()"
   ]
  },
  {
   "cell_type": "markdown",
   "metadata": {
    "slideshow": {
     "slide_type": "-"
    }
   },
   "source": [
    "- Significa che l'elemento minimo è quello di indice 6 (1), seguito da quello di indice 2 (2) e così via fino al massimo di indice 5 (64)\n",
    "- Nel caso di una matrice, l'operazione è eseguita **lungo una dimensione** a scelta (riga per riga o colonna per colonna)"
   ]
  },
  {
   "cell_type": "code",
   "execution_count": 43,
   "metadata": {},
   "outputs": [
    {
     "data": {
      "text/plain": [
       "array([[6, 2, 3, 1, 4, 0, 5],\n",
       "       [5, 6, 2, 0, 1, 4, 3]])"
      ]
     },
     "execution_count": 43,
     "metadata": {},
     "output_type": "execute_result"
    }
   ],
   "source": [
    "np.array([[32,  8,  2,  4, 16, 64,  1],\n",
    "          [ 8, 16,  4, 64, 32,  1,  2]]).argsort(1)   # 1 = riga per riga"
   ]
  },
  {
   "cell_type": "markdown",
   "metadata": {
    "slideshow": {
     "slide_type": "slide"
    }
   },
   "source": [
    "### Calcolare il Ranking dei Prodotti\n",
    "\n",
    "- Applicando l'operazione `argsort` due volte otteniamo il \"ranking\" dei dati, ovvero l'indice che ogni elemento avrebbe nell'array ordinato\n",
    "  - Normalmente otteniamo quindi un array che associa 0 all'elemento più basso, 1 al secondo e così via"
   ]
  },
  {
   "cell_type": "code",
   "execution_count": 44,
   "metadata": {},
   "outputs": [
    {
     "data": {
      "text/plain": [
       "array([5, 3, 1, 2, 4, 6, 0])"
      ]
     },
     "execution_count": 44,
     "metadata": {},
     "output_type": "execute_result"
    }
   ],
   "source": [
    "np.array([32, 8, 2, 4, 16, 64, 1]).argsort().argsort()"
   ]
  },
  {
   "cell_type": "markdown",
   "metadata": {},
   "source": [
    "- D'altra parte, invertendo l'array a cui è applicata l'operazione, otteniamo un array che associa 0 a partire dal valore più alto\n",
    "- Applichiamo queste operazioni riga per riga all'array `interest`"
   ]
  },
  {
   "cell_type": "code",
   "execution_count": 45,
   "metadata": {},
   "outputs": [],
   "source": [
    "interest_ranking = (-interest).argsort(1).argsort(1)"
   ]
  },
  {
   "cell_type": "markdown",
   "metadata": {
    "slideshow": {
     "slide_type": "slide"
    }
   },
   "source": [
    "### Selezionare i Prodotti da Suggerire\n",
    "\n",
    "- Abbiamo così ottenuto un array dove per ogni utente (riga) abbiamo i prodotti numerati univocamente da 0 a _N_-1 in ordine di interesse\n",
    "- Da questo array possiamo quindi selezionare i **valori minori di _N_** per ottenere gli **_N_ prodotti di maggiore interesse** per ciascun utente\n",
    "  - otteniamo una matrice di valori bool (True/False), che convertiamo in numerica con `astype`"
   ]
  },
  {
   "cell_type": "code",
   "execution_count": 46,
   "metadata": {},
   "outputs": [],
   "source": [
    "suggestions = (interest_ranking < N).astype(np.int16)"
   ]
  },
  {
   "cell_type": "markdown",
   "metadata": {},
   "source": [
    "- Questa è la **matrice dei prodotti suggeriti**, che associa ad ogni utente gli _N_ prodotti a cui è potenzialmente più interessato"
   ]
  },
  {
   "cell_type": "markdown",
   "metadata": {
    "slideshow": {
     "slide_type": "slide"
    }
   },
   "source": [
    "## Accuratezza dei Suggerimenti di Acquisto\n",
    "\n",
    "- Come valutare se i suggerimenti ottenuti in questo modo siano azzeccati ?\n",
    "- Una possibilità consiste nel verificare **se gli oggetti suggeriti siano stati effettivamente acquistati** in un successivo momento\n",
    "- Nel file `estore-purchases-2014.npy.gz` è fornita una seconda matrice degli acquisti aggiornata\n",
    "  - righe e colonne sono corrispondenti agli stessi utenti e prodotti della prima matrice\n",
    "  - i valori sono basati invece su tutti gli acquisti, anche quelli effettuati dopo il 2000\n",
    "- Possiamo quindi confrontare i prodotti suggeriti con questa nuova matrice"
   ]
  },
  {
   "cell_type": "code",
   "execution_count": 47,
   "metadata": {
    "collapsed": true
   },
   "outputs": [
    {
     "ename": "NameError",
     "evalue": "name 'load_matrix' is not defined",
     "output_type": "error",
     "traceback": [
      "\u001b[0;31m---------------------------------------------------------------------------\u001b[0m",
      "\u001b[0;31mNameError\u001b[0m                                 Traceback (most recent call last)",
      "\u001b[0;32m<ipython-input-47-e9e3134e10ef>\u001b[0m in \u001b[0;36m<module>\u001b[0;34m\u001b[0m\n\u001b[0;32m----> 1\u001b[0;31m \u001b[0mpurchases_updated\u001b[0m \u001b[0;34m=\u001b[0m \u001b[0mload_matrix\u001b[0m\u001b[0;34m(\u001b[0m\u001b[0;34m\"https://git.io/vx81t\"\u001b[0m\u001b[0;34m)\u001b[0m\u001b[0;34m\u001b[0m\u001b[0m\n\u001b[0m",
      "\u001b[0;31mNameError\u001b[0m: name 'load_matrix' is not defined"
     ]
    }
   ],
   "source": [
    "purchases_updated = load_matrix(\"https://git.io/vx81t\")"
   ]
  },
  {
   "cell_type": "markdown",
   "metadata": {},
   "source": [
    "- Verifichiamo che la forma coincida con quella della precedente"
   ]
  },
  {
   "cell_type": "code",
   "execution_count": 11,
   "metadata": {},
   "outputs": [
    {
     "data": {
      "text/plain": [
       "True"
      ]
     },
     "execution_count": 11,
     "metadata": {},
     "output_type": "execute_result"
    }
   ],
   "source": [
    "purchases_updated.shape == purchases.shape"
   ]
  },
  {
   "cell_type": "markdown",
   "metadata": {
    "slideshow": {
     "slide_type": "slide"
    }
   },
   "source": [
    "### Selezionare solo i Nuovi Acquisti\n",
    "\n",
    "- La nuova matrice riporta **tutti** gli acquisti, compresi quelli già indicati nella matrice precedente\n",
    "- Vogliamo una matrice in cui siano riportati solo gli acquisti successivi all'analisi svolta sopra\n",
    "- Possiamo ottenerla con una semplice differenza tra le due matrici"
   ]
  },
  {
   "cell_type": "code",
   "execution_count": 12,
   "metadata": {
    "collapsed": true
   },
   "outputs": [],
   "source": [
    "new_purchases = purchases_updated - purchases"
   ]
  },
  {
   "cell_type": "markdown",
   "metadata": {},
   "source": [
    "- Quanti nuovi acquisti ha fatto mediamente ogni utente ?\n"
   ]
  },
  {
   "cell_type": "code",
   "execution_count": 13,
   "metadata": {},
   "outputs": [
    {
     "data": {
      "text/plain": [
       "32.98314606741573"
      ]
     },
     "execution_count": 13,
     "metadata": {},
     "output_type": "execute_result"
    }
   ],
   "source": [
    "mean_new_purchases = new_purchases.sum() / n_users\n",
    "mean_new_purchases"
   ]
  },
  {
   "cell_type": "code",
   "execution_count": 33,
   "metadata": {},
   "outputs": [
    {
     "data": {
      "text/plain": [
       "6.5"
      ]
     },
     "execution_count": 33,
     "metadata": {},
     "output_type": "execute_result"
    }
   ],
   "source": [
    "np.median(new_purchases.sum(1)) # mediana"
   ]
  },
  {
   "cell_type": "markdown",
   "metadata": {
    "slideshow": {
     "slide_type": "slide"
    }
   },
   "source": [
    "### Quali Nuovi Acquisti sono stati Suggeriti ?\n",
    "\n",
    "- Abbiamo ora la matrice `suggestions` con gli acquisti _suggeriti_ e quella `new_purchases` con i nuovi acquisti _effettivi_\n",
    "- Da queste possiamo individuare quali sono i suggerimenti **validi**, quelli a cui dopo l'analisi è corrisposto un acquisto\n",
    "- Sono in pratica l'intersezione tra i due insiemi, che otteniamo moltiplicando le matrici elemento per elemento\n",
    "  - ciascun valore della nuova matrice sarà 1 solo dove **entrambi** i valori delle due esistenti è 1"
   ]
  },
  {
   "cell_type": "code",
   "execution_count": 34,
   "metadata": {
    "collapsed": true
   },
   "outputs": [],
   "source": [
    "hits = suggestions * new_purchases"
   ]
  },
  {
   "cell_type": "markdown",
   "metadata": {
    "slideshow": {
     "slide_type": "slide"
    }
   },
   "source": [
    "### Quanti Clienti hanno Ricevuto almeno un Suggerimento Valido ?\n",
    "\n",
    "- Possiamo usare la funzione `max` per vedere in quali righe di `hits` sia presente almeno un 1, corrispondente ad un suggerimento valido"
   ]
  },
  {
   "cell_type": "code",
   "execution_count": 35,
   "metadata": {
    "collapsed": true
   },
   "outputs": [],
   "source": [
    "satisfied_users = hits.max(1)"
   ]
  },
  {
   "cell_type": "markdown",
   "metadata": {},
   "source": [
    "- Quanti sono gli utenti che hanno ricevuto un suggerimento valido ?"
   ]
  },
  {
   "cell_type": "code",
   "execution_count": 36,
   "metadata": {},
   "outputs": [
    {
     "data": {
      "text/plain": [
       "61"
      ]
     },
     "execution_count": 36,
     "metadata": {},
     "output_type": "execute_result"
    }
   ],
   "source": [
    "satisfied_users.sum()"
   ]
  },
  {
   "cell_type": "markdown",
   "metadata": {},
   "source": [
    "- ...e quanti sono in percentuale sul totale"
   ]
  },
  {
   "cell_type": "code",
   "execution_count": 37,
   "metadata": {},
   "outputs": [
    {
     "data": {
      "text/plain": [
       "0.34269662921348315"
      ]
     },
     "execution_count": 37,
     "metadata": {},
     "output_type": "execute_result"
    }
   ],
   "source": [
    "satisfied_users.sum() / n_users"
   ]
  },
  {
   "cell_type": "markdown",
   "metadata": {},
   "source": [
    "- Abbiamo quindi previsto per il **34,3%** degli utenti almeno un prodotto che poi hanno acquistato\n",
    "- ma quanto è buono questo risultato ?"
   ]
  },
  {
   "cell_type": "markdown",
   "metadata": {
    "slideshow": {
     "slide_type": "slide"
    }
   },
   "source": [
    "### Confronto con una Selezione Casuale di Prodotti\n",
    "\n",
    "- Per verificare il valore (o bontà) del risultato, misuriamo l'accuratezza ottenibile **suggerendo _N_ prodotti a caso** a ciascun utente\n",
    "- Per estrarre dei suggerimenti casuali, definiamo una matrice con valori di interesse a caso tra 0 e 1 ...\n",
    "  - il modulo `random` contiene le funzionalità relative alla generazione di array con valori casuali secondo varie distribuzioni\n",
    "  - la funzione `seed` imposta il seed per la generazione di numeri casuali, in modo da rendere riproducibile il risultato\n",
    "  - la funzione `random` genera un array di valori casuali con distribuzione uniforme in [0, 1) con forma data"
   ]
  },
  {
   "cell_type": "code",
   "execution_count": 38,
   "metadata": {},
   "outputs": [
    {
     "data": {
      "text/plain": [
       "array([[0.22199317, 0.87073231, 0.20671916, 0.91861091, 0.48841119],\n",
       "       [0.16621773, 0.4949298 , 0.81012877, 0.78034263, 0.63087014],\n",
       "       [0.36680512, 0.54382329, 0.07050355, 0.21437738, 0.78046745],\n",
       "       [0.19330102, 0.67788327, 0.04413307, 0.06011549, 0.56624796],\n",
       "       [0.34956196, 0.84851566, 0.08981507, 0.21130447, 0.84895548]])"
      ]
     },
     "execution_count": 38,
     "metadata": {},
     "output_type": "execute_result"
    }
   ],
   "source": [
    "np.random.seed(5)\n",
    "random_interest = np.random.random(interest.shape)\n",
    "random_interest[:5, :5]"
   ]
  },
  {
   "cell_type": "markdown",
   "metadata": {
    "slideshow": {
     "slide_type": "slide"
    }
   },
   "source": [
    "- Come prima, impostiamo a 0 i valori per prodotti già acquistati..."
   ]
  },
  {
   "cell_type": "code",
   "execution_count": 39,
   "metadata": {
    "collapsed": true
   },
   "outputs": [],
   "source": [
    "random_interest[purchases_mask] = 0"
   ]
  },
  {
   "cell_type": "markdown",
   "metadata": {
    "slideshow": {
     "slide_type": "-"
    }
   },
   "source": [
    "- ...e selezioniamo gli _N_ prodotti di maggiore interesse per ogni utente"
   ]
  },
  {
   "cell_type": "code",
   "execution_count": 40,
   "metadata": {
    "collapsed": true
   },
   "outputs": [],
   "source": [
    "random_interest_ranking = (-random_interest).argsort(1).argsort(1)\n",
    "random_suggestions = (random_interest_ranking < N).astype(np.int16)"
   ]
  },
  {
   "cell_type": "markdown",
   "metadata": {},
   "source": [
    "- Rieseguiamo infine il confronto con i prodotti effettivamente acquistati"
   ]
  },
  {
   "cell_type": "code",
   "execution_count": 41,
   "metadata": {
    "collapsed": true
   },
   "outputs": [],
   "source": [
    "random_hits = random_suggestions * new_purchases\n",
    "random_satisfied_users = random_hits.max(1)"
   ]
  },
  {
   "cell_type": "code",
   "execution_count": 42,
   "metadata": {},
   "outputs": [
    {
     "data": {
      "text/plain": [
       "22"
      ]
     },
     "execution_count": 42,
     "metadata": {},
     "output_type": "execute_result"
    }
   ],
   "source": [
    "random_satisfied_users.sum()"
   ]
  },
  {
   "cell_type": "code",
   "execution_count": 43,
   "metadata": {},
   "outputs": [
    {
     "data": {
      "text/plain": [
       "0.12359550561797752"
      ]
     },
     "execution_count": 43,
     "metadata": {},
     "output_type": "execute_result"
    }
   ],
   "source": [
    "random_satisfied_users.sum() / n_users"
   ]
  },
  {
   "cell_type": "markdown",
   "metadata": {
    "slideshow": {
     "slide_type": "slide"
    }
   },
   "source": [
    "## Suggerimenti Casuali: Qual è l'Accuratezza Teorica ?\n",
    "- il risultato del 12% appena calcolato è frutto di un singolo esperimento e cambia cambiando i suggerimenti casuali proposti ad ogni utente\n",
    " - basta cambiare il seed, ad es. `np.random.seed(2)` produce un'accuratezza del 15%   \n",
    "- qual è allora il risultato corretto indipendente dal singolo esperimento ?   \n",
    "- definiamo il problema utilizzando il calcolo delle probabilità \n",
    " - qual è la probabilità che un prodotto scelto a caso sia di interesse per un utente ?\n",
    " - con $p$ prodotti in catalogo non ancora acquistati ed $i$ prodotti di interesse per ogni utente, allora è \n",
    "   - 1 - la prob. di non fornire nessun prodotto di interesse\n",
    " - considerando suggerimenti di $n$ prodotti, la prob. di NON fornire prodotti di interesse è \n",
    " \n",
    "$$\\frac{\\binom{p - i}{n}}{\\binom{p}{n}}$$"
   ]
  },
  {
   "cell_type": "markdown",
   "metadata": {
    "slideshow": {
     "slide_type": "slide"
    }
   },
   "source": [
    "- Nel nostro caso, assumiamo il numero di prodotti suggeribili per utente pari alla differenza tra quelli noti e quelli in media già acquistati"
   ]
  },
  {
   "cell_type": "code",
   "execution_count": 44,
   "metadata": {},
   "outputs": [
    {
     "data": {
      "text/plain": [
       "3329.6011235955057"
      ]
     },
     "execution_count": 44,
     "metadata": {},
     "output_type": "execute_result"
    }
   ],
   "source": [
    "p = n_items - mean_purchases\n",
    "p"
   ]
  },
  {
   "cell_type": "markdown",
   "metadata": {},
   "source": [
    "- Ipotizziamo che il numero di prodotti d'interesse per ciascun utente sia _i_ = 22\n",
    "- In base a questo, la probabilità di azzeccare casualmente almeno un prodotto di interesse suggerendone 20 è ..."
   ]
  },
  {
   "cell_type": "code",
   "execution_count": 45,
   "metadata": {},
   "outputs": [
    {
     "data": {
      "text/plain": [
       "0.1245064688633315"
      ]
     },
     "execution_count": 45,
     "metadata": {},
     "output_type": "execute_result"
    }
   ],
   "source": [
    "# importiamo la funzione che calcola il coefficiente binomiale\n",
    "from scipy.special import binom\n",
    "1 - binom(p-22 ,N) / binom(p ,N)"
   ]
  },
  {
   "cell_type": "markdown",
   "metadata": {
    "slideshow": {
     "slide_type": "slide"
    }
   },
   "source": [
    "## Conclusioni ##\n",
    "\n",
    "- Proponendo suggerimenti di acquisto a caso, azzecchiamo gli acquisti futuri (periodo di test) per circa il **12%** degli utenti\n",
    " - identico di fatto al risultato teorico probabilistico del **12%** con $i=22$\n",
    "- il metodo di recommendation esposto, basato sul semplice prodotto della matrice _utenti x prodotti_, è circa 3 volte più efficace di quello casuale\n",
    "- ma come stimiamo il numero di prodotti di interesse, i.e. i = 22 ?\n",
    " - dal numero di acquisti che ipotizziamo facciano mediamente i clienti sulla base di quelli fatti in passato a parità di estensione temporale\n",
    " - essendo questo un esperimento volto a misurare quanto il risultato sia migliore di quello con suggerimenti casuali, $i$ è il num. di acquisti noti nel periodo di test  \n",
    " - tuttavia il numero medio di acquisti nel test è 33, ma con $i=33$ la prob. diventa 18%, perchè è più alta rispetto all'esperimento ?"
   ]
  },
  {
   "cell_type": "markdown",
   "metadata": {
    "slideshow": {
     "slide_type": "slide"
    }
   },
   "source": [
    "## Esercizio: Calcoliamo la Probabilità Utente per Utente\n",
    "- la probabilità teorica di suggerire casualmente prodotti validi è più alta dell'accuratezza ottenuta dal medesimo esperimento con $i=33$: 18% vs 12%, perchè ?\n",
    "  - usare il semplice num. medio di acquisti implica assumere che questa probabilità aumenti linearmente rispetto ad $i$, ma ciò non è vero \n",
    "   - e.g. un utente col doppio degli acquisti di un altro, non ha una probabilità doppia di ricevere almeno un suggerimento di acquisto valido a parità di num. di suggerimenti\n",
    "- **Esercizio**: calcolare questa probabilità utente per utente con $i$ diverso per ogni utente\n",
    " - la prob. teorica giusta è la media delle prob. calcolate per ciascun utente\n",
    " - il risultato è circa il 13%\n",
    " - Per verificarne la correttezza sperimentalmente, eseguire almeno un centinaio di simulazioni di suggerimenti di acquisti casuali e farne la media\n",
    " - per la legge dei grandi numeri, all'aumentare delle simulazioni quest'ultima media si avvicinerà sempre di più a quello esatto."
   ]
  },
  {
   "cell_type": "code",
   "execution_count": 46,
   "metadata": {
    "slideshow": {
     "slide_type": "skip"
    }
   },
   "outputs": [
    {
     "data": {
      "text/plain": [
       "0.13028989825011686"
      ]
     },
     "execution_count": 46,
     "metadata": {},
     "output_type": "execute_result"
    }
   ],
   "source": [
    "users_new_purchases = new_purchases.sum(1)\n",
    "hit_probs = np.zeros((n_users, ))\n",
    "for i in range(n_users):\n",
    "    hit_probs[i] = 1 - binom(n_items-users_purchases[i]-users_new_purchases[i], N) / binom(n_items-users_purchases[i], N)\n",
    "hit_probs.mean()"
   ]
  }
 ],
 "metadata": {
  "kernelspec": {
   "display_name": "Python 3",
   "language": "python",
   "name": "python3"
  },
  "language_info": {
   "codemirror_mode": {
    "name": "ipython",
    "version": 3
   },
   "file_extension": ".py",
   "mimetype": "text/x-python",
   "name": "python",
   "nbconvert_exporter": "python",
   "pygments_lexer": "ipython3",
   "version": "3.5.2"
  }
 },
 "nbformat": 4,
 "nbformat_minor": 2
}
