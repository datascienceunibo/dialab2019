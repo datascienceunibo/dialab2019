{
 "cells": [
  {
   "cell_type": "markdown",
   "metadata": {
    "slideshow": {
     "slide_type": "slide"
    }
   },
   "source": [
    "# Laboratorio: Recommendation con Python (senza librerie)\n",
    "\n",
    "**Programmazione di Applicazioni Data Intensive**  \n",
    "Laurea in Ingegneria e Scienze Informatiche  \n",
    "DISI - Università di Bologna, Cesena\n",
    "\n",
    "Proff. Gianluca Moro, Roberto Pasolini  \n",
    "nome.cognome@unibo.it"
   ]
  },
  {
   "cell_type": "markdown",
   "metadata": {
    "slideshow": {
     "slide_type": "slide"
    }
   },
   "source": [
    "## Introduzione a Jupyter\n",
    "\n",
    "- Questo è un documento Jupyter\n",
    "- Al suo interno si trovano celle di codice Python eseguibili\n",
    "- Eseguendo una cella, il risultato che si ottiene è riportato sotto la cella stessa\n",
    "  - stringhe stampate con `print` e/o risultato di un'espressione\n",
    "- Le celle di codice possono essere modificate e rieseguite liberamente"
   ]
  },
  {
   "cell_type": "markdown",
   "metadata": {
    "slideshow": {
     "slide_type": "slide"
    }
   },
   "source": [
    "- Questo è un esempio di cella di codice:"
   ]
  },
  {
   "cell_type": "code",
   "execution_count": null,
   "metadata": {},
   "outputs": [],
   "source": [
    "20 + 20 + 2"
   ]
  },
  {
   "cell_type": "markdown",
   "metadata": {},
   "source": [
    "- Se state vedendo questo file in Jupyter, cliccate sulla cella e premete **Maiusc + Invio** (o cliccate \"Run\" in alto) per eseguirla: il risultato dell'espressione comparirà sotto\n",
    "  - in _nbviewer_ potete solo visualizzare il file, non potete eseguire codice\n",
    "- Potete aggiungere una nuova cella di codice sotto a quella corrente cliccando sul pulsante \"+\" in alto"
   ]
  },
  {
   "cell_type": "markdown",
   "metadata": {
    "slideshow": {
     "slide_type": "slide"
    }
   },
   "source": [
    "### Comandi principali da tastiera\n",
    "\n",
    "- **Ctrl + Invio**: esegui cella corrente\n",
    "- **Maiusc + Invio**: esegui cella corrente e seleziona la successiva\n",
    "- **Ctrl + Maiusc + -**: dividi cella corrente in due dove si trova il cursore\n",
    "- **Maiusc + M**: unisci celle selezionate\n",
    "  - tenere premuto **Maiusc** per selezionare un intervallo di celle\n",
    "\n",
    "I comandi sotto funzionano sulla cella selezionata solo se non se ne sta modificando il contenuto:\n",
    "- **Invio**: modifica contenuto\n",
    "- **A/B**: crea nuova cella sopra/sotto\n",
    "- **D, D** (due volte D): elimina cella\n",
    "- **X/C/V**: taglia/copia/incolla cella\n",
    "- **Y/M**: converti cella in codice/testo"
   ]
  },
  {
   "cell_type": "markdown",
   "metadata": {
    "slideshow": {
     "slide_type": "slide"
    }
   },
   "source": [
    "## Recommendation: Prevedere le Propensioni di Acquisto <br>e Molto Altro ... \n",
    "\n",
    "- Ogni azienda ha i dati storici di acquisto di ciascun cliente/utente\n",
    "  - usiamo un sottoinsieme di dati reali presi da Amazon\n",
    "- Vogliamo **raccomandare/suggerire ai singoli utenti quali prodotti acquistare** \n",
    "  - idea: utenti con storie di acquisti simili, è probabile che faranno acquisti simili anche in futuro \n",
    "  - metodo: proponiamo ad ogni utente gli acquisti fatti da altri utenti con storico più simile al proprio\n",
    "- Vediamo come estrarre i suggerimenti sfruttando le **strutture dati standard di Python** e le operazioni che offrono\n",
    "  - vedremo poi come farlo in modo ancora più efficiente con operazioni tra matrici..."
   ]
  },
  {
   "cell_type": "markdown",
   "metadata": {
    "slideshow": {
     "slide_type": "slide"
    }
   },
   "source": [
    "## Scaricamento File Dati\n",
    "\n",
    "- Un archivio ZIP con i file necessari per l'esercitazione si trova all'URL https://git.io/fhxQh\n",
    "- Se state usando Binder, avete già i file nella directory corrente\n",
    "- Altrimenti, eseguite la seguente cella di codice per\n",
    "  - verificare se il file ZIP con i dati sia già presente\n",
    "  - scaricare il file ZIP se non è già presente\n",
    "  - estrarre i file nella cartella corrente\n",
    "- Si può vedere come la libreria standard di Python fornisca già funzioni per eseguire agevolmente queste operazioni"
   ]
  },
  {
   "cell_type": "code",
   "execution_count": 1,
   "metadata": {},
   "outputs": [],
   "source": [
    "import os.path\n",
    "if not os.path.exists(\"purchases_data.zip\"):\n",
    "    from urllib.request import urlretrieve\n",
    "    urlretrieve(\"https://git.io/fhxQh\", \"purchases_data.zip\")\n",
    "    from zipfile import ZipFile\n",
    "    with ZipFile(\"purchases_data.zip\") as f:\n",
    "        f.extractall()"
   ]
  },
  {
   "cell_type": "markdown",
   "metadata": {
    "slideshow": {
     "slide_type": "slide"
    }
   },
   "source": [
    "## Caricamento Nomi Utenti\n",
    "\n",
    "- Il file `users.csv` contiene un elenco degli utenti coinvolti nell'analisi\n",
    "  - sono stati selezionati gli utenti con almeno 30 acquisti nello storico\n",
    "- Si tratta in pratica di un file CSV (_Comma Separated Values_), contenente una riga per ogni utente nel formato `IdUtente;Nome`\n",
    "- Possiamo usare il modulo `csv` della libreria standard di Python per leggere tali file in modo semplice\n",
    "- Importiamo il modulo per caricarlo in memoria"
   ]
  },
  {
   "cell_type": "code",
   "execution_count": 2,
   "metadata": {},
   "outputs": [],
   "source": [
    "import csv"
   ]
  },
  {
   "cell_type": "markdown",
   "metadata": {
    "slideshow": {
     "slide_type": "slide"
    }
   },
   "source": [
    "- Per **aprire il file** utilizziamo la funzione `open` specificando il nome del file\n",
    "  - di default il file è aperto in lettura e modalità testo\n",
    "- Usiamo il costrutto `with` per **chiudere automaticamente il file** una volta usato\n",
    "- La funzione `csv.reader` **itera una ad una le righe del file** e restituisce per ciascuna una tupla con le stringhe ID utente (\"User ID\", `uid`) e nome\n",
    "  - va specificato che i due sono separati da \";\"\n",
    "- Creiamo un dizionario `users` dove gli ID utente (convertiti in numeri `int`) sono le chiavi e i nomi sono i valori"
   ]
  },
  {
   "cell_type": "code",
   "execution_count": 3,
   "metadata": {},
   "outputs": [],
   "source": [
    "with open(\"users.csv\", \"r\") as f:\n",
    "    users = {int(uid): name for uid, name in csv.reader(f, delimiter=\";\")}"
   ]
  },
  {
   "cell_type": "markdown",
   "metadata": {
    "slideshow": {
     "slide_type": "slide"
    }
   },
   "source": [
    "- Possiamo quindi reperire il nome di un qualsiasi utente dato il suo ID"
   ]
  },
  {
   "cell_type": "code",
   "execution_count": 4,
   "metadata": {},
   "outputs": [
    {
     "data": {
      "text/plain": [
       "'malachix'"
      ]
     },
     "execution_count": 4,
     "metadata": {},
     "output_type": "execute_result"
    }
   ],
   "source": [
    "users[84]"
   ]
  },
  {
   "cell_type": "markdown",
   "metadata": {},
   "source": [
    "- Tramite la funzione `len` possiamo contare il numero totale di utenti"
   ]
  },
  {
   "cell_type": "code",
   "execution_count": 5,
   "metadata": {},
   "outputs": [
    {
     "data": {
      "text/plain": [
       "178"
      ]
     },
     "execution_count": 5,
     "metadata": {},
     "output_type": "execute_result"
    }
   ],
   "source": [
    "len(users)"
   ]
  },
  {
   "cell_type": "markdown",
   "metadata": {
    "slideshow": {
     "slide_type": "slide"
    }
   },
   "source": [
    "## Caricamento Nomi Prodotti\n",
    "\n",
    "- Il file `items.csv` contiene i prodotti distinti acquistati dagli utenti sopra\n",
    "- Il formato del file è analogo a quello sopra, con righe `IdProdotto;Nome`\n",
    "- Ne salviamo il contenuto in un dizionario `items`, ottenuto come fatto sopra con `users`"
   ]
  },
  {
   "cell_type": "code",
   "execution_count": 6,
   "metadata": {},
   "outputs": [],
   "source": [
    "with open(\"items.csv\", \"r\") as f:\n",
    "    items = {int(iid): name for iid, name in csv.reader(f, delimiter=\";\")}"
   ]
  },
  {
   "cell_type": "markdown",
   "metadata": {},
   "source": [
    "- Come sopra, possiamo ottenere il nome di qualsiasi prodotto dato l'ID (\"Item ID\", `iid`)..."
   ]
  },
  {
   "cell_type": "code",
   "execution_count": 7,
   "metadata": {},
   "outputs": [
    {
     "data": {
      "text/plain": [
       "'Independence Day [VHS]'"
      ]
     },
     "execution_count": 7,
     "metadata": {},
     "output_type": "execute_result"
    }
   ],
   "source": [
    "items[2669]"
   ]
  },
  {
   "cell_type": "markdown",
   "metadata": {},
   "source": [
    "...e contarne il numero totale"
   ]
  },
  {
   "cell_type": "code",
   "execution_count": 8,
   "metadata": {},
   "outputs": [
    {
     "data": {
      "text/plain": [
       "3384"
      ]
     },
     "execution_count": 8,
     "metadata": {},
     "output_type": "execute_result"
    }
   ],
   "source": [
    "len(items)"
   ]
  },
  {
   "cell_type": "markdown",
   "metadata": {
    "slideshow": {
     "slide_type": "slide"
    }
   },
   "source": [
    "## Caricamento Dati Acquisti\n",
    "\n",
    "- Il file CSV `purchases-2000.csv` contiene i dati sugli acquisti effettuati dagli utenti analizzati fino alla fine del 2000\n",
    "- Per ciascun prodotto acquistato da ogni utente, il file contiene una riga `IdUtente;IdProdotto`\n",
    "- Usiamo le funzioni viste sopra per leggere il file, creando stavolta un insieme (`set`) di tuple `(uid, iid)`"
   ]
  },
  {
   "cell_type": "code",
   "execution_count": 9,
   "metadata": {},
   "outputs": [],
   "source": [
    "with open(\"purchases-2000.csv\", \"r\") as f:\n",
    "    purchases = {(int(uid), int(iid)) for uid, iid in csv.reader(f, delimiter=\";\")}"
   ]
  },
  {
   "cell_type": "markdown",
   "metadata": {},
   "source": [
    "- Quante tuple abbiamo estratto?"
   ]
  },
  {
   "cell_type": "code",
   "execution_count": 10,
   "metadata": {},
   "outputs": [
    {
     "data": {
      "text/plain": [
       "9683"
      ]
     },
     "execution_count": 10,
     "metadata": {},
     "output_type": "execute_result"
    }
   ],
   "source": [
    "len(purchases)"
   ]
  },
  {
   "cell_type": "markdown",
   "metadata": {},
   "source": [
    "_**Quesito:** qual è il numero di acquisti medio per cliente?_"
   ]
  },
  {
   "cell_type": "markdown",
   "metadata": {
    "slideshow": {
     "slide_type": "slide"
    }
   },
   "source": [
    "## Raggruppare gli Acquisti per Utente e per Prodotto\n",
    "\n",
    "- Per lavorare più agevolmente con questi dati, dall'insieme \"globale\" di acquisti che abbiamo caricato, ricaviamo\n",
    "  - un dizionario che associ a ciascun utente l'insieme di prodotti che ha acquistato\n",
    "  - un dizionario che associ a ciascun prodotto l'insieme di utenti che lo hanno acquistato\n",
    "- Per agevolare il compito, creiamo prima una funzione `get_purchases_by` che, dato un ID utente, restituisca l'insieme di ID dei prodotti acquistati\n",
    "  - si iterano (`for...in`) tutte le tuple `(uid, iid)` nell'insieme `purchases`\n",
    "  - si selezionano (`if`) solo quelle il cui `uid` è quello indicato\n",
    "  - di queste si prendono solamente l'`iid` e si raccolgono in un insieme (`set`)"
   ]
  },
  {
   "cell_type": "code",
   "execution_count": 11,
   "metadata": {},
   "outputs": [],
   "source": [
    "def get_purchases_by(target_uid):\n",
    "    return set(iid for uid, iid in purchases if target_uid == uid)"
   ]
  },
  {
   "cell_type": "markdown",
   "metadata": {},
   "source": [
    "- Con questa funzione possiamo facilmente creare un dizionario `purchases_by_user` che associ ad ogni UID l'insieme di acquisti dato chiamando la funzione\n",
    "  - usiamo `users.keys()` per iterare tutti gli ID utente _(`.keys()` non è necessario in quanto si itererebbe comunque sulle chiavi, ma viene incluso per chiarezza)_"
   ]
  },
  {
   "cell_type": "code",
   "execution_count": 12,
   "metadata": {},
   "outputs": [],
   "source": [
    "purchases_by_user = {uid: get_purchases_by(uid) for uid in users.keys()}"
   ]
  },
  {
   "cell_type": "markdown",
   "metadata": {
    "slideshow": {
     "slide_type": "slide"
    }
   },
   "source": [
    "- Possiamo verificare che ogni utente abbia effettivamente almeno 30 acquisti\n",
    "  - col metodo `values` iteriamo gli insiemi di oggetti acquistati (i soli valori, non le chiavi) nel dizionario `purchases_by_user`\n",
    "  - con `len` estraiamo il numero di elementi di ciascuno\n",
    "  - con `min` estraiamo il più piccolo di essi e verifichiamo che sia 30"
   ]
  },
  {
   "cell_type": "code",
   "execution_count": 13,
   "metadata": {},
   "outputs": [
    {
     "data": {
      "text/plain": [
       "30"
      ]
     },
     "execution_count": 13,
     "metadata": {},
     "output_type": "execute_result"
    }
   ],
   "source": [
    "min(len(itemset) for itemset in purchases_by_user.values())"
   ]
  },
  {
   "cell_type": "markdown",
   "metadata": {},
   "source": [
    "- Creiamo analogamente un dizionario `purchases_by_item`, che associ ad ogni ID oggetto l'insieme di utenti che l'hanno acquistato, dato da una funzione `get_purchases_of` che definiamo"
   ]
  },
  {
   "cell_type": "code",
   "execution_count": 14,
   "metadata": {},
   "outputs": [],
   "source": [
    "def get_purchases_of(target_iid):\n",
    "    return set(uid for uid, iid in purchases if target_iid == iid)"
   ]
  },
  {
   "cell_type": "code",
   "execution_count": 15,
   "metadata": {},
   "outputs": [],
   "source": [
    "purchases_by_item = {iid: get_purchases_of(iid) for iid in items.keys()}"
   ]
  },
  {
   "cell_type": "markdown",
   "metadata": {},
   "source": [
    "_**Quesito:** quante volte è stato acquistato come minimo ciascuno dei prodotti considerati?_"
   ]
  },
  {
   "cell_type": "markdown",
   "metadata": {
    "slideshow": {
     "slide_type": "slide"
    }
   },
   "source": [
    "## Similarità tra Utenti\n",
    "\n",
    "- Vogliamo suggerire prodotti agli utenti in base a **cos'hanno acquistato utenti simili**\n",
    "- Come determinare quanto due utenti siano \"simili\"?\n",
    "- Possiamo contare **quanti sono i prodotti che entrambi hanno acquistato**\n",
    "- Per ottenere i prodotti acquistati da entrambi due utenti, possiamo calcolare **l'intersezione** degli insiemi dei prodotti acquistati\n",
    "- Sugli insiemi si può usare l'operatore `&` (AND) per calcolare l'intersezione\n",
    "- Ad esempio, gli ID dei prodotti acquistati sia dall'utente con ID 84 che da quello con ID 7661 sono:"
   ]
  },
  {
   "cell_type": "code",
   "execution_count": 16,
   "metadata": {},
   "outputs": [
    {
     "data": {
      "text/plain": [
       "{5162, 43911, 43921, 100267}"
      ]
     },
     "execution_count": 16,
     "metadata": {},
     "output_type": "execute_result"
    }
   ],
   "source": [
    "purchases_by_user[84] & purchases_by_user[7661]"
   ]
  },
  {
   "cell_type": "markdown",
   "metadata": {
    "slideshow": {
     "slide_type": "slide"
    }
   },
   "source": [
    "- Creiamo una funzione `similarity` che, dati due ID utente, restituisca il numero di prodotti nell'intersezione dei loro acquisti"
   ]
  },
  {
   "cell_type": "code",
   "execution_count": 17,
   "metadata": {},
   "outputs": [],
   "source": [
    "def similarity(uid1, uid2):\n",
    "    return len(purchases_by_user[uid1] & purchases_by_user[uid2])"
   ]
  },
  {
   "cell_type": "markdown",
   "metadata": {},
   "source": [
    "- Usiamo questa funzione per creare un dizionario `similiarities` che, ad ogni tupla con due ID utente, associa la loro similarità\n",
    "  - scorriamo tutti gli ID utente attraverso due cicli (`for`) innestati, eliminando le coppie di ID uguali\n",
    "  - _(per semplicità, lasciamo che la similarità di ogni coppia sia calcolata due volte)_"
   ]
  },
  {
   "cell_type": "code",
   "execution_count": 18,
   "metadata": {},
   "outputs": [],
   "source": [
    "similarities = {(i, j): similarity(i, j) for i in users.keys() for j in users.keys() if i != j}"
   ]
  },
  {
   "cell_type": "markdown",
   "metadata": {},
   "source": [
    "- Ad esempio, in base all'esempio sopra, la similarità tra gli utenti 84 e 7661 deve essere 4"
   ]
  },
  {
   "cell_type": "code",
   "execution_count": 19,
   "metadata": {},
   "outputs": [
    {
     "data": {
      "text/plain": [
       "4"
      ]
     },
     "execution_count": 19,
     "metadata": {},
     "output_type": "execute_result"
    }
   ],
   "source": [
    "similarities[(84, 7661)]"
   ]
  },
  {
   "cell_type": "markdown",
   "metadata": {
    "slideshow": {
     "slide_type": "slide"
    }
   },
   "source": [
    "## Stimare il Potenziale Interesse nei Prodotti\n",
    "\n",
    "- Vogliamo stimare **quanto ciascun utente sia potenzialmente interessato** in ciascun prodotto non ancora acquistato\n",
    "- Possiamo stimarlo in base a quanto il prodotto **sia stato acquistato da utenti simili**\n",
    "- Associamo per ogni utente U e prodotto I un _punteggio d'interesse_ pari alla somma delle similarità degli altri utenti che hanno acquistato il prodotto\n",
    "- Creiamo una funzione `interest` che calcoli tale punteggio per un utente e un prodotto dati\n",
    "  - vengono iterati gli utenti che hanno acquistato I, escludendo però U\n",
    "  - tramite `sum` viene fatta la somma delle similarità"
   ]
  },
  {
   "cell_type": "code",
   "execution_count": 20,
   "metadata": {},
   "outputs": [],
   "source": [
    "def interest(uid, iid):\n",
    "    return sum(similarities[(uid, ouid)] for ouid in purchases_by_item[iid] if uid != ouid)"
   ]
  },
  {
   "cell_type": "markdown",
   "metadata": {},
   "source": [
    "- Raccogliamo tutti i punteggi in un dizionario che associa ad ogni utente U un dizionario di punteggi d'interesse\n",
    "  - ciascuno associa a sua volta a ciascun prodotto il punteggio d'interesse\n",
    "  - sono però esclusi i prodotti già acquistati da U"
   ]
  },
  {
   "cell_type": "code",
   "execution_count": 21,
   "metadata": {},
   "outputs": [],
   "source": [
    "interests_by_user = {\n",
    "    uid: {\n",
    "        iid: interest(uid, iid)\n",
    "        for iid in items.keys()\n",
    "        if iid not in purchases_by_user[uid]\n",
    "    } for uid in users.keys()\n",
    "}"
   ]
  },
  {
   "cell_type": "markdown",
   "metadata": {
    "slideshow": {
     "slide_type": "slide"
    }
   },
   "source": [
    "## Ottenere _N_ Suggerimenti di Acquisto per ogni Utente\n",
    "\n",
    "- Da migliaia di prodotti nel catalogo, vogliamo suggerirne **un numero limitato ad ogni utente** massimizzando la probabilità di acquisto\n",
    "- Fissiamo un numero _N_ di prodotti da suggerire..."
   ]
  },
  {
   "cell_type": "code",
   "execution_count": 22,
   "metadata": {},
   "outputs": [],
   "source": [
    "N = 20"
   ]
  },
  {
   "cell_type": "markdown",
   "metadata": {},
   "source": [
    "- ...vogliamo selezionare per ogni utente gli **_N_ prodotti con \"potenziale interesse\" maggiore**"
   ]
  },
  {
   "cell_type": "markdown",
   "metadata": {
    "slideshow": {
     "slide_type": "slide"
    }
   },
   "source": [
    "- Creiamo una funzione `suggest` che, dato un utente, restituisca _N_ oggetti suggeriti in base ai punteggi d'interesse calcolati sopra\n",
    "  1. da `interests_by_user` vengono ottenute le tuple `(IdOggetto, Punteggio)` per l'utente selezionato\n",
    "  2. tali tuple sono ordinate per punteggio decrescente (si noti il meno)\n",
    "  3. viene restituito l'insieme degli ID oggetti delle prime _N_ tuple"
   ]
  },
  {
   "cell_type": "code",
   "execution_count": 23,
   "metadata": {},
   "outputs": [],
   "source": [
    "def suggest(uid):\n",
    "    interests = interests_by_user[uid].items()                # 1\n",
    "    sorted_interests = sorted(interests, key=lambda x: -x[1]) # 2\n",
    "    return set(iid for iid, score in sorted_interests[:N])    # 3"
   ]
  },
  {
   "cell_type": "markdown",
   "metadata": {},
   "source": [
    "- Applichiamo la funzione data a tutti gli utenti"
   ]
  },
  {
   "cell_type": "code",
   "execution_count": 24,
   "metadata": {},
   "outputs": [],
   "source": [
    "suggestions_by_user = {uid: suggest(uid) for uid in users.keys()}"
   ]
  },
  {
   "cell_type": "markdown",
   "metadata": {},
   "source": [
    "- Abbiamo così per ciascun utente un set di _N_ prodotti non precedentemente acquistati da suggerire"
   ]
  },
  {
   "cell_type": "code",
   "execution_count": 25,
   "metadata": {},
   "outputs": [
    {
     "name": "stdout",
     "output_type": "stream",
     "text": [
      "{44037, 60041, 96025, 43290, 57372, 5288, 59817, 7985, 7989, 43586, 60230, 96454, 96456, 95843, 57190, 2669, 101103, 56561, 95480, 44030}\n"
     ]
    }
   ],
   "source": [
    "print(suggestions_by_user[84])"
   ]
  },
  {
   "cell_type": "markdown",
   "metadata": {
    "slideshow": {
     "slide_type": "slide"
    }
   },
   "source": [
    "- Ad esempio, per l'utente 84, stampiamo i titoli dei film che ha acquistato...\n",
    "  - sostituire `\"; \"` con `\"\\n\"` per visualizzare i titoli uno sotto l'altro"
   ]
  },
  {
   "cell_type": "code",
   "execution_count": 26,
   "metadata": {},
   "outputs": [
    {
     "name": "stdout",
     "output_type": "stream",
     "text": [
      "Godzilla [VHS]; The Lion King [VHS]; Eyes Wide Shut [VHS]; Batman & Robin [VHS]; The Matrix; Blade [VHS]; First Knight [VHS]; Omen 3: The Final Conflict [VHS]; Summer of Sam [VHS]; The World Is Not Enough [VHS]; The Chinese Connection [VHS]; Enter the Dragon [VHS]; Star Wars - Episode I, The Phantom Menace [VHS]; Fists of Fury [VHS]; Alien [VHS]; Batman Returns (1992); Beloved; Total Recall; Touch of Evil [VHS]; Batman Forever; Inspector Gadget; Enemy of the State; Blade Runner (The Director's Cut); Jurassic Park (Widescreen Edition) [VHS]; Tomorrow Never Dies (Limited Edition Gift Pack) [VHS]; Aliens [VHS]; A Bug's Life; Return of the Dragon [VHS]; Batman (1989); The Exorcist; Lost in Space [VHS]; GoldenEye (Special Edition); Excalibur [VHS]; Alien Resurrection [VHS]; Alien 3 [VHS]; Reservoir Dogs [VHS]; Game of Death [VHS]; Lost World: Jurassic Park [VHS]\n"
     ]
    }
   ],
   "source": [
    "print(\"; \".join(items[iid] for iid in purchases_by_user[84]))"
   ]
  },
  {
   "cell_type": "markdown",
   "metadata": {
    "slideshow": {
     "slide_type": "slide"
    }
   },
   "source": [
    "- ...e i titoli dei film suggeriti"
   ]
  },
  {
   "cell_type": "code",
   "execution_count": 27,
   "metadata": {},
   "outputs": [
    {
     "name": "stdout",
     "output_type": "stream",
     "text": [
      "Double Jeopardy; Deep Blue Sea; American Pie - Rated Edition (Special Edition) [VHS]; The Green Mile [VHS]; The Sixth Sense [VHS]; Being John Malkovich; Saving Private Ryan [VHS]; The Insider; Fight Club; Galaxy Quest [VHS]; Three Kings; The Talented Mr. Ripley; Titanic [VHS]; Jaws [VHS]; Curse of the Blair Witch [VHS]; Independence Day [VHS]; Abyss [VHS]; Armageddon [VHS]; Dogma [VHS]; Sleepy Hollow\n"
     ]
    }
   ],
   "source": [
    "print(\"; \".join(items[iid] for iid in suggestions_by_user[84]))"
   ]
  },
  {
   "cell_type": "markdown",
   "metadata": {
    "slideshow": {
     "slide_type": "slide"
    }
   },
   "source": [
    "## Accuratezza dei Suggerimenti di Acquisto\n",
    "\n",
    "- Come valutare se i suggerimenti ottenuti in questo modo siano azzeccati?\n",
    "- Una possibilità consiste nel verificare **se gli oggetti suggeriti siano stati effettivamente acquistati** in un successivo momento\n",
    "- Nel file `purchases-2014.csv` è fornita una seconda lista di acquisti aggiornata che include anche quelli successivi al 2000\n",
    "  - utenti e prodotti sono limitati a quelli già caricati in `users` e `items`\n",
    "- Possiamo quindi confrontare i prodotti suggeriti con questa nuova matrice"
   ]
  },
  {
   "cell_type": "code",
   "execution_count": 28,
   "metadata": {},
   "outputs": [],
   "source": [
    "with open(\"purchases-2014.csv\", \"r\") as f:\n",
    "    purchases_updated = {(int(uid), int(iid)) for uid, iid in csv.reader(f, delimiter=\";\")}"
   ]
  },
  {
   "cell_type": "markdown",
   "metadata": {
    "slideshow": {
     "slide_type": "slide"
    }
   },
   "source": [
    "### Selezionare solo i Nuovi Acquisti\n",
    "\n",
    "- Il nuovo file riporta **tutti** gli acquisti, compresi quelli già indicati nel file precedente\n",
    "- Vogliamo un insieme dei soli acquisti successivi all'analisi svolta sopra\n",
    "- Possiamo ottenerlo calcolando la differenza tra gli insiemi di acquisti, tramite l'operatore `-`"
   ]
  },
  {
   "cell_type": "code",
   "execution_count": 29,
   "metadata": {},
   "outputs": [],
   "source": [
    "new_purchases = purchases_updated - purchases"
   ]
  },
  {
   "cell_type": "markdown",
   "metadata": {},
   "source": [
    "- Possiamo raggruppare questi nuovi acquisti per utente, in modo analogo a quanto fatto sopra"
   ]
  },
  {
   "cell_type": "code",
   "execution_count": 30,
   "metadata": {},
   "outputs": [],
   "source": [
    "def get_new_purchases_by(target_uid):\n",
    "    return set(iid for uid, iid in new_purchases if target_uid == uid)\n",
    "\n",
    "new_purchases_by_user = {uid: get_new_purchases_by(uid) for uid in users.keys()}"
   ]
  },
  {
   "cell_type": "markdown",
   "metadata": {
    "slideshow": {
     "slide_type": "slide"
    }
   },
   "source": [
    "### Quali Nuovi Acquisti sono stati Suggeriti?\n",
    "\n",
    "- Abbiamo ora il dizionario `suggestions_by_user` con gli acquisti _suggeriti_ e `new_purchases_by_user` con i nuovi acquisti _effettivi_\n",
    "- Da questi possiamo individuare quali sono i suggerimenti **validi**, quelli a cui dopo l'analisi è corrisposto un acquisto\n",
    "- Consideriamo un utente _soddisfatto_ se ha ricevuto **almeno un suggerimento valido**\n",
    "- Individuiamo l'insieme degli utenti soddisfatti individuando quelli dove l'intersezione tra suggerimenti e nuovi acquisti non è vuota\n",
    "  - ricordare che usando un insieme (o un'altra collezione) in `if`, otteniamo `True` se e solo se l'insieme non è vuoto"
   ]
  },
  {
   "cell_type": "code",
   "execution_count": 31,
   "metadata": {},
   "outputs": [],
   "source": [
    "satisfied_users = {uid for uid in users.keys() if suggestions_by_user[uid] & new_purchases_by_user[uid]}"
   ]
  },
  {
   "cell_type": "markdown",
   "metadata": {
    "slideshow": {
     "slide_type": "slide"
    }
   },
   "source": [
    "- Quanti sono gli utenti soddisfatti?"
   ]
  },
  {
   "cell_type": "code",
   "execution_count": 32,
   "metadata": {},
   "outputs": [
    {
     "data": {
      "text/plain": [
       "62"
      ]
     },
     "execution_count": 32,
     "metadata": {},
     "output_type": "execute_result"
    }
   ],
   "source": [
    "len(satisfied_users)"
   ]
  },
  {
   "cell_type": "markdown",
   "metadata": {},
   "source": [
    "- Quanti sono come percentuale rispetto al totale degli utenti analizzati?"
   ]
  },
  {
   "cell_type": "code",
   "execution_count": 33,
   "metadata": {},
   "outputs": [
    {
     "data": {
      "text/plain": [
       "0.34831460674157305"
      ]
     },
     "execution_count": 33,
     "metadata": {},
     "output_type": "execute_result"
    }
   ],
   "source": [
    "len(satisfied_users) / len(users)"
   ]
  },
  {
   "cell_type": "markdown",
   "metadata": {},
   "source": [
    "- Abbiamo quindi suggerito **almeno un prodotto valido** per circa **un terzo degli utenti**"
   ]
  },
  {
   "cell_type": "markdown",
   "metadata": {
    "slideshow": {
     "slide_type": "slide"
    }
   },
   "source": [
    "## Esercizi: Confronto con una Selezione Casuale di Prodotti\n",
    "\n",
    "- Per valutare quanto il risultato ottenuto sia buono, possiamo misurare cosa otterremmo **suggerendo _N_ prodotti a caso** a ciascun utente\n",
    "- Per generare numeri casuali, usiamo il modulo `random` di Python"
   ]
  },
  {
   "cell_type": "code",
   "execution_count": 34,
   "metadata": {},
   "outputs": [],
   "source": [
    "import random"
   ]
  },
  {
   "cell_type": "markdown",
   "metadata": {},
   "source": [
    "- Per ottenere risultati riproducibili, impostiamo un valore fisso come seed"
   ]
  },
  {
   "cell_type": "code",
   "execution_count": 35,
   "metadata": {},
   "outputs": [],
   "source": [
    "random.seed(1234567)"
   ]
  },
  {
   "cell_type": "markdown",
   "metadata": {
    "slideshow": {
     "slide_type": "slide"
    }
   },
   "source": [
    "- **1)** creare una funzione `suggest_random` che, dato un ID utente, restituisca una lista di _N_ ID prodotti casuali tra quelli che non risultano da lui acquistati nel dataset del 2000\n",
    "  - per un utente `uid`, gli ID dei prodotti non acquistati sono le chiavi di `interests_by_user[uid]`\n",
    "  - la funzione `sample(x, k)` del modulo `random` seleziona una lista di k elementi casuali da x\n",
    "  - tale lista va convertita in un `set` per compatibilità con i passaggi successivi"
   ]
  },
  {
   "cell_type": "code",
   "execution_count": 36,
   "metadata": {},
   "outputs": [],
   "source": [
    "def suggest_random(uid):\n",
    "    ..."
   ]
  },
  {
   "cell_type": "markdown",
   "metadata": {},
   "source": [
    "- **2)** usare la funzione per creare un dizionario `random_suggestions_by_user` che associ ad ogni utente i suoi suggerimenti casuali\n",
    "  - come riferimento si usi la creazione del dizionario `suggestions_by_user` sopra"
   ]
  },
  {
   "cell_type": "code",
   "execution_count": 37,
   "metadata": {},
   "outputs": [],
   "source": [
    "random_suggestions_by_user = ..."
   ]
  },
  {
   "cell_type": "markdown",
   "metadata": {
    "slideshow": {
     "slide_type": "slide"
    }
   },
   "source": [
    "- **3)** creare un insieme `randomly_satisfied_users` con gli ID degli utenti per cui almeno un prodotto tra i suggerimenti casuali è stato acquistato in seguito\n",
    "  - usare `satisfied_users` come riferimento"
   ]
  },
  {
   "cell_type": "code",
   "execution_count": 38,
   "metadata": {},
   "outputs": [],
   "source": [
    "randomly_satisfied_users = ..."
   ]
  },
  {
   "cell_type": "markdown",
   "metadata": {},
   "source": [
    "- **4)** calcolare la percentuale di utenti in `randomly_satisfied_users` rispetto al totale\n",
    "  - tale percentuale dovrebbe risultare intorno al **12%**\n",
    "- **Extra.** Questa percentuale può cambiare variando il valore `seed` in alto. Rieseguire i calcoli sopra con 2-3 seed differenti, quindi calcolare la percentuale media su 10000 prove con seed diversi."
   ]
  },
  {
   "cell_type": "markdown",
   "metadata": {
    "slideshow": {
     "slide_type": "slide"
    }
   },
   "source": [
    "## Sviluppi Successivi\n",
    "\n",
    "- Abbiamo quì visto come usare le strutture dati e le funzioni standard di Python per un compito pratico\n",
    "- Nel prossimo laboratorio vedremo come ottenere lo stesso risultato tramite **operazioni tra matrici e algebra lineare**"
   ]
  }
 ],
 "metadata": {
  "kernelspec": {
   "display_name": "Python 3",
   "language": "python",
   "name": "python3"
  },
  "language_info": {
   "codemirror_mode": {
    "name": "ipython",
    "version": 3
   },
   "file_extension": ".py",
   "mimetype": "text/x-python",
   "name": "python",
   "nbconvert_exporter": "python",
   "pygments_lexer": "ipython3",
   "version": "3.7.2"
  }
 },
 "nbformat": 4,
 "nbformat_minor": 2
}
