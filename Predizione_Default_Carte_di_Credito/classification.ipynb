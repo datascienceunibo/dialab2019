{
 "cells": [
  {
   "cell_type": "markdown",
   "metadata": {
    "slideshow": {
     "slide_type": "slide"
    }
   },
   "source": [
    "# Laboratorio: Classificazione\n",
    "\n",
    "**Programmazione di Applicazioni Data Intensive**  \n",
    "Laurea in Ingegneria e Scienze Informatiche  \n",
    "DISI - Università di Bologna, Cesena\n",
    "\n",
    "Proff. Gianluca Moro, Roberto Pasolini  \n",
    "`nome.cognome@unibo.it`"
   ]
  },
  {
   "cell_type": "markdown",
   "metadata": {
    "slideshow": {
     "slide_type": "slide"
    }
   },
   "source": [
    "## Classificazione\n",
    "\n",
    "- Nei problemi visti finora di _regressione_, l'obiettivo è prevedere il valore di una variabile _continua_\n",
    "  - una quantità di energia consumata, il prezzo di una casa, ...\n",
    "- Nei problemi di **_classificazione_** l'obiettivo generale è invece, per ogni osservazione, **distinguere uno di due o più casi (_classi_) possibili**\n",
    "- Come per la regressione, un modello di classificazione va addestrato su esempi già correttamente classificati"
   ]
  },
  {
   "cell_type": "code",
   "execution_count": 1,
   "metadata": {},
   "outputs": [],
   "source": [
    "%matplotlib inline\n",
    "import numpy as np\n",
    "import pandas as pd\n",
    "import matplotlib.pyplot as plt"
   ]
  },
  {
   "cell_type": "markdown",
   "metadata": {
    "slideshow": {
     "slide_type": "slide"
    }
   },
   "source": [
    "## Caso di Studio 1: Predizione Default Carte di Credito\n",
    "\n",
    "- La predizione del rischio di credito è importante per le banche per stimare in anticipo il capitale che avranno a disposizione\n",
    "- Dati dei titolari di carte di credito, vogliamo predire per ogni mese se rimborseranno puntualmente le spese effettuate\n",
    "- Su https://archive.ics.uci.edu/ml/datasets/default+of+credit+card+clients è fornito un dataset che riassume lo stato di 30.000 titolari di carte di credito di una banca in Taiwan nel 2005\n",
    "- Utilizziamo questo dataset per verificare se siamo in grado di addestrare un modello a predire l'insolvenza o meno dei titolari di carte"
   ]
  },
  {
   "cell_type": "markdown",
   "metadata": {
    "slideshow": {
     "slide_type": "slide"
    }
   },
   "source": [
    "## Reperimento dei Dati\n",
    "\n",
    "- I dati sono forniti in un file Excel, utilizziamo la funzione `read_excel` di pandas per importarli direttamente dato l'URL del file\n",
    "  - deve essere installata la libreria `xlrd`\n",
    "  - con `skiprows=1` ignoriamo la prima riga del file"
   ]
  },
  {
   "cell_type": "code",
   "execution_count": 2,
   "metadata": {},
   "outputs": [],
   "source": [
    "ccd_url = \"https://archive.ics.uci.edu/ml/machine-learning-databases/00350/default%20of%20credit%20card%20clients.xls\"\n",
    "ccd = pd.read_excel(ccd_url, skiprows=1)"
   ]
  },
  {
   "cell_type": "markdown",
   "metadata": {},
   "source": [
    "- Vediamo il numero di righe e colonne"
   ]
  },
  {
   "cell_type": "code",
   "execution_count": 3,
   "metadata": {},
   "outputs": [
    {
     "data": {
      "text/plain": [
       "(30000, 25)"
      ]
     },
     "execution_count": 3,
     "metadata": {},
     "output_type": "execute_result"
    }
   ],
   "source": [
    "ccd.shape"
   ]
  },
  {
   "cell_type": "markdown",
   "metadata": {
    "slideshow": {
     "slide_type": "slide"
    }
   },
   "source": [
    "- Di default pandas visualizza al massimo 20 colonne (prime 10 e ultime 10): il seguente comando aumenta tale limite\n",
    "  - oltre a `max_columns` si può impostare `max_rows` allo stesso modo"
   ]
  },
  {
   "cell_type": "code",
   "execution_count": 4,
   "metadata": {},
   "outputs": [],
   "source": [
    "pd.options.display.max_columns = 25"
   ]
  },
  {
   "cell_type": "code",
   "execution_count": 5,
   "metadata": {},
   "outputs": [
    {
     "data": {
      "text/html": [
       "<div>\n",
       "<table border=\"1\" class=\"dataframe\">\n",
       "  <thead>\n",
       "    <tr style=\"text-align: right;\">\n",
       "      <th></th>\n",
       "      <th>ID</th>\n",
       "      <th>LIMIT_BAL</th>\n",
       "      <th>SEX</th>\n",
       "      <th>EDUCATION</th>\n",
       "      <th>MARRIAGE</th>\n",
       "      <th>AGE</th>\n",
       "      <th>PAY_0</th>\n",
       "      <th>PAY_2</th>\n",
       "      <th>PAY_3</th>\n",
       "      <th>PAY_4</th>\n",
       "      <th>PAY_5</th>\n",
       "      <th>PAY_6</th>\n",
       "      <th>BILL_AMT1</th>\n",
       "      <th>BILL_AMT2</th>\n",
       "      <th>BILL_AMT3</th>\n",
       "      <th>BILL_AMT4</th>\n",
       "      <th>BILL_AMT5</th>\n",
       "      <th>BILL_AMT6</th>\n",
       "      <th>PAY_AMT1</th>\n",
       "      <th>PAY_AMT2</th>\n",
       "      <th>PAY_AMT3</th>\n",
       "      <th>PAY_AMT4</th>\n",
       "      <th>PAY_AMT5</th>\n",
       "      <th>PAY_AMT6</th>\n",
       "      <th>default payment next month</th>\n",
       "    </tr>\n",
       "  </thead>\n",
       "  <tbody>\n",
       "    <tr>\n",
       "      <th>0</th>\n",
       "      <td>1</td>\n",
       "      <td>20000</td>\n",
       "      <td>2</td>\n",
       "      <td>2</td>\n",
       "      <td>1</td>\n",
       "      <td>24</td>\n",
       "      <td>2</td>\n",
       "      <td>2</td>\n",
       "      <td>-1</td>\n",
       "      <td>-1</td>\n",
       "      <td>-2</td>\n",
       "      <td>-2</td>\n",
       "      <td>3913</td>\n",
       "      <td>3102</td>\n",
       "      <td>689</td>\n",
       "      <td>0</td>\n",
       "      <td>0</td>\n",
       "      <td>0</td>\n",
       "      <td>0</td>\n",
       "      <td>689</td>\n",
       "      <td>0</td>\n",
       "      <td>0</td>\n",
       "      <td>0</td>\n",
       "      <td>0</td>\n",
       "      <td>1</td>\n",
       "    </tr>\n",
       "    <tr>\n",
       "      <th>1</th>\n",
       "      <td>2</td>\n",
       "      <td>120000</td>\n",
       "      <td>2</td>\n",
       "      <td>2</td>\n",
       "      <td>2</td>\n",
       "      <td>26</td>\n",
       "      <td>-1</td>\n",
       "      <td>2</td>\n",
       "      <td>0</td>\n",
       "      <td>0</td>\n",
       "      <td>0</td>\n",
       "      <td>2</td>\n",
       "      <td>2682</td>\n",
       "      <td>1725</td>\n",
       "      <td>2682</td>\n",
       "      <td>3272</td>\n",
       "      <td>3455</td>\n",
       "      <td>3261</td>\n",
       "      <td>0</td>\n",
       "      <td>1000</td>\n",
       "      <td>1000</td>\n",
       "      <td>1000</td>\n",
       "      <td>0</td>\n",
       "      <td>2000</td>\n",
       "      <td>1</td>\n",
       "    </tr>\n",
       "    <tr>\n",
       "      <th>2</th>\n",
       "      <td>3</td>\n",
       "      <td>90000</td>\n",
       "      <td>2</td>\n",
       "      <td>2</td>\n",
       "      <td>2</td>\n",
       "      <td>34</td>\n",
       "      <td>0</td>\n",
       "      <td>0</td>\n",
       "      <td>0</td>\n",
       "      <td>0</td>\n",
       "      <td>0</td>\n",
       "      <td>0</td>\n",
       "      <td>29239</td>\n",
       "      <td>14027</td>\n",
       "      <td>13559</td>\n",
       "      <td>14331</td>\n",
       "      <td>14948</td>\n",
       "      <td>15549</td>\n",
       "      <td>1518</td>\n",
       "      <td>1500</td>\n",
       "      <td>1000</td>\n",
       "      <td>1000</td>\n",
       "      <td>1000</td>\n",
       "      <td>5000</td>\n",
       "      <td>0</td>\n",
       "    </tr>\n",
       "    <tr>\n",
       "      <th>3</th>\n",
       "      <td>4</td>\n",
       "      <td>50000</td>\n",
       "      <td>2</td>\n",
       "      <td>2</td>\n",
       "      <td>1</td>\n",
       "      <td>37</td>\n",
       "      <td>0</td>\n",
       "      <td>0</td>\n",
       "      <td>0</td>\n",
       "      <td>0</td>\n",
       "      <td>0</td>\n",
       "      <td>0</td>\n",
       "      <td>46990</td>\n",
       "      <td>48233</td>\n",
       "      <td>49291</td>\n",
       "      <td>28314</td>\n",
       "      <td>28959</td>\n",
       "      <td>29547</td>\n",
       "      <td>2000</td>\n",
       "      <td>2019</td>\n",
       "      <td>1200</td>\n",
       "      <td>1100</td>\n",
       "      <td>1069</td>\n",
       "      <td>1000</td>\n",
       "      <td>0</td>\n",
       "    </tr>\n",
       "    <tr>\n",
       "      <th>4</th>\n",
       "      <td>5</td>\n",
       "      <td>50000</td>\n",
       "      <td>1</td>\n",
       "      <td>2</td>\n",
       "      <td>1</td>\n",
       "      <td>57</td>\n",
       "      <td>-1</td>\n",
       "      <td>0</td>\n",
       "      <td>-1</td>\n",
       "      <td>0</td>\n",
       "      <td>0</td>\n",
       "      <td>0</td>\n",
       "      <td>8617</td>\n",
       "      <td>5670</td>\n",
       "      <td>35835</td>\n",
       "      <td>20940</td>\n",
       "      <td>19146</td>\n",
       "      <td>19131</td>\n",
       "      <td>2000</td>\n",
       "      <td>36681</td>\n",
       "      <td>10000</td>\n",
       "      <td>9000</td>\n",
       "      <td>689</td>\n",
       "      <td>679</td>\n",
       "      <td>0</td>\n",
       "    </tr>\n",
       "  </tbody>\n",
       "</table>\n",
       "</div>"
      ],
      "text/plain": [
       "   ID  LIMIT_BAL  SEX  EDUCATION  MARRIAGE  AGE  PAY_0  PAY_2  PAY_3  PAY_4  \\\n",
       "0   1      20000    2          2         1   24      2      2     -1     -1   \n",
       "1   2     120000    2          2         2   26     -1      2      0      0   \n",
       "2   3      90000    2          2         2   34      0      0      0      0   \n",
       "3   4      50000    2          2         1   37      0      0      0      0   \n",
       "4   5      50000    1          2         1   57     -1      0     -1      0   \n",
       "\n",
       "   PAY_5  PAY_6  BILL_AMT1  BILL_AMT2  BILL_AMT3  BILL_AMT4  BILL_AMT5  \\\n",
       "0     -2     -2       3913       3102        689          0          0   \n",
       "1      0      2       2682       1725       2682       3272       3455   \n",
       "2      0      0      29239      14027      13559      14331      14948   \n",
       "3      0      0      46990      48233      49291      28314      28959   \n",
       "4      0      0       8617       5670      35835      20940      19146   \n",
       "\n",
       "   BILL_AMT6  PAY_AMT1  PAY_AMT2  PAY_AMT3  PAY_AMT4  PAY_AMT5  PAY_AMT6  \\\n",
       "0          0         0       689         0         0         0         0   \n",
       "1       3261         0      1000      1000      1000         0      2000   \n",
       "2      15549      1518      1500      1000      1000      1000      5000   \n",
       "3      29547      2000      2019      1200      1100      1069      1000   \n",
       "4      19131      2000     36681     10000      9000       689       679   \n",
       "\n",
       "   default payment next month  \n",
       "0                           1  \n",
       "1                           1  \n",
       "2                           0  \n",
       "3                           0  \n",
       "4                           0  "
      ]
     },
     "execution_count": 5,
     "metadata": {},
     "output_type": "execute_result"
    }
   ],
   "source": [
    "ccd.head()"
   ]
  },
  {
   "cell_type": "markdown",
   "metadata": {
    "slideshow": {
     "slide_type": "slide"
    }
   },
   "source": [
    "## Significato delle Colonne\n",
    "\n",
    "Riportiamo le informazioni sul dataset tratte dalla [fonte](https://archive.ics.uci.edu/ml/datasets/default+of+credit+card+clients)\n",
    "\n",
    "- **`ID`** è un identificativo unico di ciascun cliente\n",
    "\n",
    "I seguenti attributi sono di tipo categorico (nominale o ordinale), ma codificati come numeri:\n",
    "- **`SEX`**: sesso\n",
    "  - 1 = maschio, 2 = femmina\n",
    "- **`EDUCATION`**: titolo di studio\n",
    "  - 1 = laurea specialistica, 2 = laurea breve, 3 = scuola superiore, 4 = altro\n",
    "- **`MARRIAGE`**: stato civile\n",
    "  - 1 = sposato, 2 = nubile/celibe, 3 = altro\n",
    "- **`default payment next month`**: stato pagamento dell'ultimo mese **(variabile da prevedere!)**\n",
    "  - 0 = pagato, 1 = insoluto"
   ]
  },
  {
   "cell_type": "markdown",
   "metadata": {
    "slideshow": {
     "slide_type": "slide"
    }
   },
   "source": [
    "Gli attributi puramente numerici (_intervallo_ o _ratio_) sono invece:\n",
    "- **`LIMIT_BAL`**: ammontare del credito\n",
    "- **`AGE`**: età\n",
    "- **`PAY_x`**: stato del pagamento di x mesi prima\n",
    "  - -1 = pagato in tempo\n",
    "  - 1 = pagato un mese in ritardo\n",
    "  - ...\n",
    "  - 9 = pagato nove o più mesi in ritardo\n",
    "- **`BILL_AMTx`**: somma da pagare x mesi prima\n",
    "- **`PAY_AMTx`**: somma effettivamente pagata x mesi prima"
   ]
  },
  {
   "cell_type": "markdown",
   "metadata": {
    "slideshow": {
     "slide_type": "slide"
    }
   },
   "source": [
    "## Preprocessamento di Base\n",
    "\n",
    "- Per iniziare, impostiamo l'identificatore univoco `ID` come indice del dataset"
   ]
  },
  {
   "cell_type": "code",
   "execution_count": 6,
   "metadata": {},
   "outputs": [],
   "source": [
    "ccd.set_index(\"ID\", inplace=True)"
   ]
  },
  {
   "cell_type": "markdown",
   "metadata": {},
   "source": [
    "- Inoltre, per maggiore comprensibilità, cambiamo i nomi di un paio di colonne\n",
    "  - usiamo il metodo `rename` passando un dizionario che associ i nuovi nomi a quelli attuali"
   ]
  },
  {
   "cell_type": "code",
   "execution_count": 7,
   "metadata": {},
   "outputs": [],
   "source": [
    "ccd.rename(columns={\n",
    "    # nome attuale                nuovo nome\n",
    "    \"PAY_0\":                      \"PAY_1\",\n",
    "    \"default payment next month\": \"DEFAULT\"\n",
    "}, inplace=True)"
   ]
  },
  {
   "cell_type": "markdown",
   "metadata": {
    "slideshow": {
     "slide_type": "slide"
    }
   },
   "source": [
    "## Analisi Esplorativa\n",
    "\n",
    "- Analizziamo la distribuzione dei valori nelle varie colonne\n",
    "- Iniziamo dalla variabile `DEFAULT` che vogliamo predire\n",
    "- Col metodo `value_counts` possiamo ottenere sia il conteggio che (con `normalize=True`) la percentuale di valori"
   ]
  },
  {
   "cell_type": "code",
   "execution_count": 8,
   "metadata": {},
   "outputs": [
    {
     "data": {
      "text/plain": [
       "0    23364\n",
       "1     6636\n",
       "Name: DEFAULT, dtype: int64"
      ]
     },
     "execution_count": 8,
     "metadata": {},
     "output_type": "execute_result"
    }
   ],
   "source": [
    "ccd[\"DEFAULT\"].value_counts()"
   ]
  },
  {
   "cell_type": "code",
   "execution_count": 9,
   "metadata": {},
   "outputs": [
    {
     "data": {
      "text/plain": [
       "0    0.7788\n",
       "1    0.2212\n",
       "Name: DEFAULT, dtype: float64"
      ]
     },
     "execution_count": 9,
     "metadata": {},
     "output_type": "execute_result"
    }
   ],
   "source": [
    "ccd[\"DEFAULT\"].value_counts(normalize=True)"
   ]
  },
  {
   "cell_type": "markdown",
   "metadata": {},
   "source": [
    "- Nel dataset abbiamo quindi il 22\\% circa di casi di insolvenza"
   ]
  },
  {
   "cell_type": "markdown",
   "metadata": {
    "slideshow": {
     "slide_type": "slide"
    }
   },
   "source": [
    "- Possiamo visualizzare la stessa informazione in un grafico a torta\n",
    "  - con l'opzione `labels` di `plot.pie` assegniamo etichette comprensibili ai settori\n",
    "  - `sort_index` si applica al risultato di `value_counts` per garantire l'ordine delle etichette"
   ]
  },
  {
   "cell_type": "code",
   "execution_count": 10,
   "metadata": {},
   "outputs": [
    {
     "data": {
      "text/plain": [
       "<matplotlib.axes._subplots.AxesSubplot at 0x7fc193ddbe48>"
      ]
     },
     "execution_count": 10,
     "metadata": {},
     "output_type": "execute_result"
    },
    {
     "data": {
      "image/png": "[encoded data removed]",
      "text/plain": [
       "<matplotlib.figure.Figure at 0x7fc193029ba8>"
      ]
     },
     "metadata": {},
     "output_type": "display_data"
    }
   ],
   "source": [
    "ccd[\"DEFAULT\"].value_counts().sort_index() \\\n",
    "    .plot.pie(labels=[\"Paid\", \"Default\"], figsize=(5, 5))"
   ]
  },
  {
   "cell_type": "markdown",
   "metadata": {
    "slideshow": {
     "slide_type": "slide"
    }
   },
   "source": [
    "- Per comodità creiamo una funzione generale per grafici come questo"
   ]
  },
  {
   "cell_type": "code",
   "execution_count": 11,
   "metadata": {},
   "outputs": [],
   "source": [
    "def pieplot(x, **options):\n",
    "    x.value_counts().sort_index().plot.pie(**options)"
   ]
  },
  {
   "cell_type": "code",
   "execution_count": 12,
   "metadata": {},
   "outputs": [
    {
     "data": {
      "image/png": "[encoded data removed]",
      "text/plain": [
       "<matplotlib.figure.Figure at 0x7fc195bed908>"
      ]
     },
     "metadata": {},
     "output_type": "display_data"
    }
   ],
   "source": [
    "pieplot(ccd[\"DEFAULT\"], labels=[\"Paid\", \"Default\"], figsize=(5, 5))"
   ]
  },
  {
   "cell_type": "markdown",
   "metadata": {
    "slideshow": {
     "slide_type": "slide"
    }
   },
   "source": [
    "- Vediamo la distribuzione per gli altri attributi categorici"
   ]
  },
  {
   "cell_type": "code",
   "execution_count": 13,
   "metadata": {},
   "outputs": [
    {
     "data": {
      "text/plain": [
       "2    18112\n",
       "1    11888\n",
       "Name: SEX, dtype: int64"
      ]
     },
     "execution_count": 13,
     "metadata": {},
     "output_type": "execute_result"
    }
   ],
   "source": [
    "ccd[\"SEX\"].value_counts()"
   ]
  },
  {
   "cell_type": "code",
   "execution_count": 14,
   "metadata": {},
   "outputs": [
    {
     "data": {
      "text/plain": [
       "2    14030\n",
       "1    10585\n",
       "3     4917\n",
       "5      280\n",
       "4      123\n",
       "6       51\n",
       "0       14\n",
       "Name: EDUCATION, dtype: int64"
      ]
     },
     "execution_count": 14,
     "metadata": {},
     "output_type": "execute_result"
    }
   ],
   "source": [
    "ccd[\"EDUCATION\"].value_counts()"
   ]
  },
  {
   "cell_type": "code",
   "execution_count": 15,
   "metadata": {},
   "outputs": [
    {
     "data": {
      "text/plain": [
       "2    15964\n",
       "1    13659\n",
       "3      323\n",
       "0       54\n",
       "Name: MARRIAGE, dtype: int64"
      ]
     },
     "execution_count": 15,
     "metadata": {},
     "output_type": "execute_result"
    }
   ],
   "source": [
    "ccd[\"MARRIAGE\"].value_counts()"
   ]
  },
  {
   "cell_type": "markdown",
   "metadata": {
    "slideshow": {
     "slide_type": "slide"
    }
   },
   "source": [
    "- Nelle distribuzioni vediamo valori non previsti nella descrizione del dataset\n",
    "  - `EDUCATION` pari a 5, 6 o 0\n",
    "  - `MARRIAGE` pari a 0\n",
    "- Trattandosi di pochi casi rispetto al totale, uniamo i valori sconosciuti a quelli noti che indicano \"altro\"\n",
    "  - 4 per `EDUCATION`, 3 per `MARRIAGE`"
   ]
  },
  {
   "cell_type": "code",
   "execution_count": 16,
   "metadata": {},
   "outputs": [],
   "source": [
    "# scrivo 3 nella colonna MARRIAGE nelle righe con MARRIAGE = 0\n",
    "ccd.loc[ccd[\"MARRIAGE\"] == 0, \"MARRIAGE\"] = 3"
   ]
  },
  {
   "cell_type": "code",
   "execution_count": 17,
   "metadata": {},
   "outputs": [],
   "source": [
    "# isin restituisce True dove il valore è uno di quelli indicati\n",
    "ccd.loc[ccd[\"EDUCATION\"].isin([5, 6, 0]), \"EDUCATION\"] = 4"
   ]
  },
  {
   "cell_type": "markdown",
   "metadata": {},
   "source": [
    "- Le distribuzioni così aggiornate sono"
   ]
  },
  {
   "cell_type": "code",
   "execution_count": 18,
   "metadata": {},
   "outputs": [
    {
     "data": {
      "text/plain": [
       "2    14030\n",
       "1    10585\n",
       "3     4917\n",
       "4      468\n",
       "Name: EDUCATION, dtype: int64"
      ]
     },
     "execution_count": 18,
     "metadata": {},
     "output_type": "execute_result"
    }
   ],
   "source": [
    "ccd[\"EDUCATION\"].value_counts()"
   ]
  },
  {
   "cell_type": "code",
   "execution_count": 19,
   "metadata": {},
   "outputs": [
    {
     "data": {
      "text/plain": [
       "2    15964\n",
       "1    13659\n",
       "3      377\n",
       "Name: MARRIAGE, dtype: int64"
      ]
     },
     "execution_count": 19,
     "metadata": {},
     "output_type": "execute_result"
    }
   ],
   "source": [
    "ccd[\"MARRIAGE\"].value_counts()"
   ]
  },
  {
   "cell_type": "markdown",
   "metadata": {
    "slideshow": {
     "slide_type": "slide"
    }
   },
   "source": [
    "- Visualizziamo le distribuzioni aggiornate in grafici a torta\n",
    "  - `plt.figure` inizializza una figura vuota\n",
    "  - l'opzione `ax` di `plot.pie` indica in quale porzione di figura piazzare il grafico\n",
    "  - `plt.subplot(R, C, N)` restituisce la N-esima porzione della figura divisa in R righe e C colonne"
   ]
  },
  {
   "cell_type": "code",
   "execution_count": 20,
   "metadata": {},
   "outputs": [
    {
     "data": {
      "image/png": "[encoded data removed]",
      "text/plain": [
       "<matplotlib.figure.Figure at 0x7fc195c039b0>"
      ]
     },
     "metadata": {},
     "output_type": "display_data"
    }
   ],
   "source": [
    "plt.figure(figsize=(12, 4))\n",
    "pieplot(ccd[\"SEX\"], ax=plt.subplot(1, 3, 1), labels=[\"Male\", \"Female\"])\n",
    "pieplot(ccd[\"EDUCATION\"], ax=plt.subplot(1, 3, 2),\n",
    "        labels=[\"Grad school\", \"University\", \"High school\", \"Other\"])\n",
    "pieplot(ccd[\"MARRIAGE\"], ax=plt.subplot(1, 3, 3),\n",
    "        labels=[\"Married\", \"Single\", \"Other\"])"
   ]
  },
  {
   "cell_type": "markdown",
   "metadata": {
    "slideshow": {
     "slide_type": "slide"
    }
   },
   "source": [
    "- Analizziamo ora le variabili numeriche\n",
    "- Il metodo `describe` fornisce le statistiche principali e i quartili su tutte le variabili"
   ]
  },
  {
   "cell_type": "code",
   "execution_count": 21,
   "metadata": {},
   "outputs": [
    {
     "data": {
      "text/html": [
       "<div>\n",
       "<table border=\"1\" class=\"dataframe\">\n",
       "  <thead>\n",
       "    <tr style=\"text-align: right;\">\n",
       "      <th></th>\n",
       "      <th>LIMIT_BAL</th>\n",
       "      <th>SEX</th>\n",
       "      <th>EDUCATION</th>\n",
       "      <th>MARRIAGE</th>\n",
       "      <th>AGE</th>\n",
       "      <th>PAY_1</th>\n",
       "      <th>PAY_2</th>\n",
       "      <th>PAY_3</th>\n",
       "      <th>PAY_4</th>\n",
       "      <th>PAY_5</th>\n",
       "      <th>PAY_6</th>\n",
       "      <th>BILL_AMT1</th>\n",
       "      <th>BILL_AMT2</th>\n",
       "      <th>BILL_AMT3</th>\n",
       "      <th>BILL_AMT4</th>\n",
       "      <th>BILL_AMT5</th>\n",
       "      <th>BILL_AMT6</th>\n",
       "      <th>PAY_AMT1</th>\n",
       "      <th>PAY_AMT2</th>\n",
       "      <th>PAY_AMT3</th>\n",
       "      <th>PAY_AMT4</th>\n",
       "      <th>PAY_AMT5</th>\n",
       "      <th>PAY_AMT6</th>\n",
       "      <th>DEFAULT</th>\n",
       "    </tr>\n",
       "  </thead>\n",
       "  <tbody>\n",
       "    <tr>\n",
       "      <th>count</th>\n",
       "      <td>30000.000000</td>\n",
       "      <td>30000.000000</td>\n",
       "      <td>30000.000000</td>\n",
       "      <td>30000.000000</td>\n",
       "      <td>30000.000000</td>\n",
       "      <td>30000.000000</td>\n",
       "      <td>30000.000000</td>\n",
       "      <td>30000.000000</td>\n",
       "      <td>30000.000000</td>\n",
       "      <td>30000.000000</td>\n",
       "      <td>30000.000000</td>\n",
       "      <td>30000.000000</td>\n",
       "      <td>30000.000000</td>\n",
       "      <td>3.000000e+04</td>\n",
       "      <td>30000.000000</td>\n",
       "      <td>30000.000000</td>\n",
       "      <td>30000.000000</td>\n",
       "      <td>30000.000000</td>\n",
       "      <td>3.000000e+04</td>\n",
       "      <td>30000.00000</td>\n",
       "      <td>30000.000000</td>\n",
       "      <td>30000.000000</td>\n",
       "      <td>30000.000000</td>\n",
       "      <td>30000.000000</td>\n",
       "    </tr>\n",
       "    <tr>\n",
       "      <th>mean</th>\n",
       "      <td>167484.322667</td>\n",
       "      <td>1.603733</td>\n",
       "      <td>1.842267</td>\n",
       "      <td>1.557267</td>\n",
       "      <td>35.485500</td>\n",
       "      <td>-0.016700</td>\n",
       "      <td>-0.133767</td>\n",
       "      <td>-0.166200</td>\n",
       "      <td>-0.220667</td>\n",
       "      <td>-0.266200</td>\n",
       "      <td>-0.291100</td>\n",
       "      <td>51223.330900</td>\n",
       "      <td>49179.075167</td>\n",
       "      <td>4.701315e+04</td>\n",
       "      <td>43262.948967</td>\n",
       "      <td>40311.400967</td>\n",
       "      <td>38871.760400</td>\n",
       "      <td>5663.580500</td>\n",
       "      <td>5.921163e+03</td>\n",
       "      <td>5225.68150</td>\n",
       "      <td>4826.076867</td>\n",
       "      <td>4799.387633</td>\n",
       "      <td>5215.502567</td>\n",
       "      <td>0.221200</td>\n",
       "    </tr>\n",
       "    <tr>\n",
       "      <th>std</th>\n",
       "      <td>129747.661567</td>\n",
       "      <td>0.489129</td>\n",
       "      <td>0.744494</td>\n",
       "      <td>0.521405</td>\n",
       "      <td>9.217904</td>\n",
       "      <td>1.123802</td>\n",
       "      <td>1.197186</td>\n",
       "      <td>1.196868</td>\n",
       "      <td>1.169139</td>\n",
       "      <td>1.133187</td>\n",
       "      <td>1.149988</td>\n",
       "      <td>73635.860576</td>\n",
       "      <td>71173.768783</td>\n",
       "      <td>6.934939e+04</td>\n",
       "      <td>64332.856134</td>\n",
       "      <td>60797.155770</td>\n",
       "      <td>59554.107537</td>\n",
       "      <td>16563.280354</td>\n",
       "      <td>2.304087e+04</td>\n",
       "      <td>17606.96147</td>\n",
       "      <td>15666.159744</td>\n",
       "      <td>15278.305679</td>\n",
       "      <td>17777.465775</td>\n",
       "      <td>0.415062</td>\n",
       "    </tr>\n",
       "    <tr>\n",
       "      <th>min</th>\n",
       "      <td>10000.000000</td>\n",
       "      <td>1.000000</td>\n",
       "      <td>1.000000</td>\n",
       "      <td>1.000000</td>\n",
       "      <td>21.000000</td>\n",
       "      <td>-2.000000</td>\n",
       "      <td>-2.000000</td>\n",
       "      <td>-2.000000</td>\n",
       "      <td>-2.000000</td>\n",
       "      <td>-2.000000</td>\n",
       "      <td>-2.000000</td>\n",
       "      <td>-165580.000000</td>\n",
       "      <td>-69777.000000</td>\n",
       "      <td>-1.572640e+05</td>\n",
       "      <td>-170000.000000</td>\n",
       "      <td>-81334.000000</td>\n",
       "      <td>-339603.000000</td>\n",
       "      <td>0.000000</td>\n",
       "      <td>0.000000e+00</td>\n",
       "      <td>0.00000</td>\n",
       "      <td>0.000000</td>\n",
       "      <td>0.000000</td>\n",
       "      <td>0.000000</td>\n",
       "      <td>0.000000</td>\n",
       "    </tr>\n",
       "    <tr>\n",
       "      <th>25%</th>\n",
       "      <td>50000.000000</td>\n",
       "      <td>1.000000</td>\n",
       "      <td>1.000000</td>\n",
       "      <td>1.000000</td>\n",
       "      <td>28.000000</td>\n",
       "      <td>-1.000000</td>\n",
       "      <td>-1.000000</td>\n",
       "      <td>-1.000000</td>\n",
       "      <td>-1.000000</td>\n",
       "      <td>-1.000000</td>\n",
       "      <td>-1.000000</td>\n",
       "      <td>3558.750000</td>\n",
       "      <td>2984.750000</td>\n",
       "      <td>2.666250e+03</td>\n",
       "      <td>2326.750000</td>\n",
       "      <td>1763.000000</td>\n",
       "      <td>1256.000000</td>\n",
       "      <td>1000.000000</td>\n",
       "      <td>8.330000e+02</td>\n",
       "      <td>390.00000</td>\n",
       "      <td>296.000000</td>\n",
       "      <td>252.500000</td>\n",
       "      <td>117.750000</td>\n",
       "      <td>0.000000</td>\n",
       "    </tr>\n",
       "    <tr>\n",
       "      <th>50%</th>\n",
       "      <td>140000.000000</td>\n",
       "      <td>2.000000</td>\n",
       "      <td>2.000000</td>\n",
       "      <td>2.000000</td>\n",
       "      <td>34.000000</td>\n",
       "      <td>0.000000</td>\n",
       "      <td>0.000000</td>\n",
       "      <td>0.000000</td>\n",
       "      <td>0.000000</td>\n",
       "      <td>0.000000</td>\n",
       "      <td>0.000000</td>\n",
       "      <td>22381.500000</td>\n",
       "      <td>21200.000000</td>\n",
       "      <td>2.008850e+04</td>\n",
       "      <td>19052.000000</td>\n",
       "      <td>18104.500000</td>\n",
       "      <td>17071.000000</td>\n",
       "      <td>2100.000000</td>\n",
       "      <td>2.009000e+03</td>\n",
       "      <td>1800.00000</td>\n",
       "      <td>1500.000000</td>\n",
       "      <td>1500.000000</td>\n",
       "      <td>1500.000000</td>\n",
       "      <td>0.000000</td>\n",
       "    </tr>\n",
       "    <tr>\n",
       "      <th>75%</th>\n",
       "      <td>240000.000000</td>\n",
       "      <td>2.000000</td>\n",
       "      <td>2.000000</td>\n",
       "      <td>2.000000</td>\n",
       "      <td>41.000000</td>\n",
       "      <td>0.000000</td>\n",
       "      <td>0.000000</td>\n",
       "      <td>0.000000</td>\n",
       "      <td>0.000000</td>\n",
       "      <td>0.000000</td>\n",
       "      <td>0.000000</td>\n",
       "      <td>67091.000000</td>\n",
       "      <td>64006.250000</td>\n",
       "      <td>6.016475e+04</td>\n",
       "      <td>54506.000000</td>\n",
       "      <td>50190.500000</td>\n",
       "      <td>49198.250000</td>\n",
       "      <td>5006.000000</td>\n",
       "      <td>5.000000e+03</td>\n",
       "      <td>4505.00000</td>\n",
       "      <td>4013.250000</td>\n",
       "      <td>4031.500000</td>\n",
       "      <td>4000.000000</td>\n",
       "      <td>0.000000</td>\n",
       "    </tr>\n",
       "    <tr>\n",
       "      <th>max</th>\n",
       "      <td>1000000.000000</td>\n",
       "      <td>2.000000</td>\n",
       "      <td>4.000000</td>\n",
       "      <td>3.000000</td>\n",
       "      <td>79.000000</td>\n",
       "      <td>8.000000</td>\n",
       "      <td>8.000000</td>\n",
       "      <td>8.000000</td>\n",
       "      <td>8.000000</td>\n",
       "      <td>8.000000</td>\n",
       "      <td>8.000000</td>\n",
       "      <td>964511.000000</td>\n",
       "      <td>983931.000000</td>\n",
       "      <td>1.664089e+06</td>\n",
       "      <td>891586.000000</td>\n",
       "      <td>927171.000000</td>\n",
       "      <td>961664.000000</td>\n",
       "      <td>873552.000000</td>\n",
       "      <td>1.684259e+06</td>\n",
       "      <td>896040.00000</td>\n",
       "      <td>621000.000000</td>\n",
       "      <td>426529.000000</td>\n",
       "      <td>528666.000000</td>\n",
       "      <td>1.000000</td>\n",
       "    </tr>\n",
       "  </tbody>\n",
       "</table>\n",
       "</div>"
      ],
      "text/plain": [
       "            LIMIT_BAL           SEX     EDUCATION      MARRIAGE           AGE  \\\n",
       "count    30000.000000  30000.000000  30000.000000  30000.000000  30000.000000   \n",
       "mean    167484.322667      1.603733      1.842267      1.557267     35.485500   \n",
       "std     129747.661567      0.489129      0.744494      0.521405      9.217904   \n",
       "min      10000.000000      1.000000      1.000000      1.000000     21.000000   \n",
       "25%      50000.000000      1.000000      1.000000      1.000000     28.000000   \n",
       "50%     140000.000000      2.000000      2.000000      2.000000     34.000000   \n",
       "75%     240000.000000      2.000000      2.000000      2.000000     41.000000   \n",
       "max    1000000.000000      2.000000      4.000000      3.000000     79.000000   \n",
       "\n",
       "              PAY_1         PAY_2         PAY_3         PAY_4         PAY_5  \\\n",
       "count  30000.000000  30000.000000  30000.000000  30000.000000  30000.000000   \n",
       "mean      -0.016700     -0.133767     -0.166200     -0.220667     -0.266200   \n",
       "std        1.123802      1.197186      1.196868      1.169139      1.133187   \n",
       "min       -2.000000     -2.000000     -2.000000     -2.000000     -2.000000   \n",
       "25%       -1.000000     -1.000000     -1.000000     -1.000000     -1.000000   \n",
       "50%        0.000000      0.000000      0.000000      0.000000      0.000000   \n",
       "75%        0.000000      0.000000      0.000000      0.000000      0.000000   \n",
       "max        8.000000      8.000000      8.000000      8.000000      8.000000   \n",
       "\n",
       "              PAY_6      BILL_AMT1      BILL_AMT2     BILL_AMT3  \\\n",
       "count  30000.000000   30000.000000   30000.000000  3.000000e+04   \n",
       "mean      -0.291100   51223.330900   49179.075167  4.701315e+04   \n",
       "std        1.149988   73635.860576   71173.768783  6.934939e+04   \n",
       "min       -2.000000 -165580.000000  -69777.000000 -1.572640e+05   \n",
       "25%       -1.000000    3558.750000    2984.750000  2.666250e+03   \n",
       "50%        0.000000   22381.500000   21200.000000  2.008850e+04   \n",
       "75%        0.000000   67091.000000   64006.250000  6.016475e+04   \n",
       "max        8.000000  964511.000000  983931.000000  1.664089e+06   \n",
       "\n",
       "           BILL_AMT4      BILL_AMT5      BILL_AMT6       PAY_AMT1  \\\n",
       "count   30000.000000   30000.000000   30000.000000   30000.000000   \n",
       "mean    43262.948967   40311.400967   38871.760400    5663.580500   \n",
       "std     64332.856134   60797.155770   59554.107537   16563.280354   \n",
       "min   -170000.000000  -81334.000000 -339603.000000       0.000000   \n",
       "25%      2326.750000    1763.000000    1256.000000    1000.000000   \n",
       "50%     19052.000000   18104.500000   17071.000000    2100.000000   \n",
       "75%     54506.000000   50190.500000   49198.250000    5006.000000   \n",
       "max    891586.000000  927171.000000  961664.000000  873552.000000   \n",
       "\n",
       "           PAY_AMT2      PAY_AMT3       PAY_AMT4       PAY_AMT5  \\\n",
       "count  3.000000e+04   30000.00000   30000.000000   30000.000000   \n",
       "mean   5.921163e+03    5225.68150    4826.076867    4799.387633   \n",
       "std    2.304087e+04   17606.96147   15666.159744   15278.305679   \n",
       "min    0.000000e+00       0.00000       0.000000       0.000000   \n",
       "25%    8.330000e+02     390.00000     296.000000     252.500000   \n",
       "50%    2.009000e+03    1800.00000    1500.000000    1500.000000   \n",
       "75%    5.000000e+03    4505.00000    4013.250000    4031.500000   \n",
       "max    1.684259e+06  896040.00000  621000.000000  426529.000000   \n",
       "\n",
       "            PAY_AMT6       DEFAULT  \n",
       "count   30000.000000  30000.000000  \n",
       "mean     5215.502567      0.221200  \n",
       "std     17777.465775      0.415062  \n",
       "min         0.000000      0.000000  \n",
       "25%       117.750000      0.000000  \n",
       "50%      1500.000000      0.000000  \n",
       "75%      4000.000000      0.000000  \n",
       "max    528666.000000      1.000000  "
      ]
     },
     "execution_count": 21,
     "metadata": {},
     "output_type": "execute_result"
    }
   ],
   "source": [
    "ccd.describe()"
   ]
  },
  {
   "cell_type": "markdown",
   "metadata": {
    "slideshow": {
     "slide_type": "slide"
    }
   },
   "source": [
    "- Visualizziamo ora le distribuzioni delle variabili numeriche tramite istogrammi\n",
    "- Partiamo `AGE` (età) e `LIMIT_BAL` (ammontare del debito)"
   ]
  },
  {
   "cell_type": "code",
   "execution_count": 22,
   "metadata": {},
   "outputs": [
    {
     "data": {
      "text/plain": [
       "<matplotlib.axes._subplots.AxesSubplot at 0x7fc195a7e6a0>"
      ]
     },
     "execution_count": 22,
     "metadata": {},
     "output_type": "execute_result"
    },
    {
     "data": {
      "image/png": "[encoded data removed]",
      "text/plain": [
       "<matplotlib.figure.Figure at 0x7fc1bccaae80>"
      ]
     },
     "metadata": {},
     "output_type": "display_data"
    }
   ],
   "source": [
    "ccd[\"AGE\"].plot.hist(bins=20)"
   ]
  },
  {
   "cell_type": "code",
   "execution_count": 23,
   "metadata": {
    "slideshow": {
     "slide_type": "slide"
    }
   },
   "outputs": [
    {
     "data": {
      "text/plain": [
       "<matplotlib.axes._subplots.AxesSubplot at 0x7fc193cfdfd0>"
      ]
     },
     "execution_count": 23,
     "metadata": {},
     "output_type": "execute_result"
    },
    {
     "data": {
      "image/png": "[encoded data removed]",
      "text/plain": [
       "<matplotlib.figure.Figure at 0x7fc195a982e8>"
      ]
     },
     "metadata": {},
     "output_type": "display_data"
    }
   ],
   "source": [
    "ccd[\"LIMIT_BAL\"].plot.hist(bins=20)"
   ]
  },
  {
   "cell_type": "markdown",
   "metadata": {
    "slideshow": {
     "slide_type": "slide"
    }
   },
   "source": [
    "- Visualizziamo una griglia di istogrammi per le variabili `PAY_n`, ovvero i mesi di ritardo nei precedenti pagamenti\n",
    "  - essendoci pochi valori interi, invece di `hist` sulla serie usiamo `bar` su `value_counts` per visualizzare una barra per ciascuno"
   ]
  },
  {
   "cell_type": "code",
   "execution_count": 24,
   "metadata": {},
   "outputs": [
    {
     "data": {
      "image/png": "[encoded data removed]",
      "text/plain": [
       "<matplotlib.figure.Figure at 0x7fc1959f6080>"
      ]
     },
     "metadata": {},
     "output_type": "display_data"
    }
   ],
   "source": [
    "plt.figure(figsize=(12, 3.5))\n",
    "for n in range(1, 7):\n",
    "    ccd[\"PAY_{}\".format(n)].value_counts().sort_index().plot.bar(title=\"Ritardo {} mesi fa\".format(n), ax=plt.subplot(2, 3, n))"
   ]
  },
  {
   "cell_type": "markdown",
   "metadata": {
    "slideshow": {
     "slide_type": "slide"
    }
   },
   "source": [
    "- Assumiamo che i valori -2 e -1 contino come 0, li sovrascriviamo e rigeneriamo i grafici"
   ]
  },
  {
   "cell_type": "code",
   "execution_count": 25,
   "metadata": {},
   "outputs": [],
   "source": [
    "for n in range(1, 7):\n",
    "    col = \"PAY_{}\".format(n)\n",
    "    ccd.loc[ccd[col] < 0, col] = 0"
   ]
  },
  {
   "cell_type": "code",
   "execution_count": 26,
   "metadata": {},
   "outputs": [
    {
     "data": {
      "image/png": "[encoded data removed]",
      "text/plain": [
       "<matplotlib.figure.Figure at 0x7fc193c8da90>"
      ]
     },
     "metadata": {},
     "output_type": "display_data"
    }
   ],
   "source": [
    "plt.figure(figsize=(12, 3.5))\n",
    "for n in range(1, 7):\n",
    "    ccd[\"PAY_{}\".format(n)].value_counts().sort_index().plot.bar(title=\"Ritardo {} mesi fa\".format(n), ax=plt.subplot(2, 3, n))"
   ]
  },
  {
   "cell_type": "markdown",
   "metadata": {
    "slideshow": {
     "slide_type": "slide"
    }
   },
   "source": [
    "- Generiamo istogrammi in modo simile per le variabili `BILL_AMTn` e `PAY_AMTn`"
   ]
  },
  {
   "cell_type": "code",
   "execution_count": 27,
   "metadata": {},
   "outputs": [
    {
     "data": {
      "image/png": "[encoded data removed]",
      "text/plain": [
       "<matplotlib.figure.Figure at 0x7fc193b3be48>"
      ]
     },
     "metadata": {},
     "output_type": "display_data"
    }
   ],
   "source": [
    "plt.figure(figsize=(12, 3.5))\n",
    "for n in range(1, 7):\n",
    "    ccd[\"BILL_AMT{}\".format(n)].plot.hist(title=\"Ritardo {} mesi fa\".format(n), ax=plt.subplot(2, 3, n))"
   ]
  },
  {
   "cell_type": "code",
   "execution_count": 28,
   "metadata": {
    "slideshow": {
     "slide_type": "slide"
    }
   },
   "outputs": [
    {
     "data": {
      "image/png": "[encoded data removed]",
      "text/plain": [
       "<matplotlib.figure.Figure at 0x7fc195b2f828>"
      ]
     },
     "metadata": {},
     "output_type": "display_data"
    }
   ],
   "source": [
    "plt.figure(figsize=(12, 3.5))\n",
    "for n in range(1, 7):\n",
    "    ccd[\"PAY_AMT{}\".format(n)].plot.hist(title=\"Ritardo {} mesi fa\".format(n), ax=plt.subplot(2, 3, n))"
   ]
  },
  {
   "cell_type": "markdown",
   "metadata": {
    "slideshow": {
     "slide_type": "slide"
    }
   },
   "source": [
    "## Divisione Training e Validation Set\n",
    "\n",
    "- Finita l'analisi esploratoria e la correzione di alcune variabili, vediamo quali modelli possiamo addestrare per la classificazione\n",
    "- Per iniziare, come al solito, usiamo la funzione `train_test_split` per suddividere casualmente il dataset in\n",
    "  - un training set per l'addestramento dei modelli\n",
    "  - un validation set per la loro valutazione\n",
    "- Per ciascuno creiamo una serie y con la variabile `DEFAULT` da prevedere e un DataFrame X con le variabili utilizzabili per la predizione"
   ]
  },
  {
   "cell_type": "code",
   "execution_count": 29,
   "metadata": {},
   "outputs": [],
   "source": [
    "from sklearn.model_selection import train_test_split\n",
    "X_train, X_val, y_train, y_val = train_test_split(\n",
    "    ccd.drop([\"DEFAULT\"], axis=1),   #`X = tutto tranne DEFAULT\n",
    "    ccd[\"DEFAULT\"],                  # y = DEFAULT\n",
    "    test_size=1/3, random_state=42   # opzioni\n",
    ")"
   ]
  },
  {
   "cell_type": "code",
   "execution_count": 30,
   "metadata": {},
   "outputs": [
    {
     "data": {
      "text/plain": [
       "(20000, 10000)"
      ]
     },
     "execution_count": 30,
     "metadata": {},
     "output_type": "execute_result"
    }
   ],
   "source": [
    "len(X_train), len(X_val)"
   ]
  },
  {
   "cell_type": "markdown",
   "metadata": {
    "slideshow": {
     "slide_type": "slide"
    }
   },
   "source": [
    "## Perceptron\n",
    "\n",
    "- L'addestramento di un perceptron come di altri modelli di classificazione funziona come i modelli di regressione\n",
    "- Dapprima creiamo il modello \"vuoto\" indicando eventuali parametri"
   ]
  },
  {
   "cell_type": "code",
   "execution_count": 31,
   "metadata": {},
   "outputs": [],
   "source": [
    "from sklearn.linear_model import Perceptron\n",
    "model = Perceptron()"
   ]
  },
  {
   "cell_type": "markdown",
   "metadata": {},
   "source": [
    "- Usiamo quindi il metodo `fit` passando il training set, suddiviso tra le variabili predittive X e la variabile da predire y"
   ]
  },
  {
   "cell_type": "code",
   "execution_count": 32,
   "metadata": {},
   "outputs": [
    {
     "data": {
      "text/plain": [
       "Perceptron(alpha=0.0001, class_weight=None, eta0=1.0, fit_intercept=True,\n",
       "      n_iter=5, n_jobs=1, penalty=None, random_state=0, shuffle=True,\n",
       "      verbose=0, warm_start=False)"
      ]
     },
     "execution_count": 32,
     "metadata": {},
     "output_type": "execute_result"
    }
   ],
   "source": [
    "model.fit(X_train, y_train)"
   ]
  },
  {
   "cell_type": "markdown",
   "metadata": {
    "slideshow": {
     "slide_type": "slide"
    }
   },
   "source": [
    "## Predizioni\n",
    "\n",
    "- Come per i modelli di regressione, usiamo il metodo `predict` per ottenere i valori di y predetti a fronte di valori di X dati\n",
    "  - a differenza della regressione, tutte le predizioni saranno esattamente 0 (pagato) o 1 (insoluto)\n",
    "- Estraiamo ad esempio le predizioni per il validation set"
   ]
  },
  {
   "cell_type": "code",
   "execution_count": 33,
   "metadata": {},
   "outputs": [],
   "source": [
    "y_val_pred = model.predict(X_val)"
   ]
  },
  {
   "cell_type": "markdown",
   "metadata": {},
   "source": [
    "- Otteniamo un array (senza etichette) con le predizioni date dal modello"
   ]
  },
  {
   "cell_type": "code",
   "execution_count": 34,
   "metadata": {},
   "outputs": [
    {
     "data": {
      "text/plain": [
       "array([0, 1, 1, 0, 0, 0, 0, 0, 0, 0])"
      ]
     },
     "execution_count": 34,
     "metadata": {},
     "output_type": "execute_result"
    }
   ],
   "source": [
    "y_val_pred[:10]"
   ]
  },
  {
   "cell_type": "markdown",
   "metadata": {
    "slideshow": {
     "slide_type": "slide"
    }
   },
   "source": [
    "## Accuratezza\n",
    "\n",
    "- Come valutare quanto sono buone queste predizioni?\n",
    "- Nel caso dei modelli di regressione, dove veniva predetta una variabile continua, si misura _quanto_ la predizione sia sbagliata\n",
    "- Nella classificazione vanno usate altre misure\n",
    "- L'_accuratezza_ di un modello di classificazione è comunemente intesa come la percentuale di esempi di un set di valutazione per cui la classe predetta dal modello coincide con quella nota"
   ]
  },
  {
   "cell_type": "markdown",
   "metadata": {
    "slideshow": {
     "slide_type": "slide"
    }
   },
   "source": [
    "- Dato il vettore che indica in quali casi la predizione è esatta..."
   ]
  },
  {
   "cell_type": "code",
   "execution_count": 35,
   "metadata": {},
   "outputs": [],
   "source": [
    "hits = y_val == y_val_pred"
   ]
  },
  {
   "cell_type": "markdown",
   "metadata": {},
   "source": [
    "- ...possiamo ottenere il numero di valori `True` con `sum` e la loro percentuale con `mean`"
   ]
  },
  {
   "cell_type": "code",
   "execution_count": 36,
   "metadata": {},
   "outputs": [
    {
     "data": {
      "text/plain": [
       "6716"
      ]
     },
     "execution_count": 36,
     "metadata": {},
     "output_type": "execute_result"
    }
   ],
   "source": [
    "hits.sum()"
   ]
  },
  {
   "cell_type": "code",
   "execution_count": 37,
   "metadata": {},
   "outputs": [
    {
     "data": {
      "text/plain": [
       "0.67159999999999997"
      ]
     },
     "execution_count": 37,
     "metadata": {},
     "output_type": "execute_result"
    }
   ],
   "source": [
    "hits.mean()"
   ]
  },
  {
   "cell_type": "markdown",
   "metadata": {
    "slideshow": {
     "slide_type": "slide"
    }
   },
   "source": [
    "- La percentuale di classificazioni corrette è quindi il 67\\%, circa due terzi del dataset\n",
    "- Possiamo ottenere tale percentuale rapidamente tramite il metodo `score` del modello, fornendo il set di dati per la valutazione"
   ]
  },
  {
   "cell_type": "code",
   "execution_count": 38,
   "metadata": {},
   "outputs": [
    {
     "data": {
      "text/plain": [
       "0.67159999999999997"
      ]
     },
     "execution_count": 38,
     "metadata": {},
     "output_type": "execute_result"
    }
   ],
   "source": [
    "model.score(X_val, y_val)"
   ]
  },
  {
   "cell_type": "code",
   "execution_count": 39,
   "metadata": {},
   "outputs": [
    {
     "data": {
      "text/plain": [
       "0.7782"
      ]
     },
     "execution_count": 39,
     "metadata": {},
     "output_type": "execute_result"
    }
   ],
   "source": [
    "model = Perceptron(penalty=\"l2\")\n",
    "model.fit(X_train, y_train)\n",
    "model.score(X_val, y_val)"
   ]
  },
  {
   "cell_type": "markdown",
   "metadata": {
    "slideshow": {
     "slide_type": "slide"
    }
   },
   "source": [
    "## Parametri del Modello\n",
    "\n",
    "- Come per i modelli di regressione, possiamo vedere i parametri del modello per stimare l'importanza delle variabili\n",
    "- I coefficienti per cui è moltiplicata ciascuna variabile sono dati dall'attributo `coef_`"
   ]
  },
  {
   "cell_type": "code",
   "execution_count": 40,
   "metadata": {},
   "outputs": [
    {
     "data": {
      "text/plain": [
       "array([[ -8.09401279e+05,   5.79528531e+02,   7.95008885e+02,\n",
       "          5.76558771e+02,   1.43440862e+04,   1.28321094e+03,\n",
       "          1.09071584e+03,   9.40637266e+02,   8.38510860e+02,\n",
       "          7.41625416e+02,   7.06163892e+02,  -1.56635116e+05,\n",
       "          4.26497842e+05,  -3.20652516e+04,   1.50667146e+05,\n",
       "          2.34252573e+05,   1.57108525e+05,   5.65755006e+04,\n",
       "          2.14766018e+05,  -1.35235455e+05,   1.42270141e+05,\n",
       "         -1.25998965e+05,  -1.98200216e+05]])"
      ]
     },
     "execution_count": 40,
     "metadata": {},
     "output_type": "execute_result"
    }
   ],
   "source": [
    "model.coef_"
   ]
  },
  {
   "cell_type": "markdown",
   "metadata": {},
   "source": [
    "- Avendo le variabili scale diverse, è però difficile confrontarne l'importanza"
   ]
  },
  {
   "cell_type": "markdown",
   "metadata": {
    "slideshow": {
     "slide_type": "slide"
    }
   },
   "source": [
    "- Come visto per i modelli di regressione, utilizziamo una pipeline per standardizzare le variabili prima di fornirle al modello"
   ]
  },
  {
   "cell_type": "code",
   "execution_count": 41,
   "metadata": {},
   "outputs": [],
   "source": [
    "from sklearn.pipeline import Pipeline\n",
    "from sklearn.preprocessing import StandardScaler\n",
    "model = Pipeline([\n",
    "    (\"scaler\", StandardScaler()),\n",
    "    (\"model\",  Perceptron())\n",
    "])\n",
    "model.fit(X_train, y_train);"
   ]
  },
  {
   "cell_type": "code",
   "execution_count": 42,
   "metadata": {},
   "outputs": [
    {
     "data": {
      "text/plain": [
       "0.71650000000000003"
      ]
     },
     "execution_count": 42,
     "metadata": {},
     "output_type": "execute_result"
    }
   ],
   "source": [
    "model.score(X_val, y_val)"
   ]
  },
  {
   "cell_type": "markdown",
   "metadata": {},
   "source": [
    "- La standardizzazione ha contribuito ad aumentare l'accuratezza"
   ]
  },
  {
   "cell_type": "markdown",
   "metadata": {
    "slideshow": {
     "slide_type": "slide"
    }
   },
   "source": [
    "- Vediamo ora i coefficienti di `Perceptron`, associandoli ai nomi delle variabili"
   ]
  },
  {
   "cell_type": "code",
   "execution_count": 43,
   "metadata": {},
   "outputs": [
    {
     "data": {
      "text/plain": [
       "LIMIT_BAL    -3.492098\n",
       "SEX          -1.871292\n",
       "EDUCATION    -5.918559\n",
       "MARRIAGE     -1.301209\n",
       "AGE           3.716737\n",
       "PAY_1         4.431453\n",
       "PAY_2        -1.438510\n",
       "PAY_3        -6.944936\n",
       "PAY_4        -1.483437\n",
       "PAY_5         4.633193\n",
       "PAY_6         7.575230\n",
       "BILL_AMT1     3.430693\n",
       "BILL_AMT2     6.543703\n",
       "BILL_AMT3     1.419087\n",
       "BILL_AMT4     0.648952\n",
       "BILL_AMT5     5.578438\n",
       "BILL_AMT6    -1.846068\n",
       "PAY_AMT1     -4.596413\n",
       "PAY_AMT2     12.527017\n",
       "PAY_AMT3     -0.834223\n",
       "PAY_AMT4      2.219242\n",
       "PAY_AMT5     -6.357373\n",
       "PAY_AMT6     -7.194857\n",
       "dtype: float64"
      ]
     },
     "execution_count": 43,
     "metadata": {},
     "output_type": "execute_result"
    }
   ],
   "source": [
    "pd.Series(model.named_steps[\"model\"].coef_[0], index=X_train.columns)"
   ]
  },
  {
   "cell_type": "markdown",
   "metadata": {
    "slideshow": {
     "slide_type": "slide"
    }
   },
   "source": [
    "## Regolarizzazione\n",
    "\n",
    "- Nel modello `Perceptron` è possibile applicare i differenti tipi di regolarizzazione visti nella regressione\n",
    "  - la regolarizzazione `l2` limita i valori assoluti dei parametri del modello per evitare overfitting\n",
    "  - `l1` fa sì che alcuni parametri siano nulli per scartare le variabili meno necessarie\n",
    "  - `elasticnet` combina le due sopra\n",
    "- Col parametro `penalty` si imposta il tipo di regolarizzazione, con `alpha` l'intensità\n",
    "- Testiamo ad esempio un modello con regolarizzazione L1"
   ]
  },
  {
   "cell_type": "code",
   "execution_count": 44,
   "metadata": {},
   "outputs": [
    {
     "data": {
      "text/plain": [
       "0.78439999999999999"
      ]
     },
     "execution_count": 44,
     "metadata": {},
     "output_type": "execute_result"
    }
   ],
   "source": [
    "model = Pipeline([\n",
    "    (\"scaler\", StandardScaler()),\n",
    "    (\"model\",  Perceptron(penalty=\"l1\", alpha=0.0005))\n",
    "])\n",
    "model.fit(X_train, y_train)\n",
    "model.score(X_val, y_val)"
   ]
  },
  {
   "cell_type": "markdown",
   "metadata": {
    "slideshow": {
     "slide_type": "slide"
    }
   },
   "source": [
    "- I parametri di questo modello sono:"
   ]
  },
  {
   "cell_type": "code",
   "execution_count": 45,
   "metadata": {},
   "outputs": [
    {
     "data": {
      "text/plain": [
       "array([[ 0.        ,  0.        , -0.28980275,  0.        ,  0.        ,\n",
       "         0.        ,  0.        ,  0.        ,  0.        ,  0.        ,\n",
       "         1.18182255,  0.        ,  0.        ,  0.        ,  0.        ,\n",
       "         0.        ,  0.        ,  0.        ,  0.        ,  0.        ,\n",
       "         0.        ,  0.        ,  0.        ]])"
      ]
     },
     "execution_count": 45,
     "metadata": {},
     "output_type": "execute_result"
    }
   ],
   "source": [
    "model.named_steps[\"model\"].coef_"
   ]
  },
  {
   "cell_type": "markdown",
   "metadata": {},
   "source": [
    "- Vediamo che sono considerate solo due variabili, che sono..."
   ]
  },
  {
   "cell_type": "code",
   "execution_count": 46,
   "metadata": {},
   "outputs": [
    {
     "data": {
      "text/plain": [
       "Index(['EDUCATION', 'PAY_6'], dtype='object')"
      ]
     },
     "execution_count": 46,
     "metadata": {},
     "output_type": "execute_result"
    }
   ],
   "source": [
    "X_train.columns[model.named_steps[\"model\"].coef_[0] != 0]"
   ]
  },
  {
   "cell_type": "markdown",
   "metadata": {
    "slideshow": {
     "slide_type": "slide"
    }
   },
   "source": [
    "## Regressione Logistica\n",
    "\n",
    "- La regressione _logistica_ è un modello di classificazione binaria basato sulla regressione lineare\n",
    "- Sia data una variabile y pari a 1 per gli esempi di una classe (positiva) e -1 per quelli dell'altra (negativa), si minimizza la funzione\n",
    "$$ \\sum_{i=1}^n \\log(\\exp(- y_i (X_i^T w + c)) + 1) $$\n",
    "- Per addestrare tale modello, creiamo un oggetto `LogisticRegression`"
   ]
  },
  {
   "cell_type": "code",
   "execution_count": 47,
   "metadata": {},
   "outputs": [
    {
     "data": {
      "text/plain": [
       "0.78180000000000005"
      ]
     },
     "execution_count": 47,
     "metadata": {},
     "output_type": "execute_result"
    }
   ],
   "source": [
    "from sklearn.linear_model import LogisticRegression\n",
    "model = LogisticRegression()\n",
    "model.fit(X_train, y_train)\n",
    "model.score(X_val, y_val)"
   ]
  },
  {
   "cell_type": "markdown",
   "metadata": {
    "slideshow": {
     "slide_type": "slide"
    }
   },
   "source": [
    "- Testiamo un modello simile con la standardizzazione"
   ]
  },
  {
   "cell_type": "code",
   "execution_count": 49,
   "metadata": {},
   "outputs": [
    {
     "data": {
      "text/plain": [
       "0.81710000000000005"
      ]
     },
     "execution_count": 49,
     "metadata": {},
     "output_type": "execute_result"
    }
   ],
   "source": [
    "model = Pipeline([\n",
    "    (\"scaler\", StandardScaler()),\n",
    "    (\"model\",  LogisticRegression())\n",
    "])\n",
    "model.fit(X_train, y_train)\n",
    "model.score(X_val, y_val)"
   ]
  },
  {
   "cell_type": "markdown",
   "metadata": {
    "slideshow": {
     "slide_type": "slide"
    }
   },
   "source": [
    "- Di default in `LogisticRegression` viene applicata la regolarizzazione L2, si può impostare `penalty=\"l1\"` per applicare la L1\n",
    "- Al posto del parametro `alpha` che imposta il peso della regolarizzazione, c'è un parametro `C` (_costo_) che imposta il **reciproco** di tale peso\n",
    "  - maggiore è C, minore sarà la regolarizzazione"
   ]
  },
  {
   "cell_type": "code",
   "execution_count": 51,
   "metadata": {},
   "outputs": [
    {
     "data": {
      "text/plain": [
       "0.81699999999999995"
      ]
     },
     "execution_count": 51,
     "metadata": {},
     "output_type": "execute_result"
    }
   ],
   "source": [
    "model = Pipeline([\n",
    "    (\"scaler\", StandardScaler()),\n",
    "    (\"model\",  LogisticRegression(penalty=\"l1\", C=10))\n",
    "])\n",
    "model.fit(X_train, y_train)\n",
    "model.score(X_val, y_val)"
   ]
  },
  {
   "cell_type": "markdown",
   "metadata": {
    "slideshow": {
     "slide_type": "slide"
    }
   },
   "source": [
    "## Support Vector Machines\n",
    "\n",
    "- Le _support vector machines_ sono un modello utilizzabile sia per la classificazione che la regressione\n",
    "- Per la classificazione creiamo un oggetto `SVC` (support vector classification)\n",
    "- Tra i parametri possiamo impostare il costo C (come per `LogisticRegression`) e il kernel da utilizzare con relativi parametri (come per `KernelRidge`)"
   ]
  },
  {
   "cell_type": "code",
   "execution_count": 50,
   "metadata": {},
   "outputs": [
    {
     "name": "stdout",
     "output_type": "stream",
     "text": [
      "CPU times: user 20.4 s, sys: 72.5 ms, total: 20.5 s\n",
      "Wall time: 20.6 s\n"
     ]
    }
   ],
   "source": [
    "%%time\n",
    "model = Pipeline([\n",
    "    (\"scaler\", StandardScaler()),\n",
    "    (\"model\",  SVC(kernel=\"linear\"))\n",
    "])\n",
    "model.fit(X_train, y_train)"
   ]
  },
  {
   "cell_type": "code",
   "execution_count": 51,
   "metadata": {},
   "outputs": [
    {
     "data": {
      "text/plain": [
       "0.82030000000000003"
      ]
     },
     "execution_count": 51,
     "metadata": {},
     "output_type": "execute_result"
    }
   ],
   "source": [
    "model.score(X_val, y_val)"
   ]
  },
  {
   "cell_type": "code",
   "execution_count": 52,
   "metadata": {
    "slideshow": {
     "slide_type": "slide"
    }
   },
   "outputs": [
    {
     "name": "stdout",
     "output_type": "stream",
     "text": [
      "CPU times: user 18.6 s, sys: 15.5 ms, total: 18.6 s\n",
      "Wall time: 18.6 s\n"
     ]
    }
   ],
   "source": [
    "%%time\n",
    "model = Pipeline([\n",
    "    (\"scaler\", StandardScaler()),\n",
    "    (\"model\",  SVC(kernel=\"rbf\"))\n",
    "])\n",
    "model.fit(X_train, y_train)"
   ]
  },
  {
   "cell_type": "code",
   "execution_count": 53,
   "metadata": {},
   "outputs": [
    {
     "data": {
      "text/plain": [
       "0.81789999999999996"
      ]
     },
     "execution_count": 53,
     "metadata": {},
     "output_type": "execute_result"
    }
   ],
   "source": [
    "model.score(X_val, y_val)"
   ]
  },
  {
   "cell_type": "markdown",
   "metadata": {
    "slideshow": {
     "slide_type": "slide"
    }
   },
   "source": [
    "## Matrice di Confusione, Precision e Recall\n",
    "\n",
    "- Abbiamo visto modelli che classificano correttamente fino all'82\\% di esempi del validation set\n",
    "- Tuttavia, considerando la distribuzione delle due classi nel validation set..."
   ]
  },
  {
   "cell_type": "code",
   "execution_count": 54,
   "metadata": {},
   "outputs": [
    {
     "data": {
      "text/plain": [
       "0    0.7818\n",
       "1    0.2182\n",
       "Name: DEFAULT, dtype: float64"
      ]
     },
     "execution_count": 54,
     "metadata": {},
     "output_type": "execute_result"
    }
   ],
   "source": [
    "y_val.value_counts(normalize=True)"
   ]
  },
  {
   "cell_type": "markdown",
   "metadata": {},
   "source": [
    "- ...un semplice classificatore che predica sempre 0 (pagato) avrebbe un'accuratezza del 78\\%\n",
    "- L'accuratezza può essere quindi ingannevole in caso di classi sbilanciate\n",
    "- Vediamo quindi altri modi di misurare le performance di un classificatore"
   ]
  },
  {
   "cell_type": "markdown",
   "metadata": {
    "slideshow": {
     "slide_type": "slide"
    }
   },
   "source": [
    "- Confrontando le classi predette da un classificatore su un set di dati con quelle reali, possiamo ottenere una **_matrice di confusione_**\n",
    "- Ogni cella in riga i e colonna j indica quanti esempi della classe i-esima sono stati etichettati dal classificatore come di classe j-esima\n",
    "  - lungo la diagonale (i=j) abbiamo quindi le classificazioni corrette, al di fuori abbiamo gli errori\n",
    "- Otteniamo la matrice col metodo `confusion_matrix`, passando i vettori di classi reali e predette"
   ]
  },
  {
   "cell_type": "code",
   "execution_count": 55,
   "metadata": {},
   "outputs": [],
   "source": [
    "from sklearn.metrics import confusion_matrix\n",
    "y_val_pred = model.predict(X_val)\n",
    "cm = confusion_matrix(y_val, y_val_pred)"
   ]
  },
  {
   "cell_type": "code",
   "execution_count": 56,
   "metadata": {},
   "outputs": [
    {
     "data": {
      "text/plain": [
       "array([[7410,  408],\n",
       "       [1413,  769]])"
      ]
     },
     "execution_count": 56,
     "metadata": {},
     "output_type": "execute_result"
    }
   ],
   "source": [
    "cm"
   ]
  },
  {
   "cell_type": "markdown",
   "metadata": {
    "slideshow": {
     "slide_type": "slide"
    }
   },
   "source": [
    "- Per maggiore comprensione inseriamo i valori in un DataFrame, etichettando righe e colonne"
   ]
  },
  {
   "cell_type": "code",
   "execution_count": 57,
   "metadata": {},
   "outputs": [
    {
     "data": {
      "text/html": [
       "<div>\n",
       "<table border=\"1\" class=\"dataframe\">\n",
       "  <thead>\n",
       "    <tr style=\"text-align: right;\">\n",
       "      <th></th>\n",
       "      <th>Paid</th>\n",
       "      <th>Default</th>\n",
       "    </tr>\n",
       "  </thead>\n",
       "  <tbody>\n",
       "    <tr>\n",
       "      <th>Paid</th>\n",
       "      <td>7410</td>\n",
       "      <td>408</td>\n",
       "    </tr>\n",
       "    <tr>\n",
       "      <th>Default</th>\n",
       "      <td>1413</td>\n",
       "      <td>769</td>\n",
       "    </tr>\n",
       "  </tbody>\n",
       "</table>\n",
       "</div>"
      ],
      "text/plain": [
       "         Paid  Default\n",
       "Paid     7410      408\n",
       "Default  1413      769"
      ]
     },
     "execution_count": 57,
     "metadata": {},
     "output_type": "execute_result"
    }
   ],
   "source": [
    "classes = [\"Paid\", \"Default\"]\n",
    "pd.DataFrame(cm, index=classes, columns=classes)"
   ]
  },
  {
   "cell_type": "markdown",
   "metadata": {},
   "source": [
    "- Ad esempio, di 2182 clienti insolventi presenti nel validation set\n",
    "  - 769 sono stati etichettati come tali (_veri positivi_)\n",
    "  - 1413 sono stati erroneamente etichettati come non insolventi (_falsi negativi_)\n",
    "- L'accuratezza si può ottenere dalla matrice di confusione come somma dei valori nella diagonale divisa per la somma complessiva"
   ]
  },
  {
   "cell_type": "code",
   "execution_count": 58,
   "metadata": {},
   "outputs": [
    {
     "data": {
      "text/plain": [
       "0.81789999999999996"
      ]
     },
     "execution_count": 58,
     "metadata": {},
     "output_type": "execute_result"
    }
   ],
   "source": [
    "cm.diagonal().sum() / cm.sum()"
   ]
  },
  {
   "cell_type": "markdown",
   "metadata": {
    "slideshow": {
     "slide_type": "slide"
    }
   },
   "source": [
    "- Dalla sola matrice di confusione possiamo ricavare altre misure di performance importanti\n",
    "- Presa una classe X di riferimento, la **_precision_** relativa a quella classe indica la percentuale di esempi classificati come X che sono realmente tali"
   ]
  },
  {
   "cell_type": "code",
   "execution_count": 59,
   "metadata": {},
   "outputs": [
    {
     "data": {
      "text/plain": [
       "0.65335598980458798"
      ]
     },
     "execution_count": 59,
     "metadata": {},
     "output_type": "execute_result"
    }
   ],
   "source": [
    "default_prc = cm[1, 1] / cm[:, 1].sum()\n",
    "default_prc"
   ]
  },
  {
   "cell_type": "markdown",
   "metadata": {},
   "source": [
    "- Di contro, la **_recall_** indica la percentuale di esempi realmente di classe X che sono stati rilevati essere tali dal modello"
   ]
  },
  {
   "cell_type": "code",
   "execution_count": 60,
   "metadata": {},
   "outputs": [
    {
     "data": {
      "text/plain": [
       "0.35242896425297893"
      ]
     },
     "execution_count": 60,
     "metadata": {},
     "output_type": "execute_result"
    }
   ],
   "source": [
    "default_rec = cm[1, 1] / cm[1, :].sum()\n",
    "default_rec"
   ]
  },
  {
   "cell_type": "markdown",
   "metadata": {
    "slideshow": {
     "slide_type": "slide"
    }
   },
   "source": [
    "- Precision e recall sono quindi due indicatori complementari della bontà di un modello\n",
    "- Generalmente, tarando il modello per migliorarne uno, l'altro peggiora\n",
    "- Come misura unica della performance di un modello è spesso usata quindi la **_F1-measure_**, ovvero la media armonica tra precision e recall\n",
    "$$ F_1 = \\frac{2\\cdot P\\cdot R}{P+R} $$"
   ]
  },
  {
   "cell_type": "code",
   "execution_count": 61,
   "metadata": {},
   "outputs": [
    {
     "data": {
      "text/plain": [
       "0.45787436737124143"
      ]
     },
     "execution_count": 61,
     "metadata": {},
     "output_type": "execute_result"
    }
   ],
   "source": [
    "2 * default_prc * default_rec / (default_prc + default_rec)"
   ]
  },
  {
   "cell_type": "markdown",
   "metadata": {
    "slideshow": {
     "slide_type": "slide"
    }
   },
   "source": [
    "- Per calcolare direttamente tali misure, scikit-learn fornisce le funzioni `precision_score`, `recall_score` e `f1_score`\n",
    "  - col parametro `pos_label` si indica la classe di riferimento, di default 1\n",
    "  - si può in alternativa ottenere un vettore di punteggi per tutte le classi (`average=None`) o la loro media (`average=\"macro\"`)"
   ]
  },
  {
   "cell_type": "code",
   "execution_count": 62,
   "metadata": {},
   "outputs": [],
   "source": [
    "from sklearn.metrics import precision_score, recall_score, f1_score"
   ]
  },
  {
   "cell_type": "code",
   "execution_count": 63,
   "metadata": {},
   "outputs": [
    {
     "data": {
      "text/plain": [
       "0.65335598980458798"
      ]
     },
     "execution_count": 63,
     "metadata": {},
     "output_type": "execute_result"
    }
   ],
   "source": [
    "precision_score(y_val, y_val_pred, pos_label=1)"
   ]
  },
  {
   "cell_type": "code",
   "execution_count": 64,
   "metadata": {},
   "outputs": [
    {
     "data": {
      "text/plain": [
       "0.35242896425297893"
      ]
     },
     "execution_count": 64,
     "metadata": {},
     "output_type": "execute_result"
    }
   ],
   "source": [
    "recall_score(y_val, y_val_pred)   # pos_label=1 sottinteso"
   ]
  },
  {
   "cell_type": "code",
   "execution_count": 70,
   "metadata": {},
   "outputs": [
    {
     "data": {
      "text/plain": [
       "array([ 0.89057148,  0.45787437])"
      ]
     },
     "execution_count": 70,
     "metadata": {},
     "output_type": "execute_result"
    }
   ],
   "source": [
    "f1_score(y_val, y_val_pred, average=None)"
   ]
  },
  {
   "cell_type": "code",
   "execution_count": 71,
   "metadata": {},
   "outputs": [
    {
     "data": {
      "text/plain": [
       "0.6742229237252817"
      ]
     },
     "execution_count": 71,
     "metadata": {},
     "output_type": "execute_result"
    }
   ],
   "source": [
    "f1_score(y_val, y_val_pred, average=\"macro\")"
   ]
  },
  {
   "cell_type": "markdown",
   "metadata": {
    "slideshow": {
     "slide_type": "slide"
    }
   },
   "source": [
    "## Ottimizzazione degli Iperparametri\n",
    "\n",
    "- Come già visto, i modelli hanno diversi iperparametri impostabili che possono influenzarne l'accuratezza\n",
    "- Utilizziamo la _grid search_ per testare diverse combinazioni di iperparametri e trovare quella che fornisce risultati migliori\n",
    "- Impostiamo un modello generale, definendone struttura ed eventuali iperparametri fissi"
   ]
  },
  {
   "cell_type": "code",
   "execution_count": 117,
   "metadata": {},
   "outputs": [],
   "source": [
    "model = Pipeline([\n",
    "    (\"scaler\", StandardScaler()),\n",
    "    (\"perc\",   Perceptron())\n",
    "])"
   ]
  },
  {
   "cell_type": "markdown",
   "metadata": {},
   "source": [
    "- Definiamo quindi una _griglia_ di parametri da variare, in questo caso il tipo e il peso della regolarizzazione\n",
    "  - `X__Y` indica il parametro `Y` del componente `X` della pipeline"
   ]
  },
  {
   "cell_type": "code",
   "execution_count": 116,
   "metadata": {},
   "outputs": [],
   "source": [
    "grid = {\n",
    "    \"perc__penalty\": [None, \"l1\", \"l2\", \"elasticnet\"],\n",
    "    \"perc__alpha\": np.logspace(-3, 3, 7)   # [0.001, 0.01, ..., 100, 1000]\n",
    "}"
   ]
  },
  {
   "cell_type": "markdown",
   "metadata": {
    "slideshow": {
     "slide_type": "slide"
    }
   },
   "source": [
    "- Creiamo quindi un modello `GridSearchCV` con i due oggetti definiti sopra..."
   ]
  },
  {
   "cell_type": "code",
   "execution_count": 120,
   "metadata": {},
   "outputs": [],
   "source": [
    "from sklearn.model_selection import GridSearchCV\n",
    "gs = GridSearchCV(model, grid)"
   ]
  },
  {
   "cell_type": "markdown",
   "metadata": {},
   "source": [
    "- ...ed addestriamolo sul training set"
   ]
  },
  {
   "cell_type": "code",
   "execution_count": 121,
   "metadata": {},
   "outputs": [],
   "source": [
    "gs.fit(X_train, y_train);"
   ]
  },
  {
   "cell_type": "markdown",
   "metadata": {},
   "source": [
    "- Viene eseguita una cross validation su tutte le combinazioni di iperparametri e per quella con migliore accuratezza (`score`) viene addestrato un modello su tutti i dati\n",
    "- Possiamo testare tale modello sul validation set"
   ]
  },
  {
   "cell_type": "code",
   "execution_count": 122,
   "metadata": {},
   "outputs": [
    {
     "data": {
      "text/plain": [
       "0.78180000000000005"
      ]
     },
     "execution_count": 122,
     "metadata": {},
     "output_type": "execute_result"
    }
   ],
   "source": [
    "gs.score(X_val, y_val)"
   ]
  },
  {
   "cell_type": "markdown",
   "metadata": {
    "slideshow": {
     "slide_type": "slide"
    }
   },
   "source": [
    "- Possiamo inoltre consultare i risultati dettagliati sulle diverse combinazioni di iperparametri\n",
    "  - ordinando per `rank_test_score` otteniamo in testa i risultati migliori"
   ]
  },
  {
   "cell_type": "code",
   "execution_count": 125,
   "metadata": {},
   "outputs": [
    {
     "data": {
      "text/html": [
       "<div>\n",
       "<table border=\"1\" class=\"dataframe\">\n",
       "  <thead>\n",
       "    <tr style=\"text-align: right;\">\n",
       "      <th></th>\n",
       "      <th>mean_fit_time</th>\n",
       "      <th>mean_score_time</th>\n",
       "      <th>mean_test_score</th>\n",
       "      <th>mean_train_score</th>\n",
       "      <th>param_perc__alpha</th>\n",
       "      <th>param_perc__penalty</th>\n",
       "      <th>params</th>\n",
       "      <th>rank_test_score</th>\n",
       "      <th>split0_test_score</th>\n",
       "      <th>split0_train_score</th>\n",
       "      <th>split1_test_score</th>\n",
       "      <th>split1_train_score</th>\n",
       "      <th>split2_test_score</th>\n",
       "      <th>split2_train_score</th>\n",
       "      <th>std_fit_time</th>\n",
       "      <th>std_score_time</th>\n",
       "      <th>std_test_score</th>\n",
       "      <th>std_train_score</th>\n",
       "    </tr>\n",
       "  </thead>\n",
       "  <tbody>\n",
       "    <tr>\n",
       "      <th>13</th>\n",
       "      <td>0.029577</td>\n",
       "      <td>0.001997</td>\n",
       "      <td>0.7773</td>\n",
       "      <td>0.7773</td>\n",
       "      <td>1</td>\n",
       "      <td>l1</td>\n",
       "      <td>{'perc__alpha': 1.0, 'perc__penalty': 'l1'}</td>\n",
       "      <td>1</td>\n",
       "      <td>0.777261</td>\n",
       "      <td>0.777319</td>\n",
       "      <td>0.777261</td>\n",
       "      <td>0.777319</td>\n",
       "      <td>0.777378</td>\n",
       "      <td>0.777261</td>\n",
       "      <td>0.000152</td>\n",
       "      <td>0.000008</td>\n",
       "      <td>0.000055</td>\n",
       "      <td>0.000027</td>\n",
       "    </tr>\n",
       "    <tr>\n",
       "      <th>25</th>\n",
       "      <td>0.029696</td>\n",
       "      <td>0.002536</td>\n",
       "      <td>0.7773</td>\n",
       "      <td>0.7773</td>\n",
       "      <td>1000</td>\n",
       "      <td>l1</td>\n",
       "      <td>{'perc__alpha': 1000.0, 'perc__penalty': 'l1'}</td>\n",
       "      <td>1</td>\n",
       "      <td>0.777261</td>\n",
       "      <td>0.777319</td>\n",
       "      <td>0.777261</td>\n",
       "      <td>0.777319</td>\n",
       "      <td>0.777378</td>\n",
       "      <td>0.777261</td>\n",
       "      <td>0.000182</td>\n",
       "      <td>0.000756</td>\n",
       "      <td>0.000055</td>\n",
       "      <td>0.000027</td>\n",
       "    </tr>\n",
       "    <tr>\n",
       "      <th>23</th>\n",
       "      <td>0.031210</td>\n",
       "      <td>0.001998</td>\n",
       "      <td>0.7773</td>\n",
       "      <td>0.7773</td>\n",
       "      <td>100</td>\n",
       "      <td>elasticnet</td>\n",
       "      <td>{'perc__alpha': 100.0, 'perc__penalty': 'elast...</td>\n",
       "      <td>1</td>\n",
       "      <td>0.777261</td>\n",
       "      <td>0.777319</td>\n",
       "      <td>0.777261</td>\n",
       "      <td>0.777319</td>\n",
       "      <td>0.777378</td>\n",
       "      <td>0.777261</td>\n",
       "      <td>0.000127</td>\n",
       "      <td>0.000001</td>\n",
       "      <td>0.000055</td>\n",
       "      <td>0.000027</td>\n",
       "    </tr>\n",
       "    <tr>\n",
       "      <th>22</th>\n",
       "      <td>0.025584</td>\n",
       "      <td>0.001994</td>\n",
       "      <td>0.7773</td>\n",
       "      <td>0.7773</td>\n",
       "      <td>100</td>\n",
       "      <td>l2</td>\n",
       "      <td>{'perc__alpha': 100.0, 'perc__penalty': 'l2'}</td>\n",
       "      <td>1</td>\n",
       "      <td>0.777261</td>\n",
       "      <td>0.777319</td>\n",
       "      <td>0.777261</td>\n",
       "      <td>0.777319</td>\n",
       "      <td>0.777378</td>\n",
       "      <td>0.777261</td>\n",
       "      <td>0.000067</td>\n",
       "      <td>0.000006</td>\n",
       "      <td>0.000055</td>\n",
       "      <td>0.000027</td>\n",
       "    </tr>\n",
       "    <tr>\n",
       "      <th>21</th>\n",
       "      <td>0.029676</td>\n",
       "      <td>0.001997</td>\n",
       "      <td>0.7773</td>\n",
       "      <td>0.7773</td>\n",
       "      <td>100</td>\n",
       "      <td>l1</td>\n",
       "      <td>{'perc__alpha': 100.0, 'perc__penalty': 'l1'}</td>\n",
       "      <td>1</td>\n",
       "      <td>0.777261</td>\n",
       "      <td>0.777319</td>\n",
       "      <td>0.777261</td>\n",
       "      <td>0.777319</td>\n",
       "      <td>0.777378</td>\n",
       "      <td>0.777261</td>\n",
       "      <td>0.000189</td>\n",
       "      <td>0.000007</td>\n",
       "      <td>0.000055</td>\n",
       "      <td>0.000027</td>\n",
       "    </tr>\n",
       "  </tbody>\n",
       "</table>\n",
       "</div>"
      ],
      "text/plain": [
       "    mean_fit_time  mean_score_time  mean_test_score  mean_train_score  \\\n",
       "13       0.029577         0.001997           0.7773            0.7773   \n",
       "25       0.029696         0.002536           0.7773            0.7773   \n",
       "23       0.031210         0.001998           0.7773            0.7773   \n",
       "22       0.025584         0.001994           0.7773            0.7773   \n",
       "21       0.029676         0.001997           0.7773            0.7773   \n",
       "\n",
       "   param_perc__alpha param_perc__penalty  \\\n",
       "13                 1                  l1   \n",
       "25              1000                  l1   \n",
       "23               100          elasticnet   \n",
       "22               100                  l2   \n",
       "21               100                  l1   \n",
       "\n",
       "                                               params  rank_test_score  \\\n",
       "13        {'perc__alpha': 1.0, 'perc__penalty': 'l1'}                1   \n",
       "25     {'perc__alpha': 1000.0, 'perc__penalty': 'l1'}                1   \n",
       "23  {'perc__alpha': 100.0, 'perc__penalty': 'elast...                1   \n",
       "22      {'perc__alpha': 100.0, 'perc__penalty': 'l2'}                1   \n",
       "21      {'perc__alpha': 100.0, 'perc__penalty': 'l1'}                1   \n",
       "\n",
       "    split0_test_score  split0_train_score  split1_test_score  \\\n",
       "13           0.777261            0.777319           0.777261   \n",
       "25           0.777261            0.777319           0.777261   \n",
       "23           0.777261            0.777319           0.777261   \n",
       "22           0.777261            0.777319           0.777261   \n",
       "21           0.777261            0.777319           0.777261   \n",
       "\n",
       "    split1_train_score  split2_test_score  split2_train_score  std_fit_time  \\\n",
       "13            0.777319           0.777378            0.777261      0.000152   \n",
       "25            0.777319           0.777378            0.777261      0.000182   \n",
       "23            0.777319           0.777378            0.777261      0.000127   \n",
       "22            0.777319           0.777378            0.777261      0.000067   \n",
       "21            0.777319           0.777378            0.777261      0.000189   \n",
       "\n",
       "    std_score_time  std_test_score  std_train_score  \n",
       "13        0.000008        0.000055         0.000027  \n",
       "25        0.000756        0.000055         0.000027  \n",
       "23        0.000001        0.000055         0.000027  \n",
       "22        0.000006        0.000055         0.000027  \n",
       "21        0.000007        0.000055         0.000027  "
      ]
     },
     "execution_count": 125,
     "metadata": {},
     "output_type": "execute_result"
    }
   ],
   "source": [
    "pd.DataFrame(gs.cv_results_).sort_values(\"rank_test_score\").head(5)"
   ]
  },
  {
   "cell_type": "markdown",
   "metadata": {
    "slideshow": {
     "slide_type": "slide"
    }
   },
   "source": [
    "- Nel modello generale abbiamo imposto la standardizzazione ai dati, ma può non essere necessaria\n",
    "- Possiamo impostare la griglia in modo da rendere opzionale un componente della pipeline"
   ]
  },
  {
   "cell_type": "code",
   "execution_count": 128,
   "metadata": {},
   "outputs": [],
   "source": [
    "grid = {\n",
    "    \"scaler\": [None, StandardScaler()],\n",
    "    \"perc__penalty\": [\"l1\", \"l2\", \"elasticnet\"],\n",
    "    \"perc__alpha\": np.logspace(0, 3, 4)\n",
    "}"
   ]
  },
  {
   "cell_type": "markdown",
   "metadata": {},
   "source": [
    "- In questo modo, la grid search testerà il modello con (`StandardScaler()`) e senza (`None`) standardizzazione"
   ]
  },
  {
   "cell_type": "code",
   "execution_count": 129,
   "metadata": {},
   "outputs": [],
   "source": [
    "gs = GridSearchCV(model, grid)\n",
    "gs.fit(X_train, y_train);"
   ]
  },
  {
   "cell_type": "code",
   "execution_count": 130,
   "metadata": {
    "slideshow": {
     "slide_type": "slide"
    }
   },
   "outputs": [
    {
     "data": {
      "text/html": [
       "<div>\n",
       "<table border=\"1\" class=\"dataframe\">\n",
       "  <thead>\n",
       "    <tr style=\"text-align: right;\">\n",
       "      <th></th>\n",
       "      <th>mean_fit_time</th>\n",
       "      <th>mean_score_time</th>\n",
       "      <th>mean_test_score</th>\n",
       "      <th>mean_train_score</th>\n",
       "      <th>param_perc__alpha</th>\n",
       "      <th>param_perc__penalty</th>\n",
       "      <th>param_scaler</th>\n",
       "      <th>params</th>\n",
       "      <th>rank_test_score</th>\n",
       "      <th>split0_test_score</th>\n",
       "      <th>split0_train_score</th>\n",
       "      <th>split1_test_score</th>\n",
       "      <th>split1_train_score</th>\n",
       "      <th>split2_test_score</th>\n",
       "      <th>split2_train_score</th>\n",
       "      <th>std_fit_time</th>\n",
       "      <th>std_score_time</th>\n",
       "      <th>std_test_score</th>\n",
       "      <th>std_train_score</th>\n",
       "    </tr>\n",
       "  </thead>\n",
       "  <tbody>\n",
       "    <tr>\n",
       "      <th>11</th>\n",
       "      <td>0.030879</td>\n",
       "      <td>0.002004</td>\n",
       "      <td>0.7773</td>\n",
       "      <td>0.7773</td>\n",
       "      <td>10</td>\n",
       "      <td>elasticnet</td>\n",
       "      <td>StandardScaler(copy=True, with_mean=True, with...</td>\n",
       "      <td>{'perc__alpha': 10.0, 'perc__penalty': 'elasti...</td>\n",
       "      <td>1</td>\n",
       "      <td>0.777261</td>\n",
       "      <td>0.777319</td>\n",
       "      <td>0.777261</td>\n",
       "      <td>0.777319</td>\n",
       "      <td>0.777378</td>\n",
       "      <td>0.777261</td>\n",
       "      <td>0.000357</td>\n",
       "      <td>0.000007</td>\n",
       "      <td>0.000055</td>\n",
       "      <td>0.000027</td>\n",
       "    </tr>\n",
       "    <tr>\n",
       "      <th>21</th>\n",
       "      <td>0.026396</td>\n",
       "      <td>0.002087</td>\n",
       "      <td>0.7773</td>\n",
       "      <td>0.7773</td>\n",
       "      <td>1000</td>\n",
       "      <td>l2</td>\n",
       "      <td>StandardScaler(copy=True, with_mean=True, with...</td>\n",
       "      <td>{'perc__alpha': 1000.0, 'perc__penalty': 'l2',...</td>\n",
       "      <td>1</td>\n",
       "      <td>0.777261</td>\n",
       "      <td>0.777319</td>\n",
       "      <td>0.777261</td>\n",
       "      <td>0.777319</td>\n",
       "      <td>0.777378</td>\n",
       "      <td>0.777261</td>\n",
       "      <td>0.000137</td>\n",
       "      <td>0.000015</td>\n",
       "      <td>0.000055</td>\n",
       "      <td>0.000027</td>\n",
       "    </tr>\n",
       "    <tr>\n",
       "      <th>20</th>\n",
       "      <td>0.023792</td>\n",
       "      <td>0.002709</td>\n",
       "      <td>0.7773</td>\n",
       "      <td>0.7773</td>\n",
       "      <td>1000</td>\n",
       "      <td>l2</td>\n",
       "      <td>None</td>\n",
       "      <td>{'perc__alpha': 1000.0, 'perc__penalty': 'l2',...</td>\n",
       "      <td>1</td>\n",
       "      <td>0.777261</td>\n",
       "      <td>0.777319</td>\n",
       "      <td>0.777261</td>\n",
       "      <td>0.777319</td>\n",
       "      <td>0.777378</td>\n",
       "      <td>0.777261</td>\n",
       "      <td>0.000419</td>\n",
       "      <td>0.001767</td>\n",
       "      <td>0.000055</td>\n",
       "      <td>0.000027</td>\n",
       "    </tr>\n",
       "    <tr>\n",
       "      <th>19</th>\n",
       "      <td>0.030564</td>\n",
       "      <td>0.002068</td>\n",
       "      <td>0.7773</td>\n",
       "      <td>0.7773</td>\n",
       "      <td>1000</td>\n",
       "      <td>l1</td>\n",
       "      <td>StandardScaler(copy=True, with_mean=True, with...</td>\n",
       "      <td>{'perc__alpha': 1000.0, 'perc__penalty': 'l1',...</td>\n",
       "      <td>1</td>\n",
       "      <td>0.777261</td>\n",
       "      <td>0.777319</td>\n",
       "      <td>0.777261</td>\n",
       "      <td>0.777319</td>\n",
       "      <td>0.777378</td>\n",
       "      <td>0.777261</td>\n",
       "      <td>0.000534</td>\n",
       "      <td>0.000011</td>\n",
       "      <td>0.000055</td>\n",
       "      <td>0.000027</td>\n",
       "    </tr>\n",
       "    <tr>\n",
       "      <th>18</th>\n",
       "      <td>0.025825</td>\n",
       "      <td>0.004821</td>\n",
       "      <td>0.7773</td>\n",
       "      <td>0.7773</td>\n",
       "      <td>1000</td>\n",
       "      <td>l1</td>\n",
       "      <td>None</td>\n",
       "      <td>{'perc__alpha': 1000.0, 'perc__penalty': 'l1',...</td>\n",
       "      <td>1</td>\n",
       "      <td>0.777261</td>\n",
       "      <td>0.777319</td>\n",
       "      <td>0.777261</td>\n",
       "      <td>0.777319</td>\n",
       "      <td>0.777378</td>\n",
       "      <td>0.777261</td>\n",
       "      <td>0.000336</td>\n",
       "      <td>0.004186</td>\n",
       "      <td>0.000055</td>\n",
       "      <td>0.000027</td>\n",
       "    </tr>\n",
       "  </tbody>\n",
       "</table>\n",
       "</div>"
      ],
      "text/plain": [
       "    mean_fit_time  mean_score_time  mean_test_score  mean_train_score  \\\n",
       "11       0.030879         0.002004           0.7773            0.7773   \n",
       "21       0.026396         0.002087           0.7773            0.7773   \n",
       "20       0.023792         0.002709           0.7773            0.7773   \n",
       "19       0.030564         0.002068           0.7773            0.7773   \n",
       "18       0.025825         0.004821           0.7773            0.7773   \n",
       "\n",
       "   param_perc__alpha param_perc__penalty  \\\n",
       "11                10          elasticnet   \n",
       "21              1000                  l2   \n",
       "20              1000                  l2   \n",
       "19              1000                  l1   \n",
       "18              1000                  l1   \n",
       "\n",
       "                                         param_scaler  \\\n",
       "11  StandardScaler(copy=True, with_mean=True, with...   \n",
       "21  StandardScaler(copy=True, with_mean=True, with...   \n",
       "20                                               None   \n",
       "19  StandardScaler(copy=True, with_mean=True, with...   \n",
       "18                                               None   \n",
       "\n",
       "                                               params  rank_test_score  \\\n",
       "11  {'perc__alpha': 10.0, 'perc__penalty': 'elasti...                1   \n",
       "21  {'perc__alpha': 1000.0, 'perc__penalty': 'l2',...                1   \n",
       "20  {'perc__alpha': 1000.0, 'perc__penalty': 'l2',...                1   \n",
       "19  {'perc__alpha': 1000.0, 'perc__penalty': 'l1',...                1   \n",
       "18  {'perc__alpha': 1000.0, 'perc__penalty': 'l1',...                1   \n",
       "\n",
       "    split0_test_score  split0_train_score  split1_test_score  \\\n",
       "11           0.777261            0.777319           0.777261   \n",
       "21           0.777261            0.777319           0.777261   \n",
       "20           0.777261            0.777319           0.777261   \n",
       "19           0.777261            0.777319           0.777261   \n",
       "18           0.777261            0.777319           0.777261   \n",
       "\n",
       "    split1_train_score  split2_test_score  split2_train_score  std_fit_time  \\\n",
       "11            0.777319           0.777378            0.777261      0.000357   \n",
       "21            0.777319           0.777378            0.777261      0.000137   \n",
       "20            0.777319           0.777378            0.777261      0.000419   \n",
       "19            0.777319           0.777378            0.777261      0.000534   \n",
       "18            0.777319           0.777378            0.777261      0.000336   \n",
       "\n",
       "    std_score_time  std_test_score  std_train_score  \n",
       "11        0.000007        0.000055         0.000027  \n",
       "21        0.000015        0.000055         0.000027  \n",
       "20        0.001767        0.000055         0.000027  \n",
       "19        0.000011        0.000055         0.000027  \n",
       "18        0.004186        0.000055         0.000027  "
      ]
     },
     "execution_count": 130,
     "metadata": {},
     "output_type": "execute_result"
    }
   ],
   "source": [
    "pd.DataFrame(gs.cv_results_).sort_values(\"rank_test_score\").head(5)"
   ]
  },
  {
   "cell_type": "markdown",
   "metadata": {
    "slideshow": {
     "slide_type": "slide"
    }
   },
   "source": [
    "- Testiamo in modo simile la regressione logistica"
   ]
  },
  {
   "cell_type": "code",
   "execution_count": 132,
   "metadata": {},
   "outputs": [],
   "source": [
    "model = Pipeline([\n",
    "    (\"scaler\", StandardScaler()),\n",
    "    (\"lr\",     LogisticRegression())\n",
    "])\n",
    "grid = {\n",
    "    \"scaler\": [None, StandardScaler()],\n",
    "    \"lr__penalty\": [\"l2\", \"l1\"],\n",
    "    \"lr__C\": np.logspace(-3, 3, 7)\n",
    "}\n",
    "gs = GridSearchCV(model, grid)\n",
    "gs.fit(X_train, y_train);"
   ]
  },
  {
   "cell_type": "code",
   "execution_count": 133,
   "metadata": {
    "slideshow": {
     "slide_type": "slide"
    }
   },
   "outputs": [
    {
     "data": {
      "text/html": [
       "<div>\n",
       "<table border=\"1\" class=\"dataframe\">\n",
       "  <thead>\n",
       "    <tr style=\"text-align: right;\">\n",
       "      <th></th>\n",
       "      <th>mean_fit_time</th>\n",
       "      <th>mean_score_time</th>\n",
       "      <th>mean_test_score</th>\n",
       "      <th>mean_train_score</th>\n",
       "      <th>param_lr__C</th>\n",
       "      <th>param_lr__penalty</th>\n",
       "      <th>param_scaler</th>\n",
       "      <th>params</th>\n",
       "      <th>rank_test_score</th>\n",
       "      <th>split0_test_score</th>\n",
       "      <th>split0_train_score</th>\n",
       "      <th>split1_test_score</th>\n",
       "      <th>split1_train_score</th>\n",
       "      <th>split2_test_score</th>\n",
       "      <th>split2_train_score</th>\n",
       "      <th>std_fit_time</th>\n",
       "      <th>std_score_time</th>\n",
       "      <th>std_test_score</th>\n",
       "      <th>std_train_score</th>\n",
       "    </tr>\n",
       "  </thead>\n",
       "  <tbody>\n",
       "    <tr>\n",
       "      <th>9</th>\n",
       "      <td>0.087015</td>\n",
       "      <td>0.002131</td>\n",
       "      <td>0.81830</td>\n",
       "      <td>0.818650</td>\n",
       "      <td>0.1</td>\n",
       "      <td>l2</td>\n",
       "      <td>StandardScaler(copy=True, with_mean=True, with...</td>\n",
       "      <td>{'lr__C': 0.1, 'lr__penalty': 'l2', 'scaler': ...</td>\n",
       "      <td>1</td>\n",
       "      <td>0.820009</td>\n",
       "      <td>0.816470</td>\n",
       "      <td>0.817159</td>\n",
       "      <td>0.819320</td>\n",
       "      <td>0.817732</td>\n",
       "      <td>0.820159</td>\n",
       "      <td>0.005669</td>\n",
       "      <td>0.000023</td>\n",
       "      <td>0.001231</td>\n",
       "      <td>0.001579</td>\n",
       "    </tr>\n",
       "    <tr>\n",
       "      <th>22</th>\n",
       "      <td>0.182098</td>\n",
       "      <td>0.001286</td>\n",
       "      <td>0.81825</td>\n",
       "      <td>0.818850</td>\n",
       "      <td>100</td>\n",
       "      <td>l1</td>\n",
       "      <td>None</td>\n",
       "      <td>{'lr__C': 100.0, 'lr__penalty': 'l1', 'scaler'...</td>\n",
       "      <td>2</td>\n",
       "      <td>0.820159</td>\n",
       "      <td>0.816620</td>\n",
       "      <td>0.817159</td>\n",
       "      <td>0.819695</td>\n",
       "      <td>0.817432</td>\n",
       "      <td>0.820234</td>\n",
       "      <td>0.015687</td>\n",
       "      <td>0.000005</td>\n",
       "      <td>0.001354</td>\n",
       "      <td>0.001592</td>\n",
       "    </tr>\n",
       "    <tr>\n",
       "      <th>26</th>\n",
       "      <td>0.204000</td>\n",
       "      <td>0.001537</td>\n",
       "      <td>0.81820</td>\n",
       "      <td>0.818900</td>\n",
       "      <td>1000</td>\n",
       "      <td>l1</td>\n",
       "      <td>None</td>\n",
       "      <td>{'lr__C': 1000.0, 'lr__penalty': 'l1', 'scaler...</td>\n",
       "      <td>3</td>\n",
       "      <td>0.820159</td>\n",
       "      <td>0.816545</td>\n",
       "      <td>0.817009</td>\n",
       "      <td>0.819845</td>\n",
       "      <td>0.817432</td>\n",
       "      <td>0.820309</td>\n",
       "      <td>0.012961</td>\n",
       "      <td>0.000213</td>\n",
       "      <td>0.001396</td>\n",
       "      <td>0.001676</td>\n",
       "    </tr>\n",
       "    <tr>\n",
       "      <th>13</th>\n",
       "      <td>0.081147</td>\n",
       "      <td>0.002139</td>\n",
       "      <td>0.81815</td>\n",
       "      <td>0.818800</td>\n",
       "      <td>1</td>\n",
       "      <td>l2</td>\n",
       "      <td>StandardScaler(copy=True, with_mean=True, with...</td>\n",
       "      <td>{'lr__C': 1.0, 'lr__penalty': 'l2', 'scaler': ...</td>\n",
       "      <td>4</td>\n",
       "      <td>0.820159</td>\n",
       "      <td>0.816470</td>\n",
       "      <td>0.817009</td>\n",
       "      <td>0.819695</td>\n",
       "      <td>0.817282</td>\n",
       "      <td>0.820234</td>\n",
       "      <td>0.007297</td>\n",
       "      <td>0.000010</td>\n",
       "      <td>0.001425</td>\n",
       "      <td>0.001662</td>\n",
       "    </tr>\n",
       "    <tr>\n",
       "      <th>25</th>\n",
       "      <td>0.086625</td>\n",
       "      <td>0.002067</td>\n",
       "      <td>0.81815</td>\n",
       "      <td>0.818825</td>\n",
       "      <td>1000</td>\n",
       "      <td>l2</td>\n",
       "      <td>StandardScaler(copy=True, with_mean=True, with...</td>\n",
       "      <td>{'lr__C': 1000.0, 'lr__penalty': 'l2', 'scaler...</td>\n",
       "      <td>4</td>\n",
       "      <td>0.820159</td>\n",
       "      <td>0.816395</td>\n",
       "      <td>0.817009</td>\n",
       "      <td>0.819845</td>\n",
       "      <td>0.817282</td>\n",
       "      <td>0.820234</td>\n",
       "      <td>0.007447</td>\n",
       "      <td>0.000055</td>\n",
       "      <td>0.001425</td>\n",
       "      <td>0.001725</td>\n",
       "    </tr>\n",
       "  </tbody>\n",
       "</table>\n",
       "</div>"
      ],
      "text/plain": [
       "    mean_fit_time  mean_score_time  mean_test_score  mean_train_score  \\\n",
       "9        0.087015         0.002131          0.81830          0.818650   \n",
       "22       0.182098         0.001286          0.81825          0.818850   \n",
       "26       0.204000         0.001537          0.81820          0.818900   \n",
       "13       0.081147         0.002139          0.81815          0.818800   \n",
       "25       0.086625         0.002067          0.81815          0.818825   \n",
       "\n",
       "   param_lr__C param_lr__penalty  \\\n",
       "9          0.1                l2   \n",
       "22         100                l1   \n",
       "26        1000                l1   \n",
       "13           1                l2   \n",
       "25        1000                l2   \n",
       "\n",
       "                                         param_scaler  \\\n",
       "9   StandardScaler(copy=True, with_mean=True, with...   \n",
       "22                                               None   \n",
       "26                                               None   \n",
       "13  StandardScaler(copy=True, with_mean=True, with...   \n",
       "25  StandardScaler(copy=True, with_mean=True, with...   \n",
       "\n",
       "                                               params  rank_test_score  \\\n",
       "9   {'lr__C': 0.1, 'lr__penalty': 'l2', 'scaler': ...                1   \n",
       "22  {'lr__C': 100.0, 'lr__penalty': 'l1', 'scaler'...                2   \n",
       "26  {'lr__C': 1000.0, 'lr__penalty': 'l1', 'scaler...                3   \n",
       "13  {'lr__C': 1.0, 'lr__penalty': 'l2', 'scaler': ...                4   \n",
       "25  {'lr__C': 1000.0, 'lr__penalty': 'l2', 'scaler...                4   \n",
       "\n",
       "    split0_test_score  split0_train_score  split1_test_score  \\\n",
       "9            0.820009            0.816470           0.817159   \n",
       "22           0.820159            0.816620           0.817159   \n",
       "26           0.820159            0.816545           0.817009   \n",
       "13           0.820159            0.816470           0.817009   \n",
       "25           0.820159            0.816395           0.817009   \n",
       "\n",
       "    split1_train_score  split2_test_score  split2_train_score  std_fit_time  \\\n",
       "9             0.819320           0.817732            0.820159      0.005669   \n",
       "22            0.819695           0.817432            0.820234      0.015687   \n",
       "26            0.819845           0.817432            0.820309      0.012961   \n",
       "13            0.819695           0.817282            0.820234      0.007297   \n",
       "25            0.819845           0.817282            0.820234      0.007447   \n",
       "\n",
       "    std_score_time  std_test_score  std_train_score  \n",
       "9         0.000023        0.001231         0.001579  \n",
       "22        0.000005        0.001354         0.001592  \n",
       "26        0.000213        0.001396         0.001676  \n",
       "13        0.000010        0.001425         0.001662  \n",
       "25        0.000055        0.001425         0.001725  "
      ]
     },
     "execution_count": 133,
     "metadata": {},
     "output_type": "execute_result"
    }
   ],
   "source": [
    "pd.DataFrame(gs.cv_results_).sort_values(\"rank_test_score\").head(5)"
   ]
  },
  {
   "cell_type": "markdown",
   "metadata": {
    "slideshow": {
     "slide_type": "slide"
    }
   },
   "source": [
    "- Di default i modellli sono ritenuti migliori di altri in base all'accuratezza, cioè la percentuale di classificazioni corrette\n",
    "- Col parametro `scoring` di `GridSearchCV` possiamo però definire una diversa metrica di paragone\n",
    "- Basiamoci ad esempio sulla F1-measure, impostando `scoring=\"f1\"`"
   ]
  },
  {
   "cell_type": "code",
   "execution_count": 137,
   "metadata": {},
   "outputs": [
    {
     "name": "stderr",
     "output_type": "stream",
     "text": [
      "/home/pasolini/software/miniconda3/envs/dialab/lib/python3.6/site-packages/sklearn/metrics/classification.py:1113: UndefinedMetricWarning: F-score is ill-defined and being set to 0.0 due to no predicted samples.\n",
      "  'precision', 'predicted', average, warn_for)\n",
      "/home/pasolini/software/miniconda3/envs/dialab/lib/python3.6/site-packages/sklearn/metrics/classification.py:1113: UndefinedMetricWarning: F-score is ill-defined and being set to 0.0 due to no predicted samples.\n",
      "  'precision', 'predicted', average, warn_for)\n",
      "/home/pasolini/software/miniconda3/envs/dialab/lib/python3.6/site-packages/sklearn/metrics/classification.py:1113: UndefinedMetricWarning: F-score is ill-defined and being set to 0.0 due to no predicted samples.\n",
      "  'precision', 'predicted', average, warn_for)\n",
      "/home/pasolini/software/miniconda3/envs/dialab/lib/python3.6/site-packages/sklearn/metrics/classification.py:1113: UndefinedMetricWarning: F-score is ill-defined and being set to 0.0 due to no predicted samples.\n",
      "  'precision', 'predicted', average, warn_for)\n",
      "/home/pasolini/software/miniconda3/envs/dialab/lib/python3.6/site-packages/sklearn/metrics/classification.py:1113: UndefinedMetricWarning: F-score is ill-defined and being set to 0.0 due to no predicted samples.\n",
      "  'precision', 'predicted', average, warn_for)\n",
      "/home/pasolini/software/miniconda3/envs/dialab/lib/python3.6/site-packages/sklearn/metrics/classification.py:1113: UndefinedMetricWarning: F-score is ill-defined and being set to 0.0 due to no predicted samples.\n",
      "  'precision', 'predicted', average, warn_for)\n",
      "/home/pasolini/software/miniconda3/envs/dialab/lib/python3.6/site-packages/sklearn/metrics/classification.py:1113: UndefinedMetricWarning: F-score is ill-defined and being set to 0.0 due to no predicted samples.\n",
      "  'precision', 'predicted', average, warn_for)\n"
     ]
    }
   ],
   "source": [
    "gs = GridSearchCV(model, grid, scoring=\"f1\")\n",
    "gs.fit(X_train, y_train);"
   ]
  },
  {
   "cell_type": "markdown",
   "metadata": {
    "slideshow": {
     "slide_type": "slide"
    }
   },
   "source": [
    "- Questa volta la colonna `mean_test_score` (e tutte le altre `*_score`) riportano la F1 al posto dell'accuratezza e il ranking dei modelli è basato su di essa"
   ]
  },
  {
   "cell_type": "code",
   "execution_count": 138,
   "metadata": {},
   "outputs": [
    {
     "data": {
      "text/html": [
       "<div>\n",
       "<table border=\"1\" class=\"dataframe\">\n",
       "  <thead>\n",
       "    <tr style=\"text-align: right;\">\n",
       "      <th></th>\n",
       "      <th>mean_fit_time</th>\n",
       "      <th>mean_score_time</th>\n",
       "      <th>mean_test_score</th>\n",
       "      <th>mean_train_score</th>\n",
       "      <th>param_lr__C</th>\n",
       "      <th>param_lr__penalty</th>\n",
       "      <th>param_scaler</th>\n",
       "      <th>params</th>\n",
       "      <th>rank_test_score</th>\n",
       "      <th>split0_test_score</th>\n",
       "      <th>split0_train_score</th>\n",
       "      <th>split1_test_score</th>\n",
       "      <th>split1_train_score</th>\n",
       "      <th>split2_test_score</th>\n",
       "      <th>split2_train_score</th>\n",
       "      <th>std_fit_time</th>\n",
       "      <th>std_score_time</th>\n",
       "      <th>std_test_score</th>\n",
       "      <th>std_train_score</th>\n",
       "    </tr>\n",
       "  </thead>\n",
       "  <tbody>\n",
       "    <tr>\n",
       "      <th>9</th>\n",
       "      <td>0.090012</td>\n",
       "      <td>0.003705</td>\n",
       "      <td>0.453709</td>\n",
       "      <td>0.454013</td>\n",
       "      <td>0.1</td>\n",
       "      <td>l2</td>\n",
       "      <td>StandardScaler(copy=True, with_mean=True, with...</td>\n",
       "      <td>{'lr__C': 0.1, 'lr__penalty': 'l2', 'scaler': ...</td>\n",
       "      <td>1</td>\n",
       "      <td>0.447514</td>\n",
       "      <td>0.441707</td>\n",
       "      <td>0.442105</td>\n",
       "      <td>0.455839</td>\n",
       "      <td>0.471509</td>\n",
       "      <td>0.464493</td>\n",
       "      <td>0.006358</td>\n",
       "      <td>0.000874</td>\n",
       "      <td>0.012778</td>\n",
       "      <td>0.009392</td>\n",
       "    </tr>\n",
       "    <tr>\n",
       "      <th>26</th>\n",
       "      <td>0.189221</td>\n",
       "      <td>0.002267</td>\n",
       "      <td>0.453249</td>\n",
       "      <td>0.454559</td>\n",
       "      <td>1000</td>\n",
       "      <td>l1</td>\n",
       "      <td>None</td>\n",
       "      <td>{'lr__C': 1000.0, 'lr__penalty': 'l1', 'scaler...</td>\n",
       "      <td>2</td>\n",
       "      <td>0.447926</td>\n",
       "      <td>0.441653</td>\n",
       "      <td>0.442105</td>\n",
       "      <td>0.456846</td>\n",
       "      <td>0.469717</td>\n",
       "      <td>0.465179</td>\n",
       "      <td>0.016470</td>\n",
       "      <td>0.000029</td>\n",
       "      <td>0.011884</td>\n",
       "      <td>0.009739</td>\n",
       "    </tr>\n",
       "    <tr>\n",
       "      <th>22</th>\n",
       "      <td>0.216717</td>\n",
       "      <td>0.004441</td>\n",
       "      <td>0.452856</td>\n",
       "      <td>0.454372</td>\n",
       "      <td>100</td>\n",
       "      <td>l1</td>\n",
       "      <td>None</td>\n",
       "      <td>{'lr__C': 100.0, 'lr__penalty': 'l1', 'scaler'...</td>\n",
       "      <td>3</td>\n",
       "      <td>0.447211</td>\n",
       "      <td>0.441197</td>\n",
       "      <td>0.442105</td>\n",
       "      <td>0.456846</td>\n",
       "      <td>0.469254</td>\n",
       "      <td>0.465075</td>\n",
       "      <td>0.023065</td>\n",
       "      <td>0.002745</td>\n",
       "      <td>0.011780</td>\n",
       "      <td>0.009904</td>\n",
       "    </tr>\n",
       "    <tr>\n",
       "      <th>18</th>\n",
       "      <td>0.207677</td>\n",
       "      <td>0.002409</td>\n",
       "      <td>0.452856</td>\n",
       "      <td>0.454407</td>\n",
       "      <td>10</td>\n",
       "      <td>l1</td>\n",
       "      <td>None</td>\n",
       "      <td>{'lr__C': 10.0, 'lr__penalty': 'l1', 'scaler':...</td>\n",
       "      <td>3</td>\n",
       "      <td>0.447211</td>\n",
       "      <td>0.441197</td>\n",
       "      <td>0.442105</td>\n",
       "      <td>0.456949</td>\n",
       "      <td>0.469254</td>\n",
       "      <td>0.465075</td>\n",
       "      <td>0.016832</td>\n",
       "      <td>0.000110</td>\n",
       "      <td>0.011780</td>\n",
       "      <td>0.009913</td>\n",
       "    </tr>\n",
       "    <tr>\n",
       "      <th>14</th>\n",
       "      <td>0.176353</td>\n",
       "      <td>0.002449</td>\n",
       "      <td>0.452840</td>\n",
       "      <td>0.454638</td>\n",
       "      <td>1</td>\n",
       "      <td>l1</td>\n",
       "      <td>None</td>\n",
       "      <td>{'lr__C': 1.0, 'lr__penalty': 'l1', 'scaler': ...</td>\n",
       "      <td>5</td>\n",
       "      <td>0.446494</td>\n",
       "      <td>0.441096</td>\n",
       "      <td>0.442105</td>\n",
       "      <td>0.457298</td>\n",
       "      <td>0.469922</td>\n",
       "      <td>0.465521</td>\n",
       "      <td>0.022325</td>\n",
       "      <td>0.000021</td>\n",
       "      <td>0.012210</td>\n",
       "      <td>0.010147</td>\n",
       "    </tr>\n",
       "  </tbody>\n",
       "</table>\n",
       "</div>"
      ],
      "text/plain": [
       "    mean_fit_time  mean_score_time  mean_test_score  mean_train_score  \\\n",
       "9        0.090012         0.003705         0.453709          0.454013   \n",
       "26       0.189221         0.002267         0.453249          0.454559   \n",
       "22       0.216717         0.004441         0.452856          0.454372   \n",
       "18       0.207677         0.002409         0.452856          0.454407   \n",
       "14       0.176353         0.002449         0.452840          0.454638   \n",
       "\n",
       "   param_lr__C param_lr__penalty  \\\n",
       "9          0.1                l2   \n",
       "26        1000                l1   \n",
       "22         100                l1   \n",
       "18          10                l1   \n",
       "14           1                l1   \n",
       "\n",
       "                                         param_scaler  \\\n",
       "9   StandardScaler(copy=True, with_mean=True, with...   \n",
       "26                                               None   \n",
       "22                                               None   \n",
       "18                                               None   \n",
       "14                                               None   \n",
       "\n",
       "                                               params  rank_test_score  \\\n",
       "9   {'lr__C': 0.1, 'lr__penalty': 'l2', 'scaler': ...                1   \n",
       "26  {'lr__C': 1000.0, 'lr__penalty': 'l1', 'scaler...                2   \n",
       "22  {'lr__C': 100.0, 'lr__penalty': 'l1', 'scaler'...                3   \n",
       "18  {'lr__C': 10.0, 'lr__penalty': 'l1', 'scaler':...                3   \n",
       "14  {'lr__C': 1.0, 'lr__penalty': 'l1', 'scaler': ...                5   \n",
       "\n",
       "    split0_test_score  split0_train_score  split1_test_score  \\\n",
       "9            0.447514            0.441707           0.442105   \n",
       "26           0.447926            0.441653           0.442105   \n",
       "22           0.447211            0.441197           0.442105   \n",
       "18           0.447211            0.441197           0.442105   \n",
       "14           0.446494            0.441096           0.442105   \n",
       "\n",
       "    split1_train_score  split2_test_score  split2_train_score  std_fit_time  \\\n",
       "9             0.455839           0.471509            0.464493      0.006358   \n",
       "26            0.456846           0.469717            0.465179      0.016470   \n",
       "22            0.456846           0.469254            0.465075      0.023065   \n",
       "18            0.456949           0.469254            0.465075      0.016832   \n",
       "14            0.457298           0.469922            0.465521      0.022325   \n",
       "\n",
       "    std_score_time  std_test_score  std_train_score  \n",
       "9         0.000874        0.012778         0.009392  \n",
       "26        0.000029        0.011884         0.009739  \n",
       "22        0.002745        0.011780         0.009904  \n",
       "18        0.000110        0.011780         0.009913  \n",
       "14        0.000021        0.012210         0.010147  "
      ]
     },
     "execution_count": 138,
     "metadata": {},
     "output_type": "execute_result"
    }
   ],
   "source": [
    "pd.DataFrame(gs.cv_results_).sort_values(\"rank_test_score\").head(5)"
   ]
  }
 ],
 "metadata": {
  "kernelspec": {
   "display_name": "DIA (Lab)",
   "language": "python",
   "name": "dialab"
  },
  "language_info": {
   "codemirror_mode": {
    "name": "ipython",
    "version": 3
   },
   "file_extension": ".py",
   "mimetype": "text/x-python",
   "name": "python",
   "nbconvert_exporter": "python",
   "pygments_lexer": "ipython3",
   "version": "3.6.0"
  }
 },
 "nbformat": 4,
 "nbformat_minor": 2
}
