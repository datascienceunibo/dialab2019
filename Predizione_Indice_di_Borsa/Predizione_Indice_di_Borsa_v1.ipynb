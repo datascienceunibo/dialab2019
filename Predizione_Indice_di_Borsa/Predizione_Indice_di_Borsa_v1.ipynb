{
 "cells": [
  {
   "cell_type": "markdown",
   "metadata": {
    "slideshow": {
     "slide_type": "slide"
    }
   },
   "source": [
    "# Laboratorio: Previsione di un Indice di Borsa\n",
    "\n",
    "**Programmazione di Applicazioni Data Intensive**  \n",
    "Laurea in Ingegneria e Scienze Informatiche  \n",
    "DISI - Università di Bologna, Cesena\n",
    "\n",
    "Proff. Gianluca Moro, Roberto Pasolini  \n",
    "`nome.cognome@unibo.it`"
   ]
  },
  {
   "cell_type": "markdown",
   "metadata": {
    "slideshow": {
     "slide_type": "slide"
    }
   },
   "source": [
    "## Previsione di un indice di borsa\n",
    "\n",
    "- Un _indice_ in borsa è la sintesi del valore di diversi titoli azionari (_componenti_)\n",
    "  - il valore dell'indice è una media (di solito ponderata) dei valori dei singoli titoli\n",
    "- In questa esercitazione consideriamo l'indice _Standard & Poor 500_ (S&P 500), che ha per componenti [circa 500 grandi aziende degli USA](https://en.wikipedia.org/wiki/List_of_S%26P_500_companies)\n",
    "  - incluse ad es. Alphabet (Google), Facebook, Apple, ...\n",
    "- L'obiettivo è generare modelli in grado di prevedere la crescita o il calo dell'indice S&P 500, in modo da massimizzare il guadagno ottenuto investendo in un fondo che si basi su tale indice"
   ]
  },
  {
   "cell_type": "markdown",
   "metadata": {
    "slideshow": {
     "slide_type": "slide"
    }
   },
   "source": [
    "## Estrazione Dati\n",
    "\n",
    "- I dati storici sull'andamento di S&P 500 e altri indici di borsa sono disponibili su diversi siti specializzati, ad es. [Yahoo! Finance](https://finance.yahoo.com/)\n",
    "- Il file `SP500-2001-2005.csv` contiene l'andamento di S&P 500 dall'inizio del 2001 alla fine del 2005\n",
    "  - per ottenerlo, abbiamo cercato su Yahoo! Finance il titolo \"S&P 500\" (simbolo GSPC), selezionato la sezione \"Historical Data\", filtrato sul periodo da \"1/1/2001\" a \"12/31/2005\" e cliccato su \"Download Data\" per scaricare il CSV"
   ]
  },
  {
   "cell_type": "code",
   "execution_count": 1,
   "metadata": {},
   "outputs": [],
   "source": [
    "import os\n",
    "if not os.path.exists(\"SP500-2001-2005.csv\"):\n",
    "    from urllib.request import urlretrieve\n",
    "    urlretrieve(\"https://git.io/fj4Jv\", \"SP500-2001-2005.csv\")"
   ]
  },
  {
   "cell_type": "markdown",
   "metadata": {
    "slideshow": {
     "slide_type": "slide"
    }
   },
   "source": [
    "- Carichiamo il file, specificando che la colonna `Date` va interpretata come data"
   ]
  },
  {
   "cell_type": "code",
   "execution_count": 2,
   "metadata": {},
   "outputs": [],
   "source": [
    "import numpy as np\n",
    "import pandas as pd"
   ]
  },
  {
   "cell_type": "code",
   "execution_count": 3,
   "metadata": {},
   "outputs": [],
   "source": [
    "sp500 = pd.read_csv(\"SP500-2001-2005.csv\", parse_dates=[\"Date\"])"
   ]
  },
  {
   "cell_type": "markdown",
   "metadata": {},
   "source": [
    "- Visualizziamo alcune righe del file"
   ]
  },
  {
   "cell_type": "code",
   "execution_count": 4,
   "metadata": {},
   "outputs": [
    {
     "data": {
      "text/html": [
       "<div>\n",
       "<table border=\"1\" class=\"dataframe\">\n",
       "  <thead>\n",
       "    <tr style=\"text-align: right;\">\n",
       "      <th></th>\n",
       "      <th>Date</th>\n",
       "      <th>Open</th>\n",
       "      <th>High</th>\n",
       "      <th>Low</th>\n",
       "      <th>Close</th>\n",
       "      <th>Adj Close</th>\n",
       "      <th>Volume</th>\n",
       "    </tr>\n",
       "  </thead>\n",
       "  <tbody>\n",
       "    <tr>\n",
       "      <th>0</th>\n",
       "      <td>2001-01-02</td>\n",
       "      <td>1320.280029</td>\n",
       "      <td>1320.280029</td>\n",
       "      <td>1276.050049</td>\n",
       "      <td>1283.270020</td>\n",
       "      <td>1283.270020</td>\n",
       "      <td>1129400000</td>\n",
       "    </tr>\n",
       "    <tr>\n",
       "      <th>1</th>\n",
       "      <td>2001-01-03</td>\n",
       "      <td>1283.270020</td>\n",
       "      <td>1347.760010</td>\n",
       "      <td>1274.619995</td>\n",
       "      <td>1347.560059</td>\n",
       "      <td>1347.560059</td>\n",
       "      <td>1880700000</td>\n",
       "    </tr>\n",
       "    <tr>\n",
       "      <th>2</th>\n",
       "      <td>2001-01-04</td>\n",
       "      <td>1347.560059</td>\n",
       "      <td>1350.239990</td>\n",
       "      <td>1329.140015</td>\n",
       "      <td>1333.339966</td>\n",
       "      <td>1333.339966</td>\n",
       "      <td>2131000000</td>\n",
       "    </tr>\n",
       "    <tr>\n",
       "      <th>3</th>\n",
       "      <td>2001-01-05</td>\n",
       "      <td>1333.339966</td>\n",
       "      <td>1334.770020</td>\n",
       "      <td>1294.949951</td>\n",
       "      <td>1298.349976</td>\n",
       "      <td>1298.349976</td>\n",
       "      <td>1430800000</td>\n",
       "    </tr>\n",
       "    <tr>\n",
       "      <th>4</th>\n",
       "      <td>2001-01-08</td>\n",
       "      <td>1298.349976</td>\n",
       "      <td>1298.349976</td>\n",
       "      <td>1276.290039</td>\n",
       "      <td>1295.859985</td>\n",
       "      <td>1295.859985</td>\n",
       "      <td>1115500000</td>\n",
       "    </tr>\n",
       "  </tbody>\n",
       "</table>\n",
       "</div>"
      ],
      "text/plain": [
       "        Date         Open         High          Low        Close    Adj Close  \\\n",
       "0 2001-01-02  1320.280029  1320.280029  1276.050049  1283.270020  1283.270020   \n",
       "1 2001-01-03  1283.270020  1347.760010  1274.619995  1347.560059  1347.560059   \n",
       "2 2001-01-04  1347.560059  1350.239990  1329.140015  1333.339966  1333.339966   \n",
       "3 2001-01-05  1333.339966  1334.770020  1294.949951  1298.349976  1298.349976   \n",
       "4 2001-01-08  1298.349976  1298.349976  1276.290039  1295.859985  1295.859985   \n",
       "\n",
       "       Volume  \n",
       "0  1129400000  \n",
       "1  1880700000  \n",
       "2  2131000000  \n",
       "3  1430800000  \n",
       "4  1115500000  "
      ]
     },
     "execution_count": 4,
     "metadata": {},
     "output_type": "execute_result"
    }
   ],
   "source": [
    "sp500.head()"
   ]
  },
  {
   "cell_type": "markdown",
   "metadata": {
    "slideshow": {
     "slide_type": "slide"
    }
   },
   "source": [
    "- La colonna `Date` indica la data a cui si riferisce ciascuna riga: la impostiamo come indice"
   ]
  },
  {
   "cell_type": "code",
   "execution_count": 5,
   "metadata": {},
   "outputs": [],
   "source": [
    "sp500.set_index(\"Date\", inplace=True)"
   ]
  },
  {
   "cell_type": "markdown",
   "metadata": {},
   "source": [
    "Il significato delle altre colonne è il seguente:\n",
    "- `Open` indica il valore del titolo all'apertura del mercato (tutti i valori sono in USD)\n",
    "- `Close` indica il valore alla chiusura del mercato (l'apertura del giorno dopo può differire)\n",
    "- `High` e `Low` indicano il valore massimo e minimo raggiunti dal titolo nell'arco della giornata\n",
    "- `Adj Close` è una versione corretta del prezzo di chiusura, in questi dati è sempre uguale a `Close`\n",
    "- `Volume` indica il numero totale di titoli scambiati durante quel giorno "
   ]
  },
  {
   "cell_type": "markdown",
   "metadata": {
    "slideshow": {
     "slide_type": "slide"
    }
   },
   "source": [
    "- Possiamo tracciare un grafico dell'andamento del titolo"
   ]
  },
  {
   "cell_type": "code",
   "execution_count": 6,
   "metadata": {},
   "outputs": [],
   "source": [
    "import matplotlib.pyplot as plt\n",
    "%matplotlib inline"
   ]
  },
  {
   "cell_type": "code",
   "execution_count": 7,
   "metadata": {},
   "outputs": [
    {
     "data": {
      "text/plain": [
       "<matplotlib.axes._subplots.AxesSubplot at 0x7fed671f9da0>"
      ]
     },
     "execution_count": 7,
     "metadata": {},
     "output_type": "execute_result"
    },
    {
     "data": {
      "image/png": "[encoded data removed]",
      "text/plain": [
       "<matplotlib.figure.Figure at 0x7fed671ee5c0>"
      ]
     },
     "metadata": {},
     "output_type": "display_data"
    }
   ],
   "source": [
    "sp500[\"Open\"].plot(figsize=(12, 4))"
   ]
  },
  {
   "cell_type": "markdown",
   "metadata": {
    "slideshow": {
     "slide_type": "slide"
    }
   },
   "source": [
    "## Obiettivo: Prevedere Salita o Discesa del Valore\n",
    "\n",
    "- Dai valori $O_d$ di apertura (`Open`) e $C_d$ di chiusura (`Close`) di ogni giorno $d$, possiamo definire la variazione del valore $\\delta_d$ come\n",
    "$$ \\delta_d=\\frac{C_d-O_d}{O_d} $$\n",
    "- Aggiungiamo una colonna con questo valore al dataset"
   ]
  },
  {
   "cell_type": "code",
   "execution_count": 8,
   "metadata": {},
   "outputs": [],
   "source": [
    "sp500[\"Return\"] = (sp500[\"Close\"] - sp500[\"Open\"]) / sp500[\"Open\"]"
   ]
  },
  {
   "cell_type": "markdown",
   "metadata": {},
   "source": [
    "- Il nostro obiettivo è, all'inizio di ogni giorno $d$, prevedere se tale valore sarà positivo ($C_d>O_d$, valore in salita) o negativo ($C_d<O_d$, valore in discesa)\n",
    "- Questo determinerà le decisioni di un investitore"
   ]
  },
  {
   "cell_type": "markdown",
   "metadata": {
    "slideshow": {
     "slide_type": "slide"
    }
   },
   "source": [
    "## Estrazione delle Feature Predittive\n",
    "\n",
    "- Per effettuare la predizione bisogna determinare su quali variabili (o _feature_) deve essere basata\n",
    "- Tali variabili devono ovviamente essere note all'inizio di ogni giornata\n",
    "- Per ogni giorno, possiamo basare la predizione sui dati dei giorni precedenti\n",
    "- Ad esempio, per prevedere $\\delta_d$, osservo l'andamento del valore di apertura nei giorni precedenti, quindi le variabili $O_{d-1},O_{d-2},\\ldots$"
   ]
  },
  {
   "cell_type": "markdown",
   "metadata": {
    "slideshow": {
     "slide_type": "slide"
    }
   },
   "source": [
    "- Le serie forniscono il metodo `shift`, con cui è possibile ottenerne i valori slittati di un numero di posizioni dato\n",
    "- Data ad esempio la colonna `Return` del DataFrame..."
   ]
  },
  {
   "cell_type": "code",
   "execution_count": 9,
   "metadata": {},
   "outputs": [
    {
     "data": {
      "text/plain": [
       "Date\n",
       "2001-01-02   -0.028032\n",
       "2001-01-03    0.050099\n",
       "2001-01-04   -0.010552\n",
       "2001-01-05   -0.026242\n",
       "2001-01-08   -0.001918\n",
       "Name: Return, dtype: float64"
      ]
     },
     "execution_count": 9,
     "metadata": {},
     "output_type": "execute_result"
    }
   ],
   "source": [
    "sp500[\"Return\"].head()"
   ]
  },
  {
   "cell_type": "markdown",
   "metadata": {},
   "source": [
    "- ...con `shift(2)` otteniamo gli stessi dati slittati in avanti di 2 giorni"
   ]
  },
  {
   "cell_type": "code",
   "execution_count": 10,
   "metadata": {},
   "outputs": [
    {
     "data": {
      "text/plain": [
       "Date\n",
       "2001-01-02         NaN\n",
       "2001-01-03         NaN\n",
       "2001-01-04   -0.028032\n",
       "2001-01-05    0.050099\n",
       "2001-01-08   -0.010552\n",
       "Name: Return, dtype: float64"
      ]
     },
     "execution_count": 10,
     "metadata": {},
     "output_type": "execute_result"
    }
   ],
   "source": [
    "sp500[\"Return\"].shift(2).head()"
   ]
  },
  {
   "cell_type": "markdown",
   "metadata": {},
   "source": [
    "- Nei primi 2 giorni sono inseriti valori NaN, non essendo noti i valori dei giorni precedenti"
   ]
  },
  {
   "cell_type": "markdown",
   "metadata": {
    "slideshow": {
     "slide_type": "slide"
    }
   },
   "source": [
    "- Aggiungiamo al DataFrame 5 colonne `OpenLagN`, col valore di `Open` da 1 a 5 giorni precedenti"
   ]
  },
  {
   "cell_type": "code",
   "execution_count": 11,
   "metadata": {},
   "outputs": [],
   "source": [
    "for i in range(1, 6):\n",
    "    sp500[\"OpenLag{}\".format(i)] = sp500[\"Open\"].shift(i)"
   ]
  },
  {
   "cell_type": "markdown",
   "metadata": {},
   "source": [
    "- Come ulteriore variabile, aggiungiamo anche `Volume` slittata di un giorno"
   ]
  },
  {
   "cell_type": "code",
   "execution_count": 12,
   "metadata": {},
   "outputs": [],
   "source": [
    "sp500[\"VolumeLag1\"] = sp500[\"Volume\"].shift(1)"
   ]
  },
  {
   "cell_type": "markdown",
   "metadata": {
    "slideshow": {
     "slide_type": "slide"
    }
   },
   "source": [
    "- Abbiamo così 6 variabili predittive: 5 `Open` e 1 `Volume`\n",
    "- Definiamo una lista con i nomi di queste colonne..."
   ]
  },
  {
   "cell_type": "code",
   "execution_count": 13,
   "metadata": {},
   "outputs": [
    {
     "data": {
      "text/plain": [
       "['OpenLag1', 'OpenLag2', 'OpenLag3', 'OpenLag4', 'OpenLag5', 'VolumeLag1']"
      ]
     },
     "execution_count": 13,
     "metadata": {},
     "output_type": "execute_result"
    }
   ],
   "source": [
    "features = [\"OpenLag{}\".format(i) for i in range(1, 6)] + [\"VolumeLag1\"]\n",
    "features"
   ]
  },
  {
   "cell_type": "markdown",
   "metadata": {},
   "source": [
    "- ...ed usiamola per selezionarle, ottenendo un DataFrame X con le sole variabili predittive"
   ]
  },
  {
   "cell_type": "code",
   "execution_count": 14,
   "metadata": {},
   "outputs": [],
   "source": [
    "X = sp500[features].copy()"
   ]
  },
  {
   "cell_type": "code",
   "execution_count": 15,
   "metadata": {
    "slideshow": {
     "slide_type": "slide"
    }
   },
   "outputs": [
    {
     "data": {
      "text/html": [
       "<div>\n",
       "<table border=\"1\" class=\"dataframe\">\n",
       "  <thead>\n",
       "    <tr style=\"text-align: right;\">\n",
       "      <th></th>\n",
       "      <th>OpenLag1</th>\n",
       "      <th>OpenLag2</th>\n",
       "      <th>OpenLag3</th>\n",
       "      <th>OpenLag4</th>\n",
       "      <th>OpenLag5</th>\n",
       "      <th>VolumeLag1</th>\n",
       "    </tr>\n",
       "    <tr>\n",
       "      <th>Date</th>\n",
       "      <th></th>\n",
       "      <th></th>\n",
       "      <th></th>\n",
       "      <th></th>\n",
       "      <th></th>\n",
       "      <th></th>\n",
       "    </tr>\n",
       "  </thead>\n",
       "  <tbody>\n",
       "    <tr>\n",
       "      <th>2001-01-02</th>\n",
       "      <td>NaN</td>\n",
       "      <td>NaN</td>\n",
       "      <td>NaN</td>\n",
       "      <td>NaN</td>\n",
       "      <td>NaN</td>\n",
       "      <td>NaN</td>\n",
       "    </tr>\n",
       "    <tr>\n",
       "      <th>2001-01-03</th>\n",
       "      <td>1320.280029</td>\n",
       "      <td>NaN</td>\n",
       "      <td>NaN</td>\n",
       "      <td>NaN</td>\n",
       "      <td>NaN</td>\n",
       "      <td>1.129400e+09</td>\n",
       "    </tr>\n",
       "    <tr>\n",
       "      <th>2001-01-04</th>\n",
       "      <td>1283.270020</td>\n",
       "      <td>1320.280029</td>\n",
       "      <td>NaN</td>\n",
       "      <td>NaN</td>\n",
       "      <td>NaN</td>\n",
       "      <td>1.880700e+09</td>\n",
       "    </tr>\n",
       "    <tr>\n",
       "      <th>2001-01-05</th>\n",
       "      <td>1347.560059</td>\n",
       "      <td>1283.270020</td>\n",
       "      <td>1320.280029</td>\n",
       "      <td>NaN</td>\n",
       "      <td>NaN</td>\n",
       "      <td>2.131000e+09</td>\n",
       "    </tr>\n",
       "    <tr>\n",
       "      <th>2001-01-08</th>\n",
       "      <td>1333.339966</td>\n",
       "      <td>1347.560059</td>\n",
       "      <td>1283.270020</td>\n",
       "      <td>1320.280029</td>\n",
       "      <td>NaN</td>\n",
       "      <td>1.430800e+09</td>\n",
       "    </tr>\n",
       "    <tr>\n",
       "      <th>2001-01-09</th>\n",
       "      <td>1298.349976</td>\n",
       "      <td>1333.339966</td>\n",
       "      <td>1347.560059</td>\n",
       "      <td>1283.270020</td>\n",
       "      <td>1320.280029</td>\n",
       "      <td>1.115500e+09</td>\n",
       "    </tr>\n",
       "    <tr>\n",
       "      <th>2001-01-10</th>\n",
       "      <td>1295.859985</td>\n",
       "      <td>1298.349976</td>\n",
       "      <td>1333.339966</td>\n",
       "      <td>1347.560059</td>\n",
       "      <td>1283.270020</td>\n",
       "      <td>1.191300e+09</td>\n",
       "    </tr>\n",
       "  </tbody>\n",
       "</table>\n",
       "</div>"
      ],
      "text/plain": [
       "               OpenLag1     OpenLag2     OpenLag3     OpenLag4     OpenLag5  \\\n",
       "Date                                                                          \n",
       "2001-01-02          NaN          NaN          NaN          NaN          NaN   \n",
       "2001-01-03  1320.280029          NaN          NaN          NaN          NaN   \n",
       "2001-01-04  1283.270020  1320.280029          NaN          NaN          NaN   \n",
       "2001-01-05  1347.560059  1283.270020  1320.280029          NaN          NaN   \n",
       "2001-01-08  1333.339966  1347.560059  1283.270020  1320.280029          NaN   \n",
       "2001-01-09  1298.349976  1333.339966  1347.560059  1283.270020  1320.280029   \n",
       "2001-01-10  1295.859985  1298.349976  1333.339966  1347.560059  1283.270020   \n",
       "\n",
       "              VolumeLag1  \n",
       "Date                      \n",
       "2001-01-02           NaN  \n",
       "2001-01-03  1.129400e+09  \n",
       "2001-01-04  1.880700e+09  \n",
       "2001-01-05  2.131000e+09  \n",
       "2001-01-08  1.430800e+09  \n",
       "2001-01-09  1.115500e+09  \n",
       "2001-01-10  1.191300e+09  "
      ]
     },
     "execution_count": 15,
     "metadata": {},
     "output_type": "execute_result"
    }
   ],
   "source": [
    "X.head(7)"
   ]
  },
  {
   "cell_type": "markdown",
   "metadata": {},
   "source": [
    "- Nelle prime righe del dataset rimangono valori mancanti (_NaN_, Not a Number)\n",
    "- Usiamo il metodo `dropna` per rimuovere tutte le righe in cui è presente almeno un valore NaN"
   ]
  },
  {
   "cell_type": "code",
   "execution_count": 16,
   "metadata": {},
   "outputs": [],
   "source": [
    "X.dropna(inplace=True)"
   ]
  },
  {
   "cell_type": "code",
   "execution_count": 17,
   "metadata": {
    "slideshow": {
     "slide_type": "slide"
    }
   },
   "outputs": [
    {
     "data": {
      "text/html": [
       "<div>\n",
       "<table border=\"1\" class=\"dataframe\">\n",
       "  <thead>\n",
       "    <tr style=\"text-align: right;\">\n",
       "      <th></th>\n",
       "      <th>OpenLag1</th>\n",
       "      <th>OpenLag2</th>\n",
       "      <th>OpenLag3</th>\n",
       "      <th>OpenLag4</th>\n",
       "      <th>OpenLag5</th>\n",
       "      <th>VolumeLag1</th>\n",
       "    </tr>\n",
       "    <tr>\n",
       "      <th>Date</th>\n",
       "      <th></th>\n",
       "      <th></th>\n",
       "      <th></th>\n",
       "      <th></th>\n",
       "      <th></th>\n",
       "      <th></th>\n",
       "    </tr>\n",
       "  </thead>\n",
       "  <tbody>\n",
       "    <tr>\n",
       "      <th>2001-01-09</th>\n",
       "      <td>1298.349976</td>\n",
       "      <td>1333.339966</td>\n",
       "      <td>1347.560059</td>\n",
       "      <td>1283.270020</td>\n",
       "      <td>1320.280029</td>\n",
       "      <td>1.115500e+09</td>\n",
       "    </tr>\n",
       "    <tr>\n",
       "      <th>2001-01-10</th>\n",
       "      <td>1295.859985</td>\n",
       "      <td>1298.349976</td>\n",
       "      <td>1333.339966</td>\n",
       "      <td>1347.560059</td>\n",
       "      <td>1283.270020</td>\n",
       "      <td>1.191300e+09</td>\n",
       "    </tr>\n",
       "    <tr>\n",
       "      <th>2001-01-11</th>\n",
       "      <td>1300.800049</td>\n",
       "      <td>1295.859985</td>\n",
       "      <td>1298.349976</td>\n",
       "      <td>1333.339966</td>\n",
       "      <td>1347.560059</td>\n",
       "      <td>1.296500e+09</td>\n",
       "    </tr>\n",
       "    <tr>\n",
       "      <th>2001-01-12</th>\n",
       "      <td>1313.270020</td>\n",
       "      <td>1300.800049</td>\n",
       "      <td>1295.859985</td>\n",
       "      <td>1298.349976</td>\n",
       "      <td>1333.339966</td>\n",
       "      <td>1.411200e+09</td>\n",
       "    </tr>\n",
       "    <tr>\n",
       "      <th>2001-01-16</th>\n",
       "      <td>1326.819946</td>\n",
       "      <td>1313.270020</td>\n",
       "      <td>1300.800049</td>\n",
       "      <td>1295.859985</td>\n",
       "      <td>1298.349976</td>\n",
       "      <td>1.276000e+09</td>\n",
       "    </tr>\n",
       "    <tr>\n",
       "      <th>2001-01-17</th>\n",
       "      <td>1318.319946</td>\n",
       "      <td>1326.819946</td>\n",
       "      <td>1313.270020</td>\n",
       "      <td>1300.800049</td>\n",
       "      <td>1295.859985</td>\n",
       "      <td>1.205700e+09</td>\n",
       "    </tr>\n",
       "    <tr>\n",
       "      <th>2001-01-18</th>\n",
       "      <td>1326.650024</td>\n",
       "      <td>1318.319946</td>\n",
       "      <td>1326.819946</td>\n",
       "      <td>1313.270020</td>\n",
       "      <td>1300.800049</td>\n",
       "      <td>1.349100e+09</td>\n",
       "    </tr>\n",
       "  </tbody>\n",
       "</table>\n",
       "</div>"
      ],
      "text/plain": [
       "               OpenLag1     OpenLag2     OpenLag3     OpenLag4     OpenLag5  \\\n",
       "Date                                                                          \n",
       "2001-01-09  1298.349976  1333.339966  1347.560059  1283.270020  1320.280029   \n",
       "2001-01-10  1295.859985  1298.349976  1333.339966  1347.560059  1283.270020   \n",
       "2001-01-11  1300.800049  1295.859985  1298.349976  1333.339966  1347.560059   \n",
       "2001-01-12  1313.270020  1300.800049  1295.859985  1298.349976  1333.339966   \n",
       "2001-01-16  1326.819946  1313.270020  1300.800049  1295.859985  1298.349976   \n",
       "2001-01-17  1318.319946  1326.819946  1313.270020  1300.800049  1295.859985   \n",
       "2001-01-18  1326.650024  1318.319946  1326.819946  1313.270020  1300.800049   \n",
       "\n",
       "              VolumeLag1  \n",
       "Date                      \n",
       "2001-01-09  1.115500e+09  \n",
       "2001-01-10  1.191300e+09  \n",
       "2001-01-11  1.296500e+09  \n",
       "2001-01-12  1.411200e+09  \n",
       "2001-01-16  1.276000e+09  \n",
       "2001-01-17  1.205700e+09  \n",
       "2001-01-18  1.349100e+09  "
      ]
     },
     "execution_count": 17,
     "metadata": {},
     "output_type": "execute_result"
    }
   ],
   "source": [
    "X.head(7)"
   ]
  },
  {
   "cell_type": "markdown",
   "metadata": {},
   "source": [
    "- Questo costituisce il set di variabili che utilizzeremo per predire la variazione giornaliera\n",
    "- Chiamiamo `y` la variabile `Return` il cui valore deve essere predetto giornalmente\n",
    "- Usiamo `reindex_like` per selezionare i valori di `Return` corrispondenti alle sole righe di `X` rimaste dopo la rimozione dei NaN"
   ]
  },
  {
   "cell_type": "code",
   "execution_count": 18,
   "metadata": {},
   "outputs": [],
   "source": [
    "y = sp500[\"Return\"].reindex_like(X)"
   ]
  },
  {
   "cell_type": "markdown",
   "metadata": {
    "slideshow": {
     "slide_type": "slide"
    }
   },
   "source": [
    "## Divisione in Training e Validation Set\n",
    "\n",
    "- Come al solito, dividiamo i dati ottenuti in\n",
    "  - un _training set_ per addestrare i modelli di predizione\n",
    "  - un _validation set_ per valutare la loro accuratezza nella predizione, in modo da selezionare quello migliore\n",
    "- Usiamo i dati dal 2001 al 2004 (80% circa) per l'addestramento e quelli del 2005 per la validazione\n",
    "- Creiamo un array binario `is_train` che indica quali righe andranno nel training set piuttosto che nel validation set..."
   ]
  },
  {
   "cell_type": "code",
   "execution_count": 19,
   "metadata": {},
   "outputs": [],
   "source": [
    "is_train = X.index.year < 2005"
   ]
  },
  {
   "cell_type": "markdown",
   "metadata": {},
   "source": [
    "- ...quindi creiamo copie di `X` e `y` con i dati suddivisi tra training e validation"
   ]
  },
  {
   "cell_type": "code",
   "execution_count": 20,
   "metadata": {},
   "outputs": [],
   "source": [
    "X_train = X[is_train]\n",
    "y_train = y[is_train]\n",
    "X_val = X[~is_train]\n",
    "y_val = y[~is_train]"
   ]
  },
  {
   "cell_type": "markdown",
   "metadata": {
    "slideshow": {
     "slide_type": "slide"
    }
   },
   "source": [
    "## Predizione tramite Classificazione\n",
    "\n",
    "- Siamo interessati a predire il segno + o - di `Return` piuttosto che il valore esatto\n",
    "- Per questo possiamo impostare il problema con un modello di classsificazione\n",
    "- Estraiamo dai valori reali `y` una serie `s` i cui valori sono\n",
    "  - `Up` in corrispondenza di valori positivi, quando il valore dell'indice sale\n",
    "  - `Down` in corrispondenza di valori negativi, quando il valore dell'indice scende\n",
    "- La funzione `where` di NumPy restituisce un array con due valori possibili in base ad uno binario"
   ]
  },
  {
   "cell_type": "code",
   "execution_count": 21,
   "metadata": {},
   "outputs": [],
   "source": [
    "s = pd.Series(np.where(y >= 0, \"Up\", \"Down\"), index=y.index)"
   ]
  },
  {
   "cell_type": "markdown",
   "metadata": {},
   "source": [
    "- Come X e y, suddividiamo la serie s in training e validation set"
   ]
  },
  {
   "cell_type": "code",
   "execution_count": 22,
   "metadata": {},
   "outputs": [],
   "source": [
    "s_train = s[is_train]\n",
    "s_val = s[~is_train]"
   ]
  },
  {
   "cell_type": "markdown",
   "metadata": {
    "slideshow": {
     "slide_type": "slide"
    }
   },
   "source": [
    "- Analizziamo la distribuzione delle etichette in training e validation set"
   ]
  },
  {
   "cell_type": "code",
   "execution_count": 23,
   "metadata": {},
   "outputs": [
    {
     "data": {
      "text/plain": [
       "<matplotlib.axes._subplots.AxesSubplot at 0x7fed63af4fd0>"
      ]
     },
     "execution_count": 23,
     "metadata": {},
     "output_type": "execute_result"
    },
    {
     "data": {
      "image/png": "[encoded data removed]",
      "text/plain": [
       "<matplotlib.figure.Figure at 0x7fed63af4748>"
      ]
     },
     "metadata": {},
     "output_type": "display_data"
    }
   ],
   "source": [
    "plt.figure(figsize=(6, 3))\n",
    "s_train.value_counts().plot.pie(ax=plt.subplot(1, 2, 1))\n",
    "s_val.value_counts().plot.pie(ax=plt.subplot(1, 2, 2))"
   ]
  },
  {
   "cell_type": "markdown",
   "metadata": {},
   "source": [
    "- Le distribuzioni sono sostanzialmente equilibrate tra giorni di salita e di discesa"
   ]
  },
  {
   "cell_type": "markdown",
   "metadata": {
    "slideshow": {
     "slide_type": "slide"
    }
   },
   "source": [
    "- Creiamo un modello perceptron con parametri di default ed addestriamolo su queste etichette"
   ]
  },
  {
   "cell_type": "code",
   "execution_count": 24,
   "metadata": {},
   "outputs": [],
   "source": [
    "from sklearn.linear_model import Perceptron\n",
    "model = Perceptron()\n",
    "model.fit(X_train, s_train);"
   ]
  },
  {
   "cell_type": "markdown",
   "metadata": {},
   "source": [
    "- L'accuratezza nella predizione è..."
   ]
  },
  {
   "cell_type": "code",
   "execution_count": 25,
   "metadata": {},
   "outputs": [
    {
     "data": {
      "text/plain": [
       "0.55952380952380953"
      ]
     },
     "execution_count": 25,
     "metadata": {},
     "output_type": "execute_result"
    }
   ],
   "source": [
    "model.score(X_val, s_val)"
   ]
  },
  {
   "cell_type": "markdown",
   "metadata": {
    "slideshow": {
     "slide_type": "slide"
    }
   },
   "source": [
    "- Possiamo testare l'applicazione della standardizzazione"
   ]
  },
  {
   "cell_type": "code",
   "execution_count": 26,
   "metadata": {},
   "outputs": [
    {
     "data": {
      "text/plain": [
       "0.56746031746031744"
      ]
     },
     "execution_count": 26,
     "metadata": {},
     "output_type": "execute_result"
    }
   ],
   "source": [
    "from sklearn.pipeline import Pipeline\n",
    "from sklearn.preprocessing import StandardScaler\n",
    "model = Pipeline([\n",
    "    (\"scaler\", StandardScaler()),\n",
    "    (\"model\",  Perceptron())\n",
    "])\n",
    "model.fit(X_train, s_train)\n",
    "model.score(X_val, s_val)"
   ]
  },
  {
   "cell_type": "markdown",
   "metadata": {},
   "source": [
    "- L'accuratezza è migliorata, ma è ancora bassa\n",
    "  - un classificatore che fornisce predizioni a caso avrebbe accuratezza del 50\\%\n",
    "- In questo scenario possiamo dobbiamo però valutare il modello in un altro modo..."
   ]
  },
  {
   "cell_type": "markdown",
   "metadata": {
    "slideshow": {
     "slide_type": "slide"
    }
   },
   "source": [
    "## Simulazione Trading\n",
    "\n",
    "- Quanto guadagnerebbe un trader che compra e vende titoli in base alle predizioni del modello?\n",
    "- Ipotizziamo un trader che\n",
    "  - all'inizio di ogni giornata $d$ compra o vende (allo scoperto) un singolo titolo al suo valore di apertura $O_d$ a seconda della predizione del modello\n",
    "  - a fine giornata rivende o ricompra tale titolo al suo valore di chiusura $C_d$\n",
    "- Il guadagno (o perdita) alla fine di ciascuna giornata sarà quindi:\n",
    "$$ R_d = \\left\\{\\begin{array}{lr}C_d-O_d&:\\text{pred. \"Up\"}\\\\O_d-C_d&:\\text{pred. \"Down\"}\\end{array}\\right. $$"
   ]
  },
  {
   "cell_type": "markdown",
   "metadata": {
    "slideshow": {
     "slide_type": "slide"
    }
   },
   "source": [
    "- Implementiamo tale comportamento in una funzione `gain`\n",
    "  - gli argomenti sono le etichette reali e predette, per compatibilità con le funzioni di scikit-learn\n",
    "  - la funzione estrae le differenze $C_d-O_d$ dai dati e fa la somma per ogni giornata di tale differenza o del suo opposto a seconda della predizione"
   ]
  },
  {
   "cell_type": "code",
   "execution_count": 27,
   "metadata": {},
   "outputs": [],
   "source": [
    "def gain(real, pred):\n",
    "    diffs = sp500.loc[real.index, \"Close\"] - sp500.loc[real.index, \"Open\"]\n",
    "    return np.where(\n",
    "        pred == \"Up\",\n",
    "        diffs, #   giorni \"Up\": compra e vendi, guadagna C-O\n",
    "        -diffs # giorni \"Down\": vendi e compra, guadagna O-C\n",
    "    ).sum()"
   ]
  },
  {
   "cell_type": "markdown",
   "metadata": {},
   "source": [
    "- Applichiamo ad esempio tale funzione alle predizioni dell'ultimo modello perceptron addestrato"
   ]
  },
  {
   "cell_type": "code",
   "execution_count": 28,
   "metadata": {},
   "outputs": [
    {
     "data": {
      "text/plain": [
       "77.140015999999832"
      ]
     },
     "execution_count": 28,
     "metadata": {},
     "output_type": "execute_result"
    }
   ],
   "source": [
    "gain(s_val, model.predict(X_val))"
   ]
  },
  {
   "cell_type": "markdown",
   "metadata": {
    "slideshow": {
     "slide_type": "slide"
    }
   },
   "source": [
    "## Calcolo del ROI\n",
    "\n",
    "- Il ROI (_Return on Investment_) esprime il guadagno di una o più operazioni in borsa in rapporto all'investimento iniziale\n",
    "- La cifra investita in questo caso è pari al valore d'apertura del titolo che varia giornalmente\n",
    "- Per fare una stima del ROI usiamo la media di tale valore nel periodo di training"
   ]
  },
  {
   "cell_type": "code",
   "execution_count": 29,
   "metadata": {},
   "outputs": [
    {
     "data": {
      "text/plain": [
       "1069.3752966886896"
      ]
     },
     "execution_count": 29,
     "metadata": {},
     "output_type": "execute_result"
    }
   ],
   "source": [
    "mean_open_train = sp500.loc[y_train.index, \"Open\"].mean()\n",
    "mean_open_train"
   ]
  },
  {
   "cell_type": "markdown",
   "metadata": {},
   "source": [
    "- Definiamo quindi una funzione che calcoli il ROI sfruttando quella già esistente per il guadagno"
   ]
  },
  {
   "cell_type": "code",
   "execution_count": 30,
   "metadata": {},
   "outputs": [],
   "source": [
    "def roi(real, pred):\n",
    "    return gain(real, pred) / mean_open_train"
   ]
  },
  {
   "cell_type": "markdown",
   "metadata": {},
   "source": [
    "- Testiamo di nuovo ad esempio sull'ultimo modello addestrato"
   ]
  },
  {
   "cell_type": "code",
   "execution_count": 31,
   "metadata": {},
   "outputs": [
    {
     "data": {
      "text/plain": [
       "0.072135588168964773"
      ]
     },
     "execution_count": 31,
     "metadata": {},
     "output_type": "execute_result"
    }
   ],
   "source": [
    "roi(s_val, model.predict(X_val))"
   ]
  },
  {
   "cell_type": "markdown",
   "metadata": {
    "slideshow": {
     "slide_type": "slide"
    }
   },
   "source": [
    "## Test con Altro Modello\n",
    "\n",
    "- Possiamo aumentare il ROI?\n",
    "- Testiamo un altro modello di classificazione, ad esempio SVM, con parametri impostati arbitrariamente"
   ]
  },
  {
   "cell_type": "code",
   "execution_count": 32,
   "metadata": {},
   "outputs": [],
   "source": [
    "from sklearn.svm import SVC\n",
    "model = Pipeline([\n",
    "    (\"scaler\", StandardScaler()),\n",
    "    (\"svm\",    SVC(C=1, kernel=\"rbf\", gamma=10))\n",
    "])\n",
    "model.fit(X_train, s_train);"
   ]
  },
  {
   "cell_type": "code",
   "execution_count": 33,
   "metadata": {},
   "outputs": [
    {
     "data": {
      "text/plain": [
       "0.086406061825177252"
      ]
     },
     "execution_count": 33,
     "metadata": {},
     "output_type": "execute_result"
    }
   ],
   "source": [
    "roi(s_val, model.predict(X_val))"
   ]
  },
  {
   "cell_type": "markdown",
   "metadata": {},
   "source": [
    "- Abbiamo ottenuto un leggero aumento del ROI con questi parametri\n",
    "- Come trovare la combinazione di parametri che ottimizza il ROI?"
   ]
  },
  {
   "cell_type": "markdown",
   "metadata": {
    "slideshow": {
     "slide_type": "slide"
    }
   },
   "source": [
    "## Grid Search sul ROI\n",
    "\n",
    "- scikit-learn permette di eseguire la _grid search_ per ottimizzare i valori degli iperparametri di un modello\n",
    "- Abbiamo visto la grid search basata su metriche predefinite di scikit-learn\n",
    "  - coefficiente R² per la regressione, accuratezza (o altre) per la classificazione\n",
    "- Oltre alle metriche predefinite di scikit-learn, possiamo utilizzare metriche definite da noi\n",
    "- Creiamo un oggetto _scorer_ che usi la funzione `roi` come metrica utilizzando la funzione `make_scorer`\n",
    "- `greater_is_better=True` indica che valori più alti indicano modelli migliori\n",
    "  - a differenza ad esempio delle misure d'errore, per cui valori più alti indicano modelli peggiori"
   ]
  },
  {
   "cell_type": "code",
   "execution_count": 34,
   "metadata": {},
   "outputs": [],
   "source": [
    "from sklearn.metrics import make_scorer\n",
    "roi_scorer = make_scorer(roi, greater_is_better=True)"
   ]
  },
  {
   "cell_type": "markdown",
   "metadata": {
    "slideshow": {
     "slide_type": "slide"
    }
   },
   "source": [
    "- Normalmente nella grid search si effettua la k-fold cross validation\n",
    "  - sono generate k divisioni tra training e validation set mescolando casualmente i dati\n",
    "- Per valutare correttamente il ROI tuttavia va fissato un periodo specifico su cui eseguire il test\n",
    "  - mescolando i dati, si ha il test su giorni non consecutivi\n",
    "- Nella grid search possiamo personalizzare la modalità di test di ogni combinazione\n",
    "- La classe [`PredefinedSplit`](https://scikit-learn.org/stable/modules/generated/sklearn.model_selection.PredefinedSplit.html) divide i dati in sottoinsiemi predefiniti invece che casuali\n",
    "- Creiamo uno split utilizzando la serie `is_train` usata sopra per la divisione training/validation\n",
    "  - alle istanze `is_train=True` associamo -1 per usarle solo nel training set\n",
    "  - alle istanze `is_train=False` associamo 0 per usarle invece nel validation set\n",
    "  - usando valori 1, 2, ... definiremmo altri fold"
   ]
  },
  {
   "cell_type": "code",
   "execution_count": 35,
   "metadata": {},
   "outputs": [],
   "source": [
    "from sklearn.model_selection import PredefinedSplit\n",
    "split = PredefinedSplit(np.where(is_train, -1, 0))"
   ]
  },
  {
   "cell_type": "markdown",
   "metadata": {
    "slideshow": {
     "slide_type": "slide"
    }
   },
   "source": [
    "- Ora, dato un modello di base e una griglia di parametri da testare..."
   ]
  },
  {
   "cell_type": "code",
   "execution_count": 36,
   "metadata": {},
   "outputs": [],
   "source": [
    "model = Pipeline([\n",
    "    (\"scaler\", StandardScaler()),\n",
    "    (\"svm\",    SVC(kernel=\"rbf\"))\n",
    "])\n",
    "grid = {\n",
    "    \"svm__C\": np.logspace(-3, 3, 7),\n",
    "    \"svm__gamma\": np.logspace(-3, 3, 7)\n",
    "}"
   ]
  },
  {
   "cell_type": "markdown",
   "metadata": {
    "slideshow": {
     "slide_type": "slide"
    }
   },
   "source": [
    "- ...possiamo applicare la grid search, specificando come `scoring` il ROI e come `cv` la suddivisione training/validation predefinita"
   ]
  },
  {
   "cell_type": "code",
   "execution_count": 37,
   "metadata": {},
   "outputs": [],
   "source": [
    "from sklearn.model_selection import GridSearchCV\n",
    "gs = GridSearchCV(model, grid, scoring=roi_scorer, cv=split)"
   ]
  },
  {
   "cell_type": "markdown",
   "metadata": {},
   "source": [
    "- Addestriamo la grid search sull'intero set di dati (lo `split` li dividerà correttamente per ciascun test)"
   ]
  },
  {
   "cell_type": "code",
   "execution_count": 38,
   "metadata": {},
   "outputs": [],
   "source": [
    "gs.fit(X, s);"
   ]
  },
  {
   "cell_type": "markdown",
   "metadata": {
    "slideshow": {
     "slide_type": "slide"
    }
   },
   "source": [
    "- Vediamo i risultati ordinati a partire dai migliori, nella colonna `mean_test_score` vediamo il valore della metrica di valutazione, in questo caso il ROI"
   ]
  },
  {
   "cell_type": "code",
   "execution_count": 39,
   "metadata": {},
   "outputs": [
    {
     "data": {
      "text/html": [
       "<div>\n",
       "<table border=\"1\" class=\"dataframe\">\n",
       "  <thead>\n",
       "    <tr style=\"text-align: right;\">\n",
       "      <th></th>\n",
       "      <th>mean_fit_time</th>\n",
       "      <th>mean_score_time</th>\n",
       "      <th>mean_test_score</th>\n",
       "      <th>mean_train_score</th>\n",
       "      <th>param_svm__C</th>\n",
       "      <th>param_svm__gamma</th>\n",
       "      <th>params</th>\n",
       "      <th>rank_test_score</th>\n",
       "      <th>split0_test_score</th>\n",
       "      <th>split0_train_score</th>\n",
       "      <th>std_fit_time</th>\n",
       "      <th>std_score_time</th>\n",
       "      <th>std_test_score</th>\n",
       "      <th>std_train_score</th>\n",
       "    </tr>\n",
       "  </thead>\n",
       "  <tbody>\n",
       "    <tr>\n",
       "      <th>23</th>\n",
       "      <td>0.038357</td>\n",
       "      <td>0.008172</td>\n",
       "      <td>0.146459</td>\n",
       "      <td>1.118635</td>\n",
       "      <td>1</td>\n",
       "      <td>0.1</td>\n",
       "      <td>{'svm__C': 1.0, 'svm__gamma': 0.1}</td>\n",
       "      <td>1</td>\n",
       "      <td>0.146459</td>\n",
       "      <td>1.118635</td>\n",
       "      <td>0.0</td>\n",
       "      <td>0.0</td>\n",
       "      <td>2.775558e-17</td>\n",
       "      <td>0.0</td>\n",
       "    </tr>\n",
       "    <tr>\n",
       "      <th>26</th>\n",
       "      <td>0.041081</td>\n",
       "      <td>0.007055</td>\n",
       "      <td>0.124259</td>\n",
       "      <td>8.797866</td>\n",
       "      <td>1</td>\n",
       "      <td>100</td>\n",
       "      <td>{'svm__C': 1.0, 'svm__gamma': 100.0}</td>\n",
       "      <td>2</td>\n",
       "      <td>0.124259</td>\n",
       "      <td>8.797866</td>\n",
       "      <td>0.0</td>\n",
       "      <td>0.0</td>\n",
       "      <td>0.000000e+00</td>\n",
       "      <td>0.0</td>\n",
       "    </tr>\n",
       "    <tr>\n",
       "      <th>22</th>\n",
       "      <td>0.039156</td>\n",
       "      <td>0.008234</td>\n",
       "      <td>0.094560</td>\n",
       "      <td>0.194244</td>\n",
       "      <td>1</td>\n",
       "      <td>0.01</td>\n",
       "      <td>{'svm__C': 1.0, 'svm__gamma': 0.01}</td>\n",
       "      <td>3</td>\n",
       "      <td>0.094560</td>\n",
       "      <td>0.194244</td>\n",
       "      <td>0.0</td>\n",
       "      <td>0.0</td>\n",
       "      <td>0.000000e+00</td>\n",
       "      <td>0.0</td>\n",
       "    </tr>\n",
       "  </tbody>\n",
       "</table>\n",
       "</div>"
      ],
      "text/plain": [
       "    mean_fit_time  mean_score_time  mean_test_score  mean_train_score  \\\n",
       "23       0.038357         0.008172         0.146459          1.118635   \n",
       "26       0.041081         0.007055         0.124259          8.797866   \n",
       "22       0.039156         0.008234         0.094560          0.194244   \n",
       "\n",
       "   param_svm__C param_svm__gamma                                params  \\\n",
       "23            1              0.1    {'svm__C': 1.0, 'svm__gamma': 0.1}   \n",
       "26            1              100  {'svm__C': 1.0, 'svm__gamma': 100.0}   \n",
       "22            1             0.01   {'svm__C': 1.0, 'svm__gamma': 0.01}   \n",
       "\n",
       "    rank_test_score  split0_test_score  split0_train_score  std_fit_time  \\\n",
       "23                1           0.146459            1.118635           0.0   \n",
       "26                2           0.124259            8.797866           0.0   \n",
       "22                3           0.094560            0.194244           0.0   \n",
       "\n",
       "    std_score_time  std_test_score  std_train_score  \n",
       "23             0.0    2.775558e-17              0.0  \n",
       "26             0.0    0.000000e+00              0.0  \n",
       "22             0.0    0.000000e+00              0.0  "
      ]
     },
     "execution_count": 39,
     "metadata": {},
     "output_type": "execute_result"
    }
   ],
   "source": [
    "pd.DataFrame(gs.cv_results_).sort_values(\"rank_test_score\").head(3)"
   ]
  },
  {
   "cell_type": "markdown",
   "metadata": {},
   "source": [
    "- Abbiamo così ottenuto un modello che porta a circa il 15\\% di ROI"
   ]
  },
  {
   "cell_type": "markdown",
   "metadata": {
    "slideshow": {
     "slide_type": "slide"
    }
   },
   "source": [
    "## Predizione tramite Regressione\n",
    "\n",
    "- Dovendo prevedere ogni giorno il verificarsi di uno di due casi ($C_d > O_d$ o viceversa), abbiamo fin quì usato un modello di classificazione\n",
    "- In alternativa possiamo addestrare un modello di regressione a prevedere il valore esatto di $C_d - O_d$ e considerare solamente il segno predetto dal modello\n",
    "- In questo modo, nell'addestramento del modello, si distinguono i cambiamenti (crescite o cali) lievi del valore del titolo da quelli più consistenti"
   ]
  },
  {
   "cell_type": "markdown",
   "metadata": {
    "slideshow": {
     "slide_type": "slide"
    }
   },
   "source": [
    "- Consideriamo ad esempio un modello di regressione lineare"
   ]
  },
  {
   "cell_type": "code",
   "execution_count": 40,
   "metadata": {},
   "outputs": [],
   "source": [
    "from sklearn.linear_model import LinearRegression\n",
    "model = LinearRegression()"
   ]
  },
  {
   "cell_type": "markdown",
   "metadata": {},
   "source": [
    "- Addestriamo il modello, utilizzando questa volta la serie `y_train` con i valori reali di `Return` piuttosto che le etichette \"Up\" e \"Down\" in `s_train`"
   ]
  },
  {
   "cell_type": "code",
   "execution_count": 41,
   "metadata": {},
   "outputs": [],
   "source": [
    "model.fit(X_train, y_train);"
   ]
  },
  {
   "cell_type": "markdown",
   "metadata": {
    "slideshow": {
     "slide_type": "slide"
    }
   },
   "source": [
    "- Creiamo una versione modificata della funzione `gain` che, invece di verificare che la predizione sia \"Up\" o \"Down\", verifichi se sia un valore positivo o negativo"
   ]
  },
  {
   "cell_type": "code",
   "execution_count": 42,
   "metadata": {},
   "outputs": [],
   "source": [
    "def gain_regr(real, pred):\n",
    "    diffs = sp500.loc[real.index, \"Close\"] - sp500.loc[real.index, \"Open\"]\n",
    "    return np.where(\n",
    "        pred >= 0,   # INVECE DI pred == \"Up\"\n",
    "        diffs, #   giorni \"Up\": compra e vendi, guadagna C-O\n",
    "        -diffs # giorni \"Down\": vendi e compra, guadagna O-C\n",
    "    ).sum()"
   ]
  },
  {
   "cell_type": "markdown",
   "metadata": {},
   "source": [
    "- Su di essa creiamo una versione modificata di `roi`"
   ]
  },
  {
   "cell_type": "code",
   "execution_count": 43,
   "metadata": {},
   "outputs": [],
   "source": [
    "def roi_regr(real, pred):\n",
    "    return gain_regr(real, pred) / mean_open_train"
   ]
  },
  {
   "cell_type": "markdown",
   "metadata": {},
   "source": [
    "- Testiamo la funzione sul modello lineare addestrato sopra"
   ]
  },
  {
   "cell_type": "code",
   "execution_count": 44,
   "metadata": {},
   "outputs": [
    {
     "data": {
      "text/plain": [
       "-0.033552076722831892"
      ]
     },
     "execution_count": 44,
     "metadata": {},
     "output_type": "execute_result"
    }
   ],
   "source": [
    "roi_regr(y_val, model.predict(X_val))"
   ]
  },
  {
   "cell_type": "markdown",
   "metadata": {},
   "source": [
    "- Il modello comporta un ROI negativo, quindi una perdita piuttosto che un guadagno"
   ]
  },
  {
   "cell_type": "markdown",
   "metadata": {
    "slideshow": {
     "slide_type": "slide"
    }
   },
   "source": [
    "- Testiamo ora un modello kernel ridge con standardizzazione dei dati, utilizzando la grid search per individuare i parametri migliori possibili"
   ]
  },
  {
   "cell_type": "code",
   "execution_count": 45,
   "metadata": {},
   "outputs": [],
   "source": [
    "from sklearn.kernel_ridge import KernelRidge\n",
    "model = Pipeline([\n",
    "    (\"scaler\", StandardScaler()),\n",
    "    (\"regr\",   KernelRidge())\n",
    "])"
   ]
  },
  {
   "cell_type": "markdown",
   "metadata": {},
   "source": [
    "- Per testare diversi kernel, ciascuno variando i rispettivi parametri, imposto come griglia dei parametri una lista di dizionari, uno per tipo di kernel"
   ]
  },
  {
   "cell_type": "code",
   "execution_count": 46,
   "metadata": {},
   "outputs": [],
   "source": [
    "alpha_vals = np.logspace(-1, 3, 5)\n",
    "grid = [\n",
    "    {\"regr__alpha\": alpha_vals, \"regr__kernel\": [\"linear\"]},\n",
    "    {\"regr__alpha\": alpha_vals, \"regr__kernel\": [\"poly\"], \"regr__degree\": range(2, 5)},\n",
    "    {\"regr__alpha\": alpha_vals, \"regr__kernel\": [\"rbf\"], \"regr__gamma\": np.logspace(-3, 3, 7)}\n",
    "]"
   ]
  },
  {
   "cell_type": "markdown",
   "metadata": {
    "slideshow": {
     "slide_type": "slide"
    }
   },
   "source": [
    "- Come abbiamo fatto con la funzione `roi`, incapsuliamo `roi_regr` in uno _scorer_, specificando che più alto è il valori di ROI, meglio è"
   ]
  },
  {
   "cell_type": "code",
   "execution_count": 47,
   "metadata": {},
   "outputs": [],
   "source": [
    "roi_regr_scorer = make_scorer(roi_regr, greater_is_better=True)"
   ]
  },
  {
   "cell_type": "markdown",
   "metadata": {},
   "source": [
    "- Avviamo quindi la grid search, specificando modello, parametri, metrica da usare e suddivisione dei dati come sopra"
   ]
  },
  {
   "cell_type": "code",
   "execution_count": 48,
   "metadata": {},
   "outputs": [],
   "source": [
    "gs = GridSearchCV(model, grid, scoring=roi_regr_scorer, cv=split)\n",
    "gs.fit(X, y);"
   ]
  },
  {
   "cell_type": "markdown",
   "metadata": {
    "slideshow": {
     "slide_type": "slide"
    }
   },
   "source": [
    "- Quanto è il ROI dei modelli migliori?"
   ]
  },
  {
   "cell_type": "code",
   "execution_count": 49,
   "metadata": {},
   "outputs": [
    {
     "data": {
      "text/html": [
       "<div>\n",
       "<table border=\"1\" class=\"dataframe\">\n",
       "  <thead>\n",
       "    <tr style=\"text-align: right;\">\n",
       "      <th></th>\n",
       "      <th>mean_fit_time</th>\n",
       "      <th>mean_score_time</th>\n",
       "      <th>mean_test_score</th>\n",
       "      <th>mean_train_score</th>\n",
       "      <th>param_regr__alpha</th>\n",
       "      <th>param_regr__degree</th>\n",
       "      <th>param_regr__gamma</th>\n",
       "      <th>param_regr__kernel</th>\n",
       "      <th>params</th>\n",
       "      <th>rank_test_score</th>\n",
       "      <th>split0_test_score</th>\n",
       "      <th>split0_train_score</th>\n",
       "      <th>std_fit_time</th>\n",
       "      <th>std_score_time</th>\n",
       "      <th>std_test_score</th>\n",
       "      <th>std_train_score</th>\n",
       "    </tr>\n",
       "  </thead>\n",
       "  <tbody>\n",
       "    <tr>\n",
       "      <th>19</th>\n",
       "      <td>0.079154</td>\n",
       "      <td>0.018395</td>\n",
       "      <td>0.220503</td>\n",
       "      <td>1.256005</td>\n",
       "      <td>1000</td>\n",
       "      <td>4</td>\n",
       "      <td>NaN</td>\n",
       "      <td>poly</td>\n",
       "      <td>{'regr__alpha': 1000.0, 'regr__degree': 4, 're...</td>\n",
       "      <td>1</td>\n",
       "      <td>0.220503</td>\n",
       "      <td>1.256005</td>\n",
       "      <td>0.0</td>\n",
       "      <td>0.0</td>\n",
       "      <td>0.0</td>\n",
       "      <td>0.0</td>\n",
       "    </tr>\n",
       "    <tr>\n",
       "      <th>18</th>\n",
       "      <td>0.075025</td>\n",
       "      <td>0.018487</td>\n",
       "      <td>0.155193</td>\n",
       "      <td>0.758068</td>\n",
       "      <td>1000</td>\n",
       "      <td>3</td>\n",
       "      <td>NaN</td>\n",
       "      <td>poly</td>\n",
       "      <td>{'regr__alpha': 1000.0, 'regr__degree': 3, 're...</td>\n",
       "      <td>2</td>\n",
       "      <td>0.155193</td>\n",
       "      <td>0.758068</td>\n",
       "      <td>0.0</td>\n",
       "      <td>0.0</td>\n",
       "      <td>0.0</td>\n",
       "      <td>0.0</td>\n",
       "    </tr>\n",
       "    <tr>\n",
       "      <th>50</th>\n",
       "      <td>0.029093</td>\n",
       "      <td>0.006608</td>\n",
       "      <td>0.142438</td>\n",
       "      <td>0.625094</td>\n",
       "      <td>1000</td>\n",
       "      <td>NaN</td>\n",
       "      <td>0.1</td>\n",
       "      <td>rbf</td>\n",
       "      <td>{'regr__alpha': 1000.0, 'regr__gamma': 0.1, 'r...</td>\n",
       "      <td>3</td>\n",
       "      <td>0.142438</td>\n",
       "      <td>0.625094</td>\n",
       "      <td>0.0</td>\n",
       "      <td>0.0</td>\n",
       "      <td>0.0</td>\n",
       "      <td>0.0</td>\n",
       "    </tr>\n",
       "  </tbody>\n",
       "</table>\n",
       "</div>"
      ],
      "text/plain": [
       "    mean_fit_time  mean_score_time  mean_test_score  mean_train_score  \\\n",
       "19       0.079154         0.018395         0.220503          1.256005   \n",
       "18       0.075025         0.018487         0.155193          0.758068   \n",
       "50       0.029093         0.006608         0.142438          0.625094   \n",
       "\n",
       "   param_regr__alpha param_regr__degree param_regr__gamma param_regr__kernel  \\\n",
       "19              1000                  4               NaN               poly   \n",
       "18              1000                  3               NaN               poly   \n",
       "50              1000                NaN               0.1                rbf   \n",
       "\n",
       "                                               params  rank_test_score  \\\n",
       "19  {'regr__alpha': 1000.0, 'regr__degree': 4, 're...                1   \n",
       "18  {'regr__alpha': 1000.0, 'regr__degree': 3, 're...                2   \n",
       "50  {'regr__alpha': 1000.0, 'regr__gamma': 0.1, 'r...                3   \n",
       "\n",
       "    split0_test_score  split0_train_score  std_fit_time  std_score_time  \\\n",
       "19           0.220503            1.256005           0.0             0.0   \n",
       "18           0.155193            0.758068           0.0             0.0   \n",
       "50           0.142438            0.625094           0.0             0.0   \n",
       "\n",
       "    std_test_score  std_train_score  \n",
       "19             0.0              0.0  \n",
       "18             0.0              0.0  \n",
       "50             0.0              0.0  "
      ]
     },
     "execution_count": 49,
     "metadata": {},
     "output_type": "execute_result"
    }
   ],
   "source": [
    "pd.DataFrame(gs.cv_results_).sort_values(\"rank_test_score\").head(3)"
   ]
  },
  {
   "cell_type": "markdown",
   "metadata": {},
   "source": [
    "- Il miglior modello raggiunge il 22\\% di ROI"
   ]
  }
 ],
 "metadata": {
  "kernelspec": {
   "display_name": "DIA (lab)",
   "language": "python",
   "name": "dialab"
  },
  "language_info": {
   "codemirror_mode": {
    "name": "ipython",
    "version": 3
   },
   "file_extension": ".py",
   "mimetype": "text/x-python",
   "name": "python",
   "nbconvert_exporter": "python",
   "pygments_lexer": "ipython3",
   "version": "3.6.0"
  }
 },
 "nbformat": 4,
 "nbformat_minor": 2
}
