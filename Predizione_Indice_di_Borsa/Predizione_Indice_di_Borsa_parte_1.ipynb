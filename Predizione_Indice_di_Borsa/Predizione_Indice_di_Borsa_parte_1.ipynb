{
 "cells": [
  {
   "cell_type": "markdown",
   "metadata": {
    "slideshow": {
     "slide_type": "slide"
    }
   },
   "source": [
    "# Laboratorio: Predizione Indice di Borsa (parte 1)\n",
    "\n",
    "**Programmazione di Applicazioni Data Intensive**  \n",
    "Laurea in Ingegneria e Scienze Informatiche  \n",
    "DISI - Università di Bologna, Cesena\n",
    "\n",
    "Proff. Gianluca Moro, Roberto Pasolini  \n",
    "nome.cognome@unibo.it"
   ]
  },
  {
   "cell_type": "markdown",
   "metadata": {
    "slideshow": {
     "slide_type": "slide"
    }
   },
   "source": [
    "## Serie Storiche\n",
    "\n",
    "Una _serie storica_ indica l'andamento nel tempo di una generica variabile\n",
    "- è costituita da una sequenza di valori, ciascuno etichettato con una \"timestamp\" che indica a quando si riferisce\n",
    "- i valori possono essere rilevati con cadenza giornaliera, settimanale, ...\n",
    "\n",
    "Molti esempi di serie storiche si hanno in economia e finanza, con variabili quali il valore di un'azione, il valore di una risorsa (oro, petrolio, ...), il tasso di cambio tra due valute, ..."
   ]
  },
  {
   "cell_type": "markdown",
   "metadata": {
    "slideshow": {
     "slide_type": "slide"
    }
   },
   "source": [
    "## Predizione di un'Indice di Borsa\n",
    "\n",
    "Un _indice_ in borsa costituisce la sintesi del valore di diversi titoli azionari (_componenti_): il valore dell'indice è una media (di solito ponderata) dei valori dei singoli titoli\n",
    "\n",
    "In questa esercitazione consideriamo l'indice _Standard & Poor 500_ (S&P 500), che ha per componenti [circa 500 grandi aziende degli USA](https://en.wikipedia.org/wiki/List_of_S%26P_500_companies), incluse ad es. Alphabet (Google), Facebook, Apple, ...\n",
    "\n",
    "L'obiettivo dell'esercitazione è generare modelli in grado di prevedere quanto più accuratamente possibile l'andamento dell'indice S&P 500, in modo tale da massimizzare il guadagno ottenuto investendo in un fondo che si basi su tale indice"
   ]
  },
  {
   "cell_type": "markdown",
   "metadata": {
    "slideshow": {
     "slide_type": "slide"
    }
   },
   "source": [
    "## Estrazione Dati\n",
    "\n",
    "I dati storici sull'andamento di S&P 500 e altri indici e titoli di borsa sono disponibili su diversi siti specializzati, ad es. [Yahoo! Finance](https://finance.yahoo.com/)\n",
    "\n",
    "Il file `SP500-2001-2005.csv` contiene l'andamento di S&P 500 dall'inizio del 2001 alla fine del 2005\n",
    "\n",
    "Eseguire la seguente cella per scaricare il file nel caso non sia già presente nella directory corrente"
   ]
  },
  {
   "cell_type": "code",
   "execution_count": 2,
   "metadata": {},
   "outputs": [],
   "source": [
    "import os\n",
    "from urllib.request import urlretrieve\n",
    "if not os.path.exists(\"SP500-2001-2005.csv\"):\n",
    "    urlretrieve(\"https://raw.githubusercontent.com/datascienceunibo/dialab2019/master/bozza_Predizione_Borsa/SP500-2001-2005.csv\", \"SP500-2001-2005.csv\")"
   ]
  },
  {
   "cell_type": "markdown",
   "metadata": {},
   "source": [
    "Per ottenere questo file da Yahoo! Finance abbiamo cercato il titolo \"S&P 500\" (simbolo GSPC), selezionato la sezione \"Historical Data\", filtrato sul periodo da \"1/1/2001\" a \"12/31/2005\" e cliccato su \"Download Data\" per scaricare il CSV"
   ]
  },
  {
   "cell_type": "markdown",
   "metadata": {
    "slideshow": {
     "slide_type": "slide"
    }
   },
   "source": [
    "Carichiamo ora il file in forma di DataFrame pandas\n",
    "- con `parse_dates=[\"Date\"]` indichiamo a pandas di interpretare i valori nella colonna `Date` come date piuttosto che come stringhe generiche, pandas riconosce alcuni formati tra cui `YYYY-MM-DD`"
   ]
  },
  {
   "cell_type": "code",
   "execution_count": 1,
   "metadata": {},
   "outputs": [],
   "source": [
    "%matplotlib inline\n",
    "import numpy as np\n",
    "import pandas as pd\n",
    "import matplotlib.pyplot as plt"
   ]
  },
  {
   "cell_type": "code",
   "execution_count": 4,
   "metadata": {},
   "outputs": [],
   "source": [
    "sp500 = pd.read_csv(\"SP500-2001-2005.csv\", parse_dates=[\"Date\"])"
   ]
  },
  {
   "cell_type": "markdown",
   "metadata": {
    "slideshow": {
     "slide_type": "slide"
    }
   },
   "source": [
    "## Interpretazione dei Dati\n",
    "\n",
    "Visualizziamo alcune righe dei dati per vederne la struttura"
   ]
  },
  {
   "cell_type": "code",
   "execution_count": 5,
   "metadata": {},
   "outputs": [
    {
     "data": {
      "text/html": [
       "<div>\n",
       "<style scoped>\n",
       "    .dataframe tbody tr th:only-of-type {\n",
       "        vertical-align: middle;\n",
       "    }\n",
       "\n",
       "    .dataframe tbody tr th {\n",
       "        vertical-align: top;\n",
       "    }\n",
       "\n",
       "    .dataframe thead th {\n",
       "        text-align: right;\n",
       "    }\n",
       "</style>\n",
       "<table border=\"1\" class=\"dataframe\">\n",
       "  <thead>\n",
       "    <tr style=\"text-align: right;\">\n",
       "      <th></th>\n",
       "      <th>Date</th>\n",
       "      <th>Open</th>\n",
       "      <th>High</th>\n",
       "      <th>Low</th>\n",
       "      <th>Close</th>\n",
       "      <th>Adj Close</th>\n",
       "      <th>Volume</th>\n",
       "    </tr>\n",
       "  </thead>\n",
       "  <tbody>\n",
       "    <tr>\n",
       "      <th>0</th>\n",
       "      <td>2001-01-02</td>\n",
       "      <td>1320.280029</td>\n",
       "      <td>1320.280029</td>\n",
       "      <td>1276.050049</td>\n",
       "      <td>1283.270020</td>\n",
       "      <td>1283.270020</td>\n",
       "      <td>1129400000</td>\n",
       "    </tr>\n",
       "    <tr>\n",
       "      <th>1</th>\n",
       "      <td>2001-01-03</td>\n",
       "      <td>1283.270020</td>\n",
       "      <td>1347.760010</td>\n",
       "      <td>1274.619995</td>\n",
       "      <td>1347.560059</td>\n",
       "      <td>1347.560059</td>\n",
       "      <td>1880700000</td>\n",
       "    </tr>\n",
       "    <tr>\n",
       "      <th>2</th>\n",
       "      <td>2001-01-04</td>\n",
       "      <td>1347.560059</td>\n",
       "      <td>1350.239990</td>\n",
       "      <td>1329.140015</td>\n",
       "      <td>1333.339966</td>\n",
       "      <td>1333.339966</td>\n",
       "      <td>2131000000</td>\n",
       "    </tr>\n",
       "    <tr>\n",
       "      <th>3</th>\n",
       "      <td>2001-01-05</td>\n",
       "      <td>1333.339966</td>\n",
       "      <td>1334.770020</td>\n",
       "      <td>1294.949951</td>\n",
       "      <td>1298.349976</td>\n",
       "      <td>1298.349976</td>\n",
       "      <td>1430800000</td>\n",
       "    </tr>\n",
       "    <tr>\n",
       "      <th>4</th>\n",
       "      <td>2001-01-08</td>\n",
       "      <td>1298.349976</td>\n",
       "      <td>1298.349976</td>\n",
       "      <td>1276.290039</td>\n",
       "      <td>1295.859985</td>\n",
       "      <td>1295.859985</td>\n",
       "      <td>1115500000</td>\n",
       "    </tr>\n",
       "  </tbody>\n",
       "</table>\n",
       "</div>"
      ],
      "text/plain": [
       "        Date         Open         High          Low        Close    Adj Close  \\\n",
       "0 2001-01-02  1320.280029  1320.280029  1276.050049  1283.270020  1283.270020   \n",
       "1 2001-01-03  1283.270020  1347.760010  1274.619995  1347.560059  1347.560059   \n",
       "2 2001-01-04  1347.560059  1350.239990  1329.140015  1333.339966  1333.339966   \n",
       "3 2001-01-05  1333.339966  1334.770020  1294.949951  1298.349976  1298.349976   \n",
       "4 2001-01-08  1298.349976  1298.349976  1276.290039  1295.859985  1295.859985   \n",
       "\n",
       "       Volume  \n",
       "0  1129400000  \n",
       "1  1880700000  \n",
       "2  2131000000  \n",
       "3  1430800000  \n",
       "4  1115500000  "
      ]
     },
     "execution_count": 5,
     "metadata": {},
     "output_type": "execute_result"
    }
   ],
   "source": [
    "sp500.head()"
   ]
  },
  {
   "cell_type": "markdown",
   "metadata": {
    "slideshow": {
     "slide_type": "slide"
    }
   },
   "source": [
    "La colonna `Date` indica la data a cui si riferisce ciascuna riga, per cui è opportuno impostarla come indice"
   ]
  },
  {
   "cell_type": "code",
   "execution_count": 6,
   "metadata": {},
   "outputs": [],
   "source": [
    "sp500.set_index(\"Date\", inplace=True)"
   ]
  },
  {
   "cell_type": "markdown",
   "metadata": {},
   "source": [
    "I significati delle altre colonne sono invece i seguenti:\n",
    "- `Open` indica il valore del titolo all'apertura del mercato (tutti i valori sono in USD)\n",
    "- `Close` indica il valore alla chiusura del mercato\n",
    "- `High` e `Low` indicano il valore massimo e minimo raggiunti dal titolo nell'arco della giornata\n",
    "- `Adj Close` è una versione corretta del prezzo di chiusura, che in questo dataset è sempre uguale a `Close`\n",
    "- `Volume` indica il numero totale di titoli scambiati durante quel giorno "
   ]
  },
  {
   "cell_type": "markdown",
   "metadata": {
    "slideshow": {
     "slide_type": "slide"
    }
   },
   "source": [
    "## Grafico dell'Andamento\n",
    "\n",
    "Con pandas possiamo facilmente visualizzare l'andamento nel tempo dei valori della tabella: prendiamo ad es. come riferimento il valore di apertura (`Open`)"
   ]
  },
  {
   "cell_type": "code",
   "execution_count": 13,
   "metadata": {},
   "outputs": [
    {
     "data": {
      "text/plain": [
       "<matplotlib.axes._subplots.AxesSubplot at 0x7fc43748c4e0>"
      ]
     },
     "execution_count": 13,
     "metadata": {},
     "output_type": "execute_result"
    },
    {
     "data": {
      "image/png": "[encoded data removed]",
      "text/plain": [
       "<Figure size 864x288 with 1 Axes>"
      ]
     },
     "metadata": {
      "needs_background": "light"
     },
     "output_type": "display_data"
    }
   ],
   "source": [
    "sp500[\"Open\"].plot(figsize=(12, 4))"
   ]
  },
  {
   "cell_type": "markdown",
   "metadata": {
    "slideshow": {
     "slide_type": "slide"
    }
   },
   "source": [
    "## Obiettivo: Prevedere Salita o Discesa del Valore\n",
    "\n",
    "Dai valori $O$ di apertura (`Open`) e $C$ di chiusura (`Close`) di ogni giorno possiamo definire la variazione percentuale del valore come\n",
    "\n",
    "$$ 100\\cdot\\frac{C-O}{O} $$\n",
    "\n",
    "Aggiungiamo una colonna con questo valore al dataset"
   ]
  },
  {
   "cell_type": "code",
   "execution_count": 7,
   "metadata": {},
   "outputs": [],
   "source": [
    "sp500[\"PercReturn\"] = 100 * (sp500[\"Close\"] - sp500[\"Open\"]) / sp500[\"Open\"]"
   ]
  },
  {
   "cell_type": "markdown",
   "metadata": {
    "slideshow": {
     "slide_type": "slide"
    }
   },
   "source": [
    "Visioniamo il dataset dopo le modifiche applicate"
   ]
  },
  {
   "cell_type": "code",
   "execution_count": 8,
   "metadata": {},
   "outputs": [
    {
     "data": {
      "text/html": [
       "<div>\n",
       "<style scoped>\n",
       "    .dataframe tbody tr th:only-of-type {\n",
       "        vertical-align: middle;\n",
       "    }\n",
       "\n",
       "    .dataframe tbody tr th {\n",
       "        vertical-align: top;\n",
       "    }\n",
       "\n",
       "    .dataframe thead th {\n",
       "        text-align: right;\n",
       "    }\n",
       "</style>\n",
       "<table border=\"1\" class=\"dataframe\">\n",
       "  <thead>\n",
       "    <tr style=\"text-align: right;\">\n",
       "      <th></th>\n",
       "      <th>Open</th>\n",
       "      <th>High</th>\n",
       "      <th>Low</th>\n",
       "      <th>Close</th>\n",
       "      <th>Adj Close</th>\n",
       "      <th>Volume</th>\n",
       "      <th>PercReturn</th>\n",
       "    </tr>\n",
       "    <tr>\n",
       "      <th>Date</th>\n",
       "      <th></th>\n",
       "      <th></th>\n",
       "      <th></th>\n",
       "      <th></th>\n",
       "      <th></th>\n",
       "      <th></th>\n",
       "      <th></th>\n",
       "    </tr>\n",
       "  </thead>\n",
       "  <tbody>\n",
       "    <tr>\n",
       "      <th>2001-01-02</th>\n",
       "      <td>1320.280029</td>\n",
       "      <td>1320.280029</td>\n",
       "      <td>1276.050049</td>\n",
       "      <td>1283.270020</td>\n",
       "      <td>1283.270020</td>\n",
       "      <td>1129400000</td>\n",
       "      <td>-2.803194</td>\n",
       "    </tr>\n",
       "    <tr>\n",
       "      <th>2001-01-03</th>\n",
       "      <td>1283.270020</td>\n",
       "      <td>1347.760010</td>\n",
       "      <td>1274.619995</td>\n",
       "      <td>1347.560059</td>\n",
       "      <td>1347.560059</td>\n",
       "      <td>1880700000</td>\n",
       "      <td>5.009861</td>\n",
       "    </tr>\n",
       "    <tr>\n",
       "      <th>2001-01-04</th>\n",
       "      <td>1347.560059</td>\n",
       "      <td>1350.239990</td>\n",
       "      <td>1329.140015</td>\n",
       "      <td>1333.339966</td>\n",
       "      <td>1333.339966</td>\n",
       "      <td>2131000000</td>\n",
       "      <td>-1.055247</td>\n",
       "    </tr>\n",
       "    <tr>\n",
       "      <th>2001-01-05</th>\n",
       "      <td>1333.339966</td>\n",
       "      <td>1334.770020</td>\n",
       "      <td>1294.949951</td>\n",
       "      <td>1298.349976</td>\n",
       "      <td>1298.349976</td>\n",
       "      <td>1430800000</td>\n",
       "      <td>-2.624236</td>\n",
       "    </tr>\n",
       "    <tr>\n",
       "      <th>2001-01-08</th>\n",
       "      <td>1298.349976</td>\n",
       "      <td>1298.349976</td>\n",
       "      <td>1276.290039</td>\n",
       "      <td>1295.859985</td>\n",
       "      <td>1295.859985</td>\n",
       "      <td>1115500000</td>\n",
       "      <td>-0.191781</td>\n",
       "    </tr>\n",
       "  </tbody>\n",
       "</table>\n",
       "</div>"
      ],
      "text/plain": [
       "                   Open         High          Low        Close    Adj Close  \\\n",
       "Date                                                                          \n",
       "2001-01-02  1320.280029  1320.280029  1276.050049  1283.270020  1283.270020   \n",
       "2001-01-03  1283.270020  1347.760010  1274.619995  1347.560059  1347.560059   \n",
       "2001-01-04  1347.560059  1350.239990  1329.140015  1333.339966  1333.339966   \n",
       "2001-01-05  1333.339966  1334.770020  1294.949951  1298.349976  1298.349976   \n",
       "2001-01-08  1298.349976  1298.349976  1276.290039  1295.859985  1295.859985   \n",
       "\n",
       "                Volume  PercReturn  \n",
       "Date                                \n",
       "2001-01-02  1129400000   -2.803194  \n",
       "2001-01-03  1880700000    5.009861  \n",
       "2001-01-04  2131000000   -1.055247  \n",
       "2001-01-05  1430800000   -2.624236  \n",
       "2001-01-08  1115500000   -0.191781  "
      ]
     },
     "execution_count": 8,
     "metadata": {},
     "output_type": "execute_result"
    }
   ],
   "source": [
    "sp500.head()"
   ]
  },
  {
   "cell_type": "markdown",
   "metadata": {},
   "source": [
    "Il nostro obiettivo è, all'inizio di ogni giorno, prevedere se il relativo `PercReturn` sarà positivo ($C>O$, valore in salita) o negativo ($C<O$, valore in discesa)"
   ]
  },
  {
   "cell_type": "markdown",
   "metadata": {
    "slideshow": {
     "slide_type": "slide"
    }
   },
   "source": [
    "## Estrazione delle Feature Predittive\n",
    "\n",
    "Per effettuare la predizione, ci servono degli indicatori il cui valore sia noto all'inizio di ogni giornata\n",
    "\n",
    "A questo scopo possiamo usare i valori della tabella relativi alle date antecedenti: al giorno $d$ consideriamo l'andamento del titolo ai giorni $x-1$, $x-2$, ..."
   ]
  },
  {
   "cell_type": "markdown",
   "metadata": {
    "slideshow": {
     "slide_type": "slide"
    }
   },
   "source": [
    "### Il metodo `shift`\n",
    "\n",
    "Il metodo `shift` crea una copia di una serie con i valori slittati in avanti di un numero di righe indicato, lasciando fisse le etichette (in questo caso le date)\n",
    "\n",
    "Creiamo ad esempio un DataFrame con la colonna `Open` della tabella sopra e la sua versione `OpenLag2` ritardata di due giorni"
   ]
  },
  {
   "cell_type": "code",
   "execution_count": 15,
   "metadata": {},
   "outputs": [
    {
     "data": {
      "text/html": [
       "<div>\n",
       "<style scoped>\n",
       "    .dataframe tbody tr th:only-of-type {\n",
       "        vertical-align: middle;\n",
       "    }\n",
       "\n",
       "    .dataframe tbody tr th {\n",
       "        vertical-align: top;\n",
       "    }\n",
       "\n",
       "    .dataframe thead th {\n",
       "        text-align: right;\n",
       "    }\n",
       "</style>\n",
       "<table border=\"1\" class=\"dataframe\">\n",
       "  <thead>\n",
       "    <tr style=\"text-align: right;\">\n",
       "      <th></th>\n",
       "      <th>Open</th>\n",
       "      <th>OpenLag2</th>\n",
       "    </tr>\n",
       "    <tr>\n",
       "      <th>Date</th>\n",
       "      <th></th>\n",
       "      <th></th>\n",
       "    </tr>\n",
       "  </thead>\n",
       "  <tbody>\n",
       "    <tr>\n",
       "      <th>2001-01-02</th>\n",
       "      <td>1320.280029</td>\n",
       "      <td>NaN</td>\n",
       "    </tr>\n",
       "    <tr>\n",
       "      <th>2001-01-03</th>\n",
       "      <td>1283.270020</td>\n",
       "      <td>NaN</td>\n",
       "    </tr>\n",
       "    <tr>\n",
       "      <th>2001-01-04</th>\n",
       "      <td>1347.560059</td>\n",
       "      <td>1320.280029</td>\n",
       "    </tr>\n",
       "    <tr>\n",
       "      <th>2001-01-05</th>\n",
       "      <td>1333.339966</td>\n",
       "      <td>1283.270020</td>\n",
       "    </tr>\n",
       "    <tr>\n",
       "      <th>2001-01-08</th>\n",
       "      <td>1298.349976</td>\n",
       "      <td>1347.560059</td>\n",
       "    </tr>\n",
       "  </tbody>\n",
       "</table>\n",
       "</div>"
      ],
      "text/plain": [
       "                   Open     OpenLag2\n",
       "Date                                \n",
       "2001-01-02  1320.280029          NaN\n",
       "2001-01-03  1283.270020          NaN\n",
       "2001-01-04  1347.560059  1320.280029\n",
       "2001-01-05  1333.339966  1283.270020\n",
       "2001-01-08  1298.349976  1347.560059"
      ]
     },
     "execution_count": 15,
     "metadata": {},
     "output_type": "execute_result"
    }
   ],
   "source": [
    "pd.DataFrame({\n",
    "    \"Open\":     sp500[\"Open\"],\n",
    "    \"OpenLag2\": sp500[\"Open\"].shift(2)\n",
    "}).head(5)"
   ]
  },
  {
   "cell_type": "markdown",
   "metadata": {},
   "source": [
    "La seconda colonna ha gli stessi valori della prima, ma slittati in avanti di due giorni; nelle prime due righe ci sono valori mancanti"
   ]
  },
  {
   "cell_type": "markdown",
   "metadata": {
    "slideshow": {
     "slide_type": "slide"
    }
   },
   "source": [
    "### Estrazione variabili predittive\n",
    "\n",
    "Usiamo il metodo `shift` per creare 5 serie `Lag1`, ..., `Lag5` con i valori della colonna `PercReturn` ritardati da 1 a 5 giorni"
   ]
  },
  {
   "cell_type": "code",
   "execution_count": 20,
   "metadata": {},
   "outputs": [],
   "source": [
    "lagged_cols = {\"Lag{}\".format(days): sp500[\"PercReturn\"].shift(days)\n",
    "               for days in range(1, 6)}"
   ]
  },
  {
   "cell_type": "markdown",
   "metadata": {},
   "source": [
    "Usiamo queste serie per creare un nuovo DataFrame `X` dove inserire tutte le variabili per la predizione"
   ]
  },
  {
   "cell_type": "code",
   "execution_count": 21,
   "metadata": {},
   "outputs": [],
   "source": [
    "X = pd.DataFrame(lagged_cols)"
   ]
  },
  {
   "cell_type": "markdown",
   "metadata": {},
   "source": [
    "Aggiungiamo a `X` anche una colonna `VolumeLag1` col volume del giorno precedente\n",
    "- dividiamo i valori per $10^9$ in modo da avere una scala simile alle altre colonne"
   ]
  },
  {
   "cell_type": "code",
   "execution_count": 22,
   "metadata": {},
   "outputs": [],
   "source": [
    "X[\"VolumeLag1\"] = sp500[\"Volume\"].shift(1) / 1e9"
   ]
  },
  {
   "cell_type": "markdown",
   "metadata": {
    "slideshow": {
     "slide_type": "slide"
    }
   },
   "source": [
    "Abbiamo ottenuto così il seguente DataFrame"
   ]
  },
  {
   "cell_type": "code",
   "execution_count": 23,
   "metadata": {},
   "outputs": [
    {
     "data": {
      "text/html": [
       "<div>\n",
       "<style scoped>\n",
       "    .dataframe tbody tr th:only-of-type {\n",
       "        vertical-align: middle;\n",
       "    }\n",
       "\n",
       "    .dataframe tbody tr th {\n",
       "        vertical-align: top;\n",
       "    }\n",
       "\n",
       "    .dataframe thead th {\n",
       "        text-align: right;\n",
       "    }\n",
       "</style>\n",
       "<table border=\"1\" class=\"dataframe\">\n",
       "  <thead>\n",
       "    <tr style=\"text-align: right;\">\n",
       "      <th></th>\n",
       "      <th>Lag1</th>\n",
       "      <th>Lag2</th>\n",
       "      <th>Lag3</th>\n",
       "      <th>Lag4</th>\n",
       "      <th>Lag5</th>\n",
       "      <th>VolumeLag1</th>\n",
       "    </tr>\n",
       "    <tr>\n",
       "      <th>Date</th>\n",
       "      <th></th>\n",
       "      <th></th>\n",
       "      <th></th>\n",
       "      <th></th>\n",
       "      <th></th>\n",
       "      <th></th>\n",
       "    </tr>\n",
       "  </thead>\n",
       "  <tbody>\n",
       "    <tr>\n",
       "      <th>2001-01-02</th>\n",
       "      <td>NaN</td>\n",
       "      <td>NaN</td>\n",
       "      <td>NaN</td>\n",
       "      <td>NaN</td>\n",
       "      <td>NaN</td>\n",
       "      <td>NaN</td>\n",
       "    </tr>\n",
       "    <tr>\n",
       "      <th>2001-01-03</th>\n",
       "      <td>-2.803194</td>\n",
       "      <td>NaN</td>\n",
       "      <td>NaN</td>\n",
       "      <td>NaN</td>\n",
       "      <td>NaN</td>\n",
       "      <td>1.1294</td>\n",
       "    </tr>\n",
       "    <tr>\n",
       "      <th>2001-01-04</th>\n",
       "      <td>5.009861</td>\n",
       "      <td>-2.803194</td>\n",
       "      <td>NaN</td>\n",
       "      <td>NaN</td>\n",
       "      <td>NaN</td>\n",
       "      <td>1.8807</td>\n",
       "    </tr>\n",
       "    <tr>\n",
       "      <th>2001-01-05</th>\n",
       "      <td>-1.055247</td>\n",
       "      <td>5.009861</td>\n",
       "      <td>-2.803194</td>\n",
       "      <td>NaN</td>\n",
       "      <td>NaN</td>\n",
       "      <td>2.1310</td>\n",
       "    </tr>\n",
       "    <tr>\n",
       "      <th>2001-01-08</th>\n",
       "      <td>-2.624236</td>\n",
       "      <td>-1.055247</td>\n",
       "      <td>5.009861</td>\n",
       "      <td>-2.803194</td>\n",
       "      <td>NaN</td>\n",
       "      <td>1.4308</td>\n",
       "    </tr>\n",
       "    <tr>\n",
       "      <th>2001-01-09</th>\n",
       "      <td>-0.191781</td>\n",
       "      <td>-2.624236</td>\n",
       "      <td>-1.055247</td>\n",
       "      <td>5.009861</td>\n",
       "      <td>-2.803194</td>\n",
       "      <td>1.1155</td>\n",
       "    </tr>\n",
       "    <tr>\n",
       "      <th>2001-01-10</th>\n",
       "      <td>0.381219</td>\n",
       "      <td>-0.191781</td>\n",
       "      <td>-2.624236</td>\n",
       "      <td>-1.055247</td>\n",
       "      <td>5.009861</td>\n",
       "      <td>1.1913</td>\n",
       "    </tr>\n",
       "  </tbody>\n",
       "</table>\n",
       "</div>"
      ],
      "text/plain": [
       "                Lag1      Lag2      Lag3      Lag4      Lag5  VolumeLag1\n",
       "Date                                                                    \n",
       "2001-01-02       NaN       NaN       NaN       NaN       NaN         NaN\n",
       "2001-01-03 -2.803194       NaN       NaN       NaN       NaN      1.1294\n",
       "2001-01-04  5.009861 -2.803194       NaN       NaN       NaN      1.8807\n",
       "2001-01-05 -1.055247  5.009861 -2.803194       NaN       NaN      2.1310\n",
       "2001-01-08 -2.624236 -1.055247  5.009861 -2.803194       NaN      1.4308\n",
       "2001-01-09 -0.191781 -2.624236 -1.055247  5.009861 -2.803194      1.1155\n",
       "2001-01-10  0.381219 -0.191781 -2.624236 -1.055247  5.009861      1.1913"
      ]
     },
     "execution_count": 23,
     "metadata": {},
     "output_type": "execute_result"
    }
   ],
   "source": [
    "X.head(7)"
   ]
  },
  {
   "cell_type": "markdown",
   "metadata": {
    "slideshow": {
     "slide_type": "slide"
    }
   },
   "source": [
    "Nelle prime righe del dataset rimangono valori mancanti (_NaN_, Not a Number): usiamo il metodo `dropna` per rimuovere le righe in cui sono presenti\n",
    "- `inplace=True` indica di modificare l'oggetto `X` piuttosto che crearne uno nuovo"
   ]
  },
  {
   "cell_type": "code",
   "execution_count": 24,
   "metadata": {},
   "outputs": [],
   "source": [
    "X.dropna(inplace=True)"
   ]
  },
  {
   "cell_type": "code",
   "execution_count": 25,
   "metadata": {},
   "outputs": [
    {
     "data": {
      "text/html": [
       "<div>\n",
       "<style scoped>\n",
       "    .dataframe tbody tr th:only-of-type {\n",
       "        vertical-align: middle;\n",
       "    }\n",
       "\n",
       "    .dataframe tbody tr th {\n",
       "        vertical-align: top;\n",
       "    }\n",
       "\n",
       "    .dataframe thead th {\n",
       "        text-align: right;\n",
       "    }\n",
       "</style>\n",
       "<table border=\"1\" class=\"dataframe\">\n",
       "  <thead>\n",
       "    <tr style=\"text-align: right;\">\n",
       "      <th></th>\n",
       "      <th>Lag1</th>\n",
       "      <th>Lag2</th>\n",
       "      <th>Lag3</th>\n",
       "      <th>Lag4</th>\n",
       "      <th>Lag5</th>\n",
       "      <th>VolumeLag1</th>\n",
       "    </tr>\n",
       "    <tr>\n",
       "      <th>Date</th>\n",
       "      <th></th>\n",
       "      <th></th>\n",
       "      <th></th>\n",
       "      <th></th>\n",
       "      <th></th>\n",
       "      <th></th>\n",
       "    </tr>\n",
       "  </thead>\n",
       "  <tbody>\n",
       "    <tr>\n",
       "      <th>2001-01-09</th>\n",
       "      <td>-0.191781</td>\n",
       "      <td>-2.624236</td>\n",
       "      <td>-1.055247</td>\n",
       "      <td>5.009861</td>\n",
       "      <td>-2.803194</td>\n",
       "      <td>1.1155</td>\n",
       "    </tr>\n",
       "    <tr>\n",
       "      <th>2001-01-10</th>\n",
       "      <td>0.381219</td>\n",
       "      <td>-0.191781</td>\n",
       "      <td>-2.624236</td>\n",
       "      <td>-1.055247</td>\n",
       "      <td>5.009861</td>\n",
       "      <td>1.1913</td>\n",
       "    </tr>\n",
       "    <tr>\n",
       "      <th>2001-01-11</th>\n",
       "      <td>0.958639</td>\n",
       "      <td>0.381219</td>\n",
       "      <td>-0.191781</td>\n",
       "      <td>-2.624236</td>\n",
       "      <td>-1.055247</td>\n",
       "      <td>1.2965</td>\n",
       "    </tr>\n",
       "    <tr>\n",
       "      <th>2001-01-12</th>\n",
       "      <td>1.031770</td>\n",
       "      <td>0.958639</td>\n",
       "      <td>0.381219</td>\n",
       "      <td>-0.191781</td>\n",
       "      <td>-2.624236</td>\n",
       "      <td>1.4112</td>\n",
       "    </tr>\n",
       "    <tr>\n",
       "      <th>2001-01-16</th>\n",
       "      <td>-0.623287</td>\n",
       "      <td>1.031770</td>\n",
       "      <td>0.958639</td>\n",
       "      <td>0.381219</td>\n",
       "      <td>-0.191781</td>\n",
       "      <td>1.2760</td>\n",
       "    </tr>\n",
       "  </tbody>\n",
       "</table>\n",
       "</div>"
      ],
      "text/plain": [
       "                Lag1      Lag2      Lag3      Lag4      Lag5  VolumeLag1\n",
       "Date                                                                    \n",
       "2001-01-09 -0.191781 -2.624236 -1.055247  5.009861 -2.803194      1.1155\n",
       "2001-01-10  0.381219 -0.191781 -2.624236 -1.055247  5.009861      1.1913\n",
       "2001-01-11  0.958639  0.381219 -0.191781 -2.624236 -1.055247      1.2965\n",
       "2001-01-12  1.031770  0.958639  0.381219 -0.191781 -2.624236      1.4112\n",
       "2001-01-16 -0.623287  1.031770  0.958639  0.381219 -0.191781      1.2760"
      ]
     },
     "execution_count": 25,
     "metadata": {},
     "output_type": "execute_result"
    }
   ],
   "source": [
    "X.head()"
   ]
  },
  {
   "cell_type": "markdown",
   "metadata": {},
   "source": [
    "Questo costituisce il set di variabili che utilizzeremo per predire la variazione giornaliera"
   ]
  },
  {
   "cell_type": "markdown",
   "metadata": {
    "slideshow": {
     "slide_type": "slide"
    }
   },
   "source": [
    "### Estrazione valori target\n",
    "\n",
    "Ai valori delle variabili predittive per ogni giornata dobbiamo fare corrispondere il valore noto a fine giornata che vogliamo predire, ovvero `PercReturn`\n",
    "\n",
    "Chiamiamo `y` la serie di valori che dobbiamo predire: usiamo `reindex_like` per selezionare i valori di `PercReturn` corrispondenti alle sole righe di `X` rimaste dopo la rimozione dei valori mancanti"
   ]
  },
  {
   "cell_type": "code",
   "execution_count": 26,
   "metadata": {},
   "outputs": [],
   "source": [
    "y = sp500[\"PercReturn\"].reindex_like(X)"
   ]
  },
  {
   "cell_type": "code",
   "execution_count": 99,
   "metadata": {},
   "outputs": [
    {
     "data": {
      "text/plain": [
       "Date\n",
       "2001-01-09    0.381219\n",
       "2001-01-10    0.958639\n",
       "2001-01-11    1.031770\n",
       "Name: PercReturn, dtype: float64"
      ]
     },
     "execution_count": 99,
     "metadata": {},
     "output_type": "execute_result"
    }
   ],
   "source": [
    "y.head(3)"
   ]
  },
  {
   "cell_type": "markdown",
   "metadata": {
    "slideshow": {
     "slide_type": "slide"
    }
   },
   "source": [
    "## Divisione in Training e Validation Set\n",
    "\n",
    "Dividiamo i dati ottenuti in due insiemi\n",
    "- un _training set_ per addestrare i modelli di predizione\n",
    "- un _validation set_ per valutare la loro accuratezza nella predizione, in modo da selezionare quello migliore\n",
    "\n",
    "Usiamo i dati dal 2001 al 2004 (80% circa) per l'addestramento e quelli del 2005 per la validazione: creiamo un array binario `is_train` che indichi quali righe andranno nel training set"
   ]
  },
  {
   "cell_type": "code",
   "execution_count": 28,
   "metadata": {},
   "outputs": [],
   "source": [
    "is_train = X.index.year < 2005"
   ]
  },
  {
   "cell_type": "markdown",
   "metadata": {},
   "source": [
    "Creiamo un altro array `is_val` che indichi invece le righe del validation set, semplicemente negando `is_train`"
   ]
  },
  {
   "cell_type": "code",
   "execution_count": 33,
   "metadata": {},
   "outputs": [],
   "source": [
    "is_val = ~is_train"
   ]
  },
  {
   "cell_type": "markdown",
   "metadata": {
    "slideshow": {
     "slide_type": "slide"
    }
   },
   "source": [
    "Contiamo il numero di elementi nei due set usando `sum` per contare i valori `True` (contati come 1) negli array"
   ]
  },
  {
   "cell_type": "code",
   "execution_count": 36,
   "metadata": {},
   "outputs": [
    {
     "name": "stdout",
     "output_type": "stream",
     "text": [
      "999 esempi di training\n",
      "252 esempi di validazione\n"
     ]
    }
   ],
   "source": [
    "print(\"{} esempi di training\".format(is_train.sum()))\n",
    "print(\"{} esempi di validazione\".format(is_val.sum()))"
   ]
  },
  {
   "cell_type": "markdown",
   "metadata": {},
   "source": [
    "Creiamo delle selezioni del DataFrame `X` e della serie `y` con i dati dei set di training e validation"
   ]
  },
  {
   "cell_type": "code",
   "execution_count": 35,
   "metadata": {},
   "outputs": [],
   "source": [
    "X_train = X[is_train]\n",
    "y_train = y[is_train]\n",
    "X_val = X[is_val]\n",
    "y_val = y[is_val]"
   ]
  },
  {
   "cell_type": "markdown",
   "metadata": {
    "slideshow": {
     "slide_type": "slide"
    }
   },
   "source": [
    "## Regressione Lineare\n",
    "\n",
    "Testiamo dapprima un semplice modello di regressione lineare per prevedere la variazione percentuale odierna `y` dagli indicatori `X`\n",
    "\n",
    "Creiamo un modello con i parametri di default"
   ]
  },
  {
   "cell_type": "code",
   "execution_count": 37,
   "metadata": {},
   "outputs": [],
   "source": [
    "from sklearn.linear_model import LinearRegression\n",
    "model = LinearRegression()"
   ]
  },
  {
   "cell_type": "markdown",
   "metadata": {},
   "source": [
    "Addestriamo il modello con i dati di addestramento"
   ]
  },
  {
   "cell_type": "code",
   "execution_count": 38,
   "metadata": {},
   "outputs": [
    {
     "data": {
      "text/plain": [
       "LinearRegression(copy_X=True, fit_intercept=True, n_jobs=None,\n",
       "         normalize=False)"
      ]
     },
     "execution_count": 38,
     "metadata": {},
     "output_type": "execute_result"
    }
   ],
   "source": [
    "model.fit(X_train, y_train)"
   ]
  },
  {
   "cell_type": "markdown",
   "metadata": {
    "slideshow": {
     "slide_type": "slide"
    }
   },
   "source": [
    "Otteniamo dal modello predizioni relative al validation set"
   ]
  },
  {
   "cell_type": "code",
   "execution_count": 39,
   "metadata": {},
   "outputs": [],
   "source": [
    "y_val_pred = model.predict(X_val)"
   ]
  },
  {
   "cell_type": "markdown",
   "metadata": {},
   "source": [
    "Il valore ottenuto è un array senza etichette, lo trasformo in una serie copiando le etichette dei valori in input `X_val`"
   ]
  },
  {
   "cell_type": "code",
   "execution_count": 41,
   "metadata": {},
   "outputs": [],
   "source": [
    "y_val_pred = pd.Series(y_val_pred, index=X_val.index)"
   ]
  },
  {
   "cell_type": "markdown",
   "metadata": {
    "slideshow": {
     "slide_type": "slide"
    }
   },
   "source": [
    "## Confronto tra Variazioni Reali e Predette\n",
    "\n",
    "Abbiamo quindi una serie `y_val` con le variazioni giornaliere reali del titolo nel periodo di validazione e una serie `y_val_pred` con le variazioni predette dal modello\n",
    "\n",
    "Possiamo creare un DataFrame per visualizzarle in forma tabulare..."
   ]
  },
  {
   "cell_type": "code",
   "execution_count": 42,
   "metadata": {},
   "outputs": [
    {
     "data": {
      "text/html": [
       "<div>\n",
       "<style scoped>\n",
       "    .dataframe tbody tr th:only-of-type {\n",
       "        vertical-align: middle;\n",
       "    }\n",
       "\n",
       "    .dataframe tbody tr th {\n",
       "        vertical-align: top;\n",
       "    }\n",
       "\n",
       "    .dataframe thead th {\n",
       "        text-align: right;\n",
       "    }\n",
       "</style>\n",
       "<table border=\"1\" class=\"dataframe\">\n",
       "  <thead>\n",
       "    <tr style=\"text-align: right;\">\n",
       "      <th></th>\n",
       "      <th>variazione reale</th>\n",
       "      <th>predizione</th>\n",
       "    </tr>\n",
       "    <tr>\n",
       "      <th>Date</th>\n",
       "      <th></th>\n",
       "      <th></th>\n",
       "    </tr>\n",
       "  </thead>\n",
       "  <tbody>\n",
       "    <tr>\n",
       "      <th>2005-01-03</th>\n",
       "      <td>-0.811942</td>\n",
       "      <td>0.008227</td>\n",
       "    </tr>\n",
       "    <tr>\n",
       "      <th>2005-01-04</th>\n",
       "      <td>-1.167136</td>\n",
       "      <td>-0.007561</td>\n",
       "    </tr>\n",
       "    <tr>\n",
       "      <th>2005-01-05</th>\n",
       "      <td>-0.362784</td>\n",
       "      <td>0.041991</td>\n",
       "    </tr>\n",
       "    <tr>\n",
       "      <th>2005-01-06</th>\n",
       "      <td>0.350586</td>\n",
       "      <td>0.032001</td>\n",
       "    </tr>\n",
       "    <tr>\n",
       "      <th>2005-01-07</th>\n",
       "      <td>-0.143117</td>\n",
       "      <td>0.014254</td>\n",
       "    </tr>\n",
       "  </tbody>\n",
       "</table>\n",
       "</div>"
      ],
      "text/plain": [
       "            variazione reale  predizione\n",
       "Date                                    \n",
       "2005-01-03         -0.811942    0.008227\n",
       "2005-01-04         -1.167136   -0.007561\n",
       "2005-01-05         -0.362784    0.041991\n",
       "2005-01-06          0.350586    0.032001\n",
       "2005-01-07         -0.143117    0.014254"
      ]
     },
     "execution_count": 42,
     "metadata": {},
     "output_type": "execute_result"
    }
   ],
   "source": [
    "pd.DataFrame({\"variazione reale\": y_val, \"predizione\": y_val_pred}).head()"
   ]
  },
  {
   "cell_type": "markdown",
   "metadata": {
    "slideshow": {
     "slide_type": "slide"
    }
   },
   "source": [
    "...oppure rappresentarle in un grafico: creiamo una figura all'interno della quale tracciare entrambe le serie"
   ]
  },
  {
   "cell_type": "code",
   "execution_count": 44,
   "metadata": {},
   "outputs": [
    {
     "data": {
      "text/plain": [
       "<matplotlib.legend.Legend at 0x7fc41e0b3198>"
      ]
     },
     "execution_count": 44,
     "metadata": {},
     "output_type": "execute_result"
    },
    {
     "data": {
      "image/png": "[encoded data removed]",
      "text/plain": [
       "<Figure size 864x288 with 1 Axes>"
      ]
     },
     "metadata": {
      "needs_background": "light"
     },
     "output_type": "display_data"
    }
   ],
   "source": [
    "plt.figure(figsize=(12, 4))\n",
    "y_val.plot()\n",
    "y_val_pred.plot()\n",
    "plt.legend([\"variazione reale\", \"predizione\"])"
   ]
  },
  {
   "cell_type": "markdown",
   "metadata": {},
   "source": [
    "Il grafico evidenzia che il modello predice variazioni molto contenute rispetto a quelle reali"
   ]
  },
  {
   "cell_type": "markdown",
   "metadata": {
    "slideshow": {
     "slide_type": "slide"
    }
   },
   "source": [
    "## Calcolo dell'Accuratezza\n",
    "\n",
    "Per decidere che operazione effettuare tra comprare o vendere titoli, ci è sufficiente conoscere il **segno positivo o negativo** della variazione, che indica se a fine giornata il valore del titolo è maggiore o minore rispetto all'inizio\n",
    "\n",
    "Misuriamo quindi **l'accuratezza** del modello come la percentuale di casi in cui il segno della predizione concorda con quello della variazione reale, indipendentemente dai loro valori esatti"
   ]
  },
  {
   "cell_type": "markdown",
   "metadata": {
    "slideshow": {
     "slide_type": "slide"
    }
   },
   "source": [
    "Dalla serie `y_val` delle variazioni giornaliere deriviamo una serie `s_val` con i segni di tali variazioni, etichettandoli `Up` e `Down`\n",
    "- la funzione `where(X, Y, Z)` restituisce un array con valore `Y` nelle posizioni in cui `X` è `True` e con valore `Z` nelle altre"
   ]
  },
  {
   "cell_type": "code",
   "execution_count": 45,
   "metadata": {},
   "outputs": [],
   "source": [
    "s_val = pd.Series(np.where(y_val >= 0, \"Up\", \"Down\"), index=y_val.index)"
   ]
  },
  {
   "cell_type": "markdown",
   "metadata": {},
   "source": [
    "Possiamo analizzare la distribuzione tra valori `Up` e `Down` con il metodo `value_counts`"
   ]
  },
  {
   "cell_type": "code",
   "execution_count": 48,
   "metadata": {},
   "outputs": [
    {
     "data": {
      "text/plain": [
       "Up      141\n",
       "Down    111\n",
       "dtype: int64"
      ]
     },
     "execution_count": 48,
     "metadata": {},
     "output_type": "execute_result"
    }
   ],
   "source": [
    "s_val.value_counts()"
   ]
  },
  {
   "cell_type": "markdown",
   "metadata": {},
   "source": [
    "Creiamo allo stesso modo una serie `s_val_pred` con i segni predetti giornalmente dal modello"
   ]
  },
  {
   "cell_type": "code",
   "execution_count": 46,
   "metadata": {},
   "outputs": [],
   "source": [
    "s_val_pred = pd.Series(np.where(y_val_pred >= 0, \"Up\", \"Down\"), index=y_val_pred.index)"
   ]
  },
  {
   "cell_type": "markdown",
   "metadata": {
    "slideshow": {
     "slide_type": "slide"
    }
   },
   "source": [
    "In che percentuale di casi i segni combaciano?\n",
    "- dato che i valori `True` e `False` contano come 1 e 0 rispettivamente, la funzione `mean` calcola in pratica la percentuale di valori `True`"
   ]
  },
  {
   "cell_type": "code",
   "execution_count": 47,
   "metadata": {},
   "outputs": [
    {
     "data": {
      "text/plain": [
       "0.5317460317460317"
      ]
     },
     "execution_count": 47,
     "metadata": {},
     "output_type": "execute_result"
    }
   ],
   "source": [
    "np.mean(s_val == s_val_pred)"
   ]
  },
  {
   "cell_type": "markdown",
   "metadata": {},
   "source": [
    "Il modello prevede quindi correttamente il segno della predizione nel 53,2% circa dei casi\n",
    "\n",
    "Per rendere più agevole il calcolo dell'accuratezza su altri modelli, incapsuliamo l'espressione sopra in una funzione `accuracy` che accetti una serie di predizioni come `s_val_pred` e restituisca la sua accuratezza"
   ]
  },
  {
   "cell_type": "code",
   "execution_count": 81,
   "metadata": {},
   "outputs": [],
   "source": [
    "def accuracy(preds):\n",
    "    return np.mean(s_val == preds)"
   ]
  },
  {
   "cell_type": "markdown",
   "metadata": {},
   "source": [
    "Testiamo questa funzione accertandoci che applicandola a `s_val_pred` otteniamo lo stesso risultato sopra"
   ]
  },
  {
   "cell_type": "code",
   "execution_count": 82,
   "metadata": {},
   "outputs": [
    {
     "data": {
      "text/plain": [
       "0.5317460317460317"
      ]
     },
     "execution_count": 82,
     "metadata": {},
     "output_type": "execute_result"
    }
   ],
   "source": [
    "accuracy(s_val_pred)"
   ]
  },
  {
   "cell_type": "markdown",
   "metadata": {
    "slideshow": {
     "slide_type": "slide"
    }
   },
   "source": [
    "### Baseline\n",
    "\n",
    "Per valutare quanto questo risultato sia buono, vediamo quale sarebbe l'accuratezza in tre diversi casi dove non viene utilizzato alcun modello:\n",
    "1. effettuare predizioni casuali con `Up` e `Down` equiprobabili\n",
    "2. effettuare predizioni casuali con probabilità di `Up` e `Down` proporzionali alla loro frequenza\n",
    "3. predire sempre `Up` o `Down`"
   ]
  },
  {
   "cell_type": "markdown",
   "metadata": {
    "slideshow": {
     "slide_type": "slide"
    }
   },
   "source": [
    "Iniziamo col caso 1 creando una funzione che generi una serie di predizioni casuali con la stessa lunghezza e le stesse etichette di quelle generate dal modello"
   ]
  },
  {
   "cell_type": "code",
   "execution_count": 74,
   "metadata": {},
   "outputs": [],
   "source": [
    "def random_preds():\n",
    "    return pd.Series(np.random.choice([\"Up\", \"Down\"], len(y_val)), index=y_val.index)"
   ]
  },
  {
   "cell_type": "markdown",
   "metadata": {},
   "source": [
    "Generiamo una serie casuale, impostando prima un seed per la riproducibilità"
   ]
  },
  {
   "cell_type": "code",
   "execution_count": 75,
   "metadata": {},
   "outputs": [],
   "source": [
    "np.random.seed(42)\n",
    "s_val_random = random_preds()"
   ]
  },
  {
   "cell_type": "markdown",
   "metadata": {},
   "source": [
    "Qual è l'accuratezza di questa serie di \"predizioni\"?"
   ]
  },
  {
   "cell_type": "code",
   "execution_count": 76,
   "metadata": {},
   "outputs": [
    {
     "data": {
      "text/plain": [
       "0.47619047619047616"
      ]
     },
     "execution_count": 76,
     "metadata": {},
     "output_type": "execute_result"
    }
   ],
   "source": [
    "np.mean(s_val == s_val_random)"
   ]
  },
  {
   "cell_type": "markdown",
   "metadata": {
    "slideshow": {
     "slide_type": "slide"
    }
   },
   "source": [
    "Con i valori in `s_val_random` otteniamo 47,6% di accuratezza, ma essendo generati a caso un solo risultato non è significativo: per questo generiamo una lista di 100.000 serie casuali..."
   ]
  },
  {
   "cell_type": "code",
   "execution_count": 77,
   "metadata": {},
   "outputs": [],
   "source": [
    "np.random.seed(42)\n",
    "s_val_random = [random_preds() for i in range(100000)]"
   ]
  },
  {
   "cell_type": "markdown",
   "metadata": {},
   "source": [
    "...valutiamo l'accuratezza di ciascuna ed estraiamo l'accuratezza media"
   ]
  },
  {
   "cell_type": "code",
   "execution_count": 84,
   "metadata": {},
   "outputs": [
    {
     "data": {
      "text/plain": [
       "0.49997376984126984"
      ]
     },
     "execution_count": 84,
     "metadata": {},
     "output_type": "execute_result"
    }
   ],
   "source": [
    "np.mean([accuracy(preds) for preds in s_val_random])"
   ]
  },
  {
   "cell_type": "markdown",
   "metadata": {},
   "source": [
    "Queste predizioni casuali hanno un valore atteso di accuratezza pari al 50%"
   ]
  },
  {
   "cell_type": "markdown",
   "metadata": {
    "slideshow": {
     "slide_type": "slide"
    }
   },
   "source": [
    "Valutiamo il secondo caso, in cui le probabilità di `Up` e `Down` sono proporzionali alla loro frequenza nel training set\n",
    "\n",
    "Otteniamo una serie `s_train` allo stesso modo di `s_val`"
   ]
  },
  {
   "cell_type": "code",
   "execution_count": 85,
   "metadata": {},
   "outputs": [],
   "source": [
    "s_train = pd.Series(np.where(y_train >= 0, \"Up\", \"Down\"), index=y_train.index)"
   ]
  },
  {
   "cell_type": "markdown",
   "metadata": {},
   "source": [
    "Usiamo il metodo `value_counts` con l'opzione `normalize` per ottenere le frequenze relative di `Up` e `Down` nella serie"
   ]
  },
  {
   "cell_type": "code",
   "execution_count": 88,
   "metadata": {},
   "outputs": [
    {
     "data": {
      "text/plain": [
       "Up      0.506507\n",
       "Down    0.493493\n",
       "dtype: float64"
      ]
     },
     "execution_count": 88,
     "metadata": {},
     "output_type": "execute_result"
    }
   ],
   "source": [
    "s_train_freqs = s_train.value_counts(normalize=True)\n",
    "s_train_freqs"
   ]
  },
  {
   "cell_type": "markdown",
   "metadata": {
    "slideshow": {
     "slide_type": "slide"
    }
   },
   "source": [
    "Creiamo una funzione simile a `random_preds` per generare predizioni casuali rispettando tale distribuzione"
   ]
  },
  {
   "cell_type": "code",
   "execution_count": 89,
   "metadata": {},
   "outputs": [],
   "source": [
    "def random_preds_prop():\n",
    "    return pd.Series(np.random.choice(s_train_freqs.index, len(y_val), p=s_train_freqs),\n",
    "                     index=y_val.index)"
   ]
  },
  {
   "cell_type": "markdown",
   "metadata": {},
   "source": [
    "Anche con questa funzione creiamo 100.000 serie di predizioni casuali e valutiamo l'accuratezza media"
   ]
  },
  {
   "cell_type": "code",
   "execution_count": 90,
   "metadata": {},
   "outputs": [],
   "source": [
    "np.random.seed(42)\n",
    "s_val_random_prop = [random_preds_prop() for i in range(100000)]"
   ]
  },
  {
   "cell_type": "code",
   "execution_count": 91,
   "metadata": {},
   "outputs": [
    {
     "data": {
      "text/plain": [
       "0.5006585714285714"
      ]
     },
     "execution_count": 91,
     "metadata": {},
     "output_type": "execute_result"
    }
   ],
   "source": [
    "np.mean([accuracy(preds) for preds in s_val_random_prop])"
   ]
  },
  {
   "cell_type": "markdown",
   "metadata": {},
   "source": [
    "Anche in questo caso l'accuratezza attesa è intorno al 50%"
   ]
  },
  {
   "cell_type": "markdown",
   "metadata": {
    "slideshow": {
     "slide_type": "slide"
    }
   },
   "source": [
    "Infine, per calcolare l'accuratezza che otterremo predicendo sempre `Up` o `Down`, è sufficiente calcolare le frequenze relative di tali valori nel periodo di validazione"
   ]
  },
  {
   "cell_type": "code",
   "execution_count": 93,
   "metadata": {},
   "outputs": [
    {
     "data": {
      "text/plain": [
       "Up      0.559524\n",
       "Down    0.440476\n",
       "dtype: float64"
      ]
     },
     "execution_count": 93,
     "metadata": {},
     "output_type": "execute_result"
    }
   ],
   "source": [
    "s_val.value_counts(normalize=True)"
   ]
  },
  {
   "cell_type": "markdown",
   "metadata": {},
   "source": [
    "Predicendo sempre `Up` avremmo un'accuratezza intorno al 56%, superiore quindi a quella del modello\n",
    "\n",
    "Tuttavia, per evidenziare la reale utilità del modello, eseguiamo un altro tipo di valutazione..."
   ]
  },
  {
   "cell_type": "markdown",
   "metadata": {
    "slideshow": {
     "slide_type": "slide"
    }
   },
   "source": [
    "## Simulazione Trading\n",
    "\n",
    "Quanto guadagnerebbe un trader che compra e vende titoli in base alle predizioni del modello?\n",
    "\n",
    "Ipotizziamo un trader che all'inizio di ogni giornata compra o vende (allo scoperto) un singolo titolo al suo valore di apertura a seconda della predizione del modello, per poi rivenderlo o ricomprarlo al suo valore di chiusura\n",
    "\n",
    "Siano $O,C,\\hat{C}$ rispettivamente il valore di apertura, quello di chiusura reale e quello di chiusura predetto, il guadagno (o perdita se negativo) di ciascuna giornata sarà:\n",
    "\n",
    "$$ R = \\left\\{\\begin{array}{lr}C-O&:\\hat{C}>O\\\\O-C&:\\hat{C}<O\\end{array}\\right. $$"
   ]
  },
  {
   "cell_type": "markdown",
   "metadata": {
    "slideshow": {
     "slide_type": "slide"
    }
   },
   "source": [
    "Calcoliamo una serie con la differenza $C-O$ limitatamente al periodo di validazione"
   ]
  },
  {
   "cell_type": "code",
   "execution_count": 53,
   "metadata": {},
   "outputs": [],
   "source": [
    "diff_val = sp500.loc[y_val.index, \"Close\"] - sp500.loc[y_val.index, \"Open\"]"
   ]
  },
  {
   "cell_type": "markdown",
   "metadata": {},
   "source": [
    "Definiamo quindi una funzione che calcoli il guadagno totale utilizzando la logica descritta sopra nell'arco del periodo di validazione\n",
    "- in input alla funzione viene passata la serie di indicazioni `Up` e `Down` fornite dal modello\n",
    "- per ogni giorno il guadagno è pari a `diff_val` ($C-O$) se il modello ha previsto `Up` o al suo opposto ($O-C$) se h previsto `Down`\n",
    "- viene restituita la somma dei guadagni giornalieri"
   ]
  },
  {
   "cell_type": "code",
   "execution_count": 57,
   "metadata": {},
   "outputs": [],
   "source": [
    "def gain(pred):\n",
    "    return np.where(\n",
    "        pred == \"Up\",\n",
    "        diff_val,   # giorni \"Up\":   C-O\n",
    "        -diff_val   # giorni \"Down\": O-C\n",
    "    ).sum()"
   ]
  },
  {
   "cell_type": "markdown",
   "metadata": {
    "slideshow": {
     "slide_type": "slide"
    }
   },
   "source": [
    "Applichiamo tale funzione alle predizioni ottenute dal modello di regressione lineare"
   ]
  },
  {
   "cell_type": "code",
   "execution_count": 94,
   "metadata": {},
   "outputs": [
    {
     "data": {
      "text/plain": [
       "89.85949600000049"
      ]
     },
     "execution_count": 94,
     "metadata": {},
     "output_type": "execute_result"
    }
   ],
   "source": [
    "gain(s_val_pred)"
   ]
  },
  {
   "cell_type": "markdown",
   "metadata": {},
   "source": [
    "Seguendo la logica descritta sopra e affidandosi a questo modello di regressione lineare, un trader avrebbe quindi un guadagno complessivo di circa 90\\\\$\n",
    "- tale guadagno potrebbe essere ovviamente maggiore comprando/vendendo un numero maggiore di titoli ogni giorno"
   ]
  },
  {
   "cell_type": "markdown",
   "metadata": {
    "slideshow": {
     "slide_type": "slide"
    }
   },
   "source": [
    "### Baseline\n",
    "\n",
    "Come abbiamo fatto per l'accuratezza, valutiamo il guadagno che otterremmo senza usare un modello\n",
    "\n",
    "Calcoliamo il guadagno medio ottenuto con predizioni casuali con probabilità di `Up` e `Down` equilibrate oppure tarate sul training set"
   ]
  },
  {
   "cell_type": "code",
   "execution_count": 95,
   "metadata": {},
   "outputs": [
    {
     "data": {
      "text/plain": [
       "0.0007614430400074707"
      ]
     },
     "execution_count": 95,
     "metadata": {},
     "output_type": "execute_result"
    }
   ],
   "source": [
    "np.mean([gain(preds) for preds in s_val_random])"
   ]
  },
  {
   "cell_type": "code",
   "execution_count": 96,
   "metadata": {},
   "outputs": [
    {
     "data": {
      "text/plain": [
       "-0.13001298576000012"
      ]
     },
     "execution_count": 96,
     "metadata": {},
     "output_type": "execute_result"
    }
   ],
   "source": [
    "np.mean([gain(preds) for preds in s_val_random_prop])"
   ]
  },
  {
   "cell_type": "markdown",
   "metadata": {},
   "source": [
    "Il guadagno medio con predizioni casuali è quindi praticamente nullo: a seconda del caso possono verificarsi con la stessa probabilità guadagni elevati o perdite elevate"
   ]
  },
  {
   "cell_type": "markdown",
   "metadata": {
    "slideshow": {
     "slide_type": "slide"
    }
   },
   "source": [
    "Se tutti i giorni comprassi un titolo a inizio giornata e lo rivendessi a fine giornata, il guadagno per qualsiasi giorno sarebbe pari a $C-O$; posso quindi calcolare il guadagno complessivo che avrei sommando tutti i valori della serie `diff_val`"
   ]
  },
  {
   "cell_type": "code",
   "execution_count": 59,
   "metadata": {},
   "outputs": [
    {
     "data": {
      "text/plain": [
       "35.87976200000003"
      ]
     },
     "execution_count": 59,
     "metadata": {},
     "output_type": "execute_result"
    }
   ],
   "source": [
    "diff_val.sum()"
   ]
  },
  {
   "cell_type": "markdown",
   "metadata": {},
   "source": [
    "Il guadagno sarebbe quindi di circa 36\\\\$, contro i 90\\\\$ (ovvero il 250% circa) portati dal modello di regressione lineare\n",
    "\n",
    "Se tutti i giorni vendessi un titolo e lo ricomprassi a fine giornata, il guadagno sarebbe esattamente l'opposto, quindi perderei 36\\\\$"
   ]
  },
  {
   "cell_type": "markdown",
   "metadata": {
    "slideshow": {
     "slide_type": "slide"
    }
   },
   "source": [
    "## Calcolo del ROI\n",
    "\n",
    "Il ROI (_Return on Investment_) esprime il guadagno di una o più operazioni in borsa in rapporto all'investimento iniziale.\n",
    "\n",
    "La cifra investita in questo caso è pari al valore del titolo all'apertura che varia giornalmente, per fare una stima del ROI usiamo la media di tale valore nel periodo di training"
   ]
  },
  {
   "cell_type": "code",
   "execution_count": 65,
   "metadata": {},
   "outputs": [
    {
     "data": {
      "text/plain": [
       "1069.3752966886886"
      ]
     },
     "execution_count": 65,
     "metadata": {},
     "output_type": "execute_result"
    }
   ],
   "source": [
    "mean_open_train = sp500.loc[y_train.index, \"Open\"].mean()\n",
    "mean_open_train"
   ]
  },
  {
   "cell_type": "markdown",
   "metadata": {},
   "source": [
    "Definiamo quindi una funzione che calcoli il ROI sfruttando quella già esistente per il guadagno"
   ]
  },
  {
   "cell_type": "code",
   "execution_count": 66,
   "metadata": {},
   "outputs": [],
   "source": [
    "def roi(preds):\n",
    "    return gain(preds) / mean_open_train"
   ]
  },
  {
   "cell_type": "markdown",
   "metadata": {
    "slideshow": {
     "slide_type": "slide"
    }
   },
   "source": [
    "Ad esempio il ROI ottenuto tramite il modello di regressione lineare è pari all'8,4%"
   ]
  },
  {
   "cell_type": "code",
   "execution_count": 67,
   "metadata": {},
   "outputs": [
    {
     "data": {
      "text/plain": [
       "0.08402989696718229"
      ]
     },
     "execution_count": 67,
     "metadata": {},
     "output_type": "execute_result"
    }
   ],
   "source": [
    "roi(s_val_pred)"
   ]
  },
  {
   "cell_type": "markdown",
   "metadata": {},
   "source": [
    "Quello ottenuto predicendo sempre `Up` è invece pari al 3,4%"
   ]
  },
  {
   "cell_type": "code",
   "execution_count": 98,
   "metadata": {},
   "outputs": [
    {
     "data": {
      "text/plain": [
       "0.03355207672283192"
      ]
     },
     "execution_count": 98,
     "metadata": {},
     "output_type": "execute_result"
    }
   ],
   "source": [
    "roi(pd.Series(\"Up\", index=y_val.index))"
   ]
  }
 ],
 "metadata": {
  "kernelspec": {
   "display_name": "DIA",
   "language": "python",
   "name": "dia"
  },
  "language_info": {
   "codemirror_mode": {
    "name": "ipython",
    "version": 3
   },
   "file_extension": ".py",
   "mimetype": "text/x-python",
   "name": "python",
   "nbconvert_exporter": "python",
   "pygments_lexer": "ipython3",
   "version": "3.6.7"
  }
 },
 "nbformat": 4,
 "nbformat_minor": 2
}
